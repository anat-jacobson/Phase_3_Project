{
 "cells": [
  {
   "cell_type": "markdown",
   "metadata": {},
   "source": [
    "AJ Notebook: Tanzania water problem\n",
    "Your goal is to predict the operating condition of a waterpoint for each record in the dataset. You are provided the following set of information about the waterpoints\n"
   ]
  },
  {
   "cell_type": "code",
   "execution_count": 1,
   "metadata": {},
   "outputs": [],
   "source": [
    "#imports\n",
    "import pandas as pd\n",
    "import numpy as np\n",
    "from matplotlib import pyplot as plt\n",
    "import seaborn as sns\n",
    "\n",
    "from sklearn.model_selection import train_test_split, GridSearchCV, cross_val_score\n",
    "from sklearn.dummy import DummyClassifier, DummyRegressor\n",
    "from sklearn.metrics import log_loss\n",
    "from sklearn.pipeline import Pipeline\n",
    "from sklearn.preprocessing import StandardScaler, OneHotEncoder, FunctionTransformer\n",
    "from sklearn.impute import SimpleImputer\n",
    "from sklearn.compose import ColumnTransformer\n",
    "from sklearn.linear_model import LogisticRegression\n",
    "from sklearn.ensemble import RandomForestClassifier, GradientBoostingClassifier\n",
    "from sklearn.metrics import plot_confusion_matrix, recall_score,\\\n",
    "    accuracy_score, precision_score, f1_score\n",
    "from sklearn.tree import DecisionTreeClassifier, plot_tree\n",
    "\n",
    "from imblearn.over_sampling import SMOTE\n",
    "from imblearn.pipeline import Pipeline as ImPipeline"
   ]
  },
  {
   "cell_type": "code",
   "execution_count": 2,
   "metadata": {},
   "outputs": [],
   "source": [
    "labels = pd.read_csv('Pump_it_Up_Data_Mining_the_Water_Table_-_Training_set_labels.csv')\n",
    "#dataset with the ys of training data\n",
    "df = pd.read_csv('Pump_it_Up_Data_Mining_the_Water_Table_-_Training_set_values.csv')\n",
    "#dataset with training set\n"
   ]
  },
  {
   "cell_type": "code",
   "execution_count": 3,
   "metadata": {
    "scrolled": true
   },
   "outputs": [
    {
     "data": {
      "text/plain": [
       "(59400, 40)"
      ]
     },
     "execution_count": 3,
     "metadata": {},
     "output_type": "execute_result"
    }
   ],
   "source": [
    "df.shape #comparing shapes to see how it was divided."
   ]
  },
  {
   "cell_type": "code",
   "execution_count": 4,
   "metadata": {},
   "outputs": [
    {
     "data": {
      "text/plain": [
       "(59400, 2)"
      ]
     },
     "execution_count": 4,
     "metadata": {},
     "output_type": "execute_result"
    }
   ],
   "source": [
    "labels.shape #looking at the y"
   ]
  },
  {
   "cell_type": "markdown",
   "metadata": {},
   "source": [
    "Based on these 2 shapes you can see that the data was originally 74,250 rows and was divided into: 20% testing data, 80% training"
   ]
  },
  {
   "cell_type": "code",
   "execution_count": 5,
   "metadata": {},
   "outputs": [
    {
     "data": {
      "text/html": [
       "<div>\n",
       "<style scoped>\n",
       "    .dataframe tbody tr th:only-of-type {\n",
       "        vertical-align: middle;\n",
       "    }\n",
       "\n",
       "    .dataframe tbody tr th {\n",
       "        vertical-align: top;\n",
       "    }\n",
       "\n",
       "    .dataframe thead th {\n",
       "        text-align: right;\n",
       "    }\n",
       "</style>\n",
       "<table border=\"1\" class=\"dataframe\">\n",
       "  <thead>\n",
       "    <tr style=\"text-align: right;\">\n",
       "      <th></th>\n",
       "      <th>id</th>\n",
       "      <th>status_group</th>\n",
       "    </tr>\n",
       "  </thead>\n",
       "  <tbody>\n",
       "    <tr>\n",
       "      <th>0</th>\n",
       "      <td>69572</td>\n",
       "      <td>functional</td>\n",
       "    </tr>\n",
       "    <tr>\n",
       "      <th>1</th>\n",
       "      <td>8776</td>\n",
       "      <td>functional</td>\n",
       "    </tr>\n",
       "    <tr>\n",
       "      <th>2</th>\n",
       "      <td>34310</td>\n",
       "      <td>functional</td>\n",
       "    </tr>\n",
       "    <tr>\n",
       "      <th>3</th>\n",
       "      <td>67743</td>\n",
       "      <td>non functional</td>\n",
       "    </tr>\n",
       "    <tr>\n",
       "      <th>4</th>\n",
       "      <td>19728</td>\n",
       "      <td>functional</td>\n",
       "    </tr>\n",
       "  </tbody>\n",
       "</table>\n",
       "</div>"
      ],
      "text/plain": [
       "      id    status_group\n",
       "0  69572      functional\n",
       "1   8776      functional\n",
       "2  34310      functional\n",
       "3  67743  non functional\n",
       "4  19728      functional"
      ]
     },
     "execution_count": 5,
     "metadata": {},
     "output_type": "execute_result"
    }
   ],
   "source": [
    "labels.head()"
   ]
  },
  {
   "cell_type": "code",
   "execution_count": 6,
   "metadata": {},
   "outputs": [
    {
     "data": {
      "text/html": [
       "<div>\n",
       "<style scoped>\n",
       "    .dataframe tbody tr th:only-of-type {\n",
       "        vertical-align: middle;\n",
       "    }\n",
       "\n",
       "    .dataframe tbody tr th {\n",
       "        vertical-align: top;\n",
       "    }\n",
       "\n",
       "    .dataframe thead th {\n",
       "        text-align: right;\n",
       "    }\n",
       "</style>\n",
       "<table border=\"1\" class=\"dataframe\">\n",
       "  <thead>\n",
       "    <tr style=\"text-align: right;\">\n",
       "      <th></th>\n",
       "      <th>id</th>\n",
       "      <th>amount_tsh</th>\n",
       "      <th>date_recorded</th>\n",
       "      <th>funder</th>\n",
       "      <th>gps_height</th>\n",
       "      <th>installer</th>\n",
       "      <th>longitude</th>\n",
       "      <th>latitude</th>\n",
       "      <th>wpt_name</th>\n",
       "      <th>num_private</th>\n",
       "      <th>...</th>\n",
       "      <th>payment_type</th>\n",
       "      <th>water_quality</th>\n",
       "      <th>quality_group</th>\n",
       "      <th>quantity</th>\n",
       "      <th>quantity_group</th>\n",
       "      <th>source</th>\n",
       "      <th>source_type</th>\n",
       "      <th>source_class</th>\n",
       "      <th>waterpoint_type</th>\n",
       "      <th>waterpoint_type_group</th>\n",
       "    </tr>\n",
       "  </thead>\n",
       "  <tbody>\n",
       "    <tr>\n",
       "      <th>0</th>\n",
       "      <td>69572</td>\n",
       "      <td>6000.0</td>\n",
       "      <td>2011-03-14</td>\n",
       "      <td>Roman</td>\n",
       "      <td>1390</td>\n",
       "      <td>Roman</td>\n",
       "      <td>34.938093</td>\n",
       "      <td>-9.856322</td>\n",
       "      <td>none</td>\n",
       "      <td>0</td>\n",
       "      <td>...</td>\n",
       "      <td>annually</td>\n",
       "      <td>soft</td>\n",
       "      <td>good</td>\n",
       "      <td>enough</td>\n",
       "      <td>enough</td>\n",
       "      <td>spring</td>\n",
       "      <td>spring</td>\n",
       "      <td>groundwater</td>\n",
       "      <td>communal standpipe</td>\n",
       "      <td>communal standpipe</td>\n",
       "    </tr>\n",
       "    <tr>\n",
       "      <th>1</th>\n",
       "      <td>8776</td>\n",
       "      <td>0.0</td>\n",
       "      <td>2013-03-06</td>\n",
       "      <td>Grumeti</td>\n",
       "      <td>1399</td>\n",
       "      <td>GRUMETI</td>\n",
       "      <td>34.698766</td>\n",
       "      <td>-2.147466</td>\n",
       "      <td>Zahanati</td>\n",
       "      <td>0</td>\n",
       "      <td>...</td>\n",
       "      <td>never pay</td>\n",
       "      <td>soft</td>\n",
       "      <td>good</td>\n",
       "      <td>insufficient</td>\n",
       "      <td>insufficient</td>\n",
       "      <td>rainwater harvesting</td>\n",
       "      <td>rainwater harvesting</td>\n",
       "      <td>surface</td>\n",
       "      <td>communal standpipe</td>\n",
       "      <td>communal standpipe</td>\n",
       "    </tr>\n",
       "    <tr>\n",
       "      <th>2</th>\n",
       "      <td>34310</td>\n",
       "      <td>25.0</td>\n",
       "      <td>2013-02-25</td>\n",
       "      <td>Lottery Club</td>\n",
       "      <td>686</td>\n",
       "      <td>World vision</td>\n",
       "      <td>37.460664</td>\n",
       "      <td>-3.821329</td>\n",
       "      <td>Kwa Mahundi</td>\n",
       "      <td>0</td>\n",
       "      <td>...</td>\n",
       "      <td>per bucket</td>\n",
       "      <td>soft</td>\n",
       "      <td>good</td>\n",
       "      <td>enough</td>\n",
       "      <td>enough</td>\n",
       "      <td>dam</td>\n",
       "      <td>dam</td>\n",
       "      <td>surface</td>\n",
       "      <td>communal standpipe multiple</td>\n",
       "      <td>communal standpipe</td>\n",
       "    </tr>\n",
       "    <tr>\n",
       "      <th>3</th>\n",
       "      <td>67743</td>\n",
       "      <td>0.0</td>\n",
       "      <td>2013-01-28</td>\n",
       "      <td>Unicef</td>\n",
       "      <td>263</td>\n",
       "      <td>UNICEF</td>\n",
       "      <td>38.486161</td>\n",
       "      <td>-11.155298</td>\n",
       "      <td>Zahanati Ya Nanyumbu</td>\n",
       "      <td>0</td>\n",
       "      <td>...</td>\n",
       "      <td>never pay</td>\n",
       "      <td>soft</td>\n",
       "      <td>good</td>\n",
       "      <td>dry</td>\n",
       "      <td>dry</td>\n",
       "      <td>machine dbh</td>\n",
       "      <td>borehole</td>\n",
       "      <td>groundwater</td>\n",
       "      <td>communal standpipe multiple</td>\n",
       "      <td>communal standpipe</td>\n",
       "    </tr>\n",
       "    <tr>\n",
       "      <th>4</th>\n",
       "      <td>19728</td>\n",
       "      <td>0.0</td>\n",
       "      <td>2011-07-13</td>\n",
       "      <td>Action In A</td>\n",
       "      <td>0</td>\n",
       "      <td>Artisan</td>\n",
       "      <td>31.130847</td>\n",
       "      <td>-1.825359</td>\n",
       "      <td>Shuleni</td>\n",
       "      <td>0</td>\n",
       "      <td>...</td>\n",
       "      <td>never pay</td>\n",
       "      <td>soft</td>\n",
       "      <td>good</td>\n",
       "      <td>seasonal</td>\n",
       "      <td>seasonal</td>\n",
       "      <td>rainwater harvesting</td>\n",
       "      <td>rainwater harvesting</td>\n",
       "      <td>surface</td>\n",
       "      <td>communal standpipe</td>\n",
       "      <td>communal standpipe</td>\n",
       "    </tr>\n",
       "  </tbody>\n",
       "</table>\n",
       "<p>5 rows × 40 columns</p>\n",
       "</div>"
      ],
      "text/plain": [
       "      id  amount_tsh date_recorded        funder  gps_height     installer  \\\n",
       "0  69572      6000.0    2011-03-14         Roman        1390         Roman   \n",
       "1   8776         0.0    2013-03-06       Grumeti        1399       GRUMETI   \n",
       "2  34310        25.0    2013-02-25  Lottery Club         686  World vision   \n",
       "3  67743         0.0    2013-01-28        Unicef         263        UNICEF   \n",
       "4  19728         0.0    2011-07-13   Action In A           0       Artisan   \n",
       "\n",
       "   longitude   latitude              wpt_name  num_private  ... payment_type  \\\n",
       "0  34.938093  -9.856322                  none            0  ...     annually   \n",
       "1  34.698766  -2.147466              Zahanati            0  ...    never pay   \n",
       "2  37.460664  -3.821329           Kwa Mahundi            0  ...   per bucket   \n",
       "3  38.486161 -11.155298  Zahanati Ya Nanyumbu            0  ...    never pay   \n",
       "4  31.130847  -1.825359               Shuleni            0  ...    never pay   \n",
       "\n",
       "  water_quality quality_group      quantity  quantity_group  \\\n",
       "0          soft          good        enough          enough   \n",
       "1          soft          good  insufficient    insufficient   \n",
       "2          soft          good        enough          enough   \n",
       "3          soft          good           dry             dry   \n",
       "4          soft          good      seasonal        seasonal   \n",
       "\n",
       "                 source           source_type  source_class  \\\n",
       "0                spring                spring   groundwater   \n",
       "1  rainwater harvesting  rainwater harvesting       surface   \n",
       "2                   dam                   dam       surface   \n",
       "3           machine dbh              borehole   groundwater   \n",
       "4  rainwater harvesting  rainwater harvesting       surface   \n",
       "\n",
       "               waterpoint_type waterpoint_type_group  \n",
       "0           communal standpipe    communal standpipe  \n",
       "1           communal standpipe    communal standpipe  \n",
       "2  communal standpipe multiple    communal standpipe  \n",
       "3  communal standpipe multiple    communal standpipe  \n",
       "4           communal standpipe    communal standpipe  \n",
       "\n",
       "[5 rows x 40 columns]"
      ]
     },
     "execution_count": 6,
     "metadata": {},
     "output_type": "execute_result"
    }
   ],
   "source": [
    "df.head()"
   ]
  },
  {
   "cell_type": "code",
   "execution_count": 7,
   "metadata": {},
   "outputs": [
    {
     "data": {
      "text/html": [
       "<div>\n",
       "<style scoped>\n",
       "    .dataframe tbody tr th:only-of-type {\n",
       "        vertical-align: middle;\n",
       "    }\n",
       "\n",
       "    .dataframe tbody tr th {\n",
       "        vertical-align: top;\n",
       "    }\n",
       "\n",
       "    .dataframe thead th {\n",
       "        text-align: right;\n",
       "    }\n",
       "</style>\n",
       "<table border=\"1\" class=\"dataframe\">\n",
       "  <thead>\n",
       "    <tr style=\"text-align: right;\">\n",
       "      <th></th>\n",
       "      <th>id</th>\n",
       "      <th>amount_tsh</th>\n",
       "      <th>date_recorded</th>\n",
       "      <th>funder</th>\n",
       "      <th>gps_height</th>\n",
       "      <th>installer</th>\n",
       "      <th>longitude</th>\n",
       "      <th>latitude</th>\n",
       "      <th>wpt_name</th>\n",
       "      <th>num_private</th>\n",
       "      <th>...</th>\n",
       "      <th>payment_type</th>\n",
       "      <th>water_quality</th>\n",
       "      <th>quality_group</th>\n",
       "      <th>quantity</th>\n",
       "      <th>quantity_group</th>\n",
       "      <th>source</th>\n",
       "      <th>source_type</th>\n",
       "      <th>source_class</th>\n",
       "      <th>waterpoint_type</th>\n",
       "      <th>waterpoint_type_group</th>\n",
       "    </tr>\n",
       "  </thead>\n",
       "  <tbody>\n",
       "  </tbody>\n",
       "</table>\n",
       "<p>0 rows × 40 columns</p>\n",
       "</div>"
      ],
      "text/plain": [
       "Empty DataFrame\n",
       "Columns: [id, amount_tsh, date_recorded, funder, gps_height, installer, longitude, latitude, wpt_name, num_private, basin, subvillage, region, region_code, district_code, lga, ward, population, public_meeting, recorded_by, scheme_management, scheme_name, permit, construction_year, extraction_type, extraction_type_group, extraction_type_class, management, management_group, payment, payment_type, water_quality, quality_group, quantity, quantity_group, source, source_type, source_class, waterpoint_type, waterpoint_type_group]\n",
       "Index: []\n",
       "\n",
       "[0 rows x 40 columns]"
      ]
     },
     "execution_count": 7,
     "metadata": {},
     "output_type": "execute_result"
    }
   ],
   "source": [
    "df.loc[df['id'] != labels['id']] #always equal"
   ]
  },
  {
   "cell_type": "code",
   "execution_count": 8,
   "metadata": {
    "scrolled": true
   },
   "outputs": [
    {
     "data": {
      "text/plain": [
       "(59400, 41)"
      ]
     },
     "execution_count": 8,
     "metadata": {},
     "output_type": "execute_result"
    }
   ],
   "source": [
    "full_df = df.merge(labels)\n",
    "full_df.shape"
   ]
  },
  {
   "cell_type": "code",
   "execution_count": 9,
   "metadata": {
    "scrolled": false
   },
   "outputs": [
    {
     "data": {
      "text/html": [
       "<div>\n",
       "<style scoped>\n",
       "    .dataframe tbody tr th:only-of-type {\n",
       "        vertical-align: middle;\n",
       "    }\n",
       "\n",
       "    .dataframe tbody tr th {\n",
       "        vertical-align: top;\n",
       "    }\n",
       "\n",
       "    .dataframe thead th {\n",
       "        text-align: right;\n",
       "    }\n",
       "</style>\n",
       "<table border=\"1\" class=\"dataframe\">\n",
       "  <thead>\n",
       "    <tr style=\"text-align: right;\">\n",
       "      <th></th>\n",
       "      <th>id</th>\n",
       "      <th>amount_tsh</th>\n",
       "      <th>date_recorded</th>\n",
       "      <th>funder</th>\n",
       "      <th>gps_height</th>\n",
       "      <th>installer</th>\n",
       "      <th>longitude</th>\n",
       "      <th>latitude</th>\n",
       "      <th>wpt_name</th>\n",
       "      <th>num_private</th>\n",
       "      <th>...</th>\n",
       "      <th>water_quality</th>\n",
       "      <th>quality_group</th>\n",
       "      <th>quantity</th>\n",
       "      <th>quantity_group</th>\n",
       "      <th>source</th>\n",
       "      <th>source_type</th>\n",
       "      <th>source_class</th>\n",
       "      <th>waterpoint_type</th>\n",
       "      <th>waterpoint_type_group</th>\n",
       "      <th>status_group</th>\n",
       "    </tr>\n",
       "  </thead>\n",
       "  <tbody>\n",
       "    <tr>\n",
       "      <th>0</th>\n",
       "      <td>69572</td>\n",
       "      <td>6000.0</td>\n",
       "      <td>2011-03-14</td>\n",
       "      <td>Roman</td>\n",
       "      <td>1390</td>\n",
       "      <td>Roman</td>\n",
       "      <td>34.938093</td>\n",
       "      <td>-9.856322</td>\n",
       "      <td>none</td>\n",
       "      <td>0</td>\n",
       "      <td>...</td>\n",
       "      <td>soft</td>\n",
       "      <td>good</td>\n",
       "      <td>enough</td>\n",
       "      <td>enough</td>\n",
       "      <td>spring</td>\n",
       "      <td>spring</td>\n",
       "      <td>groundwater</td>\n",
       "      <td>communal standpipe</td>\n",
       "      <td>communal standpipe</td>\n",
       "      <td>functional</td>\n",
       "    </tr>\n",
       "  </tbody>\n",
       "</table>\n",
       "<p>1 rows × 41 columns</p>\n",
       "</div>"
      ],
      "text/plain": [
       "      id  amount_tsh date_recorded funder  gps_height installer  longitude  \\\n",
       "0  69572      6000.0    2011-03-14  Roman        1390     Roman  34.938093   \n",
       "\n",
       "   latitude wpt_name  num_private  ... water_quality quality_group quantity  \\\n",
       "0 -9.856322     none            0  ...          soft          good   enough   \n",
       "\n",
       "   quantity_group  source source_type source_class     waterpoint_type  \\\n",
       "0          enough  spring      spring  groundwater  communal standpipe   \n",
       "\n",
       "  waterpoint_type_group status_group  \n",
       "0    communal standpipe   functional  \n",
       "\n",
       "[1 rows x 41 columns]"
      ]
     },
     "execution_count": 9,
     "metadata": {},
     "output_type": "execute_result"
    }
   ],
   "source": [
    "full_df.loc[full_df['id'] == 69572] #checking accurate merge with a few things"
   ]
  },
  {
   "cell_type": "code",
   "execution_count": 10,
   "metadata": {},
   "outputs": [
    {
     "data": {
      "text/plain": [
       "functional                 32259\n",
       "non functional             22824\n",
       "functional needs repair     4317\n",
       "Name: status_group, dtype: int64"
      ]
     },
     "execution_count": 10,
     "metadata": {},
     "output_type": "execute_result"
    }
   ],
   "source": [
    "full_df['status_group'].value_counts() #looking at the classes of the y"
   ]
  },
  {
   "cell_type": "markdown",
   "metadata": {},
   "source": [
    "Changing the y classes to be 2 classes instead of three. Grouping by functional and non functional. Functional but needs repair now going to be functional. "
   ]
  },
  {
   "cell_type": "code",
   "execution_count": 11,
   "metadata": {},
   "outputs": [],
   "source": [
    "full_df['status'] = np.where(full_df['status_group'] == \"functional needs repair\", \n",
    "                                'functional', full_df['status_group'])"
   ]
  },
  {
   "cell_type": "code",
   "execution_count": 12,
   "metadata": {
    "scrolled": true
   },
   "outputs": [
    {
     "data": {
      "text/plain": [
       "functional        36576\n",
       "non functional    22824\n",
       "Name: status, dtype: int64"
      ]
     },
     "execution_count": 12,
     "metadata": {},
     "output_type": "execute_result"
    }
   ],
   "source": [
    "full_df['status'].value_counts() #checking the column grouped correctly\n",
    "#no class imbalance currently"
   ]
  },
  {
   "cell_type": "code",
   "execution_count": 13,
   "metadata": {},
   "outputs": [],
   "source": [
    "#creating binary grouping\n",
    "full_df['binary_status'] = np.where(full_df['status'] == 'functional', 1, 0)"
   ]
  },
  {
   "cell_type": "code",
   "execution_count": 14,
   "metadata": {
    "scrolled": true
   },
   "outputs": [
    {
     "data": {
      "text/plain": [
       "1    36576\n",
       "0    22824\n",
       "Name: binary_status, dtype: int64"
      ]
     },
     "execution_count": 14,
     "metadata": {},
     "output_type": "execute_result"
    }
   ],
   "source": [
    "full_df['binary_status'].value_counts()"
   ]
  },
  {
   "cell_type": "code",
   "execution_count": 15,
   "metadata": {},
   "outputs": [
    {
     "data": {
      "text/plain": [
       "id                           0\n",
       "amount_tsh                   0\n",
       "date_recorded                0\n",
       "funder                    3635\n",
       "gps_height                   0\n",
       "installer                 3655\n",
       "longitude                    0\n",
       "latitude                     0\n",
       "wpt_name                     0\n",
       "num_private                  0\n",
       "basin                        0\n",
       "subvillage                 371\n",
       "region                       0\n",
       "region_code                  0\n",
       "district_code                0\n",
       "lga                          0\n",
       "ward                         0\n",
       "population                   0\n",
       "public_meeting            3334\n",
       "recorded_by                  0\n",
       "scheme_management         3877\n",
       "scheme_name              28166\n",
       "permit                    3056\n",
       "construction_year            0\n",
       "extraction_type              0\n",
       "extraction_type_group        0\n",
       "extraction_type_class        0\n",
       "management                   0\n",
       "management_group             0\n",
       "payment                      0\n",
       "payment_type                 0\n",
       "water_quality                0\n",
       "quality_group                0\n",
       "quantity                     0\n",
       "quantity_group               0\n",
       "source                       0\n",
       "source_type                  0\n",
       "source_class                 0\n",
       "waterpoint_type              0\n",
       "waterpoint_type_group        0\n",
       "status_group                 0\n",
       "status                       0\n",
       "binary_status                0\n",
       "dtype: int64"
      ]
     },
     "execution_count": 15,
     "metadata": {},
     "output_type": "execute_result"
    }
   ],
   "source": [
    "full_df.isna().sum() #noting lots of NAs in some of these columns"
   ]
  },
  {
   "cell_type": "code",
   "execution_count": 16,
   "metadata": {},
   "outputs": [
    {
     "data": {
      "text/html": [
       "<div>\n",
       "<style scoped>\n",
       "    .dataframe tbody tr th:only-of-type {\n",
       "        vertical-align: middle;\n",
       "    }\n",
       "\n",
       "    .dataframe tbody tr th {\n",
       "        vertical-align: top;\n",
       "    }\n",
       "\n",
       "    .dataframe thead th {\n",
       "        text-align: right;\n",
       "    }\n",
       "</style>\n",
       "<table border=\"1\" class=\"dataframe\">\n",
       "  <thead>\n",
       "    <tr style=\"text-align: right;\">\n",
       "      <th></th>\n",
       "      <th>id</th>\n",
       "      <th>amount_tsh</th>\n",
       "      <th>date_recorded</th>\n",
       "      <th>funder</th>\n",
       "      <th>gps_height</th>\n",
       "      <th>installer</th>\n",
       "      <th>longitude</th>\n",
       "      <th>latitude</th>\n",
       "      <th>wpt_name</th>\n",
       "      <th>num_private</th>\n",
       "      <th>...</th>\n",
       "      <th>quantity</th>\n",
       "      <th>quantity_group</th>\n",
       "      <th>source</th>\n",
       "      <th>source_type</th>\n",
       "      <th>source_class</th>\n",
       "      <th>waterpoint_type</th>\n",
       "      <th>waterpoint_type_group</th>\n",
       "      <th>status_group</th>\n",
       "      <th>status</th>\n",
       "      <th>binary_status</th>\n",
       "    </tr>\n",
       "  </thead>\n",
       "  <tbody>\n",
       "    <tr>\n",
       "      <th>0</th>\n",
       "      <td>69572</td>\n",
       "      <td>6000.0</td>\n",
       "      <td>2011-03-14</td>\n",
       "      <td>Roman</td>\n",
       "      <td>1390</td>\n",
       "      <td>Roman</td>\n",
       "      <td>34.938093</td>\n",
       "      <td>-9.856322</td>\n",
       "      <td>none</td>\n",
       "      <td>0</td>\n",
       "      <td>...</td>\n",
       "      <td>enough</td>\n",
       "      <td>enough</td>\n",
       "      <td>spring</td>\n",
       "      <td>spring</td>\n",
       "      <td>groundwater</td>\n",
       "      <td>communal standpipe</td>\n",
       "      <td>communal standpipe</td>\n",
       "      <td>functional</td>\n",
       "      <td>functional</td>\n",
       "      <td>1</td>\n",
       "    </tr>\n",
       "    <tr>\n",
       "      <th>1</th>\n",
       "      <td>8776</td>\n",
       "      <td>0.0</td>\n",
       "      <td>2013-03-06</td>\n",
       "      <td>Grumeti</td>\n",
       "      <td>1399</td>\n",
       "      <td>GRUMETI</td>\n",
       "      <td>34.698766</td>\n",
       "      <td>-2.147466</td>\n",
       "      <td>Zahanati</td>\n",
       "      <td>0</td>\n",
       "      <td>...</td>\n",
       "      <td>insufficient</td>\n",
       "      <td>insufficient</td>\n",
       "      <td>rainwater harvesting</td>\n",
       "      <td>rainwater harvesting</td>\n",
       "      <td>surface</td>\n",
       "      <td>communal standpipe</td>\n",
       "      <td>communal standpipe</td>\n",
       "      <td>functional</td>\n",
       "      <td>functional</td>\n",
       "      <td>1</td>\n",
       "    </tr>\n",
       "    <tr>\n",
       "      <th>2</th>\n",
       "      <td>34310</td>\n",
       "      <td>25.0</td>\n",
       "      <td>2013-02-25</td>\n",
       "      <td>Lottery Club</td>\n",
       "      <td>686</td>\n",
       "      <td>World vision</td>\n",
       "      <td>37.460664</td>\n",
       "      <td>-3.821329</td>\n",
       "      <td>Kwa Mahundi</td>\n",
       "      <td>0</td>\n",
       "      <td>...</td>\n",
       "      <td>enough</td>\n",
       "      <td>enough</td>\n",
       "      <td>dam</td>\n",
       "      <td>dam</td>\n",
       "      <td>surface</td>\n",
       "      <td>communal standpipe multiple</td>\n",
       "      <td>communal standpipe</td>\n",
       "      <td>functional</td>\n",
       "      <td>functional</td>\n",
       "      <td>1</td>\n",
       "    </tr>\n",
       "    <tr>\n",
       "      <th>3</th>\n",
       "      <td>67743</td>\n",
       "      <td>0.0</td>\n",
       "      <td>2013-01-28</td>\n",
       "      <td>Unicef</td>\n",
       "      <td>263</td>\n",
       "      <td>UNICEF</td>\n",
       "      <td>38.486161</td>\n",
       "      <td>-11.155298</td>\n",
       "      <td>Zahanati Ya Nanyumbu</td>\n",
       "      <td>0</td>\n",
       "      <td>...</td>\n",
       "      <td>dry</td>\n",
       "      <td>dry</td>\n",
       "      <td>machine dbh</td>\n",
       "      <td>borehole</td>\n",
       "      <td>groundwater</td>\n",
       "      <td>communal standpipe multiple</td>\n",
       "      <td>communal standpipe</td>\n",
       "      <td>non functional</td>\n",
       "      <td>non functional</td>\n",
       "      <td>0</td>\n",
       "    </tr>\n",
       "    <tr>\n",
       "      <th>4</th>\n",
       "      <td>19728</td>\n",
       "      <td>0.0</td>\n",
       "      <td>2011-07-13</td>\n",
       "      <td>Action In A</td>\n",
       "      <td>0</td>\n",
       "      <td>Artisan</td>\n",
       "      <td>31.130847</td>\n",
       "      <td>-1.825359</td>\n",
       "      <td>Shuleni</td>\n",
       "      <td>0</td>\n",
       "      <td>...</td>\n",
       "      <td>seasonal</td>\n",
       "      <td>seasonal</td>\n",
       "      <td>rainwater harvesting</td>\n",
       "      <td>rainwater harvesting</td>\n",
       "      <td>surface</td>\n",
       "      <td>communal standpipe</td>\n",
       "      <td>communal standpipe</td>\n",
       "      <td>functional</td>\n",
       "      <td>functional</td>\n",
       "      <td>1</td>\n",
       "    </tr>\n",
       "  </tbody>\n",
       "</table>\n",
       "<p>5 rows × 43 columns</p>\n",
       "</div>"
      ],
      "text/plain": [
       "      id  amount_tsh date_recorded        funder  gps_height     installer  \\\n",
       "0  69572      6000.0    2011-03-14         Roman        1390         Roman   \n",
       "1   8776         0.0    2013-03-06       Grumeti        1399       GRUMETI   \n",
       "2  34310        25.0    2013-02-25  Lottery Club         686  World vision   \n",
       "3  67743         0.0    2013-01-28        Unicef         263        UNICEF   \n",
       "4  19728         0.0    2011-07-13   Action In A           0       Artisan   \n",
       "\n",
       "   longitude   latitude              wpt_name  num_private  ...      quantity  \\\n",
       "0  34.938093  -9.856322                  none            0  ...        enough   \n",
       "1  34.698766  -2.147466              Zahanati            0  ...  insufficient   \n",
       "2  37.460664  -3.821329           Kwa Mahundi            0  ...        enough   \n",
       "3  38.486161 -11.155298  Zahanati Ya Nanyumbu            0  ...           dry   \n",
       "4  31.130847  -1.825359               Shuleni            0  ...      seasonal   \n",
       "\n",
       "  quantity_group                source           source_type  source_class  \\\n",
       "0         enough                spring                spring   groundwater   \n",
       "1   insufficient  rainwater harvesting  rainwater harvesting       surface   \n",
       "2         enough                   dam                   dam       surface   \n",
       "3            dry           machine dbh              borehole   groundwater   \n",
       "4       seasonal  rainwater harvesting  rainwater harvesting       surface   \n",
       "\n",
       "               waterpoint_type waterpoint_type_group    status_group  \\\n",
       "0           communal standpipe    communal standpipe      functional   \n",
       "1           communal standpipe    communal standpipe      functional   \n",
       "2  communal standpipe multiple    communal standpipe      functional   \n",
       "3  communal standpipe multiple    communal standpipe  non functional   \n",
       "4           communal standpipe    communal standpipe      functional   \n",
       "\n",
       "           status binary_status  \n",
       "0      functional             1  \n",
       "1      functional             1  \n",
       "2      functional             1  \n",
       "3  non functional             0  \n",
       "4      functional             1  \n",
       "\n",
       "[5 rows x 43 columns]"
      ]
     },
     "execution_count": 16,
     "metadata": {},
     "output_type": "execute_result"
    }
   ],
   "source": [
    "full_df.head()"
   ]
  },
  {
   "cell_type": "code",
   "execution_count": 17,
   "metadata": {},
   "outputs": [
    {
     "data": {
      "text/plain": [
       "VWC                 36793\n",
       "WUG                  5206\n",
       "Water authority      3153\n",
       "WUA                  2883\n",
       "Water Board          2748\n",
       "Parastatal           1680\n",
       "Private operator     1063\n",
       "Company              1061\n",
       "Other                 766\n",
       "SWC                    97\n",
       "Trust                  72\n",
       "None                    1\n",
       "Name: scheme_management, dtype: int64"
      ]
     },
     "execution_count": 17,
     "metadata": {},
     "output_type": "execute_result"
    }
   ],
   "source": [
    "full_df['scheme_management'].value_counts() #going to drop this since lots of other groupings and \"company\" or private operater"
   ]
  },
  {
   "cell_type": "code",
   "execution_count": 18,
   "metadata": {},
   "outputs": [],
   "source": [
    "\n",
    "clean_df = full_df.drop(['status', 'status_group', 'waterpoint_type', 'source', 'payment_type', \n",
    "              'date_recorded', 'water_quality', 'quantity', 'num_private', \n",
    "                         'management_group', 'extraction_type_group', \n",
    "                         'extraction_type', 'recorded_by', 'latitude',\n",
    "                        'longitude', 'lga', 'ward', 'scheme_name',\n",
    "                        'region', 'subvillage', 'basin', 'wpt_name', 'public_meeting',\n",
    "                        'gps_height', 'scheme_management'], axis = 1)"
   ]
  },
  {
   "cell_type": "code",
   "execution_count": 19,
   "metadata": {},
   "outputs": [
    {
     "data": {
      "text/html": [
       "<div>\n",
       "<style scoped>\n",
       "    .dataframe tbody tr th:only-of-type {\n",
       "        vertical-align: middle;\n",
       "    }\n",
       "\n",
       "    .dataframe tbody tr th {\n",
       "        vertical-align: top;\n",
       "    }\n",
       "\n",
       "    .dataframe thead th {\n",
       "        text-align: right;\n",
       "    }\n",
       "</style>\n",
       "<table border=\"1\" class=\"dataframe\">\n",
       "  <thead>\n",
       "    <tr style=\"text-align: right;\">\n",
       "      <th></th>\n",
       "      <th>id</th>\n",
       "      <th>amount_tsh</th>\n",
       "      <th>funder</th>\n",
       "      <th>installer</th>\n",
       "      <th>region_code</th>\n",
       "      <th>district_code</th>\n",
       "      <th>population</th>\n",
       "      <th>permit</th>\n",
       "      <th>construction_year</th>\n",
       "      <th>extraction_type_class</th>\n",
       "      <th>management</th>\n",
       "      <th>payment</th>\n",
       "      <th>quality_group</th>\n",
       "      <th>quantity_group</th>\n",
       "      <th>source_type</th>\n",
       "      <th>source_class</th>\n",
       "      <th>waterpoint_type_group</th>\n",
       "      <th>binary_status</th>\n",
       "    </tr>\n",
       "  </thead>\n",
       "  <tbody>\n",
       "    <tr>\n",
       "      <th>0</th>\n",
       "      <td>69572</td>\n",
       "      <td>6000.0</td>\n",
       "      <td>Roman</td>\n",
       "      <td>Roman</td>\n",
       "      <td>11</td>\n",
       "      <td>5</td>\n",
       "      <td>109</td>\n",
       "      <td>False</td>\n",
       "      <td>1999</td>\n",
       "      <td>gravity</td>\n",
       "      <td>vwc</td>\n",
       "      <td>pay annually</td>\n",
       "      <td>good</td>\n",
       "      <td>enough</td>\n",
       "      <td>spring</td>\n",
       "      <td>groundwater</td>\n",
       "      <td>communal standpipe</td>\n",
       "      <td>1</td>\n",
       "    </tr>\n",
       "    <tr>\n",
       "      <th>1</th>\n",
       "      <td>8776</td>\n",
       "      <td>0.0</td>\n",
       "      <td>Grumeti</td>\n",
       "      <td>GRUMETI</td>\n",
       "      <td>20</td>\n",
       "      <td>2</td>\n",
       "      <td>280</td>\n",
       "      <td>True</td>\n",
       "      <td>2010</td>\n",
       "      <td>gravity</td>\n",
       "      <td>wug</td>\n",
       "      <td>never pay</td>\n",
       "      <td>good</td>\n",
       "      <td>insufficient</td>\n",
       "      <td>rainwater harvesting</td>\n",
       "      <td>surface</td>\n",
       "      <td>communal standpipe</td>\n",
       "      <td>1</td>\n",
       "    </tr>\n",
       "    <tr>\n",
       "      <th>2</th>\n",
       "      <td>34310</td>\n",
       "      <td>25.0</td>\n",
       "      <td>Lottery Club</td>\n",
       "      <td>World vision</td>\n",
       "      <td>21</td>\n",
       "      <td>4</td>\n",
       "      <td>250</td>\n",
       "      <td>True</td>\n",
       "      <td>2009</td>\n",
       "      <td>gravity</td>\n",
       "      <td>vwc</td>\n",
       "      <td>pay per bucket</td>\n",
       "      <td>good</td>\n",
       "      <td>enough</td>\n",
       "      <td>dam</td>\n",
       "      <td>surface</td>\n",
       "      <td>communal standpipe</td>\n",
       "      <td>1</td>\n",
       "    </tr>\n",
       "    <tr>\n",
       "      <th>3</th>\n",
       "      <td>67743</td>\n",
       "      <td>0.0</td>\n",
       "      <td>Unicef</td>\n",
       "      <td>UNICEF</td>\n",
       "      <td>90</td>\n",
       "      <td>63</td>\n",
       "      <td>58</td>\n",
       "      <td>True</td>\n",
       "      <td>1986</td>\n",
       "      <td>submersible</td>\n",
       "      <td>vwc</td>\n",
       "      <td>never pay</td>\n",
       "      <td>good</td>\n",
       "      <td>dry</td>\n",
       "      <td>borehole</td>\n",
       "      <td>groundwater</td>\n",
       "      <td>communal standpipe</td>\n",
       "      <td>0</td>\n",
       "    </tr>\n",
       "    <tr>\n",
       "      <th>4</th>\n",
       "      <td>19728</td>\n",
       "      <td>0.0</td>\n",
       "      <td>Action In A</td>\n",
       "      <td>Artisan</td>\n",
       "      <td>18</td>\n",
       "      <td>1</td>\n",
       "      <td>0</td>\n",
       "      <td>True</td>\n",
       "      <td>0</td>\n",
       "      <td>gravity</td>\n",
       "      <td>other</td>\n",
       "      <td>never pay</td>\n",
       "      <td>good</td>\n",
       "      <td>seasonal</td>\n",
       "      <td>rainwater harvesting</td>\n",
       "      <td>surface</td>\n",
       "      <td>communal standpipe</td>\n",
       "      <td>1</td>\n",
       "    </tr>\n",
       "    <tr>\n",
       "      <th>5</th>\n",
       "      <td>9944</td>\n",
       "      <td>20.0</td>\n",
       "      <td>Mkinga Distric Coun</td>\n",
       "      <td>DWE</td>\n",
       "      <td>4</td>\n",
       "      <td>8</td>\n",
       "      <td>1</td>\n",
       "      <td>True</td>\n",
       "      <td>2009</td>\n",
       "      <td>submersible</td>\n",
       "      <td>vwc</td>\n",
       "      <td>pay per bucket</td>\n",
       "      <td>salty</td>\n",
       "      <td>enough</td>\n",
       "      <td>other</td>\n",
       "      <td>unknown</td>\n",
       "      <td>communal standpipe</td>\n",
       "      <td>1</td>\n",
       "    </tr>\n",
       "    <tr>\n",
       "      <th>6</th>\n",
       "      <td>19816</td>\n",
       "      <td>0.0</td>\n",
       "      <td>Dwsp</td>\n",
       "      <td>DWSP</td>\n",
       "      <td>17</td>\n",
       "      <td>3</td>\n",
       "      <td>0</td>\n",
       "      <td>True</td>\n",
       "      <td>0</td>\n",
       "      <td>handpump</td>\n",
       "      <td>vwc</td>\n",
       "      <td>never pay</td>\n",
       "      <td>good</td>\n",
       "      <td>enough</td>\n",
       "      <td>borehole</td>\n",
       "      <td>groundwater</td>\n",
       "      <td>hand pump</td>\n",
       "      <td>0</td>\n",
       "    </tr>\n",
       "    <tr>\n",
       "      <th>7</th>\n",
       "      <td>54551</td>\n",
       "      <td>0.0</td>\n",
       "      <td>Rwssp</td>\n",
       "      <td>DWE</td>\n",
       "      <td>17</td>\n",
       "      <td>3</td>\n",
       "      <td>0</td>\n",
       "      <td>True</td>\n",
       "      <td>0</td>\n",
       "      <td>handpump</td>\n",
       "      <td>wug</td>\n",
       "      <td>unknown</td>\n",
       "      <td>milky</td>\n",
       "      <td>enough</td>\n",
       "      <td>shallow well</td>\n",
       "      <td>groundwater</td>\n",
       "      <td>hand pump</td>\n",
       "      <td>0</td>\n",
       "    </tr>\n",
       "    <tr>\n",
       "      <th>8</th>\n",
       "      <td>53934</td>\n",
       "      <td>0.0</td>\n",
       "      <td>Wateraid</td>\n",
       "      <td>Water Aid</td>\n",
       "      <td>14</td>\n",
       "      <td>6</td>\n",
       "      <td>0</td>\n",
       "      <td>True</td>\n",
       "      <td>0</td>\n",
       "      <td>handpump</td>\n",
       "      <td>vwc</td>\n",
       "      <td>never pay</td>\n",
       "      <td>salty</td>\n",
       "      <td>seasonal</td>\n",
       "      <td>borehole</td>\n",
       "      <td>groundwater</td>\n",
       "      <td>hand pump</td>\n",
       "      <td>0</td>\n",
       "    </tr>\n",
       "    <tr>\n",
       "      <th>9</th>\n",
       "      <td>46144</td>\n",
       "      <td>0.0</td>\n",
       "      <td>Isingiro Ho</td>\n",
       "      <td>Artisan</td>\n",
       "      <td>18</td>\n",
       "      <td>1</td>\n",
       "      <td>0</td>\n",
       "      <td>True</td>\n",
       "      <td>0</td>\n",
       "      <td>handpump</td>\n",
       "      <td>vwc</td>\n",
       "      <td>never pay</td>\n",
       "      <td>good</td>\n",
       "      <td>enough</td>\n",
       "      <td>shallow well</td>\n",
       "      <td>groundwater</td>\n",
       "      <td>hand pump</td>\n",
       "      <td>1</td>\n",
       "    </tr>\n",
       "  </tbody>\n",
       "</table>\n",
       "</div>"
      ],
      "text/plain": [
       "      id  amount_tsh               funder     installer  region_code  \\\n",
       "0  69572      6000.0                Roman         Roman           11   \n",
       "1   8776         0.0              Grumeti       GRUMETI           20   \n",
       "2  34310        25.0         Lottery Club  World vision           21   \n",
       "3  67743         0.0               Unicef        UNICEF           90   \n",
       "4  19728         0.0          Action In A       Artisan           18   \n",
       "5   9944        20.0  Mkinga Distric Coun           DWE            4   \n",
       "6  19816         0.0                 Dwsp          DWSP           17   \n",
       "7  54551         0.0                Rwssp           DWE           17   \n",
       "8  53934         0.0             Wateraid     Water Aid           14   \n",
       "9  46144         0.0          Isingiro Ho       Artisan           18   \n",
       "\n",
       "   district_code  population permit  construction_year extraction_type_class  \\\n",
       "0              5         109  False               1999               gravity   \n",
       "1              2         280   True               2010               gravity   \n",
       "2              4         250   True               2009               gravity   \n",
       "3             63          58   True               1986           submersible   \n",
       "4              1           0   True                  0               gravity   \n",
       "5              8           1   True               2009           submersible   \n",
       "6              3           0   True                  0              handpump   \n",
       "7              3           0   True                  0              handpump   \n",
       "8              6           0   True                  0              handpump   \n",
       "9              1           0   True                  0              handpump   \n",
       "\n",
       "  management         payment quality_group quantity_group  \\\n",
       "0        vwc    pay annually          good         enough   \n",
       "1        wug       never pay          good   insufficient   \n",
       "2        vwc  pay per bucket          good         enough   \n",
       "3        vwc       never pay          good            dry   \n",
       "4      other       never pay          good       seasonal   \n",
       "5        vwc  pay per bucket         salty         enough   \n",
       "6        vwc       never pay          good         enough   \n",
       "7        wug         unknown         milky         enough   \n",
       "8        vwc       never pay         salty       seasonal   \n",
       "9        vwc       never pay          good         enough   \n",
       "\n",
       "            source_type source_class waterpoint_type_group  binary_status  \n",
       "0                spring  groundwater    communal standpipe              1  \n",
       "1  rainwater harvesting      surface    communal standpipe              1  \n",
       "2                   dam      surface    communal standpipe              1  \n",
       "3              borehole  groundwater    communal standpipe              0  \n",
       "4  rainwater harvesting      surface    communal standpipe              1  \n",
       "5                 other      unknown    communal standpipe              1  \n",
       "6              borehole  groundwater             hand pump              0  \n",
       "7          shallow well  groundwater             hand pump              0  \n",
       "8              borehole  groundwater             hand pump              0  \n",
       "9          shallow well  groundwater             hand pump              1  "
      ]
     },
     "execution_count": 19,
     "metadata": {},
     "output_type": "execute_result"
    }
   ],
   "source": [
    "clean_df.head(10)"
   ]
  },
  {
   "cell_type": "code",
   "execution_count": 20,
   "metadata": {
    "scrolled": true
   },
   "outputs": [
    {
     "name": "stdout",
     "output_type": "stream",
     "text": [
      "<class 'pandas.core.frame.DataFrame'>\n",
      "Int64Index: 59400 entries, 0 to 59399\n",
      "Data columns (total 18 columns):\n",
      " #   Column                 Non-Null Count  Dtype  \n",
      "---  ------                 --------------  -----  \n",
      " 0   id                     59400 non-null  int64  \n",
      " 1   amount_tsh             59400 non-null  float64\n",
      " 2   funder                 55765 non-null  object \n",
      " 3   installer              55745 non-null  object \n",
      " 4   region_code            59400 non-null  int64  \n",
      " 5   district_code          59400 non-null  int64  \n",
      " 6   population             59400 non-null  int64  \n",
      " 7   permit                 56344 non-null  object \n",
      " 8   construction_year      59400 non-null  int64  \n",
      " 9   extraction_type_class  59400 non-null  object \n",
      " 10  management             59400 non-null  object \n",
      " 11  payment                59400 non-null  object \n",
      " 12  quality_group          59400 non-null  object \n",
      " 13  quantity_group         59400 non-null  object \n",
      " 14  source_type            59400 non-null  object \n",
      " 15  source_class           59400 non-null  object \n",
      " 16  waterpoint_type_group  59400 non-null  object \n",
      " 17  binary_status          59400 non-null  int64  \n",
      "dtypes: float64(1), int64(6), object(11)\n",
      "memory usage: 8.6+ MB\n"
     ]
    }
   ],
   "source": [
    "clean_df.info()"
   ]
  },
  {
   "cell_type": "code",
   "execution_count": 21,
   "metadata": {
    "scrolled": true
   },
   "outputs": [
    {
     "name": "stdout",
     "output_type": "stream",
     "text": [
      "<class 'pandas.core.frame.DataFrame'>\n",
      "Int64Index: 59400 entries, 0 to 59399\n",
      "Data columns (total 18 columns):\n",
      " #   Column                 Non-Null Count  Dtype \n",
      "---  ------                 --------------  ----- \n",
      " 0   id                     59400 non-null  int64 \n",
      " 1   amount_tsh             59400 non-null  int64 \n",
      " 2   funder                 55765 non-null  object\n",
      " 3   installer              55745 non-null  object\n",
      " 4   region_code            59400 non-null  object\n",
      " 5   district_code          59400 non-null  object\n",
      " 6   population             59400 non-null  int64 \n",
      " 7   permit                 56344 non-null  object\n",
      " 8   construction_year      59400 non-null  object\n",
      " 9   extraction_type_class  59400 non-null  object\n",
      " 10  management             59400 non-null  object\n",
      " 11  payment                59400 non-null  object\n",
      " 12  quality_group          59400 non-null  object\n",
      " 13  quantity_group         59400 non-null  object\n",
      " 14  source_type            59400 non-null  object\n",
      " 15  source_class           59400 non-null  object\n",
      " 16  waterpoint_type_group  59400 non-null  object\n",
      " 17  binary_status          59400 non-null  int64 \n",
      "dtypes: int64(4), object(14)\n",
      "memory usage: 8.6+ MB\n"
     ]
    }
   ],
   "source": [
    "clean_df['region_code']= clean_df['region_code'].astype(str)\n",
    "clean_df['district_code'] = clean_df['district_code'].astype(str)\n",
    "clean_df['construction_year'] = clean_df['construction_year'].astype(str)\n",
    "clean_df['amount_tsh'] = clean_df['amount_tsh'].astype(int)\n",
    "clean_df['permit'] = np.where(clean_df['permit'] == True, 1, clean_df['permit'])\n",
    "clean_df['permit'] = np.where(clean_df['permit'] == False, 0, clean_df['permit'])\n",
    "clean_df.info()\n"
   ]
  },
  {
   "cell_type": "code",
   "execution_count": 22,
   "metadata": {},
   "outputs": [
    {
     "data": {
      "text/plain": [
       "1    38852\n",
       "0    17492\n",
       "Name: permit, dtype: int64"
      ]
     },
     "execution_count": 22,
     "metadata": {},
     "output_type": "execute_result"
    }
   ],
   "source": [
    "clean_df['permit'].value_counts()"
   ]
  },
  {
   "cell_type": "code",
   "execution_count": 23,
   "metadata": {},
   "outputs": [
    {
     "name": "stdout",
     "output_type": "stream",
     "text": [
      "<class 'pandas.core.frame.DataFrame'>\n",
      "Int64Index: 59400 entries, 0 to 59399\n",
      "Data columns (total 18 columns):\n",
      " #   Column                 Non-Null Count  Dtype \n",
      "---  ------                 --------------  ----- \n",
      " 0   id                     59400 non-null  int64 \n",
      " 1   amount_tsh             59400 non-null  int64 \n",
      " 2   funder                 55765 non-null  object\n",
      " 3   installer              55745 non-null  object\n",
      " 4   region_code            59400 non-null  object\n",
      " 5   district_code          59400 non-null  object\n",
      " 6   population             59400 non-null  int64 \n",
      " 7   permit                 56344 non-null  object\n",
      " 8   construction_year      59400 non-null  object\n",
      " 9   extraction_type_class  59400 non-null  object\n",
      " 10  management             59400 non-null  object\n",
      " 11  payment                59400 non-null  object\n",
      " 12  quality_group          59400 non-null  object\n",
      " 13  quantity_group         59400 non-null  object\n",
      " 14  source_type            59400 non-null  object\n",
      " 15  source_class           59400 non-null  object\n",
      " 16  waterpoint_type_group  59400 non-null  object\n",
      " 17  binary_status          59400 non-null  int64 \n",
      "dtypes: int64(4), object(14)\n",
      "memory usage: 8.6+ MB\n"
     ]
    }
   ],
   "source": [
    "clean_df.info() #going to drop rows without waterpoint permit information"
   ]
  },
  {
   "cell_type": "code",
   "execution_count": 24,
   "metadata": {},
   "outputs": [
    {
     "data": {
      "text/html": [
       "<div>\n",
       "<style scoped>\n",
       "    .dataframe tbody tr th:only-of-type {\n",
       "        vertical-align: middle;\n",
       "    }\n",
       "\n",
       "    .dataframe tbody tr th {\n",
       "        vertical-align: top;\n",
       "    }\n",
       "\n",
       "    .dataframe thead th {\n",
       "        text-align: right;\n",
       "    }\n",
       "</style>\n",
       "<table border=\"1\" class=\"dataframe\">\n",
       "  <thead>\n",
       "    <tr style=\"text-align: right;\">\n",
       "      <th></th>\n",
       "      <th>id</th>\n",
       "      <th>amount_tsh</th>\n",
       "      <th>funder</th>\n",
       "      <th>installer</th>\n",
       "      <th>region_code</th>\n",
       "      <th>district_code</th>\n",
       "      <th>population</th>\n",
       "      <th>permit</th>\n",
       "      <th>construction_year</th>\n",
       "      <th>extraction_type_class</th>\n",
       "      <th>management</th>\n",
       "      <th>payment</th>\n",
       "      <th>quality_group</th>\n",
       "      <th>quantity_group</th>\n",
       "      <th>source_type</th>\n",
       "      <th>source_class</th>\n",
       "      <th>waterpoint_type_group</th>\n",
       "      <th>binary_status</th>\n",
       "    </tr>\n",
       "  </thead>\n",
       "  <tbody>\n",
       "    <tr>\n",
       "      <th>43</th>\n",
       "      <td>19282</td>\n",
       "      <td>0</td>\n",
       "      <td>NaN</td>\n",
       "      <td>NaN</td>\n",
       "      <td>13</td>\n",
       "      <td>2</td>\n",
       "      <td>1</td>\n",
       "      <td>NaN</td>\n",
       "      <td>1980</td>\n",
       "      <td>motorpump</td>\n",
       "      <td>vwc</td>\n",
       "      <td>unknown</td>\n",
       "      <td>unknown</td>\n",
       "      <td>dry</td>\n",
       "      <td>borehole</td>\n",
       "      <td>groundwater</td>\n",
       "      <td>communal standpipe</td>\n",
       "      <td>0</td>\n",
       "    </tr>\n",
       "    <tr>\n",
       "      <th>47</th>\n",
       "      <td>13620</td>\n",
       "      <td>0</td>\n",
       "      <td>NaN</td>\n",
       "      <td>NaN</td>\n",
       "      <td>12</td>\n",
       "      <td>4</td>\n",
       "      <td>0</td>\n",
       "      <td>NaN</td>\n",
       "      <td>0</td>\n",
       "      <td>gravity</td>\n",
       "      <td>vwc</td>\n",
       "      <td>never pay</td>\n",
       "      <td>good</td>\n",
       "      <td>enough</td>\n",
       "      <td>spring</td>\n",
       "      <td>groundwater</td>\n",
       "      <td>communal standpipe</td>\n",
       "      <td>1</td>\n",
       "    </tr>\n",
       "    <tr>\n",
       "      <th>65</th>\n",
       "      <td>51072</td>\n",
       "      <td>0</td>\n",
       "      <td>NaN</td>\n",
       "      <td>NaN</td>\n",
       "      <td>13</td>\n",
       "      <td>2</td>\n",
       "      <td>1</td>\n",
       "      <td>NaN</td>\n",
       "      <td>1970</td>\n",
       "      <td>motorpump</td>\n",
       "      <td>vwc</td>\n",
       "      <td>unknown</td>\n",
       "      <td>unknown</td>\n",
       "      <td>dry</td>\n",
       "      <td>borehole</td>\n",
       "      <td>groundwater</td>\n",
       "      <td>communal standpipe</td>\n",
       "      <td>0</td>\n",
       "    </tr>\n",
       "    <tr>\n",
       "      <th>109</th>\n",
       "      <td>7116</td>\n",
       "      <td>0</td>\n",
       "      <td>NaN</td>\n",
       "      <td>NaN</td>\n",
       "      <td>12</td>\n",
       "      <td>4</td>\n",
       "      <td>0</td>\n",
       "      <td>NaN</td>\n",
       "      <td>0</td>\n",
       "      <td>other</td>\n",
       "      <td>vwc</td>\n",
       "      <td>never pay</td>\n",
       "      <td>good</td>\n",
       "      <td>enough</td>\n",
       "      <td>river/lake</td>\n",
       "      <td>surface</td>\n",
       "      <td>communal standpipe</td>\n",
       "      <td>1</td>\n",
       "    </tr>\n",
       "    <tr>\n",
       "      <th>118</th>\n",
       "      <td>10837</td>\n",
       "      <td>0</td>\n",
       "      <td>Hesawa</td>\n",
       "      <td>Hesawa</td>\n",
       "      <td>20</td>\n",
       "      <td>2</td>\n",
       "      <td>600</td>\n",
       "      <td>NaN</td>\n",
       "      <td>1997</td>\n",
       "      <td>gravity</td>\n",
       "      <td>other</td>\n",
       "      <td>never pay</td>\n",
       "      <td>good</td>\n",
       "      <td>insufficient</td>\n",
       "      <td>rainwater harvesting</td>\n",
       "      <td>surface</td>\n",
       "      <td>communal standpipe</td>\n",
       "      <td>1</td>\n",
       "    </tr>\n",
       "    <tr>\n",
       "      <th>...</th>\n",
       "      <td>...</td>\n",
       "      <td>...</td>\n",
       "      <td>...</td>\n",
       "      <td>...</td>\n",
       "      <td>...</td>\n",
       "      <td>...</td>\n",
       "      <td>...</td>\n",
       "      <td>...</td>\n",
       "      <td>...</td>\n",
       "      <td>...</td>\n",
       "      <td>...</td>\n",
       "      <td>...</td>\n",
       "      <td>...</td>\n",
       "      <td>...</td>\n",
       "      <td>...</td>\n",
       "      <td>...</td>\n",
       "      <td>...</td>\n",
       "      <td>...</td>\n",
       "    </tr>\n",
       "    <tr>\n",
       "      <th>59339</th>\n",
       "      <td>1209</td>\n",
       "      <td>0</td>\n",
       "      <td>NaN</td>\n",
       "      <td>NaN</td>\n",
       "      <td>12</td>\n",
       "      <td>4</td>\n",
       "      <td>0</td>\n",
       "      <td>NaN</td>\n",
       "      <td>0</td>\n",
       "      <td>gravity</td>\n",
       "      <td>vwc</td>\n",
       "      <td>never pay</td>\n",
       "      <td>good</td>\n",
       "      <td>insufficient</td>\n",
       "      <td>spring</td>\n",
       "      <td>groundwater</td>\n",
       "      <td>communal standpipe</td>\n",
       "      <td>1</td>\n",
       "    </tr>\n",
       "    <tr>\n",
       "      <th>59344</th>\n",
       "      <td>6450</td>\n",
       "      <td>0</td>\n",
       "      <td>NaN</td>\n",
       "      <td>NaN</td>\n",
       "      <td>2</td>\n",
       "      <td>7</td>\n",
       "      <td>230</td>\n",
       "      <td>NaN</td>\n",
       "      <td>0</td>\n",
       "      <td>gravity</td>\n",
       "      <td>unknown</td>\n",
       "      <td>unknown</td>\n",
       "      <td>unknown</td>\n",
       "      <td>unknown</td>\n",
       "      <td>spring</td>\n",
       "      <td>groundwater</td>\n",
       "      <td>communal standpipe</td>\n",
       "      <td>1</td>\n",
       "    </tr>\n",
       "    <tr>\n",
       "      <th>59357</th>\n",
       "      <td>46563</td>\n",
       "      <td>0</td>\n",
       "      <td>NaN</td>\n",
       "      <td>NaN</td>\n",
       "      <td>13</td>\n",
       "      <td>2</td>\n",
       "      <td>1</td>\n",
       "      <td>NaN</td>\n",
       "      <td>1980</td>\n",
       "      <td>handpump</td>\n",
       "      <td>vwc</td>\n",
       "      <td>unknown</td>\n",
       "      <td>unknown</td>\n",
       "      <td>dry</td>\n",
       "      <td>shallow well</td>\n",
       "      <td>groundwater</td>\n",
       "      <td>hand pump</td>\n",
       "      <td>0</td>\n",
       "    </tr>\n",
       "    <tr>\n",
       "      <th>59366</th>\n",
       "      <td>55232</td>\n",
       "      <td>0</td>\n",
       "      <td>NaN</td>\n",
       "      <td>NaN</td>\n",
       "      <td>13</td>\n",
       "      <td>2</td>\n",
       "      <td>200</td>\n",
       "      <td>NaN</td>\n",
       "      <td>2000</td>\n",
       "      <td>handpump</td>\n",
       "      <td>vwc</td>\n",
       "      <td>never pay</td>\n",
       "      <td>good</td>\n",
       "      <td>insufficient</td>\n",
       "      <td>shallow well</td>\n",
       "      <td>groundwater</td>\n",
       "      <td>hand pump</td>\n",
       "      <td>1</td>\n",
       "    </tr>\n",
       "    <tr>\n",
       "      <th>59376</th>\n",
       "      <td>34716</td>\n",
       "      <td>0</td>\n",
       "      <td>NaN</td>\n",
       "      <td>NaN</td>\n",
       "      <td>13</td>\n",
       "      <td>2</td>\n",
       "      <td>1</td>\n",
       "      <td>NaN</td>\n",
       "      <td>1990</td>\n",
       "      <td>other</td>\n",
       "      <td>vwc</td>\n",
       "      <td>unknown</td>\n",
       "      <td>unknown</td>\n",
       "      <td>dry</td>\n",
       "      <td>shallow well</td>\n",
       "      <td>groundwater</td>\n",
       "      <td>other</td>\n",
       "      <td>0</td>\n",
       "    </tr>\n",
       "  </tbody>\n",
       "</table>\n",
       "<p>3056 rows × 18 columns</p>\n",
       "</div>"
      ],
      "text/plain": [
       "          id  amount_tsh  funder installer region_code district_code  \\\n",
       "43     19282           0     NaN       NaN          13             2   \n",
       "47     13620           0     NaN       NaN          12             4   \n",
       "65     51072           0     NaN       NaN          13             2   \n",
       "109     7116           0     NaN       NaN          12             4   \n",
       "118    10837           0  Hesawa    Hesawa          20             2   \n",
       "...      ...         ...     ...       ...         ...           ...   \n",
       "59339   1209           0     NaN       NaN          12             4   \n",
       "59344   6450           0     NaN       NaN           2             7   \n",
       "59357  46563           0     NaN       NaN          13             2   \n",
       "59366  55232           0     NaN       NaN          13             2   \n",
       "59376  34716           0     NaN       NaN          13             2   \n",
       "\n",
       "       population permit construction_year extraction_type_class management  \\\n",
       "43              1    NaN              1980             motorpump        vwc   \n",
       "47              0    NaN                 0               gravity        vwc   \n",
       "65              1    NaN              1970             motorpump        vwc   \n",
       "109             0    NaN                 0                 other        vwc   \n",
       "118           600    NaN              1997               gravity      other   \n",
       "...           ...    ...               ...                   ...        ...   \n",
       "59339           0    NaN                 0               gravity        vwc   \n",
       "59344         230    NaN                 0               gravity    unknown   \n",
       "59357           1    NaN              1980              handpump        vwc   \n",
       "59366         200    NaN              2000              handpump        vwc   \n",
       "59376           1    NaN              1990                 other        vwc   \n",
       "\n",
       "         payment quality_group quantity_group           source_type  \\\n",
       "43       unknown       unknown            dry              borehole   \n",
       "47     never pay          good         enough                spring   \n",
       "65       unknown       unknown            dry              borehole   \n",
       "109    never pay          good         enough            river/lake   \n",
       "118    never pay          good   insufficient  rainwater harvesting   \n",
       "...          ...           ...            ...                   ...   \n",
       "59339  never pay          good   insufficient                spring   \n",
       "59344    unknown       unknown        unknown                spring   \n",
       "59357    unknown       unknown            dry          shallow well   \n",
       "59366  never pay          good   insufficient          shallow well   \n",
       "59376    unknown       unknown            dry          shallow well   \n",
       "\n",
       "      source_class waterpoint_type_group  binary_status  \n",
       "43     groundwater    communal standpipe              0  \n",
       "47     groundwater    communal standpipe              1  \n",
       "65     groundwater    communal standpipe              0  \n",
       "109        surface    communal standpipe              1  \n",
       "118        surface    communal standpipe              1  \n",
       "...            ...                   ...            ...  \n",
       "59339  groundwater    communal standpipe              1  \n",
       "59344  groundwater    communal standpipe              1  \n",
       "59357  groundwater             hand pump              0  \n",
       "59366  groundwater             hand pump              1  \n",
       "59376  groundwater                 other              0  \n",
       "\n",
       "[3056 rows x 18 columns]"
      ]
     },
     "execution_count": 24,
     "metadata": {},
     "output_type": "execute_result"
    }
   ],
   "source": [
    "clean_df.loc[((clean_df['permit'] != 0) &\n",
    "             (clean_df['permit'] != 1))]\n"
   ]
  },
  {
   "cell_type": "code",
   "execution_count": 25,
   "metadata": {},
   "outputs": [],
   "source": [
    "clean_df.drop(clean_df[(clean_df['permit'] != 0) & \n",
    "                       (clean_df['permit'] != 1)].index, inplace=True)\n",
    "clean_df['permit'] = clean_df['permit'].astype(int)"
   ]
  },
  {
   "cell_type": "code",
   "execution_count": 26,
   "metadata": {},
   "outputs": [
    {
     "name": "stdout",
     "output_type": "stream",
     "text": [
      "<class 'pandas.core.frame.DataFrame'>\n",
      "Int64Index: 56344 entries, 0 to 59399\n",
      "Data columns (total 18 columns):\n",
      " #   Column                 Non-Null Count  Dtype \n",
      "---  ------                 --------------  ----- \n",
      " 0   id                     56344 non-null  int64 \n",
      " 1   amount_tsh             56344 non-null  int64 \n",
      " 2   funder                 55127 non-null  object\n",
      " 3   installer              55102 non-null  object\n",
      " 4   region_code            56344 non-null  object\n",
      " 5   district_code          56344 non-null  object\n",
      " 6   population             56344 non-null  int64 \n",
      " 7   permit                 56344 non-null  int64 \n",
      " 8   construction_year      56344 non-null  object\n",
      " 9   extraction_type_class  56344 non-null  object\n",
      " 10  management             56344 non-null  object\n",
      " 11  payment                56344 non-null  object\n",
      " 12  quality_group          56344 non-null  object\n",
      " 13  quantity_group         56344 non-null  object\n",
      " 14  source_type            56344 non-null  object\n",
      " 15  source_class           56344 non-null  object\n",
      " 16  waterpoint_type_group  56344 non-null  object\n",
      " 17  binary_status          56344 non-null  int64 \n",
      "dtypes: int64(5), object(13)\n",
      "memory usage: 8.2+ MB\n"
     ]
    }
   ],
   "source": [
    "clean_df.info()"
   ]
  },
  {
   "cell_type": "code",
   "execution_count": 27,
   "metadata": {
    "scrolled": false
   },
   "outputs": [
    {
     "data": {
      "text/plain": [
       "Government Of Tanzania           9043\n",
       "Danida                           3112\n",
       "Hesawa                           2027\n",
       "Rwssp                            1372\n",
       "World Bank                       1345\n",
       "                                 ... \n",
       "Isnashia And                        1\n",
       "Cpps Mission                        1\n",
       "Domestic Rural Development Pr       1\n",
       "Chacha                              1\n",
       "Bhws                                1\n",
       "Name: funder, Length: 1835, dtype: int64"
      ]
     },
     "execution_count": 27,
     "metadata": {},
     "output_type": "execute_result"
    }
   ],
   "source": [
    "clean_df['funder'].value_counts()"
   ]
  },
  {
   "cell_type": "code",
   "execution_count": 28,
   "metadata": {},
   "outputs": [
    {
     "data": {
      "text/plain": [
       "DWE             17361\n",
       "Government       1788\n",
       "RWE              1203\n",
       "Commu            1060\n",
       "DANIDA           1049\n",
       "                ...  \n",
       "Nu                  1\n",
       "Mgaya Masese        1\n",
       "LEI                 1\n",
       "Gerald              1\n",
       "Jumuhia             1\n",
       "Name: installer, Length: 2056, dtype: int64"
      ]
     },
     "execution_count": 28,
     "metadata": {},
     "output_type": "execute_result"
    }
   ],
   "source": [
    "clean_df['installer'].value_counts()"
   ]
  },
  {
   "cell_type": "code",
   "execution_count": 29,
   "metadata": {
    "scrolled": false
   },
   "outputs": [
    {
     "data": {
      "text/html": [
       "<div>\n",
       "<style scoped>\n",
       "    .dataframe tbody tr th:only-of-type {\n",
       "        vertical-align: middle;\n",
       "    }\n",
       "\n",
       "    .dataframe tbody tr th {\n",
       "        vertical-align: top;\n",
       "    }\n",
       "\n",
       "    .dataframe thead th {\n",
       "        text-align: right;\n",
       "    }\n",
       "</style>\n",
       "<table border=\"1\" class=\"dataframe\">\n",
       "  <thead>\n",
       "    <tr style=\"text-align: right;\">\n",
       "      <th></th>\n",
       "      <th>id</th>\n",
       "      <th>amount_tsh</th>\n",
       "      <th>funder</th>\n",
       "      <th>installer</th>\n",
       "      <th>region_code</th>\n",
       "      <th>district_code</th>\n",
       "      <th>population</th>\n",
       "      <th>permit</th>\n",
       "      <th>construction_year</th>\n",
       "      <th>extraction_type_class</th>\n",
       "      <th>management</th>\n",
       "      <th>payment</th>\n",
       "      <th>quality_group</th>\n",
       "      <th>quantity_group</th>\n",
       "      <th>source_type</th>\n",
       "      <th>source_class</th>\n",
       "      <th>waterpoint_type_group</th>\n",
       "      <th>binary_status</th>\n",
       "    </tr>\n",
       "  </thead>\n",
       "  <tbody>\n",
       "    <tr>\n",
       "      <th>10217</th>\n",
       "      <td>42616</td>\n",
       "      <td>0</td>\n",
       "      <td>Kalebejo Parish</td>\n",
       "      <td>-</td>\n",
       "      <td>19</td>\n",
       "      <td>5</td>\n",
       "      <td>0</td>\n",
       "      <td>1</td>\n",
       "      <td>0</td>\n",
       "      <td>handpump</td>\n",
       "      <td>private operator</td>\n",
       "      <td>never pay</td>\n",
       "      <td>salty</td>\n",
       "      <td>insufficient</td>\n",
       "      <td>shallow well</td>\n",
       "      <td>groundwater</td>\n",
       "      <td>hand pump</td>\n",
       "      <td>1</td>\n",
       "    </tr>\n",
       "    <tr>\n",
       "      <th>20968</th>\n",
       "      <td>10873</td>\n",
       "      <td>0</td>\n",
       "      <td>Government Of Tanzania</td>\n",
       "      <td>-</td>\n",
       "      <td>19</td>\n",
       "      <td>5</td>\n",
       "      <td>0</td>\n",
       "      <td>1</td>\n",
       "      <td>0</td>\n",
       "      <td>other</td>\n",
       "      <td>vwc</td>\n",
       "      <td>pay per bucket</td>\n",
       "      <td>good</td>\n",
       "      <td>enough</td>\n",
       "      <td>river/lake</td>\n",
       "      <td>surface</td>\n",
       "      <td>communal standpipe</td>\n",
       "      <td>0</td>\n",
       "    </tr>\n",
       "    <tr>\n",
       "      <th>25769</th>\n",
       "      <td>21336</td>\n",
       "      <td>0</td>\n",
       "      <td>Government Of Tanzania</td>\n",
       "      <td>-</td>\n",
       "      <td>19</td>\n",
       "      <td>5</td>\n",
       "      <td>0</td>\n",
       "      <td>1</td>\n",
       "      <td>0</td>\n",
       "      <td>other</td>\n",
       "      <td>vwc</td>\n",
       "      <td>pay per bucket</td>\n",
       "      <td>good</td>\n",
       "      <td>enough</td>\n",
       "      <td>river/lake</td>\n",
       "      <td>surface</td>\n",
       "      <td>communal standpipe</td>\n",
       "      <td>1</td>\n",
       "    </tr>\n",
       "  </tbody>\n",
       "</table>\n",
       "</div>"
      ],
      "text/plain": [
       "          id  amount_tsh                  funder installer region_code  \\\n",
       "10217  42616           0         Kalebejo Parish         -          19   \n",
       "20968  10873           0  Government Of Tanzania         -          19   \n",
       "25769  21336           0  Government Of Tanzania         -          19   \n",
       "\n",
       "      district_code  population  permit construction_year  \\\n",
       "10217             5           0       1                 0   \n",
       "20968             5           0       1                 0   \n",
       "25769             5           0       1                 0   \n",
       "\n",
       "      extraction_type_class        management         payment quality_group  \\\n",
       "10217              handpump  private operator       never pay         salty   \n",
       "20968                 other               vwc  pay per bucket          good   \n",
       "25769                 other               vwc  pay per bucket          good   \n",
       "\n",
       "      quantity_group   source_type source_class waterpoint_type_group  \\\n",
       "10217   insufficient  shallow well  groundwater             hand pump   \n",
       "20968         enough    river/lake      surface    communal standpipe   \n",
       "25769         enough    river/lake      surface    communal standpipe   \n",
       "\n",
       "       binary_status  \n",
       "10217              1  \n",
       "20968              0  \n",
       "25769              1  "
      ]
     },
     "execution_count": 29,
     "metadata": {},
     "output_type": "execute_result"
    }
   ],
   "source": [
    "clean_df.loc[clean_df['installer'] == '-'] #noticing construction year 0"
   ]
  },
  {
   "cell_type": "code",
   "execution_count": 30,
   "metadata": {
    "scrolled": true
   },
   "outputs": [
    {
     "data": {
      "text/plain": [
       "0       19580\n",
       "2008     2576\n",
       "2009     2491\n",
       "2010     2430\n",
       "2000     1566\n",
       "2007     1559\n",
       "2006     1447\n",
       "2003     1276\n",
       "2011     1211\n",
       "2004     1109\n",
       "2002     1065\n",
       "1978     1027\n",
       "2012     1026\n",
       "2005      985\n",
       "1995      979\n",
       "1999      954\n",
       "1985      943\n",
       "1998      924\n",
       "1984      779\n",
       "1996      768\n",
       "1982      741\n",
       "1972      705\n",
       "1994      703\n",
       "1974      676\n",
       "1990      667\n",
       "1980      647\n",
       "1992      632\n",
       "1997      613\n",
       "1993      595\n",
       "2001      533\n",
       "1988      521\n",
       "1983      487\n",
       "1975      437\n",
       "1986      433\n",
       "1976      411\n",
       "1991      323\n",
       "1989      316\n",
       "1970      310\n",
       "1987      301\n",
       "1981      238\n",
       "1977      199\n",
       "1979      192\n",
       "1973      183\n",
       "2013      173\n",
       "1971      145\n",
       "1967       86\n",
       "1963       85\n",
       "1968       68\n",
       "1969       59\n",
       "1960       45\n",
       "1964       40\n",
       "1962       29\n",
       "1961       20\n",
       "1965       19\n",
       "1966       17\n",
       "Name: construction_year, dtype: int64"
      ]
     },
     "execution_count": 30,
     "metadata": {},
     "output_type": "execute_result"
    }
   ],
   "source": [
    "clean_df['construction_year'].value_counts() #dropping this column since most years are blank! "
   ]
  },
  {
   "cell_type": "code",
   "execution_count": 31,
   "metadata": {},
   "outputs": [],
   "source": [
    "clean_df.drop(['construction_year'], axis = 1, inplace = True)"
   ]
  },
  {
   "cell_type": "code",
   "execution_count": 32,
   "metadata": {},
   "outputs": [
    {
     "data": {
      "text/plain": [
       "shallow well            16253\n",
       "spring                  15981\n",
       "borehole                11162\n",
       "river/lake              10013\n",
       "rainwater harvesting     2039\n",
       "dam                       630\n",
       "other                     266\n",
       "Name: source_type, dtype: int64"
      ]
     },
     "execution_count": 32,
     "metadata": {},
     "output_type": "execute_result"
    }
   ],
   "source": [
    "clean_df['source_type'].value_counts() #keeping this. Pretty clean! "
   ]
  },
  {
   "cell_type": "code",
   "execution_count": 33,
   "metadata": {},
   "outputs": [
    {
     "data": {
      "text/plain": [
       "gravity         25234\n",
       "handpump        16048\n",
       "other            6050\n",
       "submersible      5854\n",
       "motorpump        2704\n",
       "rope pump         349\n",
       "wind-powered      105\n",
       "Name: extraction_type_class, dtype: int64"
      ]
     },
     "execution_count": 33,
     "metadata": {},
     "output_type": "execute_result"
    }
   ],
   "source": [
    "clean_df['extraction_type_class'].value_counts() #keeping this. Pretty clean! "
   ]
  },
  {
   "cell_type": "code",
   "execution_count": 34,
   "metadata": {
    "scrolled": true
   },
   "outputs": [
    {
     "data": {
      "text/plain": [
       "1    38852\n",
       "0    17492\n",
       "Name: permit, dtype: int64"
      ]
     },
     "execution_count": 34,
     "metadata": {},
     "output_type": "execute_result"
    }
   ],
   "source": [
    "clean_df['permit'].value_counts() #1 means has permit now"
   ]
  },
  {
   "cell_type": "code",
   "execution_count": 35,
   "metadata": {
    "scrolled": false
   },
   "outputs": [
    {
     "data": {
      "text/plain": [
       "vwc                 38296\n",
       "wug                  6340\n",
       "water board          2830\n",
       "wua                  2468\n",
       "private operator     1893\n",
       "parastatal           1595\n",
       "water authority       825\n",
       "other                 744\n",
       "company               658\n",
       "unknown               519\n",
       "other - school         99\n",
       "trust                  77\n",
       "Name: management, dtype: int64"
      ]
     },
     "execution_count": 35,
     "metadata": {},
     "output_type": "execute_result"
    }
   ],
   "source": [
    "clean_df['management'].value_counts()"
   ]
  },
  {
   "cell_type": "code",
   "execution_count": 36,
   "metadata": {
    "scrolled": true
   },
   "outputs": [
    {
     "data": {
      "text/plain": [
       "never pay                23776\n",
       "pay per bucket            8700\n",
       "pay monthly               8221\n",
       "unknown                   7290\n",
       "pay when scheme fails     3777\n",
       "pay annually              3585\n",
       "other                      995\n",
       "Name: payment, dtype: int64"
      ]
     },
     "execution_count": 36,
     "metadata": {},
     "output_type": "execute_result"
    }
   ],
   "source": [
    "clean_df['payment'].value_counts() #what to do with unknown? bucket here? do we care about this? "
   ]
  },
  {
   "cell_type": "code",
   "execution_count": 37,
   "metadata": {},
   "outputs": [],
   "source": [
    "clean_df.drop(['payment'], axis=1, inplace = True)"
   ]
  },
  {
   "cell_type": "code",
   "execution_count": 38,
   "metadata": {},
   "outputs": [
    {
     "data": {
      "text/plain": [
       "0         39015\n",
       "500        3075\n",
       "50         2340\n",
       "1000       1445\n",
       "20         1430\n",
       "          ...  \n",
       "138000        1\n",
       "900           1\n",
       "8500          1\n",
       "60000         1\n",
       "9             1\n",
       "Name: amount_tsh, Length: 93, dtype: int64"
      ]
     },
     "execution_count": 38,
     "metadata": {},
     "output_type": "execute_result"
    }
   ],
   "source": [
    "clean_df['amount_tsh'].value_counts() #what does 0 mean here? drop? "
   ]
  },
  {
   "cell_type": "code",
   "execution_count": 39,
   "metadata": {},
   "outputs": [
    {
     "name": "stdout",
     "output_type": "stream",
     "text": [
      "<class 'pandas.core.frame.DataFrame'>\n",
      "Int64Index: 56344 entries, 0 to 59399\n",
      "Data columns (total 16 columns):\n",
      " #   Column                 Non-Null Count  Dtype \n",
      "---  ------                 --------------  ----- \n",
      " 0   id                     56344 non-null  int64 \n",
      " 1   amount_tsh             56344 non-null  int64 \n",
      " 2   funder                 55127 non-null  object\n",
      " 3   installer              55102 non-null  object\n",
      " 4   region_code            56344 non-null  object\n",
      " 5   district_code          56344 non-null  object\n",
      " 6   population             56344 non-null  int64 \n",
      " 7   permit                 56344 non-null  int64 \n",
      " 8   extraction_type_class  56344 non-null  object\n",
      " 9   management             56344 non-null  object\n",
      " 10  quality_group          56344 non-null  object\n",
      " 11  quantity_group         56344 non-null  object\n",
      " 12  source_type            56344 non-null  object\n",
      " 13  source_class           56344 non-null  object\n",
      " 14  waterpoint_type_group  56344 non-null  object\n",
      " 15  binary_status          56344 non-null  int64 \n",
      "dtypes: int64(5), object(11)\n",
      "memory usage: 7.3+ MB\n"
     ]
    }
   ],
   "source": [
    "clean_df.info() #need to find nulls for funder and installer"
   ]
  },
  {
   "cell_type": "code",
   "execution_count": 40,
   "metadata": {
    "scrolled": true
   },
   "outputs": [
    {
     "data": {
      "text/plain": [
       "good        48416\n",
       "salty        5035\n",
       "unknown      1399\n",
       "milky         801\n",
       "colored       490\n",
       "fluoride      203\n",
       "Name: quality_group, dtype: int64"
      ]
     },
     "execution_count": 40,
     "metadata": {},
     "output_type": "execute_result"
    }
   ],
   "source": [
    "clean_df['quality_group'].value_counts() #what to do with unknown"
   ]
  },
  {
   "cell_type": "code",
   "execution_count": 41,
   "metadata": {
    "scrolled": true
   },
   "outputs": [
    {
     "data": {
      "text/plain": [
       "enough          31979\n",
       "insufficient    13934\n",
       "dry              5836\n",
       "seasonal         3901\n",
       "unknown           694\n",
       "Name: quantity_group, dtype: int64"
      ]
     },
     "execution_count": 41,
     "metadata": {},
     "output_type": "execute_result"
    }
   ],
   "source": [
    "clean_df['quantity_group'].value_counts()"
   ]
  },
  {
   "cell_type": "markdown",
   "metadata": {},
   "source": [
    "going to drop rows with unknown quantity or quality since believe they would be important indicators in health of well. Maybe can do a ranking of quantity and quality to to scale them. Assign to numbers? "
   ]
  },
  {
   "cell_type": "code",
   "execution_count": 42,
   "metadata": {},
   "outputs": [
    {
     "data": {
      "text/plain": [
       "(54744, 16)"
      ]
     },
     "execution_count": 42,
     "metadata": {},
     "output_type": "execute_result"
    }
   ],
   "source": [
    "clean_df.drop(clean_df[(clean_df['quantity_group'] == 'unknown') |\n",
    "             (clean_df['quality_group'] == 'unknown')].index, inplace=True)\n",
    "clean_df.shape\n"
   ]
  },
  {
   "cell_type": "code",
   "execution_count": 43,
   "metadata": {},
   "outputs": [
    {
     "data": {
      "text/plain": [
       "enough          31851\n",
       "insufficient    13830\n",
       "dry              5202\n",
       "seasonal         3861\n",
       "Name: quantity_group, dtype: int64"
      ]
     },
     "execution_count": 43,
     "metadata": {},
     "output_type": "execute_result"
    }
   ],
   "source": [
    "clean_df['quantity_group'].value_counts()"
   ]
  },
  {
   "cell_type": "code",
   "execution_count": 44,
   "metadata": {},
   "outputs": [
    {
     "data": {
      "text/plain": [
       "good        48246\n",
       "salty        5007\n",
       "milky         799\n",
       "colored       489\n",
       "fluoride      203\n",
       "Name: quality_group, dtype: int64"
      ]
     },
     "execution_count": 44,
     "metadata": {},
     "output_type": "execute_result"
    }
   ],
   "source": [
    "clean_df['quality_group'].value_counts()"
   ]
  },
  {
   "cell_type": "code",
   "execution_count": 45,
   "metadata": {},
   "outputs": [],
   "source": [
    "clean_df.drop(clean_df[clean_df['funder'].isna()].index, inplace = True)\n",
    "clean_df.drop(clean_df[clean_df['installer'].isna()].index, inplace = True)           \n"
   ]
  },
  {
   "cell_type": "code",
   "execution_count": 46,
   "metadata": {},
   "outputs": [
    {
     "name": "stdout",
     "output_type": "stream",
     "text": [
      "<class 'pandas.core.frame.DataFrame'>\n",
      "Int64Index: 53586 entries, 0 to 59399\n",
      "Data columns (total 16 columns):\n",
      " #   Column                 Non-Null Count  Dtype \n",
      "---  ------                 --------------  ----- \n",
      " 0   id                     53586 non-null  int64 \n",
      " 1   amount_tsh             53586 non-null  int64 \n",
      " 2   funder                 53586 non-null  object\n",
      " 3   installer              53586 non-null  object\n",
      " 4   region_code            53586 non-null  object\n",
      " 5   district_code          53586 non-null  object\n",
      " 6   population             53586 non-null  int64 \n",
      " 7   permit                 53586 non-null  int64 \n",
      " 8   extraction_type_class  53586 non-null  object\n",
      " 9   management             53586 non-null  object\n",
      " 10  quality_group          53586 non-null  object\n",
      " 11  quantity_group         53586 non-null  object\n",
      " 12  source_type            53586 non-null  object\n",
      " 13  source_class           53586 non-null  object\n",
      " 14  waterpoint_type_group  53586 non-null  object\n",
      " 15  binary_status          53586 non-null  int64 \n",
      "dtypes: int64(5), object(11)\n",
      "memory usage: 7.0+ MB\n"
     ]
    }
   ],
   "source": [
    "clean_df.info()"
   ]
  },
  {
   "cell_type": "code",
   "execution_count": 47,
   "metadata": {},
   "outputs": [
    {
     "data": {
      "text/plain": [
       "(53586, 16)"
      ]
     },
     "execution_count": 47,
     "metadata": {},
     "output_type": "execute_result"
    }
   ],
   "source": [
    "clean_df.shape"
   ]
  },
  {
   "cell_type": "code",
   "execution_count": 48,
   "metadata": {
    "scrolled": true
   },
   "outputs": [
    {
     "data": {
      "text/html": [
       "<div>\n",
       "<style scoped>\n",
       "    .dataframe tbody tr th:only-of-type {\n",
       "        vertical-align: middle;\n",
       "    }\n",
       "\n",
       "    .dataframe tbody tr th {\n",
       "        vertical-align: top;\n",
       "    }\n",
       "\n",
       "    .dataframe thead th {\n",
       "        text-align: right;\n",
       "    }\n",
       "</style>\n",
       "<table border=\"1\" class=\"dataframe\">\n",
       "  <thead>\n",
       "    <tr style=\"text-align: right;\">\n",
       "      <th></th>\n",
       "      <th>id</th>\n",
       "      <th>amount_tsh</th>\n",
       "      <th>population</th>\n",
       "      <th>permit</th>\n",
       "      <th>binary_status</th>\n",
       "    </tr>\n",
       "  </thead>\n",
       "  <tbody>\n",
       "    <tr>\n",
       "      <th>count</th>\n",
       "      <td>53586.000000</td>\n",
       "      <td>53586.000000</td>\n",
       "      <td>53586.000000</td>\n",
       "      <td>53586.000000</td>\n",
       "      <td>53586.000000</td>\n",
       "    </tr>\n",
       "    <tr>\n",
       "      <th>mean</th>\n",
       "      <td>37110.555462</td>\n",
       "      <td>332.560202</td>\n",
       "      <td>183.354925</td>\n",
       "      <td>0.695835</td>\n",
       "      <td>0.623502</td>\n",
       "    </tr>\n",
       "    <tr>\n",
       "      <th>std</th>\n",
       "      <td>21447.151503</td>\n",
       "      <td>2705.659488</td>\n",
       "      <td>469.718027</td>\n",
       "      <td>0.460057</td>\n",
       "      <td>0.484512</td>\n",
       "    </tr>\n",
       "    <tr>\n",
       "      <th>min</th>\n",
       "      <td>0.000000</td>\n",
       "      <td>0.000000</td>\n",
       "      <td>0.000000</td>\n",
       "      <td>0.000000</td>\n",
       "      <td>0.000000</td>\n",
       "    </tr>\n",
       "    <tr>\n",
       "      <th>25%</th>\n",
       "      <td>18514.250000</td>\n",
       "      <td>0.000000</td>\n",
       "      <td>0.000000</td>\n",
       "      <td>0.000000</td>\n",
       "      <td>0.000000</td>\n",
       "    </tr>\n",
       "    <tr>\n",
       "      <th>50%</th>\n",
       "      <td>37070.500000</td>\n",
       "      <td>0.000000</td>\n",
       "      <td>40.000000</td>\n",
       "      <td>1.000000</td>\n",
       "      <td>1.000000</td>\n",
       "    </tr>\n",
       "    <tr>\n",
       "      <th>75%</th>\n",
       "      <td>55634.750000</td>\n",
       "      <td>30.000000</td>\n",
       "      <td>230.000000</td>\n",
       "      <td>1.000000</td>\n",
       "      <td>1.000000</td>\n",
       "    </tr>\n",
       "    <tr>\n",
       "      <th>max</th>\n",
       "      <td>74247.000000</td>\n",
       "      <td>250000.000000</td>\n",
       "      <td>30500.000000</td>\n",
       "      <td>1.000000</td>\n",
       "      <td>1.000000</td>\n",
       "    </tr>\n",
       "  </tbody>\n",
       "</table>\n",
       "</div>"
      ],
      "text/plain": [
       "                 id     amount_tsh    population        permit  binary_status\n",
       "count  53586.000000   53586.000000  53586.000000  53586.000000   53586.000000\n",
       "mean   37110.555462     332.560202    183.354925      0.695835       0.623502\n",
       "std    21447.151503    2705.659488    469.718027      0.460057       0.484512\n",
       "min        0.000000       0.000000      0.000000      0.000000       0.000000\n",
       "25%    18514.250000       0.000000      0.000000      0.000000       0.000000\n",
       "50%    37070.500000       0.000000     40.000000      1.000000       1.000000\n",
       "75%    55634.750000      30.000000    230.000000      1.000000       1.000000\n",
       "max    74247.000000  250000.000000  30500.000000      1.000000       1.000000"
      ]
     },
     "execution_count": 48,
     "metadata": {},
     "output_type": "execute_result"
    }
   ],
   "source": [
    "clean_df.describe()"
   ]
  },
  {
   "cell_type": "code",
   "execution_count": 49,
   "metadata": {
    "scrolled": true
   },
   "outputs": [
    {
     "data": {
      "text/plain": [
       "<AxesSubplot:>"
      ]
     },
     "execution_count": 49,
     "metadata": {},
     "output_type": "execute_result"
    },
    {
     "data": {
      "image/png": "[encoded data removed]",
      "text/plain": [
       "<Figure size 432x288 with 1 Axes>"
      ]
     },
     "metadata": {
      "needs_background": "light"
     },
     "output_type": "display_data"
    }
   ],
   "source": [
    "clean_df['population'].hist() #needs to be scaled? only for logistic or knn"
   ]
  },
  {
   "cell_type": "code",
   "execution_count": 50,
   "metadata": {},
   "outputs": [
    {
     "data": {
      "text/plain": [
       "<AxesSubplot:>"
      ]
     },
     "execution_count": 50,
     "metadata": {},
     "output_type": "execute_result"
    },
    {
     "data": {
      "image/png": "[encoded data removed]",
      "text/plain": [
       "<Figure size 432x288 with 1 Axes>"
      ]
     },
     "metadata": {
      "needs_background": "light"
     },
     "output_type": "display_data"
    }
   ],
   "source": [
    "clean_df['amount_tsh'].hist() #needs to be scaled? only for logistic or knn"
   ]
  },
  {
   "cell_type": "code",
   "execution_count": 51,
   "metadata": {},
   "outputs": [
    {
     "data": {
      "text/html": [
       "<div>\n",
       "<style scoped>\n",
       "    .dataframe tbody tr th:only-of-type {\n",
       "        vertical-align: middle;\n",
       "    }\n",
       "\n",
       "    .dataframe tbody tr th {\n",
       "        vertical-align: top;\n",
       "    }\n",
       "\n",
       "    .dataframe thead th {\n",
       "        text-align: right;\n",
       "    }\n",
       "</style>\n",
       "<table border=\"1\" class=\"dataframe\">\n",
       "  <thead>\n",
       "    <tr style=\"text-align: right;\">\n",
       "      <th></th>\n",
       "      <th>id</th>\n",
       "      <th>amount_tsh</th>\n",
       "      <th>population</th>\n",
       "      <th>permit</th>\n",
       "      <th>binary_status</th>\n",
       "    </tr>\n",
       "  </thead>\n",
       "  <tbody>\n",
       "    <tr>\n",
       "      <th>id</th>\n",
       "      <td>1.000000</td>\n",
       "      <td>-0.006130</td>\n",
       "      <td>-0.001574</td>\n",
       "      <td>0.000314</td>\n",
       "      <td>-0.001373</td>\n",
       "    </tr>\n",
       "    <tr>\n",
       "      <th>amount_tsh</th>\n",
       "      <td>-0.006130</td>\n",
       "      <td>1.000000</td>\n",
       "      <td>0.015299</td>\n",
       "      <td>0.030253</td>\n",
       "      <td>0.057345</td>\n",
       "    </tr>\n",
       "    <tr>\n",
       "      <th>population</th>\n",
       "      <td>-0.001574</td>\n",
       "      <td>0.015299</td>\n",
       "      <td>1.000000</td>\n",
       "      <td>-0.038569</td>\n",
       "      <td>0.011763</td>\n",
       "    </tr>\n",
       "    <tr>\n",
       "      <th>permit</th>\n",
       "      <td>0.000314</td>\n",
       "      <td>0.030253</td>\n",
       "      <td>-0.038569</td>\n",
       "      <td>1.000000</td>\n",
       "      <td>0.029007</td>\n",
       "    </tr>\n",
       "    <tr>\n",
       "      <th>binary_status</th>\n",
       "      <td>-0.001373</td>\n",
       "      <td>0.057345</td>\n",
       "      <td>0.011763</td>\n",
       "      <td>0.029007</td>\n",
       "      <td>1.000000</td>\n",
       "    </tr>\n",
       "  </tbody>\n",
       "</table>\n",
       "</div>"
      ],
      "text/plain": [
       "                     id  amount_tsh  population    permit  binary_status\n",
       "id             1.000000   -0.006130   -0.001574  0.000314      -0.001373\n",
       "amount_tsh    -0.006130    1.000000    0.015299  0.030253       0.057345\n",
       "population    -0.001574    0.015299    1.000000 -0.038569       0.011763\n",
       "permit         0.000314    0.030253   -0.038569  1.000000       0.029007\n",
       "binary_status -0.001373    0.057345    0.011763  0.029007       1.000000"
      ]
     },
     "execution_count": 51,
     "metadata": {},
     "output_type": "execute_result"
    }
   ],
   "source": [
    "clean_df.corr() #almost all categorical"
   ]
  },
  {
   "cell_type": "markdown",
   "metadata": {},
   "source": [
    "# Modeling!\n",
    "### Dummy Model"
   ]
  },
  {
   "cell_type": "code",
   "execution_count": 52,
   "metadata": {},
   "outputs": [],
   "source": [
    "X = clean_df.drop(['binary_status', 'id'], axis=1)\n",
    "y = clean_df['binary_status']\n",
    "\n",
    "X_train, X_test, y_train, y_test = train_test_split(X, y, random_state=42)\n",
    "#splitting 75/25"
   ]
  },
  {
   "cell_type": "code",
   "execution_count": 53,
   "metadata": {
    "scrolled": true
   },
   "outputs": [
    {
     "data": {
      "text/plain": [
       "12.900882709722284"
      ]
     },
     "execution_count": 53,
     "metadata": {},
     "output_type": "execute_result"
    }
   ],
   "source": [
    "dummy_model = DummyClassifier(strategy='most_frequent')\n",
    "dummy_model.fit(X_train, y_train)\n",
    "dum_preds = dummy_model.predict(X_train)\n",
    "log_loss(y_train, dum_preds) #makes sense"
   ]
  },
  {
   "cell_type": "code",
   "execution_count": 54,
   "metadata": {
    "scrolled": false
   },
   "outputs": [
    {
     "data": {
      "text/plain": [
       "1    0.62649\n",
       "0    0.37351\n",
       "Name: binary_status, dtype: float64"
      ]
     },
     "execution_count": 54,
     "metadata": {},
     "output_type": "execute_result"
    }
   ],
   "source": [
    "y_train.value_counts(normalize=True) #not a bad divide. Not incredible"
   ]
  },
  {
   "cell_type": "code",
   "execution_count": 55,
   "metadata": {},
   "outputs": [
    {
     "data": {
      "text/plain": [
       "<sklearn.metrics._plot.confusion_matrix.ConfusionMatrixDisplay at 0x7f94e1730b80>"
      ]
     },
     "execution_count": 55,
     "metadata": {},
     "output_type": "execute_result"
    },
    {
     "data": {
      "image/png": "[encoded data removed]",
      "text/plain": [
       "<Figure size 432x288 with 2 Axes>"
      ]
     },
     "metadata": {
      "needs_background": "light"
     },
     "output_type": "display_data"
    }
   ],
   "source": [
    "plot_confusion_matrix(dummy_model, X_train, y_train)"
   ]
  },
  {
   "cell_type": "code",
   "execution_count": 56,
   "metadata": {
    "scrolled": true
   },
   "outputs": [
    {
     "data": {
      "text/plain": [
       "1    25178\n",
       "0    15011\n",
       "Name: binary_status, dtype: int64"
      ]
     },
     "execution_count": 56,
     "metadata": {},
     "output_type": "execute_result"
    }
   ],
   "source": [
    "y_train.value_counts()"
   ]
  },
  {
   "cell_type": "code",
   "execution_count": 129,
   "metadata": {},
   "outputs": [
    {
     "data": {
      "text/plain": [
       "0.3735101644728657"
      ]
     },
     "execution_count": 129,
     "metadata": {},
     "output_type": "execute_result"
    }
   ],
   "source": [
    "15011/ (15011 + 25178) #percentage inbalanced "
   ]
  },
  {
   "cell_type": "markdown",
   "metadata": {},
   "source": [
    "Check f1 score on dummy model"
   ]
  },
  {
   "cell_type": "code",
   "execution_count": 57,
   "metadata": {},
   "outputs": [
    {
     "data": {
      "text/plain": [
       "0.7703581317790322"
      ]
     },
     "execution_count": 57,
     "metadata": {},
     "output_type": "execute_result"
    }
   ],
   "source": [
    "f1_score(y_train, dummy_model.predict(X_train)) "
   ]
  },
  {
   "cell_type": "markdown",
   "metadata": {},
   "source": [
    "## Dealing with Categorical Variables and Scaling Numerics"
   ]
  },
  {
   "cell_type": "code",
   "execution_count": 58,
   "metadata": {},
   "outputs": [
    {
     "data": {
      "text/plain": [
       "amount_tsh                int64\n",
       "funder                   object\n",
       "installer                object\n",
       "region_code              object\n",
       "district_code            object\n",
       "population                int64\n",
       "permit                    int64\n",
       "extraction_type_class    object\n",
       "management               object\n",
       "quality_group            object\n",
       "quantity_group           object\n",
       "source_type              object\n",
       "source_class             object\n",
       "waterpoint_type_group    object\n",
       "dtype: object"
      ]
     },
     "execution_count": 58,
     "metadata": {},
     "output_type": "execute_result"
    }
   ],
   "source": [
    "X.dtypes #looking into data types of X "
   ]
  },
  {
   "cell_type": "code",
   "execution_count": 59,
   "metadata": {},
   "outputs": [],
   "source": [
    "scale = ['population', 'amount_tsh']\n",
    "cat = ['funder', 'installer', 'region_code',\n",
    "           'district_code', 'extraction_type_class', 'management', 'quality_group',\n",
    "           'quantity_group', 'source_type', 'source_class', 'waterpoint_type_group']"
   ]
  },
  {
   "cell_type": "code",
   "execution_count": 60,
   "metadata": {},
   "outputs": [],
   "source": [
    "#creating subpipes to standard scale and one hot encode numeric and categorical columns respectively\n",
    "subpipe_numeric = Pipeline(steps=[('ss', StandardScaler())])\n",
    "subpipe_categorical = Pipeline(steps=[('ohe', OneHotEncoder(sparse=False, handle_unknown= 'ignore'))])"
   ]
  },
  {
   "cell_type": "code",
   "execution_count": 61,
   "metadata": {},
   "outputs": [],
   "source": [
    "CT = ColumnTransformer(transformers=[('subpipe_numeric', subpipe_numeric, scale),\n",
    "                                         ('subpipe_categorical', subpipe_categorical, cat)],\n",
    "                           remainder='passthrough')"
   ]
  },
  {
   "cell_type": "code",
   "execution_count": 62,
   "metadata": {
    "scrolled": true
   },
   "outputs": [],
   "source": [
    "ct_transform = CT.fit_transform(X_train)"
   ]
  },
  {
   "cell_type": "code",
   "execution_count": 63,
   "metadata": {
    "scrolled": true
   },
   "outputs": [
    {
     "data": {
      "text/html": [
       "<div>\n",
       "<style scoped>\n",
       "    .dataframe tbody tr th:only-of-type {\n",
       "        vertical-align: middle;\n",
       "    }\n",
       "\n",
       "    .dataframe tbody tr th {\n",
       "        vertical-align: top;\n",
       "    }\n",
       "\n",
       "    .dataframe thead th {\n",
       "        text-align: right;\n",
       "    }\n",
       "</style>\n",
       "<table border=\"1\" class=\"dataframe\">\n",
       "  <thead>\n",
       "    <tr style=\"text-align: right;\">\n",
       "      <th></th>\n",
       "      <th>0</th>\n",
       "      <th>1</th>\n",
       "      <th>2</th>\n",
       "      <th>3</th>\n",
       "      <th>4</th>\n",
       "      <th>5</th>\n",
       "      <th>6</th>\n",
       "      <th>7</th>\n",
       "      <th>8</th>\n",
       "      <th>9</th>\n",
       "      <th>...</th>\n",
       "      <th>3407</th>\n",
       "      <th>3408</th>\n",
       "      <th>3409</th>\n",
       "      <th>3410</th>\n",
       "      <th>3411</th>\n",
       "      <th>3412</th>\n",
       "      <th>3413</th>\n",
       "      <th>3414</th>\n",
       "      <th>3415</th>\n",
       "      <th>3416</th>\n",
       "    </tr>\n",
       "  </thead>\n",
       "  <tbody>\n",
       "    <tr>\n",
       "      <th>0</th>\n",
       "      <td>-0.383591</td>\n",
       "      <td>0.028459</td>\n",
       "      <td>0.0</td>\n",
       "      <td>0.0</td>\n",
       "      <td>0.0</td>\n",
       "      <td>0.0</td>\n",
       "      <td>0.0</td>\n",
       "      <td>0.0</td>\n",
       "      <td>0.0</td>\n",
       "      <td>0.0</td>\n",
       "      <td>...</td>\n",
       "      <td>0.0</td>\n",
       "      <td>0.0</td>\n",
       "      <td>1.0</td>\n",
       "      <td>0.0</td>\n",
       "      <td>1.0</td>\n",
       "      <td>0.0</td>\n",
       "      <td>0.0</td>\n",
       "      <td>0.0</td>\n",
       "      <td>0.0</td>\n",
       "      <td>0.0</td>\n",
       "    </tr>\n",
       "    <tr>\n",
       "      <th>1</th>\n",
       "      <td>-0.385668</td>\n",
       "      <td>-0.128724</td>\n",
       "      <td>0.0</td>\n",
       "      <td>0.0</td>\n",
       "      <td>0.0</td>\n",
       "      <td>0.0</td>\n",
       "      <td>0.0</td>\n",
       "      <td>0.0</td>\n",
       "      <td>0.0</td>\n",
       "      <td>0.0</td>\n",
       "      <td>...</td>\n",
       "      <td>1.0</td>\n",
       "      <td>0.0</td>\n",
       "      <td>0.0</td>\n",
       "      <td>0.0</td>\n",
       "      <td>0.0</td>\n",
       "      <td>0.0</td>\n",
       "      <td>0.0</td>\n",
       "      <td>0.0</td>\n",
       "      <td>1.0</td>\n",
       "      <td>1.0</td>\n",
       "    </tr>\n",
       "    <tr>\n",
       "      <th>2</th>\n",
       "      <td>0.029582</td>\n",
       "      <td>-0.128724</td>\n",
       "      <td>0.0</td>\n",
       "      <td>0.0</td>\n",
       "      <td>0.0</td>\n",
       "      <td>0.0</td>\n",
       "      <td>0.0</td>\n",
       "      <td>0.0</td>\n",
       "      <td>0.0</td>\n",
       "      <td>0.0</td>\n",
       "      <td>...</td>\n",
       "      <td>0.0</td>\n",
       "      <td>1.0</td>\n",
       "      <td>0.0</td>\n",
       "      <td>0.0</td>\n",
       "      <td>1.0</td>\n",
       "      <td>0.0</td>\n",
       "      <td>0.0</td>\n",
       "      <td>0.0</td>\n",
       "      <td>0.0</td>\n",
       "      <td>1.0</td>\n",
       "    </tr>\n",
       "    <tr>\n",
       "      <th>3</th>\n",
       "      <td>0.548645</td>\n",
       "      <td>0.067755</td>\n",
       "      <td>0.0</td>\n",
       "      <td>0.0</td>\n",
       "      <td>0.0</td>\n",
       "      <td>0.0</td>\n",
       "      <td>0.0</td>\n",
       "      <td>0.0</td>\n",
       "      <td>0.0</td>\n",
       "      <td>0.0</td>\n",
       "      <td>...</td>\n",
       "      <td>1.0</td>\n",
       "      <td>0.0</td>\n",
       "      <td>0.0</td>\n",
       "      <td>0.0</td>\n",
       "      <td>0.0</td>\n",
       "      <td>0.0</td>\n",
       "      <td>1.0</td>\n",
       "      <td>0.0</td>\n",
       "      <td>0.0</td>\n",
       "      <td>1.0</td>\n",
       "    </tr>\n",
       "    <tr>\n",
       "      <th>4</th>\n",
       "      <td>-0.385668</td>\n",
       "      <td>-0.128724</td>\n",
       "      <td>0.0</td>\n",
       "      <td>0.0</td>\n",
       "      <td>1.0</td>\n",
       "      <td>0.0</td>\n",
       "      <td>0.0</td>\n",
       "      <td>0.0</td>\n",
       "      <td>0.0</td>\n",
       "      <td>0.0</td>\n",
       "      <td>...</td>\n",
       "      <td>1.0</td>\n",
       "      <td>0.0</td>\n",
       "      <td>0.0</td>\n",
       "      <td>0.0</td>\n",
       "      <td>0.0</td>\n",
       "      <td>0.0</td>\n",
       "      <td>1.0</td>\n",
       "      <td>0.0</td>\n",
       "      <td>0.0</td>\n",
       "      <td>0.0</td>\n",
       "    </tr>\n",
       "    <tr>\n",
       "      <th>...</th>\n",
       "      <td>...</td>\n",
       "      <td>...</td>\n",
       "      <td>...</td>\n",
       "      <td>...</td>\n",
       "      <td>...</td>\n",
       "      <td>...</td>\n",
       "      <td>...</td>\n",
       "      <td>...</td>\n",
       "      <td>...</td>\n",
       "      <td>...</td>\n",
       "      <td>...</td>\n",
       "      <td>...</td>\n",
       "      <td>...</td>\n",
       "      <td>...</td>\n",
       "      <td>...</td>\n",
       "      <td>...</td>\n",
       "      <td>...</td>\n",
       "      <td>...</td>\n",
       "      <td>...</td>\n",
       "      <td>...</td>\n",
       "      <td>...</td>\n",
       "    </tr>\n",
       "    <tr>\n",
       "      <th>40184</th>\n",
       "      <td>-0.383591</td>\n",
       "      <td>-0.050132</td>\n",
       "      <td>0.0</td>\n",
       "      <td>0.0</td>\n",
       "      <td>0.0</td>\n",
       "      <td>0.0</td>\n",
       "      <td>0.0</td>\n",
       "      <td>0.0</td>\n",
       "      <td>0.0</td>\n",
       "      <td>0.0</td>\n",
       "      <td>...</td>\n",
       "      <td>1.0</td>\n",
       "      <td>0.0</td>\n",
       "      <td>0.0</td>\n",
       "      <td>0.0</td>\n",
       "      <td>1.0</td>\n",
       "      <td>0.0</td>\n",
       "      <td>0.0</td>\n",
       "      <td>0.0</td>\n",
       "      <td>0.0</td>\n",
       "      <td>1.0</td>\n",
       "    </tr>\n",
       "    <tr>\n",
       "      <th>40185</th>\n",
       "      <td>0.341020</td>\n",
       "      <td>-0.128724</td>\n",
       "      <td>0.0</td>\n",
       "      <td>0.0</td>\n",
       "      <td>0.0</td>\n",
       "      <td>0.0</td>\n",
       "      <td>0.0</td>\n",
       "      <td>0.0</td>\n",
       "      <td>0.0</td>\n",
       "      <td>0.0</td>\n",
       "      <td>...</td>\n",
       "      <td>1.0</td>\n",
       "      <td>0.0</td>\n",
       "      <td>0.0</td>\n",
       "      <td>0.0</td>\n",
       "      <td>0.0</td>\n",
       "      <td>0.0</td>\n",
       "      <td>1.0</td>\n",
       "      <td>0.0</td>\n",
       "      <td>0.0</td>\n",
       "      <td>0.0</td>\n",
       "    </tr>\n",
       "    <tr>\n",
       "      <th>40186</th>\n",
       "      <td>-0.385668</td>\n",
       "      <td>-0.128724</td>\n",
       "      <td>0.0</td>\n",
       "      <td>0.0</td>\n",
       "      <td>0.0</td>\n",
       "      <td>0.0</td>\n",
       "      <td>0.0</td>\n",
       "      <td>0.0</td>\n",
       "      <td>0.0</td>\n",
       "      <td>0.0</td>\n",
       "      <td>...</td>\n",
       "      <td>1.0</td>\n",
       "      <td>0.0</td>\n",
       "      <td>0.0</td>\n",
       "      <td>0.0</td>\n",
       "      <td>0.0</td>\n",
       "      <td>0.0</td>\n",
       "      <td>1.0</td>\n",
       "      <td>0.0</td>\n",
       "      <td>0.0</td>\n",
       "      <td>0.0</td>\n",
       "    </tr>\n",
       "    <tr>\n",
       "      <th>40187</th>\n",
       "      <td>-0.385668</td>\n",
       "      <td>-0.128724</td>\n",
       "      <td>0.0</td>\n",
       "      <td>0.0</td>\n",
       "      <td>0.0</td>\n",
       "      <td>0.0</td>\n",
       "      <td>0.0</td>\n",
       "      <td>0.0</td>\n",
       "      <td>0.0</td>\n",
       "      <td>0.0</td>\n",
       "      <td>...</td>\n",
       "      <td>0.0</td>\n",
       "      <td>1.0</td>\n",
       "      <td>0.0</td>\n",
       "      <td>0.0</td>\n",
       "      <td>1.0</td>\n",
       "      <td>0.0</td>\n",
       "      <td>0.0</td>\n",
       "      <td>0.0</td>\n",
       "      <td>0.0</td>\n",
       "      <td>0.0</td>\n",
       "    </tr>\n",
       "    <tr>\n",
       "      <th>40188</th>\n",
       "      <td>-0.094993</td>\n",
       "      <td>-0.124794</td>\n",
       "      <td>0.0</td>\n",
       "      <td>0.0</td>\n",
       "      <td>0.0</td>\n",
       "      <td>0.0</td>\n",
       "      <td>0.0</td>\n",
       "      <td>0.0</td>\n",
       "      <td>0.0</td>\n",
       "      <td>0.0</td>\n",
       "      <td>...</td>\n",
       "      <td>0.0</td>\n",
       "      <td>1.0</td>\n",
       "      <td>0.0</td>\n",
       "      <td>0.0</td>\n",
       "      <td>1.0</td>\n",
       "      <td>0.0</td>\n",
       "      <td>0.0</td>\n",
       "      <td>0.0</td>\n",
       "      <td>0.0</td>\n",
       "      <td>1.0</td>\n",
       "    </tr>\n",
       "  </tbody>\n",
       "</table>\n",
       "<p>40189 rows × 3417 columns</p>\n",
       "</div>"
      ],
      "text/plain": [
       "           0         1     2     3     4     5     6     7     8     9     \\\n",
       "0     -0.383591  0.028459   0.0   0.0   0.0   0.0   0.0   0.0   0.0   0.0   \n",
       "1     -0.385668 -0.128724   0.0   0.0   0.0   0.0   0.0   0.0   0.0   0.0   \n",
       "2      0.029582 -0.128724   0.0   0.0   0.0   0.0   0.0   0.0   0.0   0.0   \n",
       "3      0.548645  0.067755   0.0   0.0   0.0   0.0   0.0   0.0   0.0   0.0   \n",
       "4     -0.385668 -0.128724   0.0   0.0   1.0   0.0   0.0   0.0   0.0   0.0   \n",
       "...         ...       ...   ...   ...   ...   ...   ...   ...   ...   ...   \n",
       "40184 -0.383591 -0.050132   0.0   0.0   0.0   0.0   0.0   0.0   0.0   0.0   \n",
       "40185  0.341020 -0.128724   0.0   0.0   0.0   0.0   0.0   0.0   0.0   0.0   \n",
       "40186 -0.385668 -0.128724   0.0   0.0   0.0   0.0   0.0   0.0   0.0   0.0   \n",
       "40187 -0.385668 -0.128724   0.0   0.0   0.0   0.0   0.0   0.0   0.0   0.0   \n",
       "40188 -0.094993 -0.124794   0.0   0.0   0.0   0.0   0.0   0.0   0.0   0.0   \n",
       "\n",
       "       ...  3407  3408  3409  3410  3411  3412  3413  3414  3415  3416  \n",
       "0      ...   0.0   0.0   1.0   0.0   1.0   0.0   0.0   0.0   0.0   0.0  \n",
       "1      ...   1.0   0.0   0.0   0.0   0.0   0.0   0.0   0.0   1.0   1.0  \n",
       "2      ...   0.0   1.0   0.0   0.0   1.0   0.0   0.0   0.0   0.0   1.0  \n",
       "3      ...   1.0   0.0   0.0   0.0   0.0   0.0   1.0   0.0   0.0   1.0  \n",
       "4      ...   1.0   0.0   0.0   0.0   0.0   0.0   1.0   0.0   0.0   0.0  \n",
       "...    ...   ...   ...   ...   ...   ...   ...   ...   ...   ...   ...  \n",
       "40184  ...   1.0   0.0   0.0   0.0   1.0   0.0   0.0   0.0   0.0   1.0  \n",
       "40185  ...   1.0   0.0   0.0   0.0   0.0   0.0   1.0   0.0   0.0   0.0  \n",
       "40186  ...   1.0   0.0   0.0   0.0   0.0   0.0   1.0   0.0   0.0   0.0  \n",
       "40187  ...   0.0   1.0   0.0   0.0   1.0   0.0   0.0   0.0   0.0   0.0  \n",
       "40188  ...   0.0   1.0   0.0   0.0   1.0   0.0   0.0   0.0   0.0   1.0  \n",
       "\n",
       "[40189 rows x 3417 columns]"
      ]
     },
     "execution_count": 63,
     "metadata": {},
     "output_type": "execute_result"
    }
   ],
   "source": [
    "pd.DataFrame(ct_transform) #showing one hot encode!! "
   ]
  },
  {
   "cell_type": "markdown",
   "metadata": {},
   "source": [
    "Showing all of my one hot encoded columns! So many. "
   ]
  },
  {
   "cell_type": "code",
   "execution_count": 64,
   "metadata": {
    "scrolled": true
   },
   "outputs": [],
   "source": [
    "# The `ColumnTransformer` will take care of our preprocessing,\n",
    "# so now we can add our model at the end of the pipeline.\n",
    "\n",
    "logreg_model= Pipeline(steps=[('ct', CT),\n",
    "                            ('logreg', LogisticRegression(random_state=42))])"
   ]
  },
  {
   "cell_type": "code",
   "execution_count": 65,
   "metadata": {},
   "outputs": [
    {
     "name": "stderr",
     "output_type": "stream",
     "text": [
      "/opt/anaconda3/envs/learn-env/lib/python3.8/site-packages/sklearn/linear_model/_logistic.py:762: ConvergenceWarning: lbfgs failed to converge (status=1):\n",
      "STOP: TOTAL NO. of ITERATIONS REACHED LIMIT.\n",
      "\n",
      "Increase the number of iterations (max_iter) or scale the data as shown in:\n",
      "    https://scikit-learn.org/stable/modules/preprocessing.html\n",
      "Please also refer to the documentation for alternative solver options:\n",
      "    https://scikit-learn.org/stable/modules/linear_model.html#logistic-regression\n",
      "  n_iter_i = _check_optimize_result(\n"
     ]
    },
    {
     "data": {
      "text/plain": [
       "Pipeline(steps=[('ct',\n",
       "                 ColumnTransformer(remainder='passthrough',\n",
       "                                   transformers=[('subpipe_numeric',\n",
       "                                                  Pipeline(steps=[('ss',\n",
       "                                                                   StandardScaler())]),\n",
       "                                                  ['population', 'amount_tsh']),\n",
       "                                                 ('subpipe_categorical',\n",
       "                                                  Pipeline(steps=[('ohe',\n",
       "                                                                   OneHotEncoder(handle_unknown='ignore',\n",
       "                                                                                 sparse=False))]),\n",
       "                                                  ['funder', 'installer',\n",
       "                                                   'region_code',\n",
       "                                                   'district_code',\n",
       "                                                   'extraction_type_class',\n",
       "                                                   'management',\n",
       "                                                   'quality_group',\n",
       "                                                   'quantity_group',\n",
       "                                                   'source_type',\n",
       "                                                   'source_class',\n",
       "                                                   'waterpoint_type_group'])])),\n",
       "                ('logreg', LogisticRegression(random_state=42))])"
      ]
     },
     "execution_count": 65,
     "metadata": {},
     "output_type": "execute_result"
    }
   ],
   "source": [
    "logreg_model.fit(X_train, y_train)"
   ]
  },
  {
   "cell_type": "code",
   "execution_count": 66,
   "metadata": {
    "scrolled": true
   },
   "outputs": [
    {
     "data": {
      "text/plain": [
       "0.8220159745203911"
      ]
     },
     "execution_count": 66,
     "metadata": {},
     "output_type": "execute_result"
    }
   ],
   "source": [
    "logreg_model.score(X_train, y_train) #accuracy score"
   ]
  },
  {
   "cell_type": "code",
   "execution_count": 67,
   "metadata": {},
   "outputs": [
    {
     "data": {
      "text/plain": [
       "0.8670668475533831"
      ]
     },
     "execution_count": 67,
     "metadata": {},
     "output_type": "execute_result"
    }
   ],
   "source": [
    "from sklearn.metrics import f1_score\n",
    "\n",
    "f1_score(y_train, logreg_model.predict(X_train))"
   ]
  },
  {
   "cell_type": "code",
   "execution_count": 68,
   "metadata": {
    "scrolled": true
   },
   "outputs": [
    {
     "data": {
      "text/plain": [
       "<sklearn.metrics._plot.confusion_matrix.ConfusionMatrixDisplay at 0x7f94e1e18190>"
      ]
     },
     "execution_count": 68,
     "metadata": {},
     "output_type": "execute_result"
    },
    {
     "data": {
      "image/png": "[encoded data removed]",
      "text/plain": [
       "<Figure size 432x288 with 2 Axes>"
      ]
     },
     "metadata": {
      "needs_background": "light"
     },
     "output_type": "display_data"
    }
   ],
   "source": [
    "plot_confusion_matrix(logreg_model, X_train, y_train)"
   ]
  },
  {
   "cell_type": "code",
   "execution_count": 69,
   "metadata": {},
   "outputs": [],
   "source": [
    "class ModelWithCV():\n",
    "    '''Structure to save the model and more easily see its crossvalidation'''\n",
    "    \n",
    "    def __init__(self, model, model_name, X, y, cv_now=True):\n",
    "        self.model = model\n",
    "        self.name = model_name\n",
    "        self.X = X\n",
    "        self.y = y\n",
    "        # For CV results\n",
    "        self.cv_results = None\n",
    "        self.cv_mean = None\n",
    "        self.cv_median = None\n",
    "        self.cv_std = None\n",
    "        #\n",
    "        if cv_now:\n",
    "            self.cross_validate()\n",
    "        \n",
    "    def cross_validate(self, X=None, y=None, kfolds=10):\n",
    "        '''\n",
    "        Perform cross-validation and return results.\n",
    "        \n",
    "        Args: \n",
    "          X:\n",
    "            Optional; Training data to perform CV on. Otherwise use X from object\n",
    "          y:\n",
    "            Optional; Training data to perform CV on. Otherwise use y from object\n",
    "          kfolds:\n",
    "            Optional; Number of folds for CV (default is 10)  \n",
    "        '''\n",
    "        \n",
    "        cv_X = X if X else self.X\n",
    "        cv_y = y if y else self.y\n",
    "\n",
    "        self.cv_results = cross_val_score(self.model, cv_X, cv_y, cv=kfolds, scoring = 'f1')\n",
    "        self.cv_mean = np.mean(self.cv_results)\n",
    "        self.cv_median = np.median(self.cv_results)\n",
    "        self.cv_std = np.std(self.cv_results)\n",
    "\n",
    "        \n",
    "    def print_cv_summary(self):\n",
    "        cv_summary = (\n",
    "        f'''CV Results for `{self.name}` model:\n",
    "            {self.cv_mean:.5f} ± {self.cv_std:.5f} f1 score\n",
    "        ''')\n",
    "        print(cv_summary)\n",
    "\n",
    "        \n",
    "    def plot_cv(self, ax):\n",
    "        '''\n",
    "        Plot the cross-validation values using the array of results and given \n",
    "        Axis for plotting.\n",
    "        '''\n",
    "        ax.set_title(f'CV Results for `{self.name}` Model')\n",
    "        # Thinner violinplot with higher bw\n",
    "        sns.violinplot(y=self.cv_results, ax=ax, bw=.4)\n",
    "        sns.swarmplot(\n",
    "                y=self.cv_results,\n",
    "                color='orange',\n",
    "                size=10,\n",
    "                alpha= 0.8,\n",
    "                ax=ax\n",
    "        )\n",
    "\n",
    "        return ax"
   ]
  },
  {
   "cell_type": "code",
   "execution_count": 70,
   "metadata": {
    "collapsed": true
   },
   "outputs": [
    {
     "name": "stderr",
     "output_type": "stream",
     "text": [
      "/opt/anaconda3/envs/learn-env/lib/python3.8/site-packages/sklearn/linear_model/_logistic.py:762: ConvergenceWarning: lbfgs failed to converge (status=1):\n",
      "STOP: TOTAL NO. of ITERATIONS REACHED LIMIT.\n",
      "\n",
      "Increase the number of iterations (max_iter) or scale the data as shown in:\n",
      "    https://scikit-learn.org/stable/modules/preprocessing.html\n",
      "Please also refer to the documentation for alternative solver options:\n",
      "    https://scikit-learn.org/stable/modules/linear_model.html#logistic-regression\n",
      "  n_iter_i = _check_optimize_result(\n",
      "/opt/anaconda3/envs/learn-env/lib/python3.8/site-packages/sklearn/linear_model/_logistic.py:762: ConvergenceWarning: lbfgs failed to converge (status=1):\n",
      "STOP: TOTAL NO. of ITERATIONS REACHED LIMIT.\n",
      "\n",
      "Increase the number of iterations (max_iter) or scale the data as shown in:\n",
      "    https://scikit-learn.org/stable/modules/preprocessing.html\n",
      "Please also refer to the documentation for alternative solver options:\n",
      "    https://scikit-learn.org/stable/modules/linear_model.html#logistic-regression\n",
      "  n_iter_i = _check_optimize_result(\n",
      "/opt/anaconda3/envs/learn-env/lib/python3.8/site-packages/sklearn/linear_model/_logistic.py:762: ConvergenceWarning: lbfgs failed to converge (status=1):\n",
      "STOP: TOTAL NO. of ITERATIONS REACHED LIMIT.\n",
      "\n",
      "Increase the number of iterations (max_iter) or scale the data as shown in:\n",
      "    https://scikit-learn.org/stable/modules/preprocessing.html\n",
      "Please also refer to the documentation for alternative solver options:\n",
      "    https://scikit-learn.org/stable/modules/linear_model.html#logistic-regression\n",
      "  n_iter_i = _check_optimize_result(\n",
      "/opt/anaconda3/envs/learn-env/lib/python3.8/site-packages/sklearn/linear_model/_logistic.py:762: ConvergenceWarning: lbfgs failed to converge (status=1):\n",
      "STOP: TOTAL NO. of ITERATIONS REACHED LIMIT.\n",
      "\n",
      "Increase the number of iterations (max_iter) or scale the data as shown in:\n",
      "    https://scikit-learn.org/stable/modules/preprocessing.html\n",
      "Please also refer to the documentation for alternative solver options:\n",
      "    https://scikit-learn.org/stable/modules/linear_model.html#logistic-regression\n",
      "  n_iter_i = _check_optimize_result(\n",
      "/opt/anaconda3/envs/learn-env/lib/python3.8/site-packages/sklearn/linear_model/_logistic.py:762: ConvergenceWarning: lbfgs failed to converge (status=1):\n",
      "STOP: TOTAL NO. of ITERATIONS REACHED LIMIT.\n",
      "\n",
      "Increase the number of iterations (max_iter) or scale the data as shown in:\n",
      "    https://scikit-learn.org/stable/modules/preprocessing.html\n",
      "Please also refer to the documentation for alternative solver options:\n",
      "    https://scikit-learn.org/stable/modules/linear_model.html#logistic-regression\n",
      "  n_iter_i = _check_optimize_result(\n"
     ]
    }
   ],
   "source": [
    "cv_results = cross_val_score(logreg_model, X_train, y_train, cv=5, scoring = 'f1' ) \n",
    "#isnt running fully through"
   ]
  },
  {
   "cell_type": "code",
   "execution_count": 71,
   "metadata": {},
   "outputs": [
    {
     "data": {
      "text/plain": [
       "array([0.86019905, 0.85861846, 0.85802411, 0.85980264, 0.86111368])"
      ]
     },
     "execution_count": 71,
     "metadata": {},
     "output_type": "execute_result"
    }
   ],
   "source": [
    "cv_results"
   ]
  },
  {
   "cell_type": "markdown",
   "metadata": {},
   "source": [
    "Decision Tree"
   ]
  },
  {
   "cell_type": "code",
   "execution_count": 72,
   "metadata": {},
   "outputs": [],
   "source": [
    "decision_model = Pipeline(steps=[('ct', CT),\n",
    "                            ('decision_tree', DecisionTreeClassifier(random_state=42))])"
   ]
  },
  {
   "cell_type": "code",
   "execution_count": 73,
   "metadata": {},
   "outputs": [
    {
     "data": {
      "text/plain": [
       "Pipeline(steps=[('ct',\n",
       "                 ColumnTransformer(remainder='passthrough',\n",
       "                                   transformers=[('subpipe_numeric',\n",
       "                                                  Pipeline(steps=[('ss',\n",
       "                                                                   StandardScaler())]),\n",
       "                                                  ['population', 'amount_tsh']),\n",
       "                                                 ('subpipe_categorical',\n",
       "                                                  Pipeline(steps=[('ohe',\n",
       "                                                                   OneHotEncoder(handle_unknown='ignore',\n",
       "                                                                                 sparse=False))]),\n",
       "                                                  ['funder', 'installer',\n",
       "                                                   'region_code',\n",
       "                                                   'district_code',\n",
       "                                                   'extraction_type_class',\n",
       "                                                   'management',\n",
       "                                                   'quality_group',\n",
       "                                                   'quantity_group',\n",
       "                                                   'source_type',\n",
       "                                                   'source_class',\n",
       "                                                   'waterpoint_type_group'])])),\n",
       "                ('decision_tree', DecisionTreeClassifier(random_state=42))])"
      ]
     },
     "execution_count": 73,
     "metadata": {},
     "output_type": "execute_result"
    }
   ],
   "source": [
    "decision_model.fit(X_train, y_train)"
   ]
  },
  {
   "cell_type": "code",
   "execution_count": 74,
   "metadata": {},
   "outputs": [
    {
     "data": {
      "text/plain": [
       "0.9360770360048769"
      ]
     },
     "execution_count": 74,
     "metadata": {},
     "output_type": "execute_result"
    }
   ],
   "source": [
    "decision_model.score(X_train, y_train)"
   ]
  },
  {
   "cell_type": "code",
   "execution_count": 75,
   "metadata": {
    "scrolled": true
   },
   "outputs": [
    {
     "data": {
      "text/plain": [
       "0.9494201728652715"
      ]
     },
     "execution_count": 75,
     "metadata": {},
     "output_type": "execute_result"
    }
   ],
   "source": [
    "f1_score(y_train, decision_model.predict(X_train)) #much closer to 1"
   ]
  },
  {
   "cell_type": "code",
   "execution_count": 76,
   "metadata": {},
   "outputs": [],
   "source": [
    "cv_decision = ModelWithCV(decision_model, 'decision_model', X_train, y_train)"
   ]
  },
  {
   "cell_type": "code",
   "execution_count": 77,
   "metadata": {
    "scrolled": false
   },
   "outputs": [
    {
     "name": "stdout",
     "output_type": "stream",
     "text": [
      "CV Results for `decision_model` model:\n",
      "            0.85831 ± 0.00363 f1 score\n",
      "        \n"
     ]
    }
   ],
   "source": [
    "cv_decision.print_cv_summary()"
   ]
  },
  {
   "cell_type": "markdown",
   "metadata": {},
   "source": [
    "Decision Model 2"
   ]
  },
  {
   "cell_type": "code",
   "execution_count": 78,
   "metadata": {},
   "outputs": [],
   "source": [
    "decision_model2 = Pipeline(steps=[('ct', CT),\n",
    "                            ('decision_tree', \n",
    "                             DecisionTreeClassifier(random_state=42, max_depth=5 ))])"
   ]
  },
  {
   "cell_type": "code",
   "execution_count": 79,
   "metadata": {},
   "outputs": [
    {
     "data": {
      "text/plain": [
       "Pipeline(steps=[('ct',\n",
       "                 ColumnTransformer(remainder='passthrough',\n",
       "                                   transformers=[('subpipe_numeric',\n",
       "                                                  Pipeline(steps=[('ss',\n",
       "                                                                   StandardScaler())]),\n",
       "                                                  ['population', 'amount_tsh']),\n",
       "                                                 ('subpipe_categorical',\n",
       "                                                  Pipeline(steps=[('ohe',\n",
       "                                                                   OneHotEncoder(handle_unknown='ignore',\n",
       "                                                                                 sparse=False))]),\n",
       "                                                  ['funder', 'installer',\n",
       "                                                   'region_code',\n",
       "                                                   'district_code',\n",
       "                                                   'extraction_type_class',\n",
       "                                                   'management',\n",
       "                                                   'quality_group',\n",
       "                                                   'quantity_group',\n",
       "                                                   'source_type',\n",
       "                                                   'source_class',\n",
       "                                                   'waterpoint_type_group'])])),\n",
       "                ('decision_tree',\n",
       "                 DecisionTreeClassifier(max_depth=5, random_state=42))])"
      ]
     },
     "execution_count": 79,
     "metadata": {},
     "output_type": "execute_result"
    }
   ],
   "source": [
    "decision_model2.fit(X_train, y_train)"
   ]
  },
  {
   "cell_type": "code",
   "execution_count": 80,
   "metadata": {},
   "outputs": [
    {
     "data": {
      "text/plain": [
       "0.8370890822381594"
      ]
     },
     "execution_count": 80,
     "metadata": {},
     "output_type": "execute_result"
    }
   ],
   "source": [
    "f1_score(y_train, decision_model2.predict(X_train)) ##went down a lot"
   ]
  },
  {
   "cell_type": "code",
   "execution_count": 81,
   "metadata": {},
   "outputs": [],
   "source": [
    "cv_decision = ModelWithCV(decision_model2, 'decision_model', X_train, y_train)"
   ]
  },
  {
   "cell_type": "code",
   "execution_count": 82,
   "metadata": {},
   "outputs": [
    {
     "name": "stdout",
     "output_type": "stream",
     "text": [
      "CV Results for `decision_model` model:\n",
      "            0.83801 ± 0.00481 f1 score\n",
      "        \n"
     ]
    }
   ],
   "source": [
    "cv_decision.print_cv_summary() #much less overfit! but low score"
   ]
  },
  {
   "cell_type": "markdown",
   "metadata": {},
   "source": [
    "Decision Model 3"
   ]
  },
  {
   "cell_type": "code",
   "execution_count": 83,
   "metadata": {},
   "outputs": [
    {
     "data": {
      "text/plain": [
       "0.9359062987615794"
      ]
     },
     "execution_count": 83,
     "metadata": {},
     "output_type": "execute_result"
    }
   ],
   "source": [
    "decision_model3 = Pipeline(steps=[('ct', CT),\n",
    "                            ('decision_tree', \n",
    "                             DecisionTreeClassifier(random_state=42, min_samples_split= 5))])\n",
    "decision_model3.fit(X_train, y_train)\n",
    "f1_score(y_train, decision_model3.predict(X_train)) ##went back up"
   ]
  },
  {
   "cell_type": "code",
   "execution_count": 84,
   "metadata": {},
   "outputs": [
    {
     "name": "stdout",
     "output_type": "stream",
     "text": [
      "CV Results for `decision_model` model:\n",
      "            0.85673 ± 0.00321 f1 score\n",
      "        \n"
     ]
    }
   ],
   "source": [
    "cv_decision = ModelWithCV(decision_model3, 'decision_model', X_train, y_train)\n",
    "cv_decision.print_cv_summary() #higher cv! "
   ]
  },
  {
   "cell_type": "markdown",
   "metadata": {},
   "source": [
    "Decision Model 4"
   ]
  },
  {
   "cell_type": "code",
   "execution_count": 86,
   "metadata": {},
   "outputs": [
    {
     "data": {
      "text/plain": [
       "0.9394214452030467"
      ]
     },
     "execution_count": 86,
     "metadata": {},
     "output_type": "execute_result"
    }
   ],
   "source": [
    "decision_model4 = Pipeline(steps=[('ct', CT),\n",
    "                            ('decision_tree', \n",
    "                             DecisionTreeClassifier(random_state=42, min_samples_split= 4))])\n",
    "decision_model4.fit(X_train, y_train)\n",
    "f1_score(y_train, decision_model4.predict(X_train)) ##went back up"
   ]
  },
  {
   "cell_type": "code",
   "execution_count": 87,
   "metadata": {},
   "outputs": [
    {
     "name": "stdout",
     "output_type": "stream",
     "text": [
      "CV Results for `decision_model` model:\n",
      "            0.85733 ± 0.00293 f1 score\n",
      "        \n"
     ]
    }
   ],
   "source": [
    "cv_decision = ModelWithCV(decision_model4, 'decision_model', X_train, y_train)\n",
    "cv_decision.print_cv_summary()"
   ]
  },
  {
   "cell_type": "markdown",
   "metadata": {},
   "source": [
    "Grid Search"
   ]
  },
  {
   "cell_type": "markdown",
   "metadata": {},
   "source": [
    "tree = [{'decision_tree__max_depth': range(1, 10),\n",
    "         'decision_tree__class_weight':['balanced', 'none'],\n",
    "         'decision_tree__min_samples_split':range(1,5)}]\n",
    "                                              \n",
    "gs_pipe = GridSearchCV(\n",
    "  estimator = decision_model, \n",
    "   param_grid = tree, cv=5, verbose=2, n_jobs=-3)\n",
    "Fitting 5 folds for each of 72 candidates, totalling 360 fits\n"
   ]
  },
  {
   "cell_type": "code",
   "execution_count": 88,
   "metadata": {},
   "outputs": [
    {
     "data": {
      "text/plain": [
       "Pipeline(steps=[('ct',\n",
       "                 ColumnTransformer(remainder='passthrough',\n",
       "                                   transformers=[('subpipe_numeric',\n",
       "                                                  Pipeline(steps=[('ss',\n",
       "                                                                   StandardScaler())]),\n",
       "                                                  ['population', 'amount_tsh']),\n",
       "                                                 ('subpipe_categorical',\n",
       "                                                  Pipeline(steps=[('ohe',\n",
       "                                                                   OneHotEncoder(handle_unknown='ignore',\n",
       "                                                                                 sparse=False))]),\n",
       "                                                  ['funder', 'installer',\n",
       "                                                   'region_code',\n",
       "                                                   'district_code',\n",
       "                                                   'extraction_type_class',\n",
       "                                                   'management',\n",
       "                                                   'quality_group',\n",
       "                                                   'quantity_group',\n",
       "                                                   'source_type',\n",
       "                                                   'source_class',\n",
       "                                                   'waterpoint_type_group'])])),\n",
       "                ('decision_tree', DecisionTreeClassifier(random_state=42))])"
      ]
     },
     "execution_count": 88,
     "metadata": {},
     "output_type": "execute_result"
    }
   ],
   "source": [
    "decision_model"
   ]
  },
  {
   "cell_type": "code",
   "execution_count": 135,
   "metadata": {
    "scrolled": true
   },
   "outputs": [
    {
     "data": {
      "text/plain": [
       "dict_keys(['memory', 'steps', 'verbose', 'ct', 'decision_tree', 'ct__n_jobs', 'ct__remainder', 'ct__sparse_threshold', 'ct__transformer_weights', 'ct__transformers', 'ct__verbose', 'ct__subpipe_numeric', 'ct__subpipe_categorical', 'ct__subpipe_numeric__memory', 'ct__subpipe_numeric__steps', 'ct__subpipe_numeric__verbose', 'ct__subpipe_numeric__ss', 'ct__subpipe_numeric__ss__copy', 'ct__subpipe_numeric__ss__with_mean', 'ct__subpipe_numeric__ss__with_std', 'ct__subpipe_categorical__memory', 'ct__subpipe_categorical__steps', 'ct__subpipe_categorical__verbose', 'ct__subpipe_categorical__ohe', 'ct__subpipe_categorical__ohe__categories', 'ct__subpipe_categorical__ohe__drop', 'ct__subpipe_categorical__ohe__dtype', 'ct__subpipe_categorical__ohe__handle_unknown', 'ct__subpipe_categorical__ohe__sparse', 'decision_tree__ccp_alpha', 'decision_tree__class_weight', 'decision_tree__criterion', 'decision_tree__max_depth', 'decision_tree__max_features', 'decision_tree__max_leaf_nodes', 'decision_tree__min_impurity_decrease', 'decision_tree__min_impurity_split', 'decision_tree__min_samples_leaf', 'decision_tree__min_samples_split', 'decision_tree__min_weight_fraction_leaf', 'decision_tree__presort', 'decision_tree__random_state', 'decision_tree__splitter'])"
      ]
     },
     "execution_count": 135,
     "metadata": {},
     "output_type": "execute_result"
    }
   ],
   "source": [
    "decision_model.get_params().keys()"
   ]
  },
  {
   "cell_type": "code",
   "execution_count": 92,
   "metadata": {},
   "outputs": [],
   "source": [
    "tree = {'decision_tree__max_depth': range(1, 10),\n",
    "         'decision_tree__min_samples_split':range(1,5)}\n",
    "\n",
    "maxdepth, min sample leaf\n",
    "                                              \n",
    "gs_pipe = GridSearchCV(\n",
    "    estimator = decision_model, \n",
    "    param_grid = tree, cv=5, verbose=3, scoring = 'f1') \n",
    "\n",
    "#set for no n_jobs but otherwise -3 and see what happens"
   ]
  },
  {
   "cell_type": "code",
   "execution_count": 93,
   "metadata": {},
   "outputs": [
    {
     "name": "stdout",
     "output_type": "stream",
     "text": [
      "Fitting 5 folds for each of 36 candidates, totalling 180 fits\n",
      "[CV] decision_tree__max_depth=1, decision_tree__min_samples_split=1 ..\n"
     ]
    },
    {
     "name": "stderr",
     "output_type": "stream",
     "text": [
      "[Parallel(n_jobs=1)]: Using backend SequentialBackend with 1 concurrent workers.\n",
      "/opt/anaconda3/envs/learn-env/lib/python3.8/site-packages/sklearn/model_selection/_validation.py:548: FitFailedWarning: Estimator fit failed. The score on this train-test partition for these parameters will be set to nan. Details: \n",
      "Traceback (most recent call last):\n",
      "  File \"/opt/anaconda3/envs/learn-env/lib/python3.8/site-packages/sklearn/model_selection/_validation.py\", line 531, in _fit_and_score\n",
      "    estimator.fit(X_train, y_train, **fit_params)\n",
      "  File \"/opt/anaconda3/envs/learn-env/lib/python3.8/site-packages/sklearn/pipeline.py\", line 335, in fit\n",
      "    self._final_estimator.fit(Xt, y, **fit_params_last_step)\n",
      "  File \"/opt/anaconda3/envs/learn-env/lib/python3.8/site-packages/sklearn/tree/_classes.py\", line 890, in fit\n",
      "    super().fit(\n",
      "  File \"/opt/anaconda3/envs/learn-env/lib/python3.8/site-packages/sklearn/tree/_classes.py\", line 228, in fit\n",
      "    raise ValueError(\"min_samples_split must be an integer \"\n",
      "ValueError: min_samples_split must be an integer greater than 1 or a float in (0.0, 1.0]; got the integer 1\n",
      "\n",
      "  warnings.warn(\"Estimator fit failed. The score on this train-test\"\n",
      "[Parallel(n_jobs=1)]: Done   1 out of   1 | elapsed:    0.7s remaining:    0.0s\n"
     ]
    },
    {
     "name": "stdout",
     "output_type": "stream",
     "text": [
      "[CV]  decision_tree__max_depth=1, decision_tree__min_samples_split=1, score=nan, total=   0.7s\n",
      "[CV] decision_tree__max_depth=1, decision_tree__min_samples_split=1 ..\n"
     ]
    },
    {
     "name": "stderr",
     "output_type": "stream",
     "text": [
      "/opt/anaconda3/envs/learn-env/lib/python3.8/site-packages/sklearn/model_selection/_validation.py:548: FitFailedWarning: Estimator fit failed. The score on this train-test partition for these parameters will be set to nan. Details: \n",
      "Traceback (most recent call last):\n",
      "  File \"/opt/anaconda3/envs/learn-env/lib/python3.8/site-packages/sklearn/model_selection/_validation.py\", line 531, in _fit_and_score\n",
      "    estimator.fit(X_train, y_train, **fit_params)\n",
      "  File \"/opt/anaconda3/envs/learn-env/lib/python3.8/site-packages/sklearn/pipeline.py\", line 335, in fit\n",
      "    self._final_estimator.fit(Xt, y, **fit_params_last_step)\n",
      "  File \"/opt/anaconda3/envs/learn-env/lib/python3.8/site-packages/sklearn/tree/_classes.py\", line 890, in fit\n",
      "    super().fit(\n",
      "  File \"/opt/anaconda3/envs/learn-env/lib/python3.8/site-packages/sklearn/tree/_classes.py\", line 228, in fit\n",
      "    raise ValueError(\"min_samples_split must be an integer \"\n",
      "ValueError: min_samples_split must be an integer greater than 1 or a float in (0.0, 1.0]; got the integer 1\n",
      "\n",
      "  warnings.warn(\"Estimator fit failed. The score on this train-test\"\n",
      "[Parallel(n_jobs=1)]: Done   2 out of   2 | elapsed:    1.4s remaining:    0.0s\n"
     ]
    },
    {
     "name": "stdout",
     "output_type": "stream",
     "text": [
      "[CV]  decision_tree__max_depth=1, decision_tree__min_samples_split=1, score=nan, total=   0.7s\n",
      "[CV] decision_tree__max_depth=1, decision_tree__min_samples_split=1 ..\n"
     ]
    },
    {
     "name": "stderr",
     "output_type": "stream",
     "text": [
      "/opt/anaconda3/envs/learn-env/lib/python3.8/site-packages/sklearn/model_selection/_validation.py:548: FitFailedWarning: Estimator fit failed. The score on this train-test partition for these parameters will be set to nan. Details: \n",
      "Traceback (most recent call last):\n",
      "  File \"/opt/anaconda3/envs/learn-env/lib/python3.8/site-packages/sklearn/model_selection/_validation.py\", line 531, in _fit_and_score\n",
      "    estimator.fit(X_train, y_train, **fit_params)\n",
      "  File \"/opt/anaconda3/envs/learn-env/lib/python3.8/site-packages/sklearn/pipeline.py\", line 335, in fit\n",
      "    self._final_estimator.fit(Xt, y, **fit_params_last_step)\n",
      "  File \"/opt/anaconda3/envs/learn-env/lib/python3.8/site-packages/sklearn/tree/_classes.py\", line 890, in fit\n",
      "    super().fit(\n",
      "  File \"/opt/anaconda3/envs/learn-env/lib/python3.8/site-packages/sklearn/tree/_classes.py\", line 228, in fit\n",
      "    raise ValueError(\"min_samples_split must be an integer \"\n",
      "ValueError: min_samples_split must be an integer greater than 1 or a float in (0.0, 1.0]; got the integer 1\n",
      "\n",
      "  warnings.warn(\"Estimator fit failed. The score on this train-test\"\n"
     ]
    },
    {
     "name": "stdout",
     "output_type": "stream",
     "text": [
      "[CV]  decision_tree__max_depth=1, decision_tree__min_samples_split=1, score=nan, total=   0.7s\n",
      "[CV] decision_tree__max_depth=1, decision_tree__min_samples_split=1 ..\n"
     ]
    },
    {
     "name": "stderr",
     "output_type": "stream",
     "text": [
      "/opt/anaconda3/envs/learn-env/lib/python3.8/site-packages/sklearn/model_selection/_validation.py:548: FitFailedWarning: Estimator fit failed. The score on this train-test partition for these parameters will be set to nan. Details: \n",
      "Traceback (most recent call last):\n",
      "  File \"/opt/anaconda3/envs/learn-env/lib/python3.8/site-packages/sklearn/model_selection/_validation.py\", line 531, in _fit_and_score\n",
      "    estimator.fit(X_train, y_train, **fit_params)\n",
      "  File \"/opt/anaconda3/envs/learn-env/lib/python3.8/site-packages/sklearn/pipeline.py\", line 335, in fit\n",
      "    self._final_estimator.fit(Xt, y, **fit_params_last_step)\n",
      "  File \"/opt/anaconda3/envs/learn-env/lib/python3.8/site-packages/sklearn/tree/_classes.py\", line 890, in fit\n",
      "    super().fit(\n",
      "  File \"/opt/anaconda3/envs/learn-env/lib/python3.8/site-packages/sklearn/tree/_classes.py\", line 228, in fit\n",
      "    raise ValueError(\"min_samples_split must be an integer \"\n",
      "ValueError: min_samples_split must be an integer greater than 1 or a float in (0.0, 1.0]; got the integer 1\n",
      "\n",
      "  warnings.warn(\"Estimator fit failed. The score on this train-test\"\n"
     ]
    },
    {
     "name": "stdout",
     "output_type": "stream",
     "text": [
      "[CV]  decision_tree__max_depth=1, decision_tree__min_samples_split=1, score=nan, total=   0.7s\n",
      "[CV] decision_tree__max_depth=1, decision_tree__min_samples_split=1 ..\n"
     ]
    },
    {
     "name": "stderr",
     "output_type": "stream",
     "text": [
      "/opt/anaconda3/envs/learn-env/lib/python3.8/site-packages/sklearn/model_selection/_validation.py:548: FitFailedWarning: Estimator fit failed. The score on this train-test partition for these parameters will be set to nan. Details: \n",
      "Traceback (most recent call last):\n",
      "  File \"/opt/anaconda3/envs/learn-env/lib/python3.8/site-packages/sklearn/model_selection/_validation.py\", line 531, in _fit_and_score\n",
      "    estimator.fit(X_train, y_train, **fit_params)\n",
      "  File \"/opt/anaconda3/envs/learn-env/lib/python3.8/site-packages/sklearn/pipeline.py\", line 335, in fit\n",
      "    self._final_estimator.fit(Xt, y, **fit_params_last_step)\n",
      "  File \"/opt/anaconda3/envs/learn-env/lib/python3.8/site-packages/sklearn/tree/_classes.py\", line 890, in fit\n",
      "    super().fit(\n",
      "  File \"/opt/anaconda3/envs/learn-env/lib/python3.8/site-packages/sklearn/tree/_classes.py\", line 228, in fit\n",
      "    raise ValueError(\"min_samples_split must be an integer \"\n",
      "ValueError: min_samples_split must be an integer greater than 1 or a float in (0.0, 1.0]; got the integer 1\n",
      "\n",
      "  warnings.warn(\"Estimator fit failed. The score on this train-test\"\n"
     ]
    },
    {
     "name": "stdout",
     "output_type": "stream",
     "text": [
      "[CV]  decision_tree__max_depth=1, decision_tree__min_samples_split=1, score=nan, total=   0.7s\n",
      "[CV] decision_tree__max_depth=1, decision_tree__min_samples_split=2 ..\n",
      "[CV]  decision_tree__max_depth=1, decision_tree__min_samples_split=2, score=0.815, total=   2.2s\n",
      "[CV] decision_tree__max_depth=1, decision_tree__min_samples_split=2 ..\n",
      "[CV]  decision_tree__max_depth=1, decision_tree__min_samples_split=2, score=0.816, total=   1.7s\n",
      "[CV] decision_tree__max_depth=1, decision_tree__min_samples_split=2 ..\n",
      "[CV]  decision_tree__max_depth=1, decision_tree__min_samples_split=2, score=0.815, total=   1.6s\n",
      "[CV] decision_tree__max_depth=1, decision_tree__min_samples_split=2 ..\n",
      "[CV]  decision_tree__max_depth=1, decision_tree__min_samples_split=2, score=0.815, total=   2.1s\n",
      "[CV] decision_tree__max_depth=1, decision_tree__min_samples_split=2 ..\n",
      "[CV]  decision_tree__max_depth=1, decision_tree__min_samples_split=2, score=0.816, total=   1.7s\n",
      "[CV] decision_tree__max_depth=1, decision_tree__min_samples_split=3 ..\n",
      "[CV]  decision_tree__max_depth=1, decision_tree__min_samples_split=3, score=0.815, total=   1.6s\n",
      "[CV] decision_tree__max_depth=1, decision_tree__min_samples_split=3 ..\n",
      "[CV]  decision_tree__max_depth=1, decision_tree__min_samples_split=3, score=0.816, total=   2.1s\n",
      "[CV] decision_tree__max_depth=1, decision_tree__min_samples_split=3 ..\n",
      "[CV]  decision_tree__max_depth=1, decision_tree__min_samples_split=3, score=0.815, total=   2.0s\n",
      "[CV] decision_tree__max_depth=1, decision_tree__min_samples_split=3 ..\n",
      "[CV]  decision_tree__max_depth=1, decision_tree__min_samples_split=3, score=0.815, total=   2.1s\n",
      "[CV] decision_tree__max_depth=1, decision_tree__min_samples_split=3 ..\n",
      "[CV]  decision_tree__max_depth=1, decision_tree__min_samples_split=3, score=0.816, total=   2.1s\n",
      "[CV] decision_tree__max_depth=1, decision_tree__min_samples_split=4 ..\n",
      "[CV]  decision_tree__max_depth=1, decision_tree__min_samples_split=4, score=0.815, total=   2.1s\n",
      "[CV] decision_tree__max_depth=1, decision_tree__min_samples_split=4 ..\n",
      "[CV]  decision_tree__max_depth=1, decision_tree__min_samples_split=4, score=0.816, total=   2.1s\n",
      "[CV] decision_tree__max_depth=1, decision_tree__min_samples_split=4 ..\n",
      "[CV]  decision_tree__max_depth=1, decision_tree__min_samples_split=4, score=0.815, total=   1.5s\n",
      "[CV] decision_tree__max_depth=1, decision_tree__min_samples_split=4 ..\n",
      "[CV]  decision_tree__max_depth=1, decision_tree__min_samples_split=4, score=0.815, total=   1.6s\n",
      "[CV] decision_tree__max_depth=1, decision_tree__min_samples_split=4 ..\n",
      "[CV]  decision_tree__max_depth=1, decision_tree__min_samples_split=4, score=0.816, total=   1.6s\n",
      "[CV] decision_tree__max_depth=2, decision_tree__min_samples_split=1 ..\n"
     ]
    },
    {
     "name": "stderr",
     "output_type": "stream",
     "text": [
      "/opt/anaconda3/envs/learn-env/lib/python3.8/site-packages/sklearn/model_selection/_validation.py:548: FitFailedWarning: Estimator fit failed. The score on this train-test partition for these parameters will be set to nan. Details: \n",
      "Traceback (most recent call last):\n",
      "  File \"/opt/anaconda3/envs/learn-env/lib/python3.8/site-packages/sklearn/model_selection/_validation.py\", line 531, in _fit_and_score\n",
      "    estimator.fit(X_train, y_train, **fit_params)\n",
      "  File \"/opt/anaconda3/envs/learn-env/lib/python3.8/site-packages/sklearn/pipeline.py\", line 335, in fit\n",
      "    self._final_estimator.fit(Xt, y, **fit_params_last_step)\n",
      "  File \"/opt/anaconda3/envs/learn-env/lib/python3.8/site-packages/sklearn/tree/_classes.py\", line 890, in fit\n",
      "    super().fit(\n",
      "  File \"/opt/anaconda3/envs/learn-env/lib/python3.8/site-packages/sklearn/tree/_classes.py\", line 228, in fit\n",
      "    raise ValueError(\"min_samples_split must be an integer \"\n",
      "ValueError: min_samples_split must be an integer greater than 1 or a float in (0.0, 1.0]; got the integer 1\n",
      "\n",
      "  warnings.warn(\"Estimator fit failed. The score on this train-test\"\n"
     ]
    },
    {
     "name": "stdout",
     "output_type": "stream",
     "text": [
      "[CV]  decision_tree__max_depth=2, decision_tree__min_samples_split=1, score=nan, total=   0.7s\n",
      "[CV] decision_tree__max_depth=2, decision_tree__min_samples_split=1 ..\n"
     ]
    },
    {
     "name": "stderr",
     "output_type": "stream",
     "text": [
      "/opt/anaconda3/envs/learn-env/lib/python3.8/site-packages/sklearn/model_selection/_validation.py:548: FitFailedWarning: Estimator fit failed. The score on this train-test partition for these parameters will be set to nan. Details: \n",
      "Traceback (most recent call last):\n",
      "  File \"/opt/anaconda3/envs/learn-env/lib/python3.8/site-packages/sklearn/model_selection/_validation.py\", line 531, in _fit_and_score\n",
      "    estimator.fit(X_train, y_train, **fit_params)\n",
      "  File \"/opt/anaconda3/envs/learn-env/lib/python3.8/site-packages/sklearn/pipeline.py\", line 335, in fit\n",
      "    self._final_estimator.fit(Xt, y, **fit_params_last_step)\n",
      "  File \"/opt/anaconda3/envs/learn-env/lib/python3.8/site-packages/sklearn/tree/_classes.py\", line 890, in fit\n",
      "    super().fit(\n",
      "  File \"/opt/anaconda3/envs/learn-env/lib/python3.8/site-packages/sklearn/tree/_classes.py\", line 228, in fit\n",
      "    raise ValueError(\"min_samples_split must be an integer \"\n",
      "ValueError: min_samples_split must be an integer greater than 1 or a float in (0.0, 1.0]; got the integer 1\n",
      "\n",
      "  warnings.warn(\"Estimator fit failed. The score on this train-test\"\n"
     ]
    },
    {
     "name": "stdout",
     "output_type": "stream",
     "text": [
      "[CV]  decision_tree__max_depth=2, decision_tree__min_samples_split=1, score=nan, total=   0.6s\n",
      "[CV] decision_tree__max_depth=2, decision_tree__min_samples_split=1 ..\n"
     ]
    },
    {
     "name": "stderr",
     "output_type": "stream",
     "text": [
      "/opt/anaconda3/envs/learn-env/lib/python3.8/site-packages/sklearn/model_selection/_validation.py:548: FitFailedWarning: Estimator fit failed. The score on this train-test partition for these parameters will be set to nan. Details: \n",
      "Traceback (most recent call last):\n",
      "  File \"/opt/anaconda3/envs/learn-env/lib/python3.8/site-packages/sklearn/model_selection/_validation.py\", line 531, in _fit_and_score\n",
      "    estimator.fit(X_train, y_train, **fit_params)\n",
      "  File \"/opt/anaconda3/envs/learn-env/lib/python3.8/site-packages/sklearn/pipeline.py\", line 335, in fit\n",
      "    self._final_estimator.fit(Xt, y, **fit_params_last_step)\n",
      "  File \"/opt/anaconda3/envs/learn-env/lib/python3.8/site-packages/sklearn/tree/_classes.py\", line 890, in fit\n",
      "    super().fit(\n",
      "  File \"/opt/anaconda3/envs/learn-env/lib/python3.8/site-packages/sklearn/tree/_classes.py\", line 228, in fit\n",
      "    raise ValueError(\"min_samples_split must be an integer \"\n",
      "ValueError: min_samples_split must be an integer greater than 1 or a float in (0.0, 1.0]; got the integer 1\n",
      "\n",
      "  warnings.warn(\"Estimator fit failed. The score on this train-test\"\n"
     ]
    },
    {
     "name": "stdout",
     "output_type": "stream",
     "text": [
      "[CV]  decision_tree__max_depth=2, decision_tree__min_samples_split=1, score=nan, total=   0.6s\n",
      "[CV] decision_tree__max_depth=2, decision_tree__min_samples_split=1 ..\n"
     ]
    },
    {
     "name": "stderr",
     "output_type": "stream",
     "text": [
      "/opt/anaconda3/envs/learn-env/lib/python3.8/site-packages/sklearn/model_selection/_validation.py:548: FitFailedWarning: Estimator fit failed. The score on this train-test partition for these parameters will be set to nan. Details: \n",
      "Traceback (most recent call last):\n",
      "  File \"/opt/anaconda3/envs/learn-env/lib/python3.8/site-packages/sklearn/model_selection/_validation.py\", line 531, in _fit_and_score\n",
      "    estimator.fit(X_train, y_train, **fit_params)\n",
      "  File \"/opt/anaconda3/envs/learn-env/lib/python3.8/site-packages/sklearn/pipeline.py\", line 335, in fit\n",
      "    self._final_estimator.fit(Xt, y, **fit_params_last_step)\n",
      "  File \"/opt/anaconda3/envs/learn-env/lib/python3.8/site-packages/sklearn/tree/_classes.py\", line 890, in fit\n",
      "    super().fit(\n",
      "  File \"/opt/anaconda3/envs/learn-env/lib/python3.8/site-packages/sklearn/tree/_classes.py\", line 228, in fit\n",
      "    raise ValueError(\"min_samples_split must be an integer \"\n",
      "ValueError: min_samples_split must be an integer greater than 1 or a float in (0.0, 1.0]; got the integer 1\n",
      "\n",
      "  warnings.warn(\"Estimator fit failed. The score on this train-test\"\n"
     ]
    },
    {
     "name": "stdout",
     "output_type": "stream",
     "text": [
      "[CV]  decision_tree__max_depth=2, decision_tree__min_samples_split=1, score=nan, total=   0.8s\n",
      "[CV] decision_tree__max_depth=2, decision_tree__min_samples_split=1 ..\n"
     ]
    },
    {
     "name": "stderr",
     "output_type": "stream",
     "text": [
      "/opt/anaconda3/envs/learn-env/lib/python3.8/site-packages/sklearn/model_selection/_validation.py:548: FitFailedWarning: Estimator fit failed. The score on this train-test partition for these parameters will be set to nan. Details: \n",
      "Traceback (most recent call last):\n",
      "  File \"/opt/anaconda3/envs/learn-env/lib/python3.8/site-packages/sklearn/model_selection/_validation.py\", line 531, in _fit_and_score\n",
      "    estimator.fit(X_train, y_train, **fit_params)\n",
      "  File \"/opt/anaconda3/envs/learn-env/lib/python3.8/site-packages/sklearn/pipeline.py\", line 335, in fit\n",
      "    self._final_estimator.fit(Xt, y, **fit_params_last_step)\n",
      "  File \"/opt/anaconda3/envs/learn-env/lib/python3.8/site-packages/sklearn/tree/_classes.py\", line 890, in fit\n",
      "    super().fit(\n",
      "  File \"/opt/anaconda3/envs/learn-env/lib/python3.8/site-packages/sklearn/tree/_classes.py\", line 228, in fit\n",
      "    raise ValueError(\"min_samples_split must be an integer \"\n",
      "ValueError: min_samples_split must be an integer greater than 1 or a float in (0.0, 1.0]; got the integer 1\n",
      "\n",
      "  warnings.warn(\"Estimator fit failed. The score on this train-test\"\n"
     ]
    },
    {
     "name": "stdout",
     "output_type": "stream",
     "text": [
      "[CV]  decision_tree__max_depth=2, decision_tree__min_samples_split=1, score=nan, total=   0.6s\n",
      "[CV] decision_tree__max_depth=2, decision_tree__min_samples_split=2 ..\n",
      "[CV]  decision_tree__max_depth=2, decision_tree__min_samples_split=2, score=0.836, total=   3.2s\n",
      "[CV] decision_tree__max_depth=2, decision_tree__min_samples_split=2 ..\n",
      "[CV]  decision_tree__max_depth=2, decision_tree__min_samples_split=2, score=0.837, total=   3.2s\n",
      "[CV] decision_tree__max_depth=2, decision_tree__min_samples_split=2 ..\n",
      "[CV]  decision_tree__max_depth=2, decision_tree__min_samples_split=2, score=0.836, total=   3.2s\n",
      "[CV] decision_tree__max_depth=2, decision_tree__min_samples_split=2 ..\n",
      "[CV]  decision_tree__max_depth=2, decision_tree__min_samples_split=2, score=0.834, total=   3.2s\n",
      "[CV] decision_tree__max_depth=2, decision_tree__min_samples_split=2 ..\n",
      "[CV]  decision_tree__max_depth=2, decision_tree__min_samples_split=2, score=0.839, total=   3.2s\n",
      "[CV] decision_tree__max_depth=2, decision_tree__min_samples_split=3 ..\n",
      "[CV]  decision_tree__max_depth=2, decision_tree__min_samples_split=3, score=0.836, total=   3.2s\n",
      "[CV] decision_tree__max_depth=2, decision_tree__min_samples_split=3 ..\n",
      "[CV]  decision_tree__max_depth=2, decision_tree__min_samples_split=3, score=0.837, total=   3.2s\n",
      "[CV] decision_tree__max_depth=2, decision_tree__min_samples_split=3 ..\n",
      "[CV]  decision_tree__max_depth=2, decision_tree__min_samples_split=3, score=0.836, total=   3.1s\n",
      "[CV] decision_tree__max_depth=2, decision_tree__min_samples_split=3 ..\n",
      "[CV]  decision_tree__max_depth=2, decision_tree__min_samples_split=3, score=0.834, total=   3.2s\n",
      "[CV] decision_tree__max_depth=2, decision_tree__min_samples_split=3 ..\n",
      "[CV]  decision_tree__max_depth=2, decision_tree__min_samples_split=3, score=0.839, total=   2.3s\n",
      "[CV] decision_tree__max_depth=2, decision_tree__min_samples_split=4 ..\n",
      "[CV]  decision_tree__max_depth=2, decision_tree__min_samples_split=4, score=0.836, total=   3.2s\n",
      "[CV] decision_tree__max_depth=2, decision_tree__min_samples_split=4 ..\n",
      "[CV]  decision_tree__max_depth=2, decision_tree__min_samples_split=4, score=0.837, total=   2.7s\n",
      "[CV] decision_tree__max_depth=2, decision_tree__min_samples_split=4 ..\n",
      "[CV]  decision_tree__max_depth=2, decision_tree__min_samples_split=4, score=0.836, total=   2.4s\n",
      "[CV] decision_tree__max_depth=2, decision_tree__min_samples_split=4 ..\n",
      "[CV]  decision_tree__max_depth=2, decision_tree__min_samples_split=4, score=0.834, total=   3.1s\n",
      "[CV] decision_tree__max_depth=2, decision_tree__min_samples_split=4 ..\n",
      "[CV]  decision_tree__max_depth=2, decision_tree__min_samples_split=4, score=0.839, total=   3.2s\n",
      "[CV] decision_tree__max_depth=3, decision_tree__min_samples_split=1 ..\n"
     ]
    },
    {
     "name": "stderr",
     "output_type": "stream",
     "text": [
      "/opt/anaconda3/envs/learn-env/lib/python3.8/site-packages/sklearn/model_selection/_validation.py:548: FitFailedWarning: Estimator fit failed. The score on this train-test partition for these parameters will be set to nan. Details: \n",
      "Traceback (most recent call last):\n",
      "  File \"/opt/anaconda3/envs/learn-env/lib/python3.8/site-packages/sklearn/model_selection/_validation.py\", line 531, in _fit_and_score\n",
      "    estimator.fit(X_train, y_train, **fit_params)\n",
      "  File \"/opt/anaconda3/envs/learn-env/lib/python3.8/site-packages/sklearn/pipeline.py\", line 335, in fit\n",
      "    self._final_estimator.fit(Xt, y, **fit_params_last_step)\n",
      "  File \"/opt/anaconda3/envs/learn-env/lib/python3.8/site-packages/sklearn/tree/_classes.py\", line 890, in fit\n",
      "    super().fit(\n",
      "  File \"/opt/anaconda3/envs/learn-env/lib/python3.8/site-packages/sklearn/tree/_classes.py\", line 228, in fit\n",
      "    raise ValueError(\"min_samples_split must be an integer \"\n",
      "ValueError: min_samples_split must be an integer greater than 1 or a float in (0.0, 1.0]; got the integer 1\n",
      "\n",
      "  warnings.warn(\"Estimator fit failed. The score on this train-test\"\n"
     ]
    },
    {
     "name": "stdout",
     "output_type": "stream",
     "text": [
      "[CV]  decision_tree__max_depth=3, decision_tree__min_samples_split=1, score=nan, total=   0.7s\n",
      "[CV] decision_tree__max_depth=3, decision_tree__min_samples_split=1 ..\n"
     ]
    },
    {
     "name": "stderr",
     "output_type": "stream",
     "text": [
      "/opt/anaconda3/envs/learn-env/lib/python3.8/site-packages/sklearn/model_selection/_validation.py:548: FitFailedWarning: Estimator fit failed. The score on this train-test partition for these parameters will be set to nan. Details: \n",
      "Traceback (most recent call last):\n",
      "  File \"/opt/anaconda3/envs/learn-env/lib/python3.8/site-packages/sklearn/model_selection/_validation.py\", line 531, in _fit_and_score\n",
      "    estimator.fit(X_train, y_train, **fit_params)\n",
      "  File \"/opt/anaconda3/envs/learn-env/lib/python3.8/site-packages/sklearn/pipeline.py\", line 335, in fit\n",
      "    self._final_estimator.fit(Xt, y, **fit_params_last_step)\n",
      "  File \"/opt/anaconda3/envs/learn-env/lib/python3.8/site-packages/sklearn/tree/_classes.py\", line 890, in fit\n",
      "    super().fit(\n",
      "  File \"/opt/anaconda3/envs/learn-env/lib/python3.8/site-packages/sklearn/tree/_classes.py\", line 228, in fit\n",
      "    raise ValueError(\"min_samples_split must be an integer \"\n",
      "ValueError: min_samples_split must be an integer greater than 1 or a float in (0.0, 1.0]; got the integer 1\n",
      "\n",
      "  warnings.warn(\"Estimator fit failed. The score on this train-test\"\n"
     ]
    },
    {
     "name": "stdout",
     "output_type": "stream",
     "text": [
      "[CV]  decision_tree__max_depth=3, decision_tree__min_samples_split=1, score=nan, total=   0.7s\n",
      "[CV] decision_tree__max_depth=3, decision_tree__min_samples_split=1 ..\n"
     ]
    },
    {
     "name": "stderr",
     "output_type": "stream",
     "text": [
      "/opt/anaconda3/envs/learn-env/lib/python3.8/site-packages/sklearn/model_selection/_validation.py:548: FitFailedWarning: Estimator fit failed. The score on this train-test partition for these parameters will be set to nan. Details: \n",
      "Traceback (most recent call last):\n",
      "  File \"/opt/anaconda3/envs/learn-env/lib/python3.8/site-packages/sklearn/model_selection/_validation.py\", line 531, in _fit_and_score\n",
      "    estimator.fit(X_train, y_train, **fit_params)\n",
      "  File \"/opt/anaconda3/envs/learn-env/lib/python3.8/site-packages/sklearn/pipeline.py\", line 335, in fit\n",
      "    self._final_estimator.fit(Xt, y, **fit_params_last_step)\n",
      "  File \"/opt/anaconda3/envs/learn-env/lib/python3.8/site-packages/sklearn/tree/_classes.py\", line 890, in fit\n",
      "    super().fit(\n",
      "  File \"/opt/anaconda3/envs/learn-env/lib/python3.8/site-packages/sklearn/tree/_classes.py\", line 228, in fit\n",
      "    raise ValueError(\"min_samples_split must be an integer \"\n",
      "ValueError: min_samples_split must be an integer greater than 1 or a float in (0.0, 1.0]; got the integer 1\n",
      "\n",
      "  warnings.warn(\"Estimator fit failed. The score on this train-test\"\n"
     ]
    },
    {
     "name": "stdout",
     "output_type": "stream",
     "text": [
      "[CV]  decision_tree__max_depth=3, decision_tree__min_samples_split=1, score=nan, total=   0.6s\n",
      "[CV] decision_tree__max_depth=3, decision_tree__min_samples_split=1 ..\n"
     ]
    },
    {
     "name": "stderr",
     "output_type": "stream",
     "text": [
      "/opt/anaconda3/envs/learn-env/lib/python3.8/site-packages/sklearn/model_selection/_validation.py:548: FitFailedWarning: Estimator fit failed. The score on this train-test partition for these parameters will be set to nan. Details: \n",
      "Traceback (most recent call last):\n",
      "  File \"/opt/anaconda3/envs/learn-env/lib/python3.8/site-packages/sklearn/model_selection/_validation.py\", line 531, in _fit_and_score\n",
      "    estimator.fit(X_train, y_train, **fit_params)\n",
      "  File \"/opt/anaconda3/envs/learn-env/lib/python3.8/site-packages/sklearn/pipeline.py\", line 335, in fit\n",
      "    self._final_estimator.fit(Xt, y, **fit_params_last_step)\n",
      "  File \"/opt/anaconda3/envs/learn-env/lib/python3.8/site-packages/sklearn/tree/_classes.py\", line 890, in fit\n",
      "    super().fit(\n",
      "  File \"/opt/anaconda3/envs/learn-env/lib/python3.8/site-packages/sklearn/tree/_classes.py\", line 228, in fit\n",
      "    raise ValueError(\"min_samples_split must be an integer \"\n",
      "ValueError: min_samples_split must be an integer greater than 1 or a float in (0.0, 1.0]; got the integer 1\n",
      "\n",
      "  warnings.warn(\"Estimator fit failed. The score on this train-test\"\n"
     ]
    },
    {
     "name": "stdout",
     "output_type": "stream",
     "text": [
      "[CV]  decision_tree__max_depth=3, decision_tree__min_samples_split=1, score=nan, total=   0.6s\n",
      "[CV] decision_tree__max_depth=3, decision_tree__min_samples_split=1 ..\n"
     ]
    },
    {
     "name": "stderr",
     "output_type": "stream",
     "text": [
      "/opt/anaconda3/envs/learn-env/lib/python3.8/site-packages/sklearn/model_selection/_validation.py:548: FitFailedWarning: Estimator fit failed. The score on this train-test partition for these parameters will be set to nan. Details: \n",
      "Traceback (most recent call last):\n",
      "  File \"/opt/anaconda3/envs/learn-env/lib/python3.8/site-packages/sklearn/model_selection/_validation.py\", line 531, in _fit_and_score\n",
      "    estimator.fit(X_train, y_train, **fit_params)\n",
      "  File \"/opt/anaconda3/envs/learn-env/lib/python3.8/site-packages/sklearn/pipeline.py\", line 335, in fit\n",
      "    self._final_estimator.fit(Xt, y, **fit_params_last_step)\n",
      "  File \"/opt/anaconda3/envs/learn-env/lib/python3.8/site-packages/sklearn/tree/_classes.py\", line 890, in fit\n",
      "    super().fit(\n",
      "  File \"/opt/anaconda3/envs/learn-env/lib/python3.8/site-packages/sklearn/tree/_classes.py\", line 228, in fit\n",
      "    raise ValueError(\"min_samples_split must be an integer \"\n",
      "ValueError: min_samples_split must be an integer greater than 1 or a float in (0.0, 1.0]; got the integer 1\n",
      "\n",
      "  warnings.warn(\"Estimator fit failed. The score on this train-test\"\n"
     ]
    },
    {
     "name": "stdout",
     "output_type": "stream",
     "text": [
      "[CV]  decision_tree__max_depth=3, decision_tree__min_samples_split=1, score=nan, total=   0.6s\n",
      "[CV] decision_tree__max_depth=3, decision_tree__min_samples_split=2 ..\n",
      "[CV]  decision_tree__max_depth=3, decision_tree__min_samples_split=2, score=0.838, total=   4.1s\n",
      "[CV] decision_tree__max_depth=3, decision_tree__min_samples_split=2 ..\n",
      "[CV]  decision_tree__max_depth=3, decision_tree__min_samples_split=2, score=0.839, total=   4.2s\n",
      "[CV] decision_tree__max_depth=3, decision_tree__min_samples_split=2 ..\n",
      "[CV]  decision_tree__max_depth=3, decision_tree__min_samples_split=2, score=0.836, total=   2.9s\n",
      "[CV] decision_tree__max_depth=3, decision_tree__min_samples_split=2 ..\n",
      "[CV]  decision_tree__max_depth=3, decision_tree__min_samples_split=2, score=0.836, total=   4.1s\n",
      "[CV] decision_tree__max_depth=3, decision_tree__min_samples_split=2 ..\n",
      "[CV]  decision_tree__max_depth=3, decision_tree__min_samples_split=2, score=0.839, total=   4.1s\n",
      "[CV] decision_tree__max_depth=3, decision_tree__min_samples_split=3 ..\n",
      "[CV]  decision_tree__max_depth=3, decision_tree__min_samples_split=3, score=0.838, total=   4.2s\n",
      "[CV] decision_tree__max_depth=3, decision_tree__min_samples_split=3 ..\n",
      "[CV]  decision_tree__max_depth=3, decision_tree__min_samples_split=3, score=0.839, total=   4.2s\n",
      "[CV] decision_tree__max_depth=3, decision_tree__min_samples_split=3 ..\n",
      "[CV]  decision_tree__max_depth=3, decision_tree__min_samples_split=3, score=0.836, total=   4.0s\n",
      "[CV] decision_tree__max_depth=3, decision_tree__min_samples_split=3 ..\n",
      "[CV]  decision_tree__max_depth=3, decision_tree__min_samples_split=3, score=0.836, total=   4.1s\n",
      "[CV] decision_tree__max_depth=3, decision_tree__min_samples_split=3 ..\n",
      "[CV]  decision_tree__max_depth=3, decision_tree__min_samples_split=3, score=0.839, total=   4.2s\n",
      "[CV] decision_tree__max_depth=3, decision_tree__min_samples_split=4 ..\n",
      "[CV]  decision_tree__max_depth=3, decision_tree__min_samples_split=4, score=0.838, total=   4.2s\n",
      "[CV] decision_tree__max_depth=3, decision_tree__min_samples_split=4 ..\n",
      "[CV]  decision_tree__max_depth=3, decision_tree__min_samples_split=4, score=0.839, total=   4.0s\n",
      "[CV] decision_tree__max_depth=3, decision_tree__min_samples_split=4 ..\n",
      "[CV]  decision_tree__max_depth=3, decision_tree__min_samples_split=4, score=0.836, total=   4.1s\n",
      "[CV] decision_tree__max_depth=3, decision_tree__min_samples_split=4 ..\n",
      "[CV]  decision_tree__max_depth=3, decision_tree__min_samples_split=4, score=0.836, total=   4.1s\n",
      "[CV] decision_tree__max_depth=3, decision_tree__min_samples_split=4 ..\n",
      "[CV]  decision_tree__max_depth=3, decision_tree__min_samples_split=4, score=0.839, total=   3.2s\n",
      "[CV] decision_tree__max_depth=4, decision_tree__min_samples_split=1 ..\n"
     ]
    },
    {
     "name": "stderr",
     "output_type": "stream",
     "text": [
      "/opt/anaconda3/envs/learn-env/lib/python3.8/site-packages/sklearn/model_selection/_validation.py:548: FitFailedWarning: Estimator fit failed. The score on this train-test partition for these parameters will be set to nan. Details: \n",
      "Traceback (most recent call last):\n",
      "  File \"/opt/anaconda3/envs/learn-env/lib/python3.8/site-packages/sklearn/model_selection/_validation.py\", line 531, in _fit_and_score\n",
      "    estimator.fit(X_train, y_train, **fit_params)\n",
      "  File \"/opt/anaconda3/envs/learn-env/lib/python3.8/site-packages/sklearn/pipeline.py\", line 335, in fit\n",
      "    self._final_estimator.fit(Xt, y, **fit_params_last_step)\n",
      "  File \"/opt/anaconda3/envs/learn-env/lib/python3.8/site-packages/sklearn/tree/_classes.py\", line 890, in fit\n",
      "    super().fit(\n",
      "  File \"/opt/anaconda3/envs/learn-env/lib/python3.8/site-packages/sklearn/tree/_classes.py\", line 228, in fit\n",
      "    raise ValueError(\"min_samples_split must be an integer \"\n",
      "ValueError: min_samples_split must be an integer greater than 1 or a float in (0.0, 1.0]; got the integer 1\n",
      "\n",
      "  warnings.warn(\"Estimator fit failed. The score on this train-test\"\n"
     ]
    },
    {
     "name": "stdout",
     "output_type": "stream",
     "text": [
      "[CV]  decision_tree__max_depth=4, decision_tree__min_samples_split=1, score=nan, total=   0.7s\n",
      "[CV] decision_tree__max_depth=4, decision_tree__min_samples_split=1 ..\n"
     ]
    },
    {
     "name": "stderr",
     "output_type": "stream",
     "text": [
      "/opt/anaconda3/envs/learn-env/lib/python3.8/site-packages/sklearn/model_selection/_validation.py:548: FitFailedWarning: Estimator fit failed. The score on this train-test partition for these parameters will be set to nan. Details: \n",
      "Traceback (most recent call last):\n",
      "  File \"/opt/anaconda3/envs/learn-env/lib/python3.8/site-packages/sklearn/model_selection/_validation.py\", line 531, in _fit_and_score\n",
      "    estimator.fit(X_train, y_train, **fit_params)\n",
      "  File \"/opt/anaconda3/envs/learn-env/lib/python3.8/site-packages/sklearn/pipeline.py\", line 335, in fit\n",
      "    self._final_estimator.fit(Xt, y, **fit_params_last_step)\n",
      "  File \"/opt/anaconda3/envs/learn-env/lib/python3.8/site-packages/sklearn/tree/_classes.py\", line 890, in fit\n",
      "    super().fit(\n",
      "  File \"/opt/anaconda3/envs/learn-env/lib/python3.8/site-packages/sklearn/tree/_classes.py\", line 228, in fit\n",
      "    raise ValueError(\"min_samples_split must be an integer \"\n",
      "ValueError: min_samples_split must be an integer greater than 1 or a float in (0.0, 1.0]; got the integer 1\n",
      "\n",
      "  warnings.warn(\"Estimator fit failed. The score on this train-test\"\n"
     ]
    },
    {
     "name": "stdout",
     "output_type": "stream",
     "text": [
      "[CV]  decision_tree__max_depth=4, decision_tree__min_samples_split=1, score=nan, total=   0.7s\n",
      "[CV] decision_tree__max_depth=4, decision_tree__min_samples_split=1 ..\n"
     ]
    },
    {
     "name": "stderr",
     "output_type": "stream",
     "text": [
      "/opt/anaconda3/envs/learn-env/lib/python3.8/site-packages/sklearn/model_selection/_validation.py:548: FitFailedWarning: Estimator fit failed. The score on this train-test partition for these parameters will be set to nan. Details: \n",
      "Traceback (most recent call last):\n",
      "  File \"/opt/anaconda3/envs/learn-env/lib/python3.8/site-packages/sklearn/model_selection/_validation.py\", line 531, in _fit_and_score\n",
      "    estimator.fit(X_train, y_train, **fit_params)\n",
      "  File \"/opt/anaconda3/envs/learn-env/lib/python3.8/site-packages/sklearn/pipeline.py\", line 335, in fit\n",
      "    self._final_estimator.fit(Xt, y, **fit_params_last_step)\n",
      "  File \"/opt/anaconda3/envs/learn-env/lib/python3.8/site-packages/sklearn/tree/_classes.py\", line 890, in fit\n",
      "    super().fit(\n",
      "  File \"/opt/anaconda3/envs/learn-env/lib/python3.8/site-packages/sklearn/tree/_classes.py\", line 228, in fit\n",
      "    raise ValueError(\"min_samples_split must be an integer \"\n",
      "ValueError: min_samples_split must be an integer greater than 1 or a float in (0.0, 1.0]; got the integer 1\n",
      "\n",
      "  warnings.warn(\"Estimator fit failed. The score on this train-test\"\n"
     ]
    },
    {
     "name": "stdout",
     "output_type": "stream",
     "text": [
      "[CV]  decision_tree__max_depth=4, decision_tree__min_samples_split=1, score=nan, total=   0.6s\n",
      "[CV] decision_tree__max_depth=4, decision_tree__min_samples_split=1 ..\n"
     ]
    },
    {
     "name": "stderr",
     "output_type": "stream",
     "text": [
      "/opt/anaconda3/envs/learn-env/lib/python3.8/site-packages/sklearn/model_selection/_validation.py:548: FitFailedWarning: Estimator fit failed. The score on this train-test partition for these parameters will be set to nan. Details: \n",
      "Traceback (most recent call last):\n",
      "  File \"/opt/anaconda3/envs/learn-env/lib/python3.8/site-packages/sklearn/model_selection/_validation.py\", line 531, in _fit_and_score\n",
      "    estimator.fit(X_train, y_train, **fit_params)\n",
      "  File \"/opt/anaconda3/envs/learn-env/lib/python3.8/site-packages/sklearn/pipeline.py\", line 335, in fit\n",
      "    self._final_estimator.fit(Xt, y, **fit_params_last_step)\n",
      "  File \"/opt/anaconda3/envs/learn-env/lib/python3.8/site-packages/sklearn/tree/_classes.py\", line 890, in fit\n",
      "    super().fit(\n",
      "  File \"/opt/anaconda3/envs/learn-env/lib/python3.8/site-packages/sklearn/tree/_classes.py\", line 228, in fit\n",
      "    raise ValueError(\"min_samples_split must be an integer \"\n",
      "ValueError: min_samples_split must be an integer greater than 1 or a float in (0.0, 1.0]; got the integer 1\n",
      "\n",
      "  warnings.warn(\"Estimator fit failed. The score on this train-test\"\n"
     ]
    },
    {
     "name": "stdout",
     "output_type": "stream",
     "text": [
      "[CV]  decision_tree__max_depth=4, decision_tree__min_samples_split=1, score=nan, total=   0.7s\n",
      "[CV] decision_tree__max_depth=4, decision_tree__min_samples_split=1 ..\n"
     ]
    },
    {
     "name": "stderr",
     "output_type": "stream",
     "text": [
      "/opt/anaconda3/envs/learn-env/lib/python3.8/site-packages/sklearn/model_selection/_validation.py:548: FitFailedWarning: Estimator fit failed. The score on this train-test partition for these parameters will be set to nan. Details: \n",
      "Traceback (most recent call last):\n",
      "  File \"/opt/anaconda3/envs/learn-env/lib/python3.8/site-packages/sklearn/model_selection/_validation.py\", line 531, in _fit_and_score\n",
      "    estimator.fit(X_train, y_train, **fit_params)\n",
      "  File \"/opt/anaconda3/envs/learn-env/lib/python3.8/site-packages/sklearn/pipeline.py\", line 335, in fit\n",
      "    self._final_estimator.fit(Xt, y, **fit_params_last_step)\n",
      "  File \"/opt/anaconda3/envs/learn-env/lib/python3.8/site-packages/sklearn/tree/_classes.py\", line 890, in fit\n",
      "    super().fit(\n",
      "  File \"/opt/anaconda3/envs/learn-env/lib/python3.8/site-packages/sklearn/tree/_classes.py\", line 228, in fit\n",
      "    raise ValueError(\"min_samples_split must be an integer \"\n",
      "ValueError: min_samples_split must be an integer greater than 1 or a float in (0.0, 1.0]; got the integer 1\n",
      "\n",
      "  warnings.warn(\"Estimator fit failed. The score on this train-test\"\n"
     ]
    },
    {
     "name": "stdout",
     "output_type": "stream",
     "text": [
      "[CV]  decision_tree__max_depth=4, decision_tree__min_samples_split=1, score=nan, total=   0.8s\n",
      "[CV] decision_tree__max_depth=4, decision_tree__min_samples_split=2 ..\n",
      "[CV]  decision_tree__max_depth=4, decision_tree__min_samples_split=2, score=0.838, total=   3.7s\n",
      "[CV] decision_tree__max_depth=4, decision_tree__min_samples_split=2 ..\n",
      "[CV]  decision_tree__max_depth=4, decision_tree__min_samples_split=2, score=0.838, total=   4.5s\n",
      "[CV] decision_tree__max_depth=4, decision_tree__min_samples_split=2 ..\n",
      "[CV]  decision_tree__max_depth=4, decision_tree__min_samples_split=2, score=0.840, total=   3.6s\n",
      "[CV] decision_tree__max_depth=4, decision_tree__min_samples_split=2 ..\n",
      "[CV]  decision_tree__max_depth=4, decision_tree__min_samples_split=2, score=0.837, total=   4.3s\n",
      "[CV] decision_tree__max_depth=4, decision_tree__min_samples_split=2 ..\n",
      "[CV]  decision_tree__max_depth=4, decision_tree__min_samples_split=2, score=0.841, total=   4.9s\n",
      "[CV] decision_tree__max_depth=4, decision_tree__min_samples_split=3 ..\n",
      "[CV]  decision_tree__max_depth=4, decision_tree__min_samples_split=3, score=0.838, total=   5.1s\n",
      "[CV] decision_tree__max_depth=4, decision_tree__min_samples_split=3 ..\n",
      "[CV]  decision_tree__max_depth=4, decision_tree__min_samples_split=3, score=0.838, total=   4.7s\n",
      "[CV] decision_tree__max_depth=4, decision_tree__min_samples_split=3 ..\n",
      "[CV]  decision_tree__max_depth=4, decision_tree__min_samples_split=3, score=0.840, total=   4.9s\n",
      "[CV] decision_tree__max_depth=4, decision_tree__min_samples_split=3 ..\n",
      "[CV]  decision_tree__max_depth=4, decision_tree__min_samples_split=3, score=0.837, total=   3.9s\n",
      "[CV] decision_tree__max_depth=4, decision_tree__min_samples_split=3 ..\n",
      "[CV]  decision_tree__max_depth=4, decision_tree__min_samples_split=3, score=0.841, total=   3.9s\n",
      "[CV] decision_tree__max_depth=4, decision_tree__min_samples_split=4 ..\n",
      "[CV]  decision_tree__max_depth=4, decision_tree__min_samples_split=4, score=0.838, total=   3.8s\n",
      "[CV] decision_tree__max_depth=4, decision_tree__min_samples_split=4 ..\n",
      "[CV]  decision_tree__max_depth=4, decision_tree__min_samples_split=4, score=0.838, total=   3.9s\n",
      "[CV] decision_tree__max_depth=4, decision_tree__min_samples_split=4 ..\n",
      "[CV]  decision_tree__max_depth=4, decision_tree__min_samples_split=4, score=0.840, total=   4.1s\n",
      "[CV] decision_tree__max_depth=4, decision_tree__min_samples_split=4 ..\n",
      "[CV]  decision_tree__max_depth=4, decision_tree__min_samples_split=4, score=0.837, total=   4.0s\n",
      "[CV] decision_tree__max_depth=4, decision_tree__min_samples_split=4 ..\n",
      "[CV]  decision_tree__max_depth=4, decision_tree__min_samples_split=4, score=0.841, total=   4.2s\n",
      "[CV] decision_tree__max_depth=5, decision_tree__min_samples_split=1 ..\n"
     ]
    },
    {
     "name": "stderr",
     "output_type": "stream",
     "text": [
      "/opt/anaconda3/envs/learn-env/lib/python3.8/site-packages/sklearn/model_selection/_validation.py:548: FitFailedWarning: Estimator fit failed. The score on this train-test partition for these parameters will be set to nan. Details: \n",
      "Traceback (most recent call last):\n",
      "  File \"/opt/anaconda3/envs/learn-env/lib/python3.8/site-packages/sklearn/model_selection/_validation.py\", line 531, in _fit_and_score\n",
      "    estimator.fit(X_train, y_train, **fit_params)\n",
      "  File \"/opt/anaconda3/envs/learn-env/lib/python3.8/site-packages/sklearn/pipeline.py\", line 335, in fit\n",
      "    self._final_estimator.fit(Xt, y, **fit_params_last_step)\n",
      "  File \"/opt/anaconda3/envs/learn-env/lib/python3.8/site-packages/sklearn/tree/_classes.py\", line 890, in fit\n",
      "    super().fit(\n",
      "  File \"/opt/anaconda3/envs/learn-env/lib/python3.8/site-packages/sklearn/tree/_classes.py\", line 228, in fit\n",
      "    raise ValueError(\"min_samples_split must be an integer \"\n",
      "ValueError: min_samples_split must be an integer greater than 1 or a float in (0.0, 1.0]; got the integer 1\n",
      "\n",
      "  warnings.warn(\"Estimator fit failed. The score on this train-test\"\n"
     ]
    },
    {
     "name": "stdout",
     "output_type": "stream",
     "text": [
      "[CV]  decision_tree__max_depth=5, decision_tree__min_samples_split=1, score=nan, total=   0.8s\n",
      "[CV] decision_tree__max_depth=5, decision_tree__min_samples_split=1 ..\n"
     ]
    },
    {
     "name": "stderr",
     "output_type": "stream",
     "text": [
      "/opt/anaconda3/envs/learn-env/lib/python3.8/site-packages/sklearn/model_selection/_validation.py:548: FitFailedWarning: Estimator fit failed. The score on this train-test partition for these parameters will be set to nan. Details: \n",
      "Traceback (most recent call last):\n",
      "  File \"/opt/anaconda3/envs/learn-env/lib/python3.8/site-packages/sklearn/model_selection/_validation.py\", line 531, in _fit_and_score\n",
      "    estimator.fit(X_train, y_train, **fit_params)\n",
      "  File \"/opt/anaconda3/envs/learn-env/lib/python3.8/site-packages/sklearn/pipeline.py\", line 335, in fit\n",
      "    self._final_estimator.fit(Xt, y, **fit_params_last_step)\n",
      "  File \"/opt/anaconda3/envs/learn-env/lib/python3.8/site-packages/sklearn/tree/_classes.py\", line 890, in fit\n",
      "    super().fit(\n",
      "  File \"/opt/anaconda3/envs/learn-env/lib/python3.8/site-packages/sklearn/tree/_classes.py\", line 228, in fit\n",
      "    raise ValueError(\"min_samples_split must be an integer \"\n",
      "ValueError: min_samples_split must be an integer greater than 1 or a float in (0.0, 1.0]; got the integer 1\n",
      "\n",
      "  warnings.warn(\"Estimator fit failed. The score on this train-test\"\n"
     ]
    },
    {
     "name": "stdout",
     "output_type": "stream",
     "text": [
      "[CV]  decision_tree__max_depth=5, decision_tree__min_samples_split=1, score=nan, total=   0.7s\n",
      "[CV] decision_tree__max_depth=5, decision_tree__min_samples_split=1 ..\n"
     ]
    },
    {
     "name": "stderr",
     "output_type": "stream",
     "text": [
      "/opt/anaconda3/envs/learn-env/lib/python3.8/site-packages/sklearn/model_selection/_validation.py:548: FitFailedWarning: Estimator fit failed. The score on this train-test partition for these parameters will be set to nan. Details: \n",
      "Traceback (most recent call last):\n",
      "  File \"/opt/anaconda3/envs/learn-env/lib/python3.8/site-packages/sklearn/model_selection/_validation.py\", line 531, in _fit_and_score\n",
      "    estimator.fit(X_train, y_train, **fit_params)\n",
      "  File \"/opt/anaconda3/envs/learn-env/lib/python3.8/site-packages/sklearn/pipeline.py\", line 335, in fit\n",
      "    self._final_estimator.fit(Xt, y, **fit_params_last_step)\n",
      "  File \"/opt/anaconda3/envs/learn-env/lib/python3.8/site-packages/sklearn/tree/_classes.py\", line 890, in fit\n",
      "    super().fit(\n",
      "  File \"/opt/anaconda3/envs/learn-env/lib/python3.8/site-packages/sklearn/tree/_classes.py\", line 228, in fit\n",
      "    raise ValueError(\"min_samples_split must be an integer \"\n",
      "ValueError: min_samples_split must be an integer greater than 1 or a float in (0.0, 1.0]; got the integer 1\n",
      "\n",
      "  warnings.warn(\"Estimator fit failed. The score on this train-test\"\n"
     ]
    },
    {
     "name": "stdout",
     "output_type": "stream",
     "text": [
      "[CV]  decision_tree__max_depth=5, decision_tree__min_samples_split=1, score=nan, total=   0.7s\n",
      "[CV] decision_tree__max_depth=5, decision_tree__min_samples_split=1 ..\n"
     ]
    },
    {
     "name": "stderr",
     "output_type": "stream",
     "text": [
      "/opt/anaconda3/envs/learn-env/lib/python3.8/site-packages/sklearn/model_selection/_validation.py:548: FitFailedWarning: Estimator fit failed. The score on this train-test partition for these parameters will be set to nan. Details: \n",
      "Traceback (most recent call last):\n",
      "  File \"/opt/anaconda3/envs/learn-env/lib/python3.8/site-packages/sklearn/model_selection/_validation.py\", line 531, in _fit_and_score\n",
      "    estimator.fit(X_train, y_train, **fit_params)\n",
      "  File \"/opt/anaconda3/envs/learn-env/lib/python3.8/site-packages/sklearn/pipeline.py\", line 335, in fit\n",
      "    self._final_estimator.fit(Xt, y, **fit_params_last_step)\n",
      "  File \"/opt/anaconda3/envs/learn-env/lib/python3.8/site-packages/sklearn/tree/_classes.py\", line 890, in fit\n",
      "    super().fit(\n",
      "  File \"/opt/anaconda3/envs/learn-env/lib/python3.8/site-packages/sklearn/tree/_classes.py\", line 228, in fit\n",
      "    raise ValueError(\"min_samples_split must be an integer \"\n",
      "ValueError: min_samples_split must be an integer greater than 1 or a float in (0.0, 1.0]; got the integer 1\n",
      "\n",
      "  warnings.warn(\"Estimator fit failed. The score on this train-test\"\n"
     ]
    },
    {
     "name": "stdout",
     "output_type": "stream",
     "text": [
      "[CV]  decision_tree__max_depth=5, decision_tree__min_samples_split=1, score=nan, total=   0.7s\n",
      "[CV] decision_tree__max_depth=5, decision_tree__min_samples_split=1 ..\n"
     ]
    },
    {
     "name": "stderr",
     "output_type": "stream",
     "text": [
      "/opt/anaconda3/envs/learn-env/lib/python3.8/site-packages/sklearn/model_selection/_validation.py:548: FitFailedWarning: Estimator fit failed. The score on this train-test partition for these parameters will be set to nan. Details: \n",
      "Traceback (most recent call last):\n",
      "  File \"/opt/anaconda3/envs/learn-env/lib/python3.8/site-packages/sklearn/model_selection/_validation.py\", line 531, in _fit_and_score\n",
      "    estimator.fit(X_train, y_train, **fit_params)\n",
      "  File \"/opt/anaconda3/envs/learn-env/lib/python3.8/site-packages/sklearn/pipeline.py\", line 335, in fit\n",
      "    self._final_estimator.fit(Xt, y, **fit_params_last_step)\n",
      "  File \"/opt/anaconda3/envs/learn-env/lib/python3.8/site-packages/sklearn/tree/_classes.py\", line 890, in fit\n",
      "    super().fit(\n",
      "  File \"/opt/anaconda3/envs/learn-env/lib/python3.8/site-packages/sklearn/tree/_classes.py\", line 228, in fit\n",
      "    raise ValueError(\"min_samples_split must be an integer \"\n",
      "ValueError: min_samples_split must be an integer greater than 1 or a float in (0.0, 1.0]; got the integer 1\n",
      "\n",
      "  warnings.warn(\"Estimator fit failed. The score on this train-test\"\n"
     ]
    },
    {
     "name": "stdout",
     "output_type": "stream",
     "text": [
      "[CV]  decision_tree__max_depth=5, decision_tree__min_samples_split=1, score=nan, total=   0.7s\n",
      "[CV] decision_tree__max_depth=5, decision_tree__min_samples_split=2 ..\n",
      "[CV]  decision_tree__max_depth=5, decision_tree__min_samples_split=2, score=0.840, total=   4.4s\n",
      "[CV] decision_tree__max_depth=5, decision_tree__min_samples_split=2 ..\n",
      "[CV]  decision_tree__max_depth=5, decision_tree__min_samples_split=2, score=0.841, total=   5.6s\n",
      "[CV] decision_tree__max_depth=5, decision_tree__min_samples_split=2 ..\n",
      "[CV]  decision_tree__max_depth=5, decision_tree__min_samples_split=2, score=0.834, total=   5.0s\n",
      "[CV] decision_tree__max_depth=5, decision_tree__min_samples_split=2 ..\n",
      "[CV]  decision_tree__max_depth=5, decision_tree__min_samples_split=2, score=0.835, total=   4.3s\n",
      "[CV] decision_tree__max_depth=5, decision_tree__min_samples_split=2 ..\n",
      "[CV]  decision_tree__max_depth=5, decision_tree__min_samples_split=2, score=0.838, total=   5.6s\n",
      "[CV] decision_tree__max_depth=5, decision_tree__min_samples_split=3 ..\n",
      "[CV]  decision_tree__max_depth=5, decision_tree__min_samples_split=3, score=0.840, total=   5.5s\n",
      "[CV] decision_tree__max_depth=5, decision_tree__min_samples_split=3 ..\n",
      "[CV]  decision_tree__max_depth=5, decision_tree__min_samples_split=3, score=0.841, total=   5.5s\n",
      "[CV] decision_tree__max_depth=5, decision_tree__min_samples_split=3 ..\n",
      "[CV]  decision_tree__max_depth=5, decision_tree__min_samples_split=3, score=0.834, total=   4.3s\n",
      "[CV] decision_tree__max_depth=5, decision_tree__min_samples_split=3 ..\n",
      "[CV]  decision_tree__max_depth=5, decision_tree__min_samples_split=3, score=0.835, total=   4.3s\n",
      "[CV] decision_tree__max_depth=5, decision_tree__min_samples_split=3 ..\n",
      "[CV]  decision_tree__max_depth=5, decision_tree__min_samples_split=3, score=0.838, total=   4.7s\n",
      "[CV] decision_tree__max_depth=5, decision_tree__min_samples_split=4 ..\n",
      "[CV]  decision_tree__max_depth=5, decision_tree__min_samples_split=4, score=0.840, total=   5.3s\n",
      "[CV] decision_tree__max_depth=5, decision_tree__min_samples_split=4 ..\n",
      "[CV]  decision_tree__max_depth=5, decision_tree__min_samples_split=4, score=0.841, total=   5.3s\n",
      "[CV] decision_tree__max_depth=5, decision_tree__min_samples_split=4 ..\n",
      "[CV]  decision_tree__max_depth=5, decision_tree__min_samples_split=4, score=0.834, total=   5.4s\n",
      "[CV] decision_tree__max_depth=5, decision_tree__min_samples_split=4 ..\n",
      "[CV]  decision_tree__max_depth=5, decision_tree__min_samples_split=4, score=0.835, total=   5.6s\n",
      "[CV] decision_tree__max_depth=5, decision_tree__min_samples_split=4 ..\n",
      "[CV]  decision_tree__max_depth=5, decision_tree__min_samples_split=4, score=0.838, total=   5.5s\n",
      "[CV] decision_tree__max_depth=6, decision_tree__min_samples_split=1 ..\n"
     ]
    },
    {
     "name": "stderr",
     "output_type": "stream",
     "text": [
      "/opt/anaconda3/envs/learn-env/lib/python3.8/site-packages/sklearn/model_selection/_validation.py:548: FitFailedWarning: Estimator fit failed. The score on this train-test partition for these parameters will be set to nan. Details: \n",
      "Traceback (most recent call last):\n",
      "  File \"/opt/anaconda3/envs/learn-env/lib/python3.8/site-packages/sklearn/model_selection/_validation.py\", line 531, in _fit_and_score\n",
      "    estimator.fit(X_train, y_train, **fit_params)\n",
      "  File \"/opt/anaconda3/envs/learn-env/lib/python3.8/site-packages/sklearn/pipeline.py\", line 335, in fit\n",
      "    self._final_estimator.fit(Xt, y, **fit_params_last_step)\n",
      "  File \"/opt/anaconda3/envs/learn-env/lib/python3.8/site-packages/sklearn/tree/_classes.py\", line 890, in fit\n",
      "    super().fit(\n",
      "  File \"/opt/anaconda3/envs/learn-env/lib/python3.8/site-packages/sklearn/tree/_classes.py\", line 228, in fit\n",
      "    raise ValueError(\"min_samples_split must be an integer \"\n",
      "ValueError: min_samples_split must be an integer greater than 1 or a float in (0.0, 1.0]; got the integer 1\n",
      "\n",
      "  warnings.warn(\"Estimator fit failed. The score on this train-test\"\n"
     ]
    },
    {
     "name": "stdout",
     "output_type": "stream",
     "text": [
      "[CV]  decision_tree__max_depth=6, decision_tree__min_samples_split=1, score=nan, total=   0.8s\n",
      "[CV] decision_tree__max_depth=6, decision_tree__min_samples_split=1 ..\n"
     ]
    },
    {
     "name": "stderr",
     "output_type": "stream",
     "text": [
      "/opt/anaconda3/envs/learn-env/lib/python3.8/site-packages/sklearn/model_selection/_validation.py:548: FitFailedWarning: Estimator fit failed. The score on this train-test partition for these parameters will be set to nan. Details: \n",
      "Traceback (most recent call last):\n",
      "  File \"/opt/anaconda3/envs/learn-env/lib/python3.8/site-packages/sklearn/model_selection/_validation.py\", line 531, in _fit_and_score\n",
      "    estimator.fit(X_train, y_train, **fit_params)\n",
      "  File \"/opt/anaconda3/envs/learn-env/lib/python3.8/site-packages/sklearn/pipeline.py\", line 335, in fit\n",
      "    self._final_estimator.fit(Xt, y, **fit_params_last_step)\n",
      "  File \"/opt/anaconda3/envs/learn-env/lib/python3.8/site-packages/sklearn/tree/_classes.py\", line 890, in fit\n",
      "    super().fit(\n",
      "  File \"/opt/anaconda3/envs/learn-env/lib/python3.8/site-packages/sklearn/tree/_classes.py\", line 228, in fit\n",
      "    raise ValueError(\"min_samples_split must be an integer \"\n",
      "ValueError: min_samples_split must be an integer greater than 1 or a float in (0.0, 1.0]; got the integer 1\n",
      "\n",
      "  warnings.warn(\"Estimator fit failed. The score on this train-test\"\n"
     ]
    },
    {
     "name": "stdout",
     "output_type": "stream",
     "text": [
      "[CV]  decision_tree__max_depth=6, decision_tree__min_samples_split=1, score=nan, total=   0.7s\n",
      "[CV] decision_tree__max_depth=6, decision_tree__min_samples_split=1 ..\n"
     ]
    },
    {
     "name": "stderr",
     "output_type": "stream",
     "text": [
      "/opt/anaconda3/envs/learn-env/lib/python3.8/site-packages/sklearn/model_selection/_validation.py:548: FitFailedWarning: Estimator fit failed. The score on this train-test partition for these parameters will be set to nan. Details: \n",
      "Traceback (most recent call last):\n",
      "  File \"/opt/anaconda3/envs/learn-env/lib/python3.8/site-packages/sklearn/model_selection/_validation.py\", line 531, in _fit_and_score\n",
      "    estimator.fit(X_train, y_train, **fit_params)\n",
      "  File \"/opt/anaconda3/envs/learn-env/lib/python3.8/site-packages/sklearn/pipeline.py\", line 335, in fit\n",
      "    self._final_estimator.fit(Xt, y, **fit_params_last_step)\n",
      "  File \"/opt/anaconda3/envs/learn-env/lib/python3.8/site-packages/sklearn/tree/_classes.py\", line 890, in fit\n",
      "    super().fit(\n",
      "  File \"/opt/anaconda3/envs/learn-env/lib/python3.8/site-packages/sklearn/tree/_classes.py\", line 228, in fit\n",
      "    raise ValueError(\"min_samples_split must be an integer \"\n",
      "ValueError: min_samples_split must be an integer greater than 1 or a float in (0.0, 1.0]; got the integer 1\n",
      "\n",
      "  warnings.warn(\"Estimator fit failed. The score on this train-test\"\n"
     ]
    },
    {
     "name": "stdout",
     "output_type": "stream",
     "text": [
      "[CV]  decision_tree__max_depth=6, decision_tree__min_samples_split=1, score=nan, total=   0.8s\n",
      "[CV] decision_tree__max_depth=6, decision_tree__min_samples_split=1 ..\n"
     ]
    },
    {
     "name": "stderr",
     "output_type": "stream",
     "text": [
      "/opt/anaconda3/envs/learn-env/lib/python3.8/site-packages/sklearn/model_selection/_validation.py:548: FitFailedWarning: Estimator fit failed. The score on this train-test partition for these parameters will be set to nan. Details: \n",
      "Traceback (most recent call last):\n",
      "  File \"/opt/anaconda3/envs/learn-env/lib/python3.8/site-packages/sklearn/model_selection/_validation.py\", line 531, in _fit_and_score\n",
      "    estimator.fit(X_train, y_train, **fit_params)\n",
      "  File \"/opt/anaconda3/envs/learn-env/lib/python3.8/site-packages/sklearn/pipeline.py\", line 335, in fit\n",
      "    self._final_estimator.fit(Xt, y, **fit_params_last_step)\n",
      "  File \"/opt/anaconda3/envs/learn-env/lib/python3.8/site-packages/sklearn/tree/_classes.py\", line 890, in fit\n",
      "    super().fit(\n",
      "  File \"/opt/anaconda3/envs/learn-env/lib/python3.8/site-packages/sklearn/tree/_classes.py\", line 228, in fit\n",
      "    raise ValueError(\"min_samples_split must be an integer \"\n",
      "ValueError: min_samples_split must be an integer greater than 1 or a float in (0.0, 1.0]; got the integer 1\n",
      "\n",
      "  warnings.warn(\"Estimator fit failed. The score on this train-test\"\n"
     ]
    },
    {
     "name": "stdout",
     "output_type": "stream",
     "text": [
      "[CV]  decision_tree__max_depth=6, decision_tree__min_samples_split=1, score=nan, total=   0.7s\n",
      "[CV] decision_tree__max_depth=6, decision_tree__min_samples_split=1 ..\n"
     ]
    },
    {
     "name": "stderr",
     "output_type": "stream",
     "text": [
      "/opt/anaconda3/envs/learn-env/lib/python3.8/site-packages/sklearn/model_selection/_validation.py:548: FitFailedWarning: Estimator fit failed. The score on this train-test partition for these parameters will be set to nan. Details: \n",
      "Traceback (most recent call last):\n",
      "  File \"/opt/anaconda3/envs/learn-env/lib/python3.8/site-packages/sklearn/model_selection/_validation.py\", line 531, in _fit_and_score\n",
      "    estimator.fit(X_train, y_train, **fit_params)\n",
      "  File \"/opt/anaconda3/envs/learn-env/lib/python3.8/site-packages/sklearn/pipeline.py\", line 335, in fit\n",
      "    self._final_estimator.fit(Xt, y, **fit_params_last_step)\n",
      "  File \"/opt/anaconda3/envs/learn-env/lib/python3.8/site-packages/sklearn/tree/_classes.py\", line 890, in fit\n",
      "    super().fit(\n",
      "  File \"/opt/anaconda3/envs/learn-env/lib/python3.8/site-packages/sklearn/tree/_classes.py\", line 228, in fit\n",
      "    raise ValueError(\"min_samples_split must be an integer \"\n",
      "ValueError: min_samples_split must be an integer greater than 1 or a float in (0.0, 1.0]; got the integer 1\n",
      "\n",
      "  warnings.warn(\"Estimator fit failed. The score on this train-test\"\n"
     ]
    },
    {
     "name": "stdout",
     "output_type": "stream",
     "text": [
      "[CV]  decision_tree__max_depth=6, decision_tree__min_samples_split=1, score=nan, total=   0.8s\n",
      "[CV] decision_tree__max_depth=6, decision_tree__min_samples_split=2 ..\n",
      "[CV]  decision_tree__max_depth=6, decision_tree__min_samples_split=2, score=0.844, total=   5.1s\n",
      "[CV] decision_tree__max_depth=6, decision_tree__min_samples_split=2 ..\n",
      "[CV]  decision_tree__max_depth=6, decision_tree__min_samples_split=2, score=0.847, total=   4.7s\n",
      "[CV] decision_tree__max_depth=6, decision_tree__min_samples_split=2 ..\n",
      "[CV]  decision_tree__max_depth=6, decision_tree__min_samples_split=2, score=0.837, total=   4.7s\n",
      "[CV] decision_tree__max_depth=6, decision_tree__min_samples_split=2 ..\n",
      "[CV]  decision_tree__max_depth=6, decision_tree__min_samples_split=2, score=0.839, total=   5.1s\n",
      "[CV] decision_tree__max_depth=6, decision_tree__min_samples_split=2 ..\n",
      "[CV]  decision_tree__max_depth=6, decision_tree__min_samples_split=2, score=0.839, total=   4.6s\n",
      "[CV] decision_tree__max_depth=6, decision_tree__min_samples_split=3 ..\n",
      "[CV]  decision_tree__max_depth=6, decision_tree__min_samples_split=3, score=0.844, total=   5.7s\n",
      "[CV] decision_tree__max_depth=6, decision_tree__min_samples_split=3 ..\n",
      "[CV]  decision_tree__max_depth=6, decision_tree__min_samples_split=3, score=0.847, total=   4.5s\n",
      "[CV] decision_tree__max_depth=6, decision_tree__min_samples_split=3 ..\n",
      "[CV]  decision_tree__max_depth=6, decision_tree__min_samples_split=3, score=0.837, total=   5.0s\n",
      "[CV] decision_tree__max_depth=6, decision_tree__min_samples_split=3 ..\n",
      "[CV]  decision_tree__max_depth=6, decision_tree__min_samples_split=3, score=0.839, total=   6.0s\n",
      "[CV] decision_tree__max_depth=6, decision_tree__min_samples_split=3 ..\n",
      "[CV]  decision_tree__max_depth=6, decision_tree__min_samples_split=3, score=0.839, total=   5.9s\n",
      "[CV] decision_tree__max_depth=6, decision_tree__min_samples_split=4 ..\n",
      "[CV]  decision_tree__max_depth=6, decision_tree__min_samples_split=4, score=0.844, total=   6.0s\n",
      "[CV] decision_tree__max_depth=6, decision_tree__min_samples_split=4 ..\n",
      "[CV]  decision_tree__max_depth=6, decision_tree__min_samples_split=4, score=0.847, total=   6.0s\n",
      "[CV] decision_tree__max_depth=6, decision_tree__min_samples_split=4 ..\n",
      "[CV]  decision_tree__max_depth=6, decision_tree__min_samples_split=4, score=0.837, total=   4.5s\n",
      "[CV] decision_tree__max_depth=6, decision_tree__min_samples_split=4 ..\n",
      "[CV]  decision_tree__max_depth=6, decision_tree__min_samples_split=4, score=0.839, total=   5.1s\n",
      "[CV] decision_tree__max_depth=6, decision_tree__min_samples_split=4 ..\n",
      "[CV]  decision_tree__max_depth=6, decision_tree__min_samples_split=4, score=0.839, total=   4.5s\n",
      "[CV] decision_tree__max_depth=7, decision_tree__min_samples_split=1 ..\n"
     ]
    },
    {
     "name": "stderr",
     "output_type": "stream",
     "text": [
      "/opt/anaconda3/envs/learn-env/lib/python3.8/site-packages/sklearn/model_selection/_validation.py:548: FitFailedWarning: Estimator fit failed. The score on this train-test partition for these parameters will be set to nan. Details: \n",
      "Traceback (most recent call last):\n",
      "  File \"/opt/anaconda3/envs/learn-env/lib/python3.8/site-packages/sklearn/model_selection/_validation.py\", line 531, in _fit_and_score\n",
      "    estimator.fit(X_train, y_train, **fit_params)\n",
      "  File \"/opt/anaconda3/envs/learn-env/lib/python3.8/site-packages/sklearn/pipeline.py\", line 335, in fit\n",
      "    self._final_estimator.fit(Xt, y, **fit_params_last_step)\n",
      "  File \"/opt/anaconda3/envs/learn-env/lib/python3.8/site-packages/sklearn/tree/_classes.py\", line 890, in fit\n",
      "    super().fit(\n",
      "  File \"/opt/anaconda3/envs/learn-env/lib/python3.8/site-packages/sklearn/tree/_classes.py\", line 228, in fit\n",
      "    raise ValueError(\"min_samples_split must be an integer \"\n",
      "ValueError: min_samples_split must be an integer greater than 1 or a float in (0.0, 1.0]; got the integer 1\n",
      "\n",
      "  warnings.warn(\"Estimator fit failed. The score on this train-test\"\n"
     ]
    },
    {
     "name": "stdout",
     "output_type": "stream",
     "text": [
      "[CV]  decision_tree__max_depth=7, decision_tree__min_samples_split=1, score=nan, total=   0.8s\n",
      "[CV] decision_tree__max_depth=7, decision_tree__min_samples_split=1 ..\n"
     ]
    },
    {
     "name": "stderr",
     "output_type": "stream",
     "text": [
      "/opt/anaconda3/envs/learn-env/lib/python3.8/site-packages/sklearn/model_selection/_validation.py:548: FitFailedWarning: Estimator fit failed. The score on this train-test partition for these parameters will be set to nan. Details: \n",
      "Traceback (most recent call last):\n",
      "  File \"/opt/anaconda3/envs/learn-env/lib/python3.8/site-packages/sklearn/model_selection/_validation.py\", line 531, in _fit_and_score\n",
      "    estimator.fit(X_train, y_train, **fit_params)\n",
      "  File \"/opt/anaconda3/envs/learn-env/lib/python3.8/site-packages/sklearn/pipeline.py\", line 335, in fit\n",
      "    self._final_estimator.fit(Xt, y, **fit_params_last_step)\n",
      "  File \"/opt/anaconda3/envs/learn-env/lib/python3.8/site-packages/sklearn/tree/_classes.py\", line 890, in fit\n",
      "    super().fit(\n",
      "  File \"/opt/anaconda3/envs/learn-env/lib/python3.8/site-packages/sklearn/tree/_classes.py\", line 228, in fit\n",
      "    raise ValueError(\"min_samples_split must be an integer \"\n",
      "ValueError: min_samples_split must be an integer greater than 1 or a float in (0.0, 1.0]; got the integer 1\n",
      "\n",
      "  warnings.warn(\"Estimator fit failed. The score on this train-test\"\n"
     ]
    },
    {
     "name": "stdout",
     "output_type": "stream",
     "text": [
      "[CV]  decision_tree__max_depth=7, decision_tree__min_samples_split=1, score=nan, total=   0.8s\n",
      "[CV] decision_tree__max_depth=7, decision_tree__min_samples_split=1 ..\n"
     ]
    },
    {
     "name": "stderr",
     "output_type": "stream",
     "text": [
      "/opt/anaconda3/envs/learn-env/lib/python3.8/site-packages/sklearn/model_selection/_validation.py:548: FitFailedWarning: Estimator fit failed. The score on this train-test partition for these parameters will be set to nan. Details: \n",
      "Traceback (most recent call last):\n",
      "  File \"/opt/anaconda3/envs/learn-env/lib/python3.8/site-packages/sklearn/model_selection/_validation.py\", line 531, in _fit_and_score\n",
      "    estimator.fit(X_train, y_train, **fit_params)\n",
      "  File \"/opt/anaconda3/envs/learn-env/lib/python3.8/site-packages/sklearn/pipeline.py\", line 335, in fit\n",
      "    self._final_estimator.fit(Xt, y, **fit_params_last_step)\n",
      "  File \"/opt/anaconda3/envs/learn-env/lib/python3.8/site-packages/sklearn/tree/_classes.py\", line 890, in fit\n",
      "    super().fit(\n",
      "  File \"/opt/anaconda3/envs/learn-env/lib/python3.8/site-packages/sklearn/tree/_classes.py\", line 228, in fit\n",
      "    raise ValueError(\"min_samples_split must be an integer \"\n",
      "ValueError: min_samples_split must be an integer greater than 1 or a float in (0.0, 1.0]; got the integer 1\n",
      "\n",
      "  warnings.warn(\"Estimator fit failed. The score on this train-test\"\n"
     ]
    },
    {
     "name": "stdout",
     "output_type": "stream",
     "text": [
      "[CV]  decision_tree__max_depth=7, decision_tree__min_samples_split=1, score=nan, total=   0.7s\n",
      "[CV] decision_tree__max_depth=7, decision_tree__min_samples_split=1 ..\n"
     ]
    },
    {
     "name": "stderr",
     "output_type": "stream",
     "text": [
      "/opt/anaconda3/envs/learn-env/lib/python3.8/site-packages/sklearn/model_selection/_validation.py:548: FitFailedWarning: Estimator fit failed. The score on this train-test partition for these parameters will be set to nan. Details: \n",
      "Traceback (most recent call last):\n",
      "  File \"/opt/anaconda3/envs/learn-env/lib/python3.8/site-packages/sklearn/model_selection/_validation.py\", line 531, in _fit_and_score\n",
      "    estimator.fit(X_train, y_train, **fit_params)\n",
      "  File \"/opt/anaconda3/envs/learn-env/lib/python3.8/site-packages/sklearn/pipeline.py\", line 335, in fit\n",
      "    self._final_estimator.fit(Xt, y, **fit_params_last_step)\n",
      "  File \"/opt/anaconda3/envs/learn-env/lib/python3.8/site-packages/sklearn/tree/_classes.py\", line 890, in fit\n",
      "    super().fit(\n",
      "  File \"/opt/anaconda3/envs/learn-env/lib/python3.8/site-packages/sklearn/tree/_classes.py\", line 228, in fit\n",
      "    raise ValueError(\"min_samples_split must be an integer \"\n",
      "ValueError: min_samples_split must be an integer greater than 1 or a float in (0.0, 1.0]; got the integer 1\n",
      "\n",
      "  warnings.warn(\"Estimator fit failed. The score on this train-test\"\n"
     ]
    },
    {
     "name": "stdout",
     "output_type": "stream",
     "text": [
      "[CV]  decision_tree__max_depth=7, decision_tree__min_samples_split=1, score=nan, total=   0.8s\n",
      "[CV] decision_tree__max_depth=7, decision_tree__min_samples_split=1 ..\n"
     ]
    },
    {
     "name": "stderr",
     "output_type": "stream",
     "text": [
      "/opt/anaconda3/envs/learn-env/lib/python3.8/site-packages/sklearn/model_selection/_validation.py:548: FitFailedWarning: Estimator fit failed. The score on this train-test partition for these parameters will be set to nan. Details: \n",
      "Traceback (most recent call last):\n",
      "  File \"/opt/anaconda3/envs/learn-env/lib/python3.8/site-packages/sklearn/model_selection/_validation.py\", line 531, in _fit_and_score\n",
      "    estimator.fit(X_train, y_train, **fit_params)\n",
      "  File \"/opt/anaconda3/envs/learn-env/lib/python3.8/site-packages/sklearn/pipeline.py\", line 335, in fit\n",
      "    self._final_estimator.fit(Xt, y, **fit_params_last_step)\n",
      "  File \"/opt/anaconda3/envs/learn-env/lib/python3.8/site-packages/sklearn/tree/_classes.py\", line 890, in fit\n",
      "    super().fit(\n",
      "  File \"/opt/anaconda3/envs/learn-env/lib/python3.8/site-packages/sklearn/tree/_classes.py\", line 228, in fit\n",
      "    raise ValueError(\"min_samples_split must be an integer \"\n",
      "ValueError: min_samples_split must be an integer greater than 1 or a float in (0.0, 1.0]; got the integer 1\n",
      "\n",
      "  warnings.warn(\"Estimator fit failed. The score on this train-test\"\n"
     ]
    },
    {
     "name": "stdout",
     "output_type": "stream",
     "text": [
      "[CV]  decision_tree__max_depth=7, decision_tree__min_samples_split=1, score=nan, total=   0.7s\n",
      "[CV] decision_tree__max_depth=7, decision_tree__min_samples_split=2 ..\n",
      "[CV]  decision_tree__max_depth=7, decision_tree__min_samples_split=2, score=0.850, total=   6.2s\n",
      "[CV] decision_tree__max_depth=7, decision_tree__min_samples_split=2 ..\n",
      "[CV]  decision_tree__max_depth=7, decision_tree__min_samples_split=2, score=0.846, total=   4.8s\n",
      "[CV] decision_tree__max_depth=7, decision_tree__min_samples_split=2 ..\n",
      "[CV]  decision_tree__max_depth=7, decision_tree__min_samples_split=2, score=0.846, total=   6.2s\n",
      "[CV] decision_tree__max_depth=7, decision_tree__min_samples_split=2 ..\n",
      "[CV]  decision_tree__max_depth=7, decision_tree__min_samples_split=2, score=0.845, total=   6.3s\n",
      "[CV] decision_tree__max_depth=7, decision_tree__min_samples_split=2 ..\n",
      "[CV]  decision_tree__max_depth=7, decision_tree__min_samples_split=2, score=0.842, total=   6.0s\n",
      "[CV] decision_tree__max_depth=7, decision_tree__min_samples_split=3 ..\n",
      "[CV]  decision_tree__max_depth=7, decision_tree__min_samples_split=3, score=0.850, total=   4.7s\n",
      "[CV] decision_tree__max_depth=7, decision_tree__min_samples_split=3 ..\n",
      "[CV]  decision_tree__max_depth=7, decision_tree__min_samples_split=3, score=0.846, total=   5.5s\n",
      "[CV] decision_tree__max_depth=7, decision_tree__min_samples_split=3 ..\n",
      "[CV]  decision_tree__max_depth=7, decision_tree__min_samples_split=3, score=0.846, total=   4.7s\n",
      "[CV] decision_tree__max_depth=7, decision_tree__min_samples_split=3 ..\n",
      "[CV]  decision_tree__max_depth=7, decision_tree__min_samples_split=3, score=0.845, total=   6.1s\n",
      "[CV] decision_tree__max_depth=7, decision_tree__min_samples_split=3 ..\n",
      "[CV]  decision_tree__max_depth=7, decision_tree__min_samples_split=3, score=0.842, total=   5.4s\n",
      "[CV] decision_tree__max_depth=7, decision_tree__min_samples_split=4 ..\n",
      "[CV]  decision_tree__max_depth=7, decision_tree__min_samples_split=4, score=0.850, total=   6.5s\n",
      "[CV] decision_tree__max_depth=7, decision_tree__min_samples_split=4 ..\n",
      "[CV]  decision_tree__max_depth=7, decision_tree__min_samples_split=4, score=0.846, total=   6.4s\n",
      "[CV] decision_tree__max_depth=7, decision_tree__min_samples_split=4 ..\n",
      "[CV]  decision_tree__max_depth=7, decision_tree__min_samples_split=4, score=0.846, total=   6.3s\n",
      "[CV] decision_tree__max_depth=7, decision_tree__min_samples_split=4 ..\n",
      "[CV]  decision_tree__max_depth=7, decision_tree__min_samples_split=4, score=0.846, total=   4.8s\n",
      "[CV] decision_tree__max_depth=7, decision_tree__min_samples_split=4 ..\n",
      "[CV]  decision_tree__max_depth=7, decision_tree__min_samples_split=4, score=0.842, total=   4.8s\n",
      "[CV] decision_tree__max_depth=8, decision_tree__min_samples_split=1 ..\n"
     ]
    },
    {
     "name": "stderr",
     "output_type": "stream",
     "text": [
      "/opt/anaconda3/envs/learn-env/lib/python3.8/site-packages/sklearn/model_selection/_validation.py:548: FitFailedWarning: Estimator fit failed. The score on this train-test partition for these parameters will be set to nan. Details: \n",
      "Traceback (most recent call last):\n",
      "  File \"/opt/anaconda3/envs/learn-env/lib/python3.8/site-packages/sklearn/model_selection/_validation.py\", line 531, in _fit_and_score\n",
      "    estimator.fit(X_train, y_train, **fit_params)\n",
      "  File \"/opt/anaconda3/envs/learn-env/lib/python3.8/site-packages/sklearn/pipeline.py\", line 335, in fit\n",
      "    self._final_estimator.fit(Xt, y, **fit_params_last_step)\n",
      "  File \"/opt/anaconda3/envs/learn-env/lib/python3.8/site-packages/sklearn/tree/_classes.py\", line 890, in fit\n",
      "    super().fit(\n",
      "  File \"/opt/anaconda3/envs/learn-env/lib/python3.8/site-packages/sklearn/tree/_classes.py\", line 228, in fit\n",
      "    raise ValueError(\"min_samples_split must be an integer \"\n",
      "ValueError: min_samples_split must be an integer greater than 1 or a float in (0.0, 1.0]; got the integer 1\n",
      "\n",
      "  warnings.warn(\"Estimator fit failed. The score on this train-test\"\n"
     ]
    },
    {
     "name": "stdout",
     "output_type": "stream",
     "text": [
      "[CV]  decision_tree__max_depth=8, decision_tree__min_samples_split=1, score=nan, total=   0.8s\n",
      "[CV] decision_tree__max_depth=8, decision_tree__min_samples_split=1 ..\n"
     ]
    },
    {
     "name": "stderr",
     "output_type": "stream",
     "text": [
      "/opt/anaconda3/envs/learn-env/lib/python3.8/site-packages/sklearn/model_selection/_validation.py:548: FitFailedWarning: Estimator fit failed. The score on this train-test partition for these parameters will be set to nan. Details: \n",
      "Traceback (most recent call last):\n",
      "  File \"/opt/anaconda3/envs/learn-env/lib/python3.8/site-packages/sklearn/model_selection/_validation.py\", line 531, in _fit_and_score\n",
      "    estimator.fit(X_train, y_train, **fit_params)\n",
      "  File \"/opt/anaconda3/envs/learn-env/lib/python3.8/site-packages/sklearn/pipeline.py\", line 335, in fit\n",
      "    self._final_estimator.fit(Xt, y, **fit_params_last_step)\n",
      "  File \"/opt/anaconda3/envs/learn-env/lib/python3.8/site-packages/sklearn/tree/_classes.py\", line 890, in fit\n",
      "    super().fit(\n",
      "  File \"/opt/anaconda3/envs/learn-env/lib/python3.8/site-packages/sklearn/tree/_classes.py\", line 228, in fit\n",
      "    raise ValueError(\"min_samples_split must be an integer \"\n",
      "ValueError: min_samples_split must be an integer greater than 1 or a float in (0.0, 1.0]; got the integer 1\n",
      "\n",
      "  warnings.warn(\"Estimator fit failed. The score on this train-test\"\n"
     ]
    },
    {
     "name": "stdout",
     "output_type": "stream",
     "text": [
      "[CV]  decision_tree__max_depth=8, decision_tree__min_samples_split=1, score=nan, total=   0.9s\n",
      "[CV] decision_tree__max_depth=8, decision_tree__min_samples_split=1 ..\n"
     ]
    },
    {
     "name": "stderr",
     "output_type": "stream",
     "text": [
      "/opt/anaconda3/envs/learn-env/lib/python3.8/site-packages/sklearn/model_selection/_validation.py:548: FitFailedWarning: Estimator fit failed. The score on this train-test partition for these parameters will be set to nan. Details: \n",
      "Traceback (most recent call last):\n",
      "  File \"/opt/anaconda3/envs/learn-env/lib/python3.8/site-packages/sklearn/model_selection/_validation.py\", line 531, in _fit_and_score\n",
      "    estimator.fit(X_train, y_train, **fit_params)\n",
      "  File \"/opt/anaconda3/envs/learn-env/lib/python3.8/site-packages/sklearn/pipeline.py\", line 335, in fit\n",
      "    self._final_estimator.fit(Xt, y, **fit_params_last_step)\n",
      "  File \"/opt/anaconda3/envs/learn-env/lib/python3.8/site-packages/sklearn/tree/_classes.py\", line 890, in fit\n",
      "    super().fit(\n",
      "  File \"/opt/anaconda3/envs/learn-env/lib/python3.8/site-packages/sklearn/tree/_classes.py\", line 228, in fit\n",
      "    raise ValueError(\"min_samples_split must be an integer \"\n",
      "ValueError: min_samples_split must be an integer greater than 1 or a float in (0.0, 1.0]; got the integer 1\n",
      "\n",
      "  warnings.warn(\"Estimator fit failed. The score on this train-test\"\n"
     ]
    },
    {
     "name": "stdout",
     "output_type": "stream",
     "text": [
      "[CV]  decision_tree__max_depth=8, decision_tree__min_samples_split=1, score=nan, total=   0.8s\n",
      "[CV] decision_tree__max_depth=8, decision_tree__min_samples_split=1 ..\n"
     ]
    },
    {
     "name": "stderr",
     "output_type": "stream",
     "text": [
      "/opt/anaconda3/envs/learn-env/lib/python3.8/site-packages/sklearn/model_selection/_validation.py:548: FitFailedWarning: Estimator fit failed. The score on this train-test partition for these parameters will be set to nan. Details: \n",
      "Traceback (most recent call last):\n",
      "  File \"/opt/anaconda3/envs/learn-env/lib/python3.8/site-packages/sklearn/model_selection/_validation.py\", line 531, in _fit_and_score\n",
      "    estimator.fit(X_train, y_train, **fit_params)\n",
      "  File \"/opt/anaconda3/envs/learn-env/lib/python3.8/site-packages/sklearn/pipeline.py\", line 335, in fit\n",
      "    self._final_estimator.fit(Xt, y, **fit_params_last_step)\n",
      "  File \"/opt/anaconda3/envs/learn-env/lib/python3.8/site-packages/sklearn/tree/_classes.py\", line 890, in fit\n",
      "    super().fit(\n",
      "  File \"/opt/anaconda3/envs/learn-env/lib/python3.8/site-packages/sklearn/tree/_classes.py\", line 228, in fit\n",
      "    raise ValueError(\"min_samples_split must be an integer \"\n",
      "ValueError: min_samples_split must be an integer greater than 1 or a float in (0.0, 1.0]; got the integer 1\n",
      "\n",
      "  warnings.warn(\"Estimator fit failed. The score on this train-test\"\n"
     ]
    },
    {
     "name": "stdout",
     "output_type": "stream",
     "text": [
      "[CV]  decision_tree__max_depth=8, decision_tree__min_samples_split=1, score=nan, total=   0.9s\n",
      "[CV] decision_tree__max_depth=8, decision_tree__min_samples_split=1 ..\n"
     ]
    },
    {
     "name": "stderr",
     "output_type": "stream",
     "text": [
      "/opt/anaconda3/envs/learn-env/lib/python3.8/site-packages/sklearn/model_selection/_validation.py:548: FitFailedWarning: Estimator fit failed. The score on this train-test partition for these parameters will be set to nan. Details: \n",
      "Traceback (most recent call last):\n",
      "  File \"/opt/anaconda3/envs/learn-env/lib/python3.8/site-packages/sklearn/model_selection/_validation.py\", line 531, in _fit_and_score\n",
      "    estimator.fit(X_train, y_train, **fit_params)\n",
      "  File \"/opt/anaconda3/envs/learn-env/lib/python3.8/site-packages/sklearn/pipeline.py\", line 335, in fit\n",
      "    self._final_estimator.fit(Xt, y, **fit_params_last_step)\n",
      "  File \"/opt/anaconda3/envs/learn-env/lib/python3.8/site-packages/sklearn/tree/_classes.py\", line 890, in fit\n",
      "    super().fit(\n",
      "  File \"/opt/anaconda3/envs/learn-env/lib/python3.8/site-packages/sklearn/tree/_classes.py\", line 228, in fit\n",
      "    raise ValueError(\"min_samples_split must be an integer \"\n",
      "ValueError: min_samples_split must be an integer greater than 1 or a float in (0.0, 1.0]; got the integer 1\n",
      "\n",
      "  warnings.warn(\"Estimator fit failed. The score on this train-test\"\n"
     ]
    },
    {
     "name": "stdout",
     "output_type": "stream",
     "text": [
      "[CV]  decision_tree__max_depth=8, decision_tree__min_samples_split=1, score=nan, total=   0.9s\n",
      "[CV] decision_tree__max_depth=8, decision_tree__min_samples_split=2 ..\n",
      "[CV]  decision_tree__max_depth=8, decision_tree__min_samples_split=2, score=0.854, total=   5.2s\n",
      "[CV] decision_tree__max_depth=8, decision_tree__min_samples_split=2 ..\n",
      "[CV]  decision_tree__max_depth=8, decision_tree__min_samples_split=2, score=0.852, total=   4.9s\n",
      "[CV] decision_tree__max_depth=8, decision_tree__min_samples_split=2 ..\n",
      "[CV]  decision_tree__max_depth=8, decision_tree__min_samples_split=2, score=0.848, total=   5.3s\n",
      "[CV] decision_tree__max_depth=8, decision_tree__min_samples_split=2 ..\n",
      "[CV]  decision_tree__max_depth=8, decision_tree__min_samples_split=2, score=0.850, total=   6.7s\n",
      "[CV] decision_tree__max_depth=8, decision_tree__min_samples_split=2 ..\n",
      "[CV]  decision_tree__max_depth=8, decision_tree__min_samples_split=2, score=0.854, total=   4.9s\n",
      "[CV] decision_tree__max_depth=8, decision_tree__min_samples_split=3 ..\n",
      "[CV]  decision_tree__max_depth=8, decision_tree__min_samples_split=3, score=0.854, total=   6.1s\n",
      "[CV] decision_tree__max_depth=8, decision_tree__min_samples_split=3 ..\n",
      "[CV]  decision_tree__max_depth=8, decision_tree__min_samples_split=3, score=0.852, total=   5.5s\n",
      "[CV] decision_tree__max_depth=8, decision_tree__min_samples_split=3 ..\n",
      "[CV]  decision_tree__max_depth=8, decision_tree__min_samples_split=3, score=0.848, total=   4.9s\n",
      "[CV] decision_tree__max_depth=8, decision_tree__min_samples_split=3 ..\n",
      "[CV]  decision_tree__max_depth=8, decision_tree__min_samples_split=3, score=0.850, total=   4.9s\n",
      "[CV] decision_tree__max_depth=8, decision_tree__min_samples_split=3 ..\n",
      "[CV]  decision_tree__max_depth=8, decision_tree__min_samples_split=3, score=0.854, total=   5.3s\n",
      "[CV] decision_tree__max_depth=8, decision_tree__min_samples_split=4 ..\n",
      "[CV]  decision_tree__max_depth=8, decision_tree__min_samples_split=4, score=0.854, total=   5.0s\n",
      "[CV] decision_tree__max_depth=8, decision_tree__min_samples_split=4 ..\n",
      "[CV]  decision_tree__max_depth=8, decision_tree__min_samples_split=4, score=0.852, total=   5.2s\n",
      "[CV] decision_tree__max_depth=8, decision_tree__min_samples_split=4 ..\n",
      "[CV]  decision_tree__max_depth=8, decision_tree__min_samples_split=4, score=0.848, total=   5.2s\n",
      "[CV] decision_tree__max_depth=8, decision_tree__min_samples_split=4 ..\n",
      "[CV]  decision_tree__max_depth=8, decision_tree__min_samples_split=4, score=0.849, total=   5.0s\n",
      "[CV] decision_tree__max_depth=8, decision_tree__min_samples_split=4 ..\n",
      "[CV]  decision_tree__max_depth=8, decision_tree__min_samples_split=4, score=0.854, total=   6.5s\n",
      "[CV] decision_tree__max_depth=9, decision_tree__min_samples_split=1 ..\n"
     ]
    },
    {
     "name": "stderr",
     "output_type": "stream",
     "text": [
      "/opt/anaconda3/envs/learn-env/lib/python3.8/site-packages/sklearn/model_selection/_validation.py:548: FitFailedWarning: Estimator fit failed. The score on this train-test partition for these parameters will be set to nan. Details: \n",
      "Traceback (most recent call last):\n",
      "  File \"/opt/anaconda3/envs/learn-env/lib/python3.8/site-packages/sklearn/model_selection/_validation.py\", line 531, in _fit_and_score\n",
      "    estimator.fit(X_train, y_train, **fit_params)\n",
      "  File \"/opt/anaconda3/envs/learn-env/lib/python3.8/site-packages/sklearn/pipeline.py\", line 335, in fit\n",
      "    self._final_estimator.fit(Xt, y, **fit_params_last_step)\n",
      "  File \"/opt/anaconda3/envs/learn-env/lib/python3.8/site-packages/sklearn/tree/_classes.py\", line 890, in fit\n",
      "    super().fit(\n",
      "  File \"/opt/anaconda3/envs/learn-env/lib/python3.8/site-packages/sklearn/tree/_classes.py\", line 228, in fit\n",
      "    raise ValueError(\"min_samples_split must be an integer \"\n",
      "ValueError: min_samples_split must be an integer greater than 1 or a float in (0.0, 1.0]; got the integer 1\n",
      "\n",
      "  warnings.warn(\"Estimator fit failed. The score on this train-test\"\n"
     ]
    },
    {
     "name": "stdout",
     "output_type": "stream",
     "text": [
      "[CV]  decision_tree__max_depth=9, decision_tree__min_samples_split=1, score=nan, total=   0.8s\n",
      "[CV] decision_tree__max_depth=9, decision_tree__min_samples_split=1 ..\n"
     ]
    },
    {
     "name": "stderr",
     "output_type": "stream",
     "text": [
      "/opt/anaconda3/envs/learn-env/lib/python3.8/site-packages/sklearn/model_selection/_validation.py:548: FitFailedWarning: Estimator fit failed. The score on this train-test partition for these parameters will be set to nan. Details: \n",
      "Traceback (most recent call last):\n",
      "  File \"/opt/anaconda3/envs/learn-env/lib/python3.8/site-packages/sklearn/model_selection/_validation.py\", line 531, in _fit_and_score\n",
      "    estimator.fit(X_train, y_train, **fit_params)\n",
      "  File \"/opt/anaconda3/envs/learn-env/lib/python3.8/site-packages/sklearn/pipeline.py\", line 335, in fit\n",
      "    self._final_estimator.fit(Xt, y, **fit_params_last_step)\n",
      "  File \"/opt/anaconda3/envs/learn-env/lib/python3.8/site-packages/sklearn/tree/_classes.py\", line 890, in fit\n",
      "    super().fit(\n",
      "  File \"/opt/anaconda3/envs/learn-env/lib/python3.8/site-packages/sklearn/tree/_classes.py\", line 228, in fit\n",
      "    raise ValueError(\"min_samples_split must be an integer \"\n",
      "ValueError: min_samples_split must be an integer greater than 1 or a float in (0.0, 1.0]; got the integer 1\n",
      "\n",
      "  warnings.warn(\"Estimator fit failed. The score on this train-test\"\n"
     ]
    },
    {
     "name": "stdout",
     "output_type": "stream",
     "text": [
      "[CV]  decision_tree__max_depth=9, decision_tree__min_samples_split=1, score=nan, total=   0.9s\n",
      "[CV] decision_tree__max_depth=9, decision_tree__min_samples_split=1 ..\n"
     ]
    },
    {
     "name": "stderr",
     "output_type": "stream",
     "text": [
      "/opt/anaconda3/envs/learn-env/lib/python3.8/site-packages/sklearn/model_selection/_validation.py:548: FitFailedWarning: Estimator fit failed. The score on this train-test partition for these parameters will be set to nan. Details: \n",
      "Traceback (most recent call last):\n",
      "  File \"/opt/anaconda3/envs/learn-env/lib/python3.8/site-packages/sklearn/model_selection/_validation.py\", line 531, in _fit_and_score\n",
      "    estimator.fit(X_train, y_train, **fit_params)\n",
      "  File \"/opt/anaconda3/envs/learn-env/lib/python3.8/site-packages/sklearn/pipeline.py\", line 335, in fit\n",
      "    self._final_estimator.fit(Xt, y, **fit_params_last_step)\n",
      "  File \"/opt/anaconda3/envs/learn-env/lib/python3.8/site-packages/sklearn/tree/_classes.py\", line 890, in fit\n",
      "    super().fit(\n",
      "  File \"/opt/anaconda3/envs/learn-env/lib/python3.8/site-packages/sklearn/tree/_classes.py\", line 228, in fit\n",
      "    raise ValueError(\"min_samples_split must be an integer \"\n",
      "ValueError: min_samples_split must be an integer greater than 1 or a float in (0.0, 1.0]; got the integer 1\n",
      "\n",
      "  warnings.warn(\"Estimator fit failed. The score on this train-test\"\n"
     ]
    },
    {
     "name": "stdout",
     "output_type": "stream",
     "text": [
      "[CV]  decision_tree__max_depth=9, decision_tree__min_samples_split=1, score=nan, total=   0.8s\n",
      "[CV] decision_tree__max_depth=9, decision_tree__min_samples_split=1 ..\n"
     ]
    },
    {
     "name": "stderr",
     "output_type": "stream",
     "text": [
      "/opt/anaconda3/envs/learn-env/lib/python3.8/site-packages/sklearn/model_selection/_validation.py:548: FitFailedWarning: Estimator fit failed. The score on this train-test partition for these parameters will be set to nan. Details: \n",
      "Traceback (most recent call last):\n",
      "  File \"/opt/anaconda3/envs/learn-env/lib/python3.8/site-packages/sklearn/model_selection/_validation.py\", line 531, in _fit_and_score\n",
      "    estimator.fit(X_train, y_train, **fit_params)\n",
      "  File \"/opt/anaconda3/envs/learn-env/lib/python3.8/site-packages/sklearn/pipeline.py\", line 335, in fit\n",
      "    self._final_estimator.fit(Xt, y, **fit_params_last_step)\n",
      "  File \"/opt/anaconda3/envs/learn-env/lib/python3.8/site-packages/sklearn/tree/_classes.py\", line 890, in fit\n",
      "    super().fit(\n",
      "  File \"/opt/anaconda3/envs/learn-env/lib/python3.8/site-packages/sklearn/tree/_classes.py\", line 228, in fit\n",
      "    raise ValueError(\"min_samples_split must be an integer \"\n",
      "ValueError: min_samples_split must be an integer greater than 1 or a float in (0.0, 1.0]; got the integer 1\n",
      "\n",
      "  warnings.warn(\"Estimator fit failed. The score on this train-test\"\n"
     ]
    },
    {
     "name": "stdout",
     "output_type": "stream",
     "text": [
      "[CV]  decision_tree__max_depth=9, decision_tree__min_samples_split=1, score=nan, total=   0.9s\n",
      "[CV] decision_tree__max_depth=9, decision_tree__min_samples_split=1 ..\n"
     ]
    },
    {
     "name": "stderr",
     "output_type": "stream",
     "text": [
      "/opt/anaconda3/envs/learn-env/lib/python3.8/site-packages/sklearn/model_selection/_validation.py:548: FitFailedWarning: Estimator fit failed. The score on this train-test partition for these parameters will be set to nan. Details: \n",
      "Traceback (most recent call last):\n",
      "  File \"/opt/anaconda3/envs/learn-env/lib/python3.8/site-packages/sklearn/model_selection/_validation.py\", line 531, in _fit_and_score\n",
      "    estimator.fit(X_train, y_train, **fit_params)\n",
      "  File \"/opt/anaconda3/envs/learn-env/lib/python3.8/site-packages/sklearn/pipeline.py\", line 335, in fit\n",
      "    self._final_estimator.fit(Xt, y, **fit_params_last_step)\n",
      "  File \"/opt/anaconda3/envs/learn-env/lib/python3.8/site-packages/sklearn/tree/_classes.py\", line 890, in fit\n",
      "    super().fit(\n",
      "  File \"/opt/anaconda3/envs/learn-env/lib/python3.8/site-packages/sklearn/tree/_classes.py\", line 228, in fit\n",
      "    raise ValueError(\"min_samples_split must be an integer \"\n",
      "ValueError: min_samples_split must be an integer greater than 1 or a float in (0.0, 1.0]; got the integer 1\n",
      "\n",
      "  warnings.warn(\"Estimator fit failed. The score on this train-test\"\n"
     ]
    },
    {
     "name": "stdout",
     "output_type": "stream",
     "text": [
      "[CV]  decision_tree__max_depth=9, decision_tree__min_samples_split=1, score=nan, total=   0.9s\n",
      "[CV] decision_tree__max_depth=9, decision_tree__min_samples_split=2 ..\n",
      "[CV]  decision_tree__max_depth=9, decision_tree__min_samples_split=2, score=0.858, total=   6.6s\n",
      "[CV] decision_tree__max_depth=9, decision_tree__min_samples_split=2 ..\n",
      "[CV]  decision_tree__max_depth=9, decision_tree__min_samples_split=2, score=0.852, total=   6.1s\n",
      "[CV] decision_tree__max_depth=9, decision_tree__min_samples_split=2 ..\n",
      "[CV]  decision_tree__max_depth=9, decision_tree__min_samples_split=2, score=0.859, total=   5.3s\n",
      "[CV] decision_tree__max_depth=9, decision_tree__min_samples_split=2 ..\n",
      "[CV]  decision_tree__max_depth=9, decision_tree__min_samples_split=2, score=0.854, total=   6.5s\n",
      "[CV] decision_tree__max_depth=9, decision_tree__min_samples_split=2 ..\n",
      "[CV]  decision_tree__max_depth=9, decision_tree__min_samples_split=2, score=0.857, total=   5.1s\n",
      "[CV] decision_tree__max_depth=9, decision_tree__min_samples_split=3 ..\n",
      "[CV]  decision_tree__max_depth=9, decision_tree__min_samples_split=3, score=0.858, total=   5.1s\n",
      "[CV] decision_tree__max_depth=9, decision_tree__min_samples_split=3 ..\n",
      "[CV]  decision_tree__max_depth=9, decision_tree__min_samples_split=3, score=0.852, total=   5.2s\n",
      "[CV] decision_tree__max_depth=9, decision_tree__min_samples_split=3 ..\n",
      "[CV]  decision_tree__max_depth=9, decision_tree__min_samples_split=3, score=0.859, total=   6.7s\n",
      "[CV] decision_tree__max_depth=9, decision_tree__min_samples_split=3 ..\n",
      "[CV]  decision_tree__max_depth=9, decision_tree__min_samples_split=3, score=0.854, total=   6.9s\n",
      "[CV] decision_tree__max_depth=9, decision_tree__min_samples_split=3 ..\n",
      "[CV]  decision_tree__max_depth=9, decision_tree__min_samples_split=3, score=0.857, total=   5.4s\n",
      "[CV] decision_tree__max_depth=9, decision_tree__min_samples_split=4 ..\n",
      "[CV]  decision_tree__max_depth=9, decision_tree__min_samples_split=4, score=0.858, total=   6.8s\n",
      "[CV] decision_tree__max_depth=9, decision_tree__min_samples_split=4 ..\n",
      "[CV]  decision_tree__max_depth=9, decision_tree__min_samples_split=4, score=0.852, total=   6.4s\n",
      "[CV] decision_tree__max_depth=9, decision_tree__min_samples_split=4 ..\n",
      "[CV]  decision_tree__max_depth=9, decision_tree__min_samples_split=4, score=0.859, total=   5.0s\n",
      "[CV] decision_tree__max_depth=9, decision_tree__min_samples_split=4 ..\n",
      "[CV]  decision_tree__max_depth=9, decision_tree__min_samples_split=4, score=0.854, total=   5.3s\n",
      "[CV] decision_tree__max_depth=9, decision_tree__min_samples_split=4 ..\n",
      "[CV]  decision_tree__max_depth=9, decision_tree__min_samples_split=4, score=0.857, total=   5.0s\n"
     ]
    },
    {
     "name": "stderr",
     "output_type": "stream",
     "text": [
      "[Parallel(n_jobs=1)]: Done 180 out of 180 | elapsed: 10.6min finished\n"
     ]
    },
    {
     "data": {
      "text/plain": [
       "GridSearchCV(cv=5,\n",
       "             estimator=Pipeline(steps=[('ct',\n",
       "                                        ColumnTransformer(remainder='passthrough',\n",
       "                                                          transformers=[('subpipe_numeric',\n",
       "                                                                         Pipeline(steps=[('ss',\n",
       "                                                                                          StandardScaler())]),\n",
       "                                                                         ['population',\n",
       "                                                                          'amount_tsh']),\n",
       "                                                                        ('subpipe_categorical',\n",
       "                                                                         Pipeline(steps=[('ohe',\n",
       "                                                                                          OneHotEncoder(handle_unknown='ignore',\n",
       "                                                                                                        sparse=False))]),\n",
       "                                                                         ['funder',\n",
       "                                                                          'installer',\n",
       "                                                                          'region_code',\n",
       "                                                                          'district_code',\n",
       "                                                                          'extraction_type_class',\n",
       "                                                                          'management',\n",
       "                                                                          'quality_group',\n",
       "                                                                          'quantity_group',\n",
       "                                                                          'source_type',\n",
       "                                                                          'source_class',\n",
       "                                                                          'waterpoint_type_group'])])),\n",
       "                                       ('decision_tree',\n",
       "                                        DecisionTreeClassifier(random_state=42))]),\n",
       "             param_grid={'decision_tree__max_depth': range(1, 10),\n",
       "                         'decision_tree__min_samples_split': range(1, 5)},\n",
       "             scoring='f1', verbose=3)"
      ]
     },
     "execution_count": 93,
     "metadata": {},
     "output_type": "execute_result"
    }
   ],
   "source": [
    "gs_pipe.fit(X_train, y_train)"
   ]
  },
  {
   "cell_type": "code",
   "execution_count": 94,
   "metadata": {},
   "outputs": [
    {
     "data": {
      "text/plain": [
       "{'decision_tree__max_depth': 9, 'decision_tree__min_samples_split': 4}"
      ]
     },
     "execution_count": 94,
     "metadata": {},
     "output_type": "execute_result"
    }
   ],
   "source": [
    "gs_pipe.best_params_"
   ]
  },
  {
   "cell_type": "code",
   "execution_count": 95,
   "metadata": {},
   "outputs": [
    {
     "data": {
      "text/plain": [
       "0.861718140766399"
      ]
     },
     "execution_count": 95,
     "metadata": {},
     "output_type": "execute_result"
    }
   ],
   "source": [
    "decision_model5 = Pipeline(steps=[('ct', CT),\n",
    "                            ('decision_tree', \n",
    "                             DecisionTreeClassifier(random_state=42, min_samples_split= 4,\n",
    "                                                   max_depth = 9))])\n",
    "decision_model5.fit(X_train, y_train)\n",
    "f1_score(y_train, decision_model5.predict(X_train)) ##went back up"
   ]
  },
  {
   "cell_type": "code",
   "execution_count": 96,
   "metadata": {},
   "outputs": [
    {
     "name": "stdout",
     "output_type": "stream",
     "text": [
      "CV Results for `decision_model` model:\n",
      "            0.85655 ± 0.00461 f1 score\n",
      "        \n"
     ]
    }
   ],
   "source": [
    "cv_decision = ModelWithCV(decision_model5, 'decision_model', X_train, y_train)\n",
    "cv_decision.print_cv_summary()"
   ]
  },
  {
   "cell_type": "markdown",
   "metadata": {},
   "source": [
    "Random Forest"
   ]
  },
  {
   "cell_type": "code",
   "execution_count": 100,
   "metadata": {},
   "outputs": [
    {
     "data": {
      "text/plain": [
       "0.9229916685775433"
      ]
     },
     "execution_count": 100,
     "metadata": {},
     "output_type": "execute_result"
    }
   ],
   "source": [
    "rf_model = Pipeline(steps=[('ct', CT),\n",
    "                            ('random_forest', RandomForestClassifier(max_features='sqrt',\n",
    "                            max_samples=0.3,\n",
    "                            random_state=1))])\n",
    "rf_model.fit(X_train, y_train)\n",
    "f1_score(y_train, rf_model.predict(X_train))"
   ]
  },
  {
   "cell_type": "code",
   "execution_count": 102,
   "metadata": {
    "scrolled": true
   },
   "outputs": [
    {
     "name": "stdout",
     "output_type": "stream",
     "text": [
      "CV Results for `random_forest` model:\n",
      "            0.88094 ± 0.00417 f1 score\n",
      "        \n"
     ]
    }
   ],
   "source": [
    "cv_decision = ModelWithCV(rf_model, 'random_forest', X_train, y_train)\n",
    "cv_decision.print_cv_summary() #better score!!!"
   ]
  },
  {
   "cell_type": "code",
   "execution_count": 130,
   "metadata": {},
   "outputs": [
    {
     "data": {
      "text/plain": [
       "0.949935715120583"
      ]
     },
     "execution_count": 130,
     "metadata": {},
     "output_type": "execute_result"
    }
   ],
   "source": [
    "rf_model3 = Pipeline(steps=[('ct', CT),\n",
    "                            ('random_forest', RandomForestClassifier(random_state=1))])\n",
    "rf_model3.fit(X_train, y_train)\n",
    "f1_score(y_train, rf_model3.predict(X_train))"
   ]
  },
  {
   "cell_type": "code",
   "execution_count": 131,
   "metadata": {},
   "outputs": [
    {
     "name": "stdout",
     "output_type": "stream",
     "text": [
      "CV Results for `random_forest` model:\n",
      "            0.87320 ± 0.00390 f1 score\n",
      "        \n"
     ]
    }
   ],
   "source": [
    "cv_decision = ModelWithCV(rf_model3, 'random_forest', X_train, y_train)\n",
    "cv_decision.print_cv_summary()"
   ]
  },
  {
   "cell_type": "markdown",
   "metadata": {},
   "source": [
    "Grid Search random Forest"
   ]
  },
  {
   "cell_type": "code",
   "execution_count": 103,
   "metadata": {
    "collapsed": true
   },
   "outputs": [
    {
     "data": {
      "text/plain": [
       "dict_keys(['memory', 'steps', 'verbose', 'ct', 'random_forest', 'ct__n_jobs', 'ct__remainder', 'ct__sparse_threshold', 'ct__transformer_weights', 'ct__transformers', 'ct__verbose', 'ct__subpipe_numeric', 'ct__subpipe_categorical', 'ct__subpipe_numeric__memory', 'ct__subpipe_numeric__steps', 'ct__subpipe_numeric__verbose', 'ct__subpipe_numeric__ss', 'ct__subpipe_numeric__ss__copy', 'ct__subpipe_numeric__ss__with_mean', 'ct__subpipe_numeric__ss__with_std', 'ct__subpipe_categorical__memory', 'ct__subpipe_categorical__steps', 'ct__subpipe_categorical__verbose', 'ct__subpipe_categorical__ohe', 'ct__subpipe_categorical__ohe__categories', 'ct__subpipe_categorical__ohe__drop', 'ct__subpipe_categorical__ohe__dtype', 'ct__subpipe_categorical__ohe__handle_unknown', 'ct__subpipe_categorical__ohe__sparse', 'random_forest__bootstrap', 'random_forest__ccp_alpha', 'random_forest__class_weight', 'random_forest__criterion', 'random_forest__max_depth', 'random_forest__max_features', 'random_forest__max_leaf_nodes', 'random_forest__max_samples', 'random_forest__min_impurity_decrease', 'random_forest__min_impurity_split', 'random_forest__min_samples_leaf', 'random_forest__min_samples_split', 'random_forest__min_weight_fraction_leaf', 'random_forest__n_estimators', 'random_forest__n_jobs', 'random_forest__oob_score', 'random_forest__random_state', 'random_forest__verbose', 'random_forest__warm_start'])"
      ]
     },
     "execution_count": 103,
     "metadata": {},
     "output_type": "execute_result"
    }
   ],
   "source": [
    "rf_model.get_params().keys()"
   ]
  },
  {
   "cell_type": "code",
   "execution_count": 127,
   "metadata": {
    "collapsed": true
   },
   "outputs": [
    {
     "ename": "SyntaxError",
     "evalue": "invalid syntax (<ipython-input-127-5e0f29f290aa>, line 1)",
     "output_type": "error",
     "traceback": [
      "\u001b[0;36m  File \u001b[0;32m\"<ipython-input-127-5e0f29f290aa>\"\u001b[0;36m, line \u001b[0;32m1\u001b[0m\n\u001b[0;31m    range(.1:1)\u001b[0m\n\u001b[0m            ^\u001b[0m\n\u001b[0;31mSyntaxError\u001b[0m\u001b[0;31m:\u001b[0m invalid syntax\n"
     ]
    }
   ],
   "source": [
    "range(1,10)/10"
   ]
  },
  {
   "cell_type": "code",
   "execution_count": 114,
   "metadata": {},
   "outputs": [],
   "source": [
    "tree = {'random_forest__min_samples_split':range(1,5)}\n",
    "                                              \n",
    "gs_rf = GridSearchCV(\n",
    "    estimator = rf_model, \n",
    "    param_grid = tree, cv=5, verbose=3, scoring = 'f1') "
   ]
  },
  {
   "cell_type": "code",
   "execution_count": 115,
   "metadata": {
    "collapsed": true
   },
   "outputs": [
    {
     "name": "stdout",
     "output_type": "stream",
     "text": [
      "Fitting 5 folds for each of 8 candidates, totalling 40 fits\n",
      "[CV] random_forest__max_samples=0.1, random_forest__min_samples_split=1 \n"
     ]
    },
    {
     "name": "stderr",
     "output_type": "stream",
     "text": [
      "[Parallel(n_jobs=1)]: Using backend SequentialBackend with 1 concurrent workers.\n",
      "/opt/anaconda3/envs/learn-env/lib/python3.8/site-packages/sklearn/model_selection/_validation.py:548: FitFailedWarning: Estimator fit failed. The score on this train-test partition for these parameters will be set to nan. Details: \n",
      "Traceback (most recent call last):\n",
      "  File \"/opt/anaconda3/envs/learn-env/lib/python3.8/site-packages/sklearn/model_selection/_validation.py\", line 531, in _fit_and_score\n",
      "    estimator.fit(X_train, y_train, **fit_params)\n",
      "  File \"/opt/anaconda3/envs/learn-env/lib/python3.8/site-packages/sklearn/pipeline.py\", line 335, in fit\n",
      "    self._final_estimator.fit(Xt, y, **fit_params_last_step)\n",
      "  File \"/opt/anaconda3/envs/learn-env/lib/python3.8/site-packages/sklearn/ensemble/_forest.py\", line 386, in fit\n",
      "    trees = Parallel(n_jobs=self.n_jobs, verbose=self.verbose,\n",
      "  File \"/opt/anaconda3/envs/learn-env/lib/python3.8/site-packages/joblib/parallel.py\", line 1048, in __call__\n",
      "    if self.dispatch_one_batch(iterator):\n",
      "  File \"/opt/anaconda3/envs/learn-env/lib/python3.8/site-packages/joblib/parallel.py\", line 866, in dispatch_one_batch\n",
      "    self._dispatch(tasks)\n",
      "  File \"/opt/anaconda3/envs/learn-env/lib/python3.8/site-packages/joblib/parallel.py\", line 784, in _dispatch\n",
      "    job = self._backend.apply_async(batch, callback=cb)\n",
      "  File \"/opt/anaconda3/envs/learn-env/lib/python3.8/site-packages/joblib/_parallel_backends.py\", line 208, in apply_async\n",
      "    result = ImmediateResult(func)\n",
      "  File \"/opt/anaconda3/envs/learn-env/lib/python3.8/site-packages/joblib/_parallel_backends.py\", line 572, in __init__\n",
      "    self.results = batch()\n",
      "  File \"/opt/anaconda3/envs/learn-env/lib/python3.8/site-packages/joblib/parallel.py\", line 262, in __call__\n",
      "    return [func(*args, **kwargs)\n",
      "  File \"/opt/anaconda3/envs/learn-env/lib/python3.8/site-packages/joblib/parallel.py\", line 262, in <listcomp>\n",
      "    return [func(*args, **kwargs)\n",
      "  File \"/opt/anaconda3/envs/learn-env/lib/python3.8/site-packages/sklearn/ensemble/_forest.py\", line 168, in _parallel_build_trees\n",
      "    tree.fit(X, y, sample_weight=curr_sample_weight, check_input=False)\n",
      "  File \"/opt/anaconda3/envs/learn-env/lib/python3.8/site-packages/sklearn/tree/_classes.py\", line 890, in fit\n",
      "    super().fit(\n",
      "  File \"/opt/anaconda3/envs/learn-env/lib/python3.8/site-packages/sklearn/tree/_classes.py\", line 228, in fit\n",
      "    raise ValueError(\"min_samples_split must be an integer \"\n",
      "ValueError: min_samples_split must be an integer greater than 1 or a float in (0.0, 1.0]; got the integer 1\n",
      "\n",
      "  warnings.warn(\"Estimator fit failed. The score on this train-test\"\n",
      "[Parallel(n_jobs=1)]: Done   1 out of   1 | elapsed:    1.0s remaining:    0.0s\n"
     ]
    },
    {
     "name": "stdout",
     "output_type": "stream",
     "text": [
      "[CV]  random_forest__max_samples=0.1, random_forest__min_samples_split=1, score=nan, total=   1.0s\n",
      "[CV] random_forest__max_samples=0.1, random_forest__min_samples_split=1 \n"
     ]
    },
    {
     "name": "stderr",
     "output_type": "stream",
     "text": [
      "/opt/anaconda3/envs/learn-env/lib/python3.8/site-packages/sklearn/model_selection/_validation.py:548: FitFailedWarning: Estimator fit failed. The score on this train-test partition for these parameters will be set to nan. Details: \n",
      "Traceback (most recent call last):\n",
      "  File \"/opt/anaconda3/envs/learn-env/lib/python3.8/site-packages/sklearn/model_selection/_validation.py\", line 531, in _fit_and_score\n",
      "    estimator.fit(X_train, y_train, **fit_params)\n",
      "  File \"/opt/anaconda3/envs/learn-env/lib/python3.8/site-packages/sklearn/pipeline.py\", line 335, in fit\n",
      "    self._final_estimator.fit(Xt, y, **fit_params_last_step)\n",
      "  File \"/opt/anaconda3/envs/learn-env/lib/python3.8/site-packages/sklearn/ensemble/_forest.py\", line 386, in fit\n",
      "    trees = Parallel(n_jobs=self.n_jobs, verbose=self.verbose,\n",
      "  File \"/opt/anaconda3/envs/learn-env/lib/python3.8/site-packages/joblib/parallel.py\", line 1048, in __call__\n",
      "    if self.dispatch_one_batch(iterator):\n",
      "  File \"/opt/anaconda3/envs/learn-env/lib/python3.8/site-packages/joblib/parallel.py\", line 866, in dispatch_one_batch\n",
      "    self._dispatch(tasks)\n",
      "  File \"/opt/anaconda3/envs/learn-env/lib/python3.8/site-packages/joblib/parallel.py\", line 784, in _dispatch\n",
      "    job = self._backend.apply_async(batch, callback=cb)\n",
      "  File \"/opt/anaconda3/envs/learn-env/lib/python3.8/site-packages/joblib/_parallel_backends.py\", line 208, in apply_async\n",
      "    result = ImmediateResult(func)\n",
      "  File \"/opt/anaconda3/envs/learn-env/lib/python3.8/site-packages/joblib/_parallel_backends.py\", line 572, in __init__\n",
      "    self.results = batch()\n",
      "  File \"/opt/anaconda3/envs/learn-env/lib/python3.8/site-packages/joblib/parallel.py\", line 262, in __call__\n",
      "    return [func(*args, **kwargs)\n",
      "  File \"/opt/anaconda3/envs/learn-env/lib/python3.8/site-packages/joblib/parallel.py\", line 262, in <listcomp>\n",
      "    return [func(*args, **kwargs)\n",
      "  File \"/opt/anaconda3/envs/learn-env/lib/python3.8/site-packages/sklearn/ensemble/_forest.py\", line 168, in _parallel_build_trees\n",
      "    tree.fit(X, y, sample_weight=curr_sample_weight, check_input=False)\n",
      "  File \"/opt/anaconda3/envs/learn-env/lib/python3.8/site-packages/sklearn/tree/_classes.py\", line 890, in fit\n",
      "    super().fit(\n",
      "  File \"/opt/anaconda3/envs/learn-env/lib/python3.8/site-packages/sklearn/tree/_classes.py\", line 228, in fit\n",
      "    raise ValueError(\"min_samples_split must be an integer \"\n",
      "ValueError: min_samples_split must be an integer greater than 1 or a float in (0.0, 1.0]; got the integer 1\n",
      "\n",
      "  warnings.warn(\"Estimator fit failed. The score on this train-test\"\n",
      "[Parallel(n_jobs=1)]: Done   2 out of   2 | elapsed:    1.8s remaining:    0.0s\n"
     ]
    },
    {
     "name": "stdout",
     "output_type": "stream",
     "text": [
      "[CV]  random_forest__max_samples=0.1, random_forest__min_samples_split=1, score=nan, total=   0.7s\n",
      "[CV] random_forest__max_samples=0.1, random_forest__min_samples_split=1 \n"
     ]
    },
    {
     "name": "stderr",
     "output_type": "stream",
     "text": [
      "/opt/anaconda3/envs/learn-env/lib/python3.8/site-packages/sklearn/model_selection/_validation.py:548: FitFailedWarning: Estimator fit failed. The score on this train-test partition for these parameters will be set to nan. Details: \n",
      "Traceback (most recent call last):\n",
      "  File \"/opt/anaconda3/envs/learn-env/lib/python3.8/site-packages/sklearn/model_selection/_validation.py\", line 531, in _fit_and_score\n",
      "    estimator.fit(X_train, y_train, **fit_params)\n",
      "  File \"/opt/anaconda3/envs/learn-env/lib/python3.8/site-packages/sklearn/pipeline.py\", line 335, in fit\n",
      "    self._final_estimator.fit(Xt, y, **fit_params_last_step)\n",
      "  File \"/opt/anaconda3/envs/learn-env/lib/python3.8/site-packages/sklearn/ensemble/_forest.py\", line 386, in fit\n",
      "    trees = Parallel(n_jobs=self.n_jobs, verbose=self.verbose,\n",
      "  File \"/opt/anaconda3/envs/learn-env/lib/python3.8/site-packages/joblib/parallel.py\", line 1048, in __call__\n",
      "    if self.dispatch_one_batch(iterator):\n",
      "  File \"/opt/anaconda3/envs/learn-env/lib/python3.8/site-packages/joblib/parallel.py\", line 866, in dispatch_one_batch\n",
      "    self._dispatch(tasks)\n",
      "  File \"/opt/anaconda3/envs/learn-env/lib/python3.8/site-packages/joblib/parallel.py\", line 784, in _dispatch\n",
      "    job = self._backend.apply_async(batch, callback=cb)\n",
      "  File \"/opt/anaconda3/envs/learn-env/lib/python3.8/site-packages/joblib/_parallel_backends.py\", line 208, in apply_async\n",
      "    result = ImmediateResult(func)\n",
      "  File \"/opt/anaconda3/envs/learn-env/lib/python3.8/site-packages/joblib/_parallel_backends.py\", line 572, in __init__\n",
      "    self.results = batch()\n",
      "  File \"/opt/anaconda3/envs/learn-env/lib/python3.8/site-packages/joblib/parallel.py\", line 262, in __call__\n",
      "    return [func(*args, **kwargs)\n",
      "  File \"/opt/anaconda3/envs/learn-env/lib/python3.8/site-packages/joblib/parallel.py\", line 262, in <listcomp>\n",
      "    return [func(*args, **kwargs)\n",
      "  File \"/opt/anaconda3/envs/learn-env/lib/python3.8/site-packages/sklearn/ensemble/_forest.py\", line 168, in _parallel_build_trees\n",
      "    tree.fit(X, y, sample_weight=curr_sample_weight, check_input=False)\n",
      "  File \"/opt/anaconda3/envs/learn-env/lib/python3.8/site-packages/sklearn/tree/_classes.py\", line 890, in fit\n",
      "    super().fit(\n",
      "  File \"/opt/anaconda3/envs/learn-env/lib/python3.8/site-packages/sklearn/tree/_classes.py\", line 228, in fit\n",
      "    raise ValueError(\"min_samples_split must be an integer \"\n",
      "ValueError: min_samples_split must be an integer greater than 1 or a float in (0.0, 1.0]; got the integer 1\n",
      "\n",
      "  warnings.warn(\"Estimator fit failed. The score on this train-test\"\n"
     ]
    },
    {
     "name": "stdout",
     "output_type": "stream",
     "text": [
      "[CV]  random_forest__max_samples=0.1, random_forest__min_samples_split=1, score=nan, total=   0.8s\n",
      "[CV] random_forest__max_samples=0.1, random_forest__min_samples_split=1 \n"
     ]
    },
    {
     "name": "stderr",
     "output_type": "stream",
     "text": [
      "/opt/anaconda3/envs/learn-env/lib/python3.8/site-packages/sklearn/model_selection/_validation.py:548: FitFailedWarning: Estimator fit failed. The score on this train-test partition for these parameters will be set to nan. Details: \n",
      "Traceback (most recent call last):\n",
      "  File \"/opt/anaconda3/envs/learn-env/lib/python3.8/site-packages/sklearn/model_selection/_validation.py\", line 531, in _fit_and_score\n",
      "    estimator.fit(X_train, y_train, **fit_params)\n",
      "  File \"/opt/anaconda3/envs/learn-env/lib/python3.8/site-packages/sklearn/pipeline.py\", line 335, in fit\n",
      "    self._final_estimator.fit(Xt, y, **fit_params_last_step)\n",
      "  File \"/opt/anaconda3/envs/learn-env/lib/python3.8/site-packages/sklearn/ensemble/_forest.py\", line 386, in fit\n",
      "    trees = Parallel(n_jobs=self.n_jobs, verbose=self.verbose,\n",
      "  File \"/opt/anaconda3/envs/learn-env/lib/python3.8/site-packages/joblib/parallel.py\", line 1048, in __call__\n",
      "    if self.dispatch_one_batch(iterator):\n",
      "  File \"/opt/anaconda3/envs/learn-env/lib/python3.8/site-packages/joblib/parallel.py\", line 866, in dispatch_one_batch\n",
      "    self._dispatch(tasks)\n",
      "  File \"/opt/anaconda3/envs/learn-env/lib/python3.8/site-packages/joblib/parallel.py\", line 784, in _dispatch\n",
      "    job = self._backend.apply_async(batch, callback=cb)\n",
      "  File \"/opt/anaconda3/envs/learn-env/lib/python3.8/site-packages/joblib/_parallel_backends.py\", line 208, in apply_async\n",
      "    result = ImmediateResult(func)\n",
      "  File \"/opt/anaconda3/envs/learn-env/lib/python3.8/site-packages/joblib/_parallel_backends.py\", line 572, in __init__\n",
      "    self.results = batch()\n",
      "  File \"/opt/anaconda3/envs/learn-env/lib/python3.8/site-packages/joblib/parallel.py\", line 262, in __call__\n",
      "    return [func(*args, **kwargs)\n",
      "  File \"/opt/anaconda3/envs/learn-env/lib/python3.8/site-packages/joblib/parallel.py\", line 262, in <listcomp>\n",
      "    return [func(*args, **kwargs)\n",
      "  File \"/opt/anaconda3/envs/learn-env/lib/python3.8/site-packages/sklearn/ensemble/_forest.py\", line 168, in _parallel_build_trees\n",
      "    tree.fit(X, y, sample_weight=curr_sample_weight, check_input=False)\n",
      "  File \"/opt/anaconda3/envs/learn-env/lib/python3.8/site-packages/sklearn/tree/_classes.py\", line 890, in fit\n",
      "    super().fit(\n",
      "  File \"/opt/anaconda3/envs/learn-env/lib/python3.8/site-packages/sklearn/tree/_classes.py\", line 228, in fit\n",
      "    raise ValueError(\"min_samples_split must be an integer \"\n",
      "ValueError: min_samples_split must be an integer greater than 1 or a float in (0.0, 1.0]; got the integer 1\n",
      "\n",
      "  warnings.warn(\"Estimator fit failed. The score on this train-test\"\n"
     ]
    },
    {
     "name": "stdout",
     "output_type": "stream",
     "text": [
      "[CV]  random_forest__max_samples=0.1, random_forest__min_samples_split=1, score=nan, total=   0.8s\n",
      "[CV] random_forest__max_samples=0.1, random_forest__min_samples_split=1 \n"
     ]
    },
    {
     "name": "stderr",
     "output_type": "stream",
     "text": [
      "/opt/anaconda3/envs/learn-env/lib/python3.8/site-packages/sklearn/model_selection/_validation.py:548: FitFailedWarning: Estimator fit failed. The score on this train-test partition for these parameters will be set to nan. Details: \n",
      "Traceback (most recent call last):\n",
      "  File \"/opt/anaconda3/envs/learn-env/lib/python3.8/site-packages/sklearn/model_selection/_validation.py\", line 531, in _fit_and_score\n",
      "    estimator.fit(X_train, y_train, **fit_params)\n",
      "  File \"/opt/anaconda3/envs/learn-env/lib/python3.8/site-packages/sklearn/pipeline.py\", line 335, in fit\n",
      "    self._final_estimator.fit(Xt, y, **fit_params_last_step)\n",
      "  File \"/opt/anaconda3/envs/learn-env/lib/python3.8/site-packages/sklearn/ensemble/_forest.py\", line 386, in fit\n",
      "    trees = Parallel(n_jobs=self.n_jobs, verbose=self.verbose,\n",
      "  File \"/opt/anaconda3/envs/learn-env/lib/python3.8/site-packages/joblib/parallel.py\", line 1048, in __call__\n",
      "    if self.dispatch_one_batch(iterator):\n",
      "  File \"/opt/anaconda3/envs/learn-env/lib/python3.8/site-packages/joblib/parallel.py\", line 866, in dispatch_one_batch\n",
      "    self._dispatch(tasks)\n",
      "  File \"/opt/anaconda3/envs/learn-env/lib/python3.8/site-packages/joblib/parallel.py\", line 784, in _dispatch\n",
      "    job = self._backend.apply_async(batch, callback=cb)\n",
      "  File \"/opt/anaconda3/envs/learn-env/lib/python3.8/site-packages/joblib/_parallel_backends.py\", line 208, in apply_async\n",
      "    result = ImmediateResult(func)\n",
      "  File \"/opt/anaconda3/envs/learn-env/lib/python3.8/site-packages/joblib/_parallel_backends.py\", line 572, in __init__\n",
      "    self.results = batch()\n",
      "  File \"/opt/anaconda3/envs/learn-env/lib/python3.8/site-packages/joblib/parallel.py\", line 262, in __call__\n",
      "    return [func(*args, **kwargs)\n",
      "  File \"/opt/anaconda3/envs/learn-env/lib/python3.8/site-packages/joblib/parallel.py\", line 262, in <listcomp>\n",
      "    return [func(*args, **kwargs)\n",
      "  File \"/opt/anaconda3/envs/learn-env/lib/python3.8/site-packages/sklearn/ensemble/_forest.py\", line 168, in _parallel_build_trees\n",
      "    tree.fit(X, y, sample_weight=curr_sample_weight, check_input=False)\n",
      "  File \"/opt/anaconda3/envs/learn-env/lib/python3.8/site-packages/sklearn/tree/_classes.py\", line 890, in fit\n",
      "    super().fit(\n",
      "  File \"/opt/anaconda3/envs/learn-env/lib/python3.8/site-packages/sklearn/tree/_classes.py\", line 228, in fit\n",
      "    raise ValueError(\"min_samples_split must be an integer \"\n",
      "ValueError: min_samples_split must be an integer greater than 1 or a float in (0.0, 1.0]; got the integer 1\n",
      "\n",
      "  warnings.warn(\"Estimator fit failed. The score on this train-test\"\n"
     ]
    },
    {
     "name": "stdout",
     "output_type": "stream",
     "text": [
      "[CV]  random_forest__max_samples=0.1, random_forest__min_samples_split=1, score=nan, total=   0.9s\n",
      "[CV] random_forest__max_samples=0.1, random_forest__min_samples_split=2 \n",
      "[CV]  random_forest__max_samples=0.1, random_forest__min_samples_split=2, score=0.878, total=   4.5s\n",
      "[CV] random_forest__max_samples=0.1, random_forest__min_samples_split=2 \n",
      "[CV]  random_forest__max_samples=0.1, random_forest__min_samples_split=2, score=0.876, total=   4.7s\n",
      "[CV] random_forest__max_samples=0.1, random_forest__min_samples_split=2 \n",
      "[CV]  random_forest__max_samples=0.1, random_forest__min_samples_split=2, score=0.879, total=   4.4s\n",
      "[CV] random_forest__max_samples=0.1, random_forest__min_samples_split=2 \n",
      "[CV]  random_forest__max_samples=0.1, random_forest__min_samples_split=2, score=0.876, total=   4.4s\n",
      "[CV] random_forest__max_samples=0.1, random_forest__min_samples_split=2 \n",
      "[CV]  random_forest__max_samples=0.1, random_forest__min_samples_split=2, score=0.876, total=   4.7s\n",
      "[CV] random_forest__max_samples=0.1, random_forest__min_samples_split=3 \n",
      "[CV]  random_forest__max_samples=0.1, random_forest__min_samples_split=3, score=0.877, total=   4.1s\n",
      "[CV] random_forest__max_samples=0.1, random_forest__min_samples_split=3 \n",
      "[CV]  random_forest__max_samples=0.1, random_forest__min_samples_split=3, score=0.874, total=   4.2s\n",
      "[CV] random_forest__max_samples=0.1, random_forest__min_samples_split=3 \n",
      "[CV]  random_forest__max_samples=0.1, random_forest__min_samples_split=3, score=0.879, total=   4.1s\n",
      "[CV] random_forest__max_samples=0.1, random_forest__min_samples_split=3 \n",
      "[CV]  random_forest__max_samples=0.1, random_forest__min_samples_split=3, score=0.875, total=   4.5s\n",
      "[CV] random_forest__max_samples=0.1, random_forest__min_samples_split=3 \n",
      "[CV]  random_forest__max_samples=0.1, random_forest__min_samples_split=3, score=0.875, total=   3.9s\n",
      "[CV] random_forest__max_samples=0.1, random_forest__min_samples_split=4 \n",
      "[CV]  random_forest__max_samples=0.1, random_forest__min_samples_split=4, score=0.874, total=   3.9s\n",
      "[CV] random_forest__max_samples=0.1, random_forest__min_samples_split=4 \n",
      "[CV]  random_forest__max_samples=0.1, random_forest__min_samples_split=4, score=0.875, total=   4.4s\n",
      "[CV] random_forest__max_samples=0.1, random_forest__min_samples_split=4 \n",
      "[CV]  random_forest__max_samples=0.1, random_forest__min_samples_split=4, score=0.877, total=   4.3s\n",
      "[CV] random_forest__max_samples=0.1, random_forest__min_samples_split=4 \n",
      "[CV]  random_forest__max_samples=0.1, random_forest__min_samples_split=4, score=0.873, total=   4.3s\n",
      "[CV] random_forest__max_samples=0.1, random_forest__min_samples_split=4 \n",
      "[CV]  random_forest__max_samples=0.1, random_forest__min_samples_split=4, score=0.875, total=   4.2s\n",
      "[CV] random_forest__max_samples=1.0, random_forest__min_samples_split=1 \n"
     ]
    },
    {
     "name": "stderr",
     "output_type": "stream",
     "text": [
      "/opt/anaconda3/envs/learn-env/lib/python3.8/site-packages/sklearn/model_selection/_validation.py:548: FitFailedWarning: Estimator fit failed. The score on this train-test partition for these parameters will be set to nan. Details: \n",
      "Traceback (most recent call last):\n",
      "  File \"/opt/anaconda3/envs/learn-env/lib/python3.8/site-packages/sklearn/model_selection/_validation.py\", line 531, in _fit_and_score\n",
      "    estimator.fit(X_train, y_train, **fit_params)\n",
      "  File \"/opt/anaconda3/envs/learn-env/lib/python3.8/site-packages/sklearn/pipeline.py\", line 335, in fit\n",
      "    self._final_estimator.fit(Xt, y, **fit_params_last_step)\n",
      "  File \"/opt/anaconda3/envs/learn-env/lib/python3.8/site-packages/sklearn/ensemble/_forest.py\", line 342, in fit\n",
      "    n_samples_bootstrap = _get_n_samples_bootstrap(\n",
      "  File \"/opt/anaconda3/envs/learn-env/lib/python3.8/site-packages/sklearn/ensemble/_forest.py\", line 109, in _get_n_samples_bootstrap\n",
      "    raise ValueError(msg.format(max_samples))\n",
      "ValueError: `max_samples` must be in range (0, 1) but got value 1.0\n",
      "\n",
      "  warnings.warn(\"Estimator fit failed. The score on this train-test\"\n"
     ]
    },
    {
     "name": "stdout",
     "output_type": "stream",
     "text": [
      "[CV]  random_forest__max_samples=1.0, random_forest__min_samples_split=1, score=nan, total=   0.9s\n",
      "[CV] random_forest__max_samples=1.0, random_forest__min_samples_split=1 \n"
     ]
    },
    {
     "name": "stderr",
     "output_type": "stream",
     "text": [
      "/opt/anaconda3/envs/learn-env/lib/python3.8/site-packages/sklearn/model_selection/_validation.py:548: FitFailedWarning: Estimator fit failed. The score on this train-test partition for these parameters will be set to nan. Details: \n",
      "Traceback (most recent call last):\n",
      "  File \"/opt/anaconda3/envs/learn-env/lib/python3.8/site-packages/sklearn/model_selection/_validation.py\", line 531, in _fit_and_score\n",
      "    estimator.fit(X_train, y_train, **fit_params)\n",
      "  File \"/opt/anaconda3/envs/learn-env/lib/python3.8/site-packages/sklearn/pipeline.py\", line 335, in fit\n",
      "    self._final_estimator.fit(Xt, y, **fit_params_last_step)\n",
      "  File \"/opt/anaconda3/envs/learn-env/lib/python3.8/site-packages/sklearn/ensemble/_forest.py\", line 342, in fit\n",
      "    n_samples_bootstrap = _get_n_samples_bootstrap(\n",
      "  File \"/opt/anaconda3/envs/learn-env/lib/python3.8/site-packages/sklearn/ensemble/_forest.py\", line 109, in _get_n_samples_bootstrap\n",
      "    raise ValueError(msg.format(max_samples))\n",
      "ValueError: `max_samples` must be in range (0, 1) but got value 1.0\n",
      "\n",
      "  warnings.warn(\"Estimator fit failed. The score on this train-test\"\n"
     ]
    },
    {
     "name": "stdout",
     "output_type": "stream",
     "text": [
      "[CV]  random_forest__max_samples=1.0, random_forest__min_samples_split=1, score=nan, total=   0.9s\n",
      "[CV] random_forest__max_samples=1.0, random_forest__min_samples_split=1 \n"
     ]
    },
    {
     "name": "stderr",
     "output_type": "stream",
     "text": [
      "/opt/anaconda3/envs/learn-env/lib/python3.8/site-packages/sklearn/model_selection/_validation.py:548: FitFailedWarning: Estimator fit failed. The score on this train-test partition for these parameters will be set to nan. Details: \n",
      "Traceback (most recent call last):\n",
      "  File \"/opt/anaconda3/envs/learn-env/lib/python3.8/site-packages/sklearn/model_selection/_validation.py\", line 531, in _fit_and_score\n",
      "    estimator.fit(X_train, y_train, **fit_params)\n",
      "  File \"/opt/anaconda3/envs/learn-env/lib/python3.8/site-packages/sklearn/pipeline.py\", line 335, in fit\n",
      "    self._final_estimator.fit(Xt, y, **fit_params_last_step)\n",
      "  File \"/opt/anaconda3/envs/learn-env/lib/python3.8/site-packages/sklearn/ensemble/_forest.py\", line 342, in fit\n",
      "    n_samples_bootstrap = _get_n_samples_bootstrap(\n",
      "  File \"/opt/anaconda3/envs/learn-env/lib/python3.8/site-packages/sklearn/ensemble/_forest.py\", line 109, in _get_n_samples_bootstrap\n",
      "    raise ValueError(msg.format(max_samples))\n",
      "ValueError: `max_samples` must be in range (0, 1) but got value 1.0\n",
      "\n",
      "  warnings.warn(\"Estimator fit failed. The score on this train-test\"\n"
     ]
    },
    {
     "name": "stdout",
     "output_type": "stream",
     "text": [
      "[CV]  random_forest__max_samples=1.0, random_forest__min_samples_split=1, score=nan, total=   0.9s\n",
      "[CV] random_forest__max_samples=1.0, random_forest__min_samples_split=1 \n"
     ]
    },
    {
     "name": "stderr",
     "output_type": "stream",
     "text": [
      "/opt/anaconda3/envs/learn-env/lib/python3.8/site-packages/sklearn/model_selection/_validation.py:548: FitFailedWarning: Estimator fit failed. The score on this train-test partition for these parameters will be set to nan. Details: \n",
      "Traceback (most recent call last):\n",
      "  File \"/opt/anaconda3/envs/learn-env/lib/python3.8/site-packages/sklearn/model_selection/_validation.py\", line 531, in _fit_and_score\n",
      "    estimator.fit(X_train, y_train, **fit_params)\n",
      "  File \"/opt/anaconda3/envs/learn-env/lib/python3.8/site-packages/sklearn/pipeline.py\", line 335, in fit\n",
      "    self._final_estimator.fit(Xt, y, **fit_params_last_step)\n",
      "  File \"/opt/anaconda3/envs/learn-env/lib/python3.8/site-packages/sklearn/ensemble/_forest.py\", line 342, in fit\n",
      "    n_samples_bootstrap = _get_n_samples_bootstrap(\n",
      "  File \"/opt/anaconda3/envs/learn-env/lib/python3.8/site-packages/sklearn/ensemble/_forest.py\", line 109, in _get_n_samples_bootstrap\n",
      "    raise ValueError(msg.format(max_samples))\n",
      "ValueError: `max_samples` must be in range (0, 1) but got value 1.0\n",
      "\n",
      "  warnings.warn(\"Estimator fit failed. The score on this train-test\"\n"
     ]
    },
    {
     "name": "stdout",
     "output_type": "stream",
     "text": [
      "[CV]  random_forest__max_samples=1.0, random_forest__min_samples_split=1, score=nan, total=   0.8s\n",
      "[CV] random_forest__max_samples=1.0, random_forest__min_samples_split=1 \n"
     ]
    },
    {
     "name": "stderr",
     "output_type": "stream",
     "text": [
      "/opt/anaconda3/envs/learn-env/lib/python3.8/site-packages/sklearn/model_selection/_validation.py:548: FitFailedWarning: Estimator fit failed. The score on this train-test partition for these parameters will be set to nan. Details: \n",
      "Traceback (most recent call last):\n",
      "  File \"/opt/anaconda3/envs/learn-env/lib/python3.8/site-packages/sklearn/model_selection/_validation.py\", line 531, in _fit_and_score\n",
      "    estimator.fit(X_train, y_train, **fit_params)\n",
      "  File \"/opt/anaconda3/envs/learn-env/lib/python3.8/site-packages/sklearn/pipeline.py\", line 335, in fit\n",
      "    self._final_estimator.fit(Xt, y, **fit_params_last_step)\n",
      "  File \"/opt/anaconda3/envs/learn-env/lib/python3.8/site-packages/sklearn/ensemble/_forest.py\", line 342, in fit\n",
      "    n_samples_bootstrap = _get_n_samples_bootstrap(\n",
      "  File \"/opt/anaconda3/envs/learn-env/lib/python3.8/site-packages/sklearn/ensemble/_forest.py\", line 109, in _get_n_samples_bootstrap\n",
      "    raise ValueError(msg.format(max_samples))\n",
      "ValueError: `max_samples` must be in range (0, 1) but got value 1.0\n",
      "\n",
      "  warnings.warn(\"Estimator fit failed. The score on this train-test\"\n"
     ]
    },
    {
     "name": "stdout",
     "output_type": "stream",
     "text": [
      "[CV]  random_forest__max_samples=1.0, random_forest__min_samples_split=1, score=nan, total=   0.9s\n",
      "[CV] random_forest__max_samples=1.0, random_forest__min_samples_split=2 \n"
     ]
    },
    {
     "name": "stderr",
     "output_type": "stream",
     "text": [
      "/opt/anaconda3/envs/learn-env/lib/python3.8/site-packages/sklearn/model_selection/_validation.py:548: FitFailedWarning: Estimator fit failed. The score on this train-test partition for these parameters will be set to nan. Details: \n",
      "Traceback (most recent call last):\n",
      "  File \"/opt/anaconda3/envs/learn-env/lib/python3.8/site-packages/sklearn/model_selection/_validation.py\", line 531, in _fit_and_score\n",
      "    estimator.fit(X_train, y_train, **fit_params)\n",
      "  File \"/opt/anaconda3/envs/learn-env/lib/python3.8/site-packages/sklearn/pipeline.py\", line 335, in fit\n",
      "    self._final_estimator.fit(Xt, y, **fit_params_last_step)\n",
      "  File \"/opt/anaconda3/envs/learn-env/lib/python3.8/site-packages/sklearn/ensemble/_forest.py\", line 342, in fit\n",
      "    n_samples_bootstrap = _get_n_samples_bootstrap(\n",
      "  File \"/opt/anaconda3/envs/learn-env/lib/python3.8/site-packages/sklearn/ensemble/_forest.py\", line 109, in _get_n_samples_bootstrap\n",
      "    raise ValueError(msg.format(max_samples))\n",
      "ValueError: `max_samples` must be in range (0, 1) but got value 1.0\n",
      "\n",
      "  warnings.warn(\"Estimator fit failed. The score on this train-test\"\n"
     ]
    },
    {
     "name": "stdout",
     "output_type": "stream",
     "text": [
      "[CV]  random_forest__max_samples=1.0, random_forest__min_samples_split=2, score=nan, total=   0.9s\n",
      "[CV] random_forest__max_samples=1.0, random_forest__min_samples_split=2 \n"
     ]
    },
    {
     "name": "stderr",
     "output_type": "stream",
     "text": [
      "/opt/anaconda3/envs/learn-env/lib/python3.8/site-packages/sklearn/model_selection/_validation.py:548: FitFailedWarning: Estimator fit failed. The score on this train-test partition for these parameters will be set to nan. Details: \n",
      "Traceback (most recent call last):\n",
      "  File \"/opt/anaconda3/envs/learn-env/lib/python3.8/site-packages/sklearn/model_selection/_validation.py\", line 531, in _fit_and_score\n",
      "    estimator.fit(X_train, y_train, **fit_params)\n",
      "  File \"/opt/anaconda3/envs/learn-env/lib/python3.8/site-packages/sklearn/pipeline.py\", line 335, in fit\n",
      "    self._final_estimator.fit(Xt, y, **fit_params_last_step)\n",
      "  File \"/opt/anaconda3/envs/learn-env/lib/python3.8/site-packages/sklearn/ensemble/_forest.py\", line 342, in fit\n",
      "    n_samples_bootstrap = _get_n_samples_bootstrap(\n",
      "  File \"/opt/anaconda3/envs/learn-env/lib/python3.8/site-packages/sklearn/ensemble/_forest.py\", line 109, in _get_n_samples_bootstrap\n",
      "    raise ValueError(msg.format(max_samples))\n",
      "ValueError: `max_samples` must be in range (0, 1) but got value 1.0\n",
      "\n",
      "  warnings.warn(\"Estimator fit failed. The score on this train-test\"\n"
     ]
    },
    {
     "name": "stdout",
     "output_type": "stream",
     "text": [
      "[CV]  random_forest__max_samples=1.0, random_forest__min_samples_split=2, score=nan, total=   0.8s\n",
      "[CV] random_forest__max_samples=1.0, random_forest__min_samples_split=2 \n"
     ]
    },
    {
     "name": "stderr",
     "output_type": "stream",
     "text": [
      "/opt/anaconda3/envs/learn-env/lib/python3.8/site-packages/sklearn/model_selection/_validation.py:548: FitFailedWarning: Estimator fit failed. The score on this train-test partition for these parameters will be set to nan. Details: \n",
      "Traceback (most recent call last):\n",
      "  File \"/opt/anaconda3/envs/learn-env/lib/python3.8/site-packages/sklearn/model_selection/_validation.py\", line 531, in _fit_and_score\n",
      "    estimator.fit(X_train, y_train, **fit_params)\n",
      "  File \"/opt/anaconda3/envs/learn-env/lib/python3.8/site-packages/sklearn/pipeline.py\", line 335, in fit\n",
      "    self._final_estimator.fit(Xt, y, **fit_params_last_step)\n",
      "  File \"/opt/anaconda3/envs/learn-env/lib/python3.8/site-packages/sklearn/ensemble/_forest.py\", line 342, in fit\n",
      "    n_samples_bootstrap = _get_n_samples_bootstrap(\n",
      "  File \"/opt/anaconda3/envs/learn-env/lib/python3.8/site-packages/sklearn/ensemble/_forest.py\", line 109, in _get_n_samples_bootstrap\n",
      "    raise ValueError(msg.format(max_samples))\n",
      "ValueError: `max_samples` must be in range (0, 1) but got value 1.0\n",
      "\n",
      "  warnings.warn(\"Estimator fit failed. The score on this train-test\"\n"
     ]
    },
    {
     "name": "stdout",
     "output_type": "stream",
     "text": [
      "[CV]  random_forest__max_samples=1.0, random_forest__min_samples_split=2, score=nan, total=   0.9s\n",
      "[CV] random_forest__max_samples=1.0, random_forest__min_samples_split=2 \n"
     ]
    },
    {
     "name": "stderr",
     "output_type": "stream",
     "text": [
      "/opt/anaconda3/envs/learn-env/lib/python3.8/site-packages/sklearn/model_selection/_validation.py:548: FitFailedWarning: Estimator fit failed. The score on this train-test partition for these parameters will be set to nan. Details: \n",
      "Traceback (most recent call last):\n",
      "  File \"/opt/anaconda3/envs/learn-env/lib/python3.8/site-packages/sklearn/model_selection/_validation.py\", line 531, in _fit_and_score\n",
      "    estimator.fit(X_train, y_train, **fit_params)\n",
      "  File \"/opt/anaconda3/envs/learn-env/lib/python3.8/site-packages/sklearn/pipeline.py\", line 335, in fit\n",
      "    self._final_estimator.fit(Xt, y, **fit_params_last_step)\n",
      "  File \"/opt/anaconda3/envs/learn-env/lib/python3.8/site-packages/sklearn/ensemble/_forest.py\", line 342, in fit\n",
      "    n_samples_bootstrap = _get_n_samples_bootstrap(\n",
      "  File \"/opt/anaconda3/envs/learn-env/lib/python3.8/site-packages/sklearn/ensemble/_forest.py\", line 109, in _get_n_samples_bootstrap\n",
      "    raise ValueError(msg.format(max_samples))\n",
      "ValueError: `max_samples` must be in range (0, 1) but got value 1.0\n",
      "\n",
      "  warnings.warn(\"Estimator fit failed. The score on this train-test\"\n"
     ]
    },
    {
     "name": "stdout",
     "output_type": "stream",
     "text": [
      "[CV]  random_forest__max_samples=1.0, random_forest__min_samples_split=2, score=nan, total=   0.9s\n",
      "[CV] random_forest__max_samples=1.0, random_forest__min_samples_split=2 \n"
     ]
    },
    {
     "name": "stderr",
     "output_type": "stream",
     "text": [
      "/opt/anaconda3/envs/learn-env/lib/python3.8/site-packages/sklearn/model_selection/_validation.py:548: FitFailedWarning: Estimator fit failed. The score on this train-test partition for these parameters will be set to nan. Details: \n",
      "Traceback (most recent call last):\n",
      "  File \"/opt/anaconda3/envs/learn-env/lib/python3.8/site-packages/sklearn/model_selection/_validation.py\", line 531, in _fit_and_score\n",
      "    estimator.fit(X_train, y_train, **fit_params)\n",
      "  File \"/opt/anaconda3/envs/learn-env/lib/python3.8/site-packages/sklearn/pipeline.py\", line 335, in fit\n",
      "    self._final_estimator.fit(Xt, y, **fit_params_last_step)\n",
      "  File \"/opt/anaconda3/envs/learn-env/lib/python3.8/site-packages/sklearn/ensemble/_forest.py\", line 342, in fit\n",
      "    n_samples_bootstrap = _get_n_samples_bootstrap(\n",
      "  File \"/opt/anaconda3/envs/learn-env/lib/python3.8/site-packages/sklearn/ensemble/_forest.py\", line 109, in _get_n_samples_bootstrap\n",
      "    raise ValueError(msg.format(max_samples))\n",
      "ValueError: `max_samples` must be in range (0, 1) but got value 1.0\n",
      "\n",
      "  warnings.warn(\"Estimator fit failed. The score on this train-test\"\n"
     ]
    },
    {
     "name": "stdout",
     "output_type": "stream",
     "text": [
      "[CV]  random_forest__max_samples=1.0, random_forest__min_samples_split=2, score=nan, total=   0.9s\n",
      "[CV] random_forest__max_samples=1.0, random_forest__min_samples_split=3 \n"
     ]
    },
    {
     "name": "stderr",
     "output_type": "stream",
     "text": [
      "/opt/anaconda3/envs/learn-env/lib/python3.8/site-packages/sklearn/model_selection/_validation.py:548: FitFailedWarning: Estimator fit failed. The score on this train-test partition for these parameters will be set to nan. Details: \n",
      "Traceback (most recent call last):\n",
      "  File \"/opt/anaconda3/envs/learn-env/lib/python3.8/site-packages/sklearn/model_selection/_validation.py\", line 531, in _fit_and_score\n",
      "    estimator.fit(X_train, y_train, **fit_params)\n",
      "  File \"/opt/anaconda3/envs/learn-env/lib/python3.8/site-packages/sklearn/pipeline.py\", line 335, in fit\n",
      "    self._final_estimator.fit(Xt, y, **fit_params_last_step)\n",
      "  File \"/opt/anaconda3/envs/learn-env/lib/python3.8/site-packages/sklearn/ensemble/_forest.py\", line 342, in fit\n",
      "    n_samples_bootstrap = _get_n_samples_bootstrap(\n",
      "  File \"/opt/anaconda3/envs/learn-env/lib/python3.8/site-packages/sklearn/ensemble/_forest.py\", line 109, in _get_n_samples_bootstrap\n",
      "    raise ValueError(msg.format(max_samples))\n",
      "ValueError: `max_samples` must be in range (0, 1) but got value 1.0\n",
      "\n",
      "  warnings.warn(\"Estimator fit failed. The score on this train-test\"\n"
     ]
    },
    {
     "name": "stdout",
     "output_type": "stream",
     "text": [
      "[CV]  random_forest__max_samples=1.0, random_forest__min_samples_split=3, score=nan, total=   0.9s\n",
      "[CV] random_forest__max_samples=1.0, random_forest__min_samples_split=3 \n"
     ]
    },
    {
     "name": "stderr",
     "output_type": "stream",
     "text": [
      "/opt/anaconda3/envs/learn-env/lib/python3.8/site-packages/sklearn/model_selection/_validation.py:548: FitFailedWarning: Estimator fit failed. The score on this train-test partition for these parameters will be set to nan. Details: \n",
      "Traceback (most recent call last):\n",
      "  File \"/opt/anaconda3/envs/learn-env/lib/python3.8/site-packages/sklearn/model_selection/_validation.py\", line 531, in _fit_and_score\n",
      "    estimator.fit(X_train, y_train, **fit_params)\n",
      "  File \"/opt/anaconda3/envs/learn-env/lib/python3.8/site-packages/sklearn/pipeline.py\", line 335, in fit\n",
      "    self._final_estimator.fit(Xt, y, **fit_params_last_step)\n",
      "  File \"/opt/anaconda3/envs/learn-env/lib/python3.8/site-packages/sklearn/ensemble/_forest.py\", line 342, in fit\n",
      "    n_samples_bootstrap = _get_n_samples_bootstrap(\n",
      "  File \"/opt/anaconda3/envs/learn-env/lib/python3.8/site-packages/sklearn/ensemble/_forest.py\", line 109, in _get_n_samples_bootstrap\n",
      "    raise ValueError(msg.format(max_samples))\n",
      "ValueError: `max_samples` must be in range (0, 1) but got value 1.0\n",
      "\n",
      "  warnings.warn(\"Estimator fit failed. The score on this train-test\"\n"
     ]
    },
    {
     "name": "stdout",
     "output_type": "stream",
     "text": [
      "[CV]  random_forest__max_samples=1.0, random_forest__min_samples_split=3, score=nan, total=   0.9s\n",
      "[CV] random_forest__max_samples=1.0, random_forest__min_samples_split=3 \n"
     ]
    },
    {
     "name": "stderr",
     "output_type": "stream",
     "text": [
      "/opt/anaconda3/envs/learn-env/lib/python3.8/site-packages/sklearn/model_selection/_validation.py:548: FitFailedWarning: Estimator fit failed. The score on this train-test partition for these parameters will be set to nan. Details: \n",
      "Traceback (most recent call last):\n",
      "  File \"/opt/anaconda3/envs/learn-env/lib/python3.8/site-packages/sklearn/model_selection/_validation.py\", line 531, in _fit_and_score\n",
      "    estimator.fit(X_train, y_train, **fit_params)\n",
      "  File \"/opt/anaconda3/envs/learn-env/lib/python3.8/site-packages/sklearn/pipeline.py\", line 335, in fit\n",
      "    self._final_estimator.fit(Xt, y, **fit_params_last_step)\n",
      "  File \"/opt/anaconda3/envs/learn-env/lib/python3.8/site-packages/sklearn/ensemble/_forest.py\", line 342, in fit\n",
      "    n_samples_bootstrap = _get_n_samples_bootstrap(\n",
      "  File \"/opt/anaconda3/envs/learn-env/lib/python3.8/site-packages/sklearn/ensemble/_forest.py\", line 109, in _get_n_samples_bootstrap\n",
      "    raise ValueError(msg.format(max_samples))\n",
      "ValueError: `max_samples` must be in range (0, 1) but got value 1.0\n",
      "\n",
      "  warnings.warn(\"Estimator fit failed. The score on this train-test\"\n"
     ]
    },
    {
     "name": "stdout",
     "output_type": "stream",
     "text": [
      "[CV]  random_forest__max_samples=1.0, random_forest__min_samples_split=3, score=nan, total=   0.9s\n",
      "[CV] random_forest__max_samples=1.0, random_forest__min_samples_split=3 \n"
     ]
    },
    {
     "name": "stderr",
     "output_type": "stream",
     "text": [
      "/opt/anaconda3/envs/learn-env/lib/python3.8/site-packages/sklearn/model_selection/_validation.py:548: FitFailedWarning: Estimator fit failed. The score on this train-test partition for these parameters will be set to nan. Details: \n",
      "Traceback (most recent call last):\n",
      "  File \"/opt/anaconda3/envs/learn-env/lib/python3.8/site-packages/sklearn/model_selection/_validation.py\", line 531, in _fit_and_score\n",
      "    estimator.fit(X_train, y_train, **fit_params)\n",
      "  File \"/opt/anaconda3/envs/learn-env/lib/python3.8/site-packages/sklearn/pipeline.py\", line 335, in fit\n",
      "    self._final_estimator.fit(Xt, y, **fit_params_last_step)\n",
      "  File \"/opt/anaconda3/envs/learn-env/lib/python3.8/site-packages/sklearn/ensemble/_forest.py\", line 342, in fit\n",
      "    n_samples_bootstrap = _get_n_samples_bootstrap(\n",
      "  File \"/opt/anaconda3/envs/learn-env/lib/python3.8/site-packages/sklearn/ensemble/_forest.py\", line 109, in _get_n_samples_bootstrap\n",
      "    raise ValueError(msg.format(max_samples))\n",
      "ValueError: `max_samples` must be in range (0, 1) but got value 1.0\n",
      "\n",
      "  warnings.warn(\"Estimator fit failed. The score on this train-test\"\n"
     ]
    },
    {
     "name": "stdout",
     "output_type": "stream",
     "text": [
      "[CV]  random_forest__max_samples=1.0, random_forest__min_samples_split=3, score=nan, total=   0.8s\n",
      "[CV] random_forest__max_samples=1.0, random_forest__min_samples_split=3 \n"
     ]
    },
    {
     "name": "stderr",
     "output_type": "stream",
     "text": [
      "/opt/anaconda3/envs/learn-env/lib/python3.8/site-packages/sklearn/model_selection/_validation.py:548: FitFailedWarning: Estimator fit failed. The score on this train-test partition for these parameters will be set to nan. Details: \n",
      "Traceback (most recent call last):\n",
      "  File \"/opt/anaconda3/envs/learn-env/lib/python3.8/site-packages/sklearn/model_selection/_validation.py\", line 531, in _fit_and_score\n",
      "    estimator.fit(X_train, y_train, **fit_params)\n",
      "  File \"/opt/anaconda3/envs/learn-env/lib/python3.8/site-packages/sklearn/pipeline.py\", line 335, in fit\n",
      "    self._final_estimator.fit(Xt, y, **fit_params_last_step)\n",
      "  File \"/opt/anaconda3/envs/learn-env/lib/python3.8/site-packages/sklearn/ensemble/_forest.py\", line 342, in fit\n",
      "    n_samples_bootstrap = _get_n_samples_bootstrap(\n",
      "  File \"/opt/anaconda3/envs/learn-env/lib/python3.8/site-packages/sklearn/ensemble/_forest.py\", line 109, in _get_n_samples_bootstrap\n",
      "    raise ValueError(msg.format(max_samples))\n",
      "ValueError: `max_samples` must be in range (0, 1) but got value 1.0\n",
      "\n",
      "  warnings.warn(\"Estimator fit failed. The score on this train-test\"\n"
     ]
    },
    {
     "name": "stdout",
     "output_type": "stream",
     "text": [
      "[CV]  random_forest__max_samples=1.0, random_forest__min_samples_split=3, score=nan, total=   0.8s\n",
      "[CV] random_forest__max_samples=1.0, random_forest__min_samples_split=4 \n"
     ]
    },
    {
     "name": "stderr",
     "output_type": "stream",
     "text": [
      "/opt/anaconda3/envs/learn-env/lib/python3.8/site-packages/sklearn/model_selection/_validation.py:548: FitFailedWarning: Estimator fit failed. The score on this train-test partition for these parameters will be set to nan. Details: \n",
      "Traceback (most recent call last):\n",
      "  File \"/opt/anaconda3/envs/learn-env/lib/python3.8/site-packages/sklearn/model_selection/_validation.py\", line 531, in _fit_and_score\n",
      "    estimator.fit(X_train, y_train, **fit_params)\n",
      "  File \"/opt/anaconda3/envs/learn-env/lib/python3.8/site-packages/sklearn/pipeline.py\", line 335, in fit\n",
      "    self._final_estimator.fit(Xt, y, **fit_params_last_step)\n",
      "  File \"/opt/anaconda3/envs/learn-env/lib/python3.8/site-packages/sklearn/ensemble/_forest.py\", line 342, in fit\n",
      "    n_samples_bootstrap = _get_n_samples_bootstrap(\n",
      "  File \"/opt/anaconda3/envs/learn-env/lib/python3.8/site-packages/sklearn/ensemble/_forest.py\", line 109, in _get_n_samples_bootstrap\n",
      "    raise ValueError(msg.format(max_samples))\n",
      "ValueError: `max_samples` must be in range (0, 1) but got value 1.0\n",
      "\n",
      "  warnings.warn(\"Estimator fit failed. The score on this train-test\"\n"
     ]
    },
    {
     "name": "stdout",
     "output_type": "stream",
     "text": [
      "[CV]  random_forest__max_samples=1.0, random_forest__min_samples_split=4, score=nan, total=   0.8s\n",
      "[CV] random_forest__max_samples=1.0, random_forest__min_samples_split=4 \n"
     ]
    },
    {
     "name": "stderr",
     "output_type": "stream",
     "text": [
      "/opt/anaconda3/envs/learn-env/lib/python3.8/site-packages/sklearn/model_selection/_validation.py:548: FitFailedWarning: Estimator fit failed. The score on this train-test partition for these parameters will be set to nan. Details: \n",
      "Traceback (most recent call last):\n",
      "  File \"/opt/anaconda3/envs/learn-env/lib/python3.8/site-packages/sklearn/model_selection/_validation.py\", line 531, in _fit_and_score\n",
      "    estimator.fit(X_train, y_train, **fit_params)\n",
      "  File \"/opt/anaconda3/envs/learn-env/lib/python3.8/site-packages/sklearn/pipeline.py\", line 335, in fit\n",
      "    self._final_estimator.fit(Xt, y, **fit_params_last_step)\n",
      "  File \"/opt/anaconda3/envs/learn-env/lib/python3.8/site-packages/sklearn/ensemble/_forest.py\", line 342, in fit\n",
      "    n_samples_bootstrap = _get_n_samples_bootstrap(\n",
      "  File \"/opt/anaconda3/envs/learn-env/lib/python3.8/site-packages/sklearn/ensemble/_forest.py\", line 109, in _get_n_samples_bootstrap\n",
      "    raise ValueError(msg.format(max_samples))\n",
      "ValueError: `max_samples` must be in range (0, 1) but got value 1.0\n",
      "\n",
      "  warnings.warn(\"Estimator fit failed. The score on this train-test\"\n"
     ]
    },
    {
     "name": "stdout",
     "output_type": "stream",
     "text": [
      "[CV]  random_forest__max_samples=1.0, random_forest__min_samples_split=4, score=nan, total=   0.9s\n",
      "[CV] random_forest__max_samples=1.0, random_forest__min_samples_split=4 \n"
     ]
    },
    {
     "name": "stderr",
     "output_type": "stream",
     "text": [
      "/opt/anaconda3/envs/learn-env/lib/python3.8/site-packages/sklearn/model_selection/_validation.py:548: FitFailedWarning: Estimator fit failed. The score on this train-test partition for these parameters will be set to nan. Details: \n",
      "Traceback (most recent call last):\n",
      "  File \"/opt/anaconda3/envs/learn-env/lib/python3.8/site-packages/sklearn/model_selection/_validation.py\", line 531, in _fit_and_score\n",
      "    estimator.fit(X_train, y_train, **fit_params)\n",
      "  File \"/opt/anaconda3/envs/learn-env/lib/python3.8/site-packages/sklearn/pipeline.py\", line 335, in fit\n",
      "    self._final_estimator.fit(Xt, y, **fit_params_last_step)\n",
      "  File \"/opt/anaconda3/envs/learn-env/lib/python3.8/site-packages/sklearn/ensemble/_forest.py\", line 342, in fit\n",
      "    n_samples_bootstrap = _get_n_samples_bootstrap(\n",
      "  File \"/opt/anaconda3/envs/learn-env/lib/python3.8/site-packages/sklearn/ensemble/_forest.py\", line 109, in _get_n_samples_bootstrap\n",
      "    raise ValueError(msg.format(max_samples))\n",
      "ValueError: `max_samples` must be in range (0, 1) but got value 1.0\n",
      "\n",
      "  warnings.warn(\"Estimator fit failed. The score on this train-test\"\n"
     ]
    },
    {
     "name": "stdout",
     "output_type": "stream",
     "text": [
      "[CV]  random_forest__max_samples=1.0, random_forest__min_samples_split=4, score=nan, total=   0.9s\n",
      "[CV] random_forest__max_samples=1.0, random_forest__min_samples_split=4 \n"
     ]
    },
    {
     "name": "stderr",
     "output_type": "stream",
     "text": [
      "/opt/anaconda3/envs/learn-env/lib/python3.8/site-packages/sklearn/model_selection/_validation.py:548: FitFailedWarning: Estimator fit failed. The score on this train-test partition for these parameters will be set to nan. Details: \n",
      "Traceback (most recent call last):\n",
      "  File \"/opt/anaconda3/envs/learn-env/lib/python3.8/site-packages/sklearn/model_selection/_validation.py\", line 531, in _fit_and_score\n",
      "    estimator.fit(X_train, y_train, **fit_params)\n",
      "  File \"/opt/anaconda3/envs/learn-env/lib/python3.8/site-packages/sklearn/pipeline.py\", line 335, in fit\n",
      "    self._final_estimator.fit(Xt, y, **fit_params_last_step)\n",
      "  File \"/opt/anaconda3/envs/learn-env/lib/python3.8/site-packages/sklearn/ensemble/_forest.py\", line 342, in fit\n",
      "    n_samples_bootstrap = _get_n_samples_bootstrap(\n",
      "  File \"/opt/anaconda3/envs/learn-env/lib/python3.8/site-packages/sklearn/ensemble/_forest.py\", line 109, in _get_n_samples_bootstrap\n",
      "    raise ValueError(msg.format(max_samples))\n",
      "ValueError: `max_samples` must be in range (0, 1) but got value 1.0\n",
      "\n",
      "  warnings.warn(\"Estimator fit failed. The score on this train-test\"\n"
     ]
    },
    {
     "name": "stdout",
     "output_type": "stream",
     "text": [
      "[CV]  random_forest__max_samples=1.0, random_forest__min_samples_split=4, score=nan, total=   0.9s\n",
      "[CV] random_forest__max_samples=1.0, random_forest__min_samples_split=4 \n"
     ]
    },
    {
     "name": "stderr",
     "output_type": "stream",
     "text": [
      "/opt/anaconda3/envs/learn-env/lib/python3.8/site-packages/sklearn/model_selection/_validation.py:548: FitFailedWarning: Estimator fit failed. The score on this train-test partition for these parameters will be set to nan. Details: \n",
      "Traceback (most recent call last):\n",
      "  File \"/opt/anaconda3/envs/learn-env/lib/python3.8/site-packages/sklearn/model_selection/_validation.py\", line 531, in _fit_and_score\n",
      "    estimator.fit(X_train, y_train, **fit_params)\n",
      "  File \"/opt/anaconda3/envs/learn-env/lib/python3.8/site-packages/sklearn/pipeline.py\", line 335, in fit\n",
      "    self._final_estimator.fit(Xt, y, **fit_params_last_step)\n",
      "  File \"/opt/anaconda3/envs/learn-env/lib/python3.8/site-packages/sklearn/ensemble/_forest.py\", line 342, in fit\n",
      "    n_samples_bootstrap = _get_n_samples_bootstrap(\n",
      "  File \"/opt/anaconda3/envs/learn-env/lib/python3.8/site-packages/sklearn/ensemble/_forest.py\", line 109, in _get_n_samples_bootstrap\n",
      "    raise ValueError(msg.format(max_samples))\n",
      "ValueError: `max_samples` must be in range (0, 1) but got value 1.0\n",
      "\n",
      "  warnings.warn(\"Estimator fit failed. The score on this train-test\"\n",
      "[Parallel(n_jobs=1)]: Done  40 out of  40 | elapsed:  1.4min finished\n"
     ]
    },
    {
     "name": "stdout",
     "output_type": "stream",
     "text": [
      "[CV]  random_forest__max_samples=1.0, random_forest__min_samples_split=4, score=nan, total=   0.8s\n"
     ]
    },
    {
     "data": {
      "text/plain": [
       "GridSearchCV(cv=5,\n",
       "             estimator=Pipeline(steps=[('ct',\n",
       "                                        ColumnTransformer(remainder='passthrough',\n",
       "                                                          transformers=[('subpipe_numeric',\n",
       "                                                                         Pipeline(steps=[('ss',\n",
       "                                                                                          StandardScaler())]),\n",
       "                                                                         ['population',\n",
       "                                                                          'amount_tsh']),\n",
       "                                                                        ('subpipe_categorical',\n",
       "                                                                         Pipeline(steps=[('ohe',\n",
       "                                                                                          OneHotEncoder(handle_unknown='ignore',\n",
       "                                                                                                        sparse=False))]),\n",
       "                                                                         ['funder',\n",
       "                                                                          'installer',\n",
       "                                                                          'region_code',\n",
       "                                                                          'district_code',\n",
       "                                                                          'extraction_type_class',\n",
       "                                                                          'management',\n",
       "                                                                          'quality_group',\n",
       "                                                                          'quantity_group',\n",
       "                                                                          'source_type',\n",
       "                                                                          'source_class',\n",
       "                                                                          'waterpoint_type_group'])])),\n",
       "                                       ('random_forest',\n",
       "                                        RandomForestClassifier(max_features='sqrt',\n",
       "                                                               max_samples=0.3,\n",
       "                                                               random_state=1))]),\n",
       "             param_grid={'random_forest__max_samples': [0.1, 1.0],\n",
       "                         'random_forest__min_samples_split': range(1, 5)},\n",
       "             scoring='f1', verbose=3)"
      ]
     },
     "execution_count": 115,
     "metadata": {},
     "output_type": "execute_result"
    }
   ],
   "source": [
    "gs_rf.fit(X_train, y_train)"
   ]
  },
  {
   "cell_type": "code",
   "execution_count": 116,
   "metadata": {
    "scrolled": true
   },
   "outputs": [
    {
     "data": {
      "text/plain": [
       "{'random_forest__max_samples': 0.1, 'random_forest__min_samples_split': 2}"
      ]
     },
     "execution_count": 116,
     "metadata": {},
     "output_type": "execute_result"
    }
   ],
   "source": [
    "gs_rf.best_params_"
   ]
  },
  {
   "cell_type": "code",
   "execution_count": 120,
   "metadata": {},
   "outputs": [
    {
     "data": {
      "text/plain": [
       "0.8978473434303624"
      ]
     },
     "execution_count": 120,
     "metadata": {},
     "output_type": "execute_result"
    }
   ],
   "source": [
    "rf_model2 = Pipeline(steps=[('ct', CT),\n",
    "                            ('random_forest', RandomForestClassifier(max_features='sqrt',\n",
    "                            max_samples=0.1,\n",
    "                            random_state=1))])\n",
    "rf_model2.fit(X_train, y_train)\n",
    "f1_score(y_train, rf_model2.predict(X_train))"
   ]
  },
  {
   "cell_type": "code",
   "execution_count": 121,
   "metadata": {},
   "outputs": [
    {
     "name": "stdout",
     "output_type": "stream",
     "text": [
      "CV Results for `random_forest` model:\n",
      "            0.87862 ± 0.00406 f1 score\n",
      "        \n"
     ]
    }
   ],
   "source": [
    "cv_decision = ModelWithCV(rf_model2, 'random_forest', X_train, y_train)\n",
    "cv_decision.print_cv_summary()"
   ]
  },
  {
   "cell_type": "markdown",
   "metadata": {},
   "source": [
    "## Final Model Predictions:\n",
    "- Using the rf_model since it had the highest cross validation score"
   ]
  },
  {
   "cell_type": "code",
   "execution_count": 123,
   "metadata": {
    "scrolled": true
   },
   "outputs": [
    {
     "name": "stdout",
     "output_type": "stream",
     "text": [
      "Training: 0.9229916685775433\n",
      "Testing: 0.8778155423699522\n"
     ]
    }
   ],
   "source": [
    "print('Training:',f1_score(y_train, rf_model.predict(X_train)))\n",
    "print('Testing:', f1_score(y_test, rf_model.predict(X_test)))"
   ]
  },
  {
   "cell_type": "code",
   "execution_count": null,
   "metadata": {},
   "outputs": [],
   "source": [
    "#confusion model on testing data "
   ]
  },
  {
   "cell_type": "code",
   "execution_count": null,
   "metadata": {},
   "outputs": [],
   "source": [
    "#graphing feature importance in my model. Y is level or importance X is all my features. Graph the top 5 or 10 features "
   ]
  },
  {
   "cell_type": "code",
   "execution_count": 182,
   "metadata": {
    "scrolled": true
   },
   "outputs": [
    {
     "data": {
      "text/plain": [
       "3417"
      ]
     },
     "execution_count": 182,
     "metadata": {},
     "output_type": "execute_result"
    }
   ],
   "source": [
    "len(rf_model['random_forest'].feature_importances_)\n",
    "\n"
   ]
  },
  {
   "cell_type": "code",
   "execution_count": 141,
   "metadata": {},
   "outputs": [
    {
     "ename": "AttributeError",
     "evalue": "'RandomForestClassifier' object has no attribute 'feature_names_'",
     "output_type": "error",
     "traceback": [
      "\u001b[0;31m---------------------------------------------------------------------------\u001b[0m",
      "\u001b[0;31mAttributeError\u001b[0m                            Traceback (most recent call last)",
      "\u001b[0;32m<ipython-input-141-da13eaa813ac>\u001b[0m in \u001b[0;36m<module>\u001b[0;34m\u001b[0m\n\u001b[0;32m----> 1\u001b[0;31m \u001b[0mrf_model\u001b[0m\u001b[0;34m[\u001b[0m\u001b[0;34m'random_forest'\u001b[0m\u001b[0;34m]\u001b[0m\u001b[0;34m.\u001b[0m\u001b[0mfeature_names_\u001b[0m\u001b[0;34m\u001b[0m\u001b[0;34m\u001b[0m\u001b[0m\n\u001b[0m",
      "\u001b[0;31mAttributeError\u001b[0m: 'RandomForestClassifier' object has no attribute 'feature_names_'"
     ]
    }
   ],
   "source": [
    "rf_model['random_forest'].feature_names_"
   ]
  },
  {
   "cell_type": "code",
   "execution_count": 146,
   "metadata": {
    "scrolled": false
   },
   "outputs": [
    {
     "data": {
      "text/html": [
       "<div>\n",
       "<style scoped>\n",
       "    .dataframe tbody tr th:only-of-type {\n",
       "        vertical-align: middle;\n",
       "    }\n",
       "\n",
       "    .dataframe tbody tr th {\n",
       "        vertical-align: top;\n",
       "    }\n",
       "\n",
       "    .dataframe thead th {\n",
       "        text-align: right;\n",
       "    }\n",
       "</style>\n",
       "<table border=\"1\" class=\"dataframe\">\n",
       "  <thead>\n",
       "    <tr style=\"text-align: right;\">\n",
       "      <th></th>\n",
       "      <th>0</th>\n",
       "      <th>1</th>\n",
       "      <th>2</th>\n",
       "      <th>3</th>\n",
       "      <th>4</th>\n",
       "      <th>5</th>\n",
       "      <th>6</th>\n",
       "      <th>7</th>\n",
       "      <th>8</th>\n",
       "      <th>9</th>\n",
       "      <th>...</th>\n",
       "      <th>3407</th>\n",
       "      <th>3408</th>\n",
       "      <th>3409</th>\n",
       "      <th>3410</th>\n",
       "      <th>3411</th>\n",
       "      <th>3412</th>\n",
       "      <th>3413</th>\n",
       "      <th>3414</th>\n",
       "      <th>3415</th>\n",
       "      <th>3416</th>\n",
       "    </tr>\n",
       "  </thead>\n",
       "  <tbody>\n",
       "    <tr>\n",
       "      <th>0</th>\n",
       "      <td>-0.383591</td>\n",
       "      <td>0.028459</td>\n",
       "      <td>0.0</td>\n",
       "      <td>0.0</td>\n",
       "      <td>0.0</td>\n",
       "      <td>0.0</td>\n",
       "      <td>0.0</td>\n",
       "      <td>0.0</td>\n",
       "      <td>0.0</td>\n",
       "      <td>0.0</td>\n",
       "      <td>...</td>\n",
       "      <td>0.0</td>\n",
       "      <td>0.0</td>\n",
       "      <td>1.0</td>\n",
       "      <td>0.0</td>\n",
       "      <td>1.0</td>\n",
       "      <td>0.0</td>\n",
       "      <td>0.0</td>\n",
       "      <td>0.0</td>\n",
       "      <td>0.0</td>\n",
       "      <td>0.0</td>\n",
       "    </tr>\n",
       "    <tr>\n",
       "      <th>1</th>\n",
       "      <td>-0.385668</td>\n",
       "      <td>-0.128724</td>\n",
       "      <td>0.0</td>\n",
       "      <td>0.0</td>\n",
       "      <td>0.0</td>\n",
       "      <td>0.0</td>\n",
       "      <td>0.0</td>\n",
       "      <td>0.0</td>\n",
       "      <td>0.0</td>\n",
       "      <td>0.0</td>\n",
       "      <td>...</td>\n",
       "      <td>1.0</td>\n",
       "      <td>0.0</td>\n",
       "      <td>0.0</td>\n",
       "      <td>0.0</td>\n",
       "      <td>0.0</td>\n",
       "      <td>0.0</td>\n",
       "      <td>0.0</td>\n",
       "      <td>0.0</td>\n",
       "      <td>1.0</td>\n",
       "      <td>1.0</td>\n",
       "    </tr>\n",
       "    <tr>\n",
       "      <th>2</th>\n",
       "      <td>0.029582</td>\n",
       "      <td>-0.128724</td>\n",
       "      <td>0.0</td>\n",
       "      <td>0.0</td>\n",
       "      <td>0.0</td>\n",
       "      <td>0.0</td>\n",
       "      <td>0.0</td>\n",
       "      <td>0.0</td>\n",
       "      <td>0.0</td>\n",
       "      <td>0.0</td>\n",
       "      <td>...</td>\n",
       "      <td>0.0</td>\n",
       "      <td>1.0</td>\n",
       "      <td>0.0</td>\n",
       "      <td>0.0</td>\n",
       "      <td>1.0</td>\n",
       "      <td>0.0</td>\n",
       "      <td>0.0</td>\n",
       "      <td>0.0</td>\n",
       "      <td>0.0</td>\n",
       "      <td>1.0</td>\n",
       "    </tr>\n",
       "    <tr>\n",
       "      <th>3</th>\n",
       "      <td>0.548645</td>\n",
       "      <td>0.067755</td>\n",
       "      <td>0.0</td>\n",
       "      <td>0.0</td>\n",
       "      <td>0.0</td>\n",
       "      <td>0.0</td>\n",
       "      <td>0.0</td>\n",
       "      <td>0.0</td>\n",
       "      <td>0.0</td>\n",
       "      <td>0.0</td>\n",
       "      <td>...</td>\n",
       "      <td>1.0</td>\n",
       "      <td>0.0</td>\n",
       "      <td>0.0</td>\n",
       "      <td>0.0</td>\n",
       "      <td>0.0</td>\n",
       "      <td>0.0</td>\n",
       "      <td>1.0</td>\n",
       "      <td>0.0</td>\n",
       "      <td>0.0</td>\n",
       "      <td>1.0</td>\n",
       "    </tr>\n",
       "    <tr>\n",
       "      <th>4</th>\n",
       "      <td>-0.385668</td>\n",
       "      <td>-0.128724</td>\n",
       "      <td>0.0</td>\n",
       "      <td>0.0</td>\n",
       "      <td>1.0</td>\n",
       "      <td>0.0</td>\n",
       "      <td>0.0</td>\n",
       "      <td>0.0</td>\n",
       "      <td>0.0</td>\n",
       "      <td>0.0</td>\n",
       "      <td>...</td>\n",
       "      <td>1.0</td>\n",
       "      <td>0.0</td>\n",
       "      <td>0.0</td>\n",
       "      <td>0.0</td>\n",
       "      <td>0.0</td>\n",
       "      <td>0.0</td>\n",
       "      <td>1.0</td>\n",
       "      <td>0.0</td>\n",
       "      <td>0.0</td>\n",
       "      <td>0.0</td>\n",
       "    </tr>\n",
       "    <tr>\n",
       "      <th>...</th>\n",
       "      <td>...</td>\n",
       "      <td>...</td>\n",
       "      <td>...</td>\n",
       "      <td>...</td>\n",
       "      <td>...</td>\n",
       "      <td>...</td>\n",
       "      <td>...</td>\n",
       "      <td>...</td>\n",
       "      <td>...</td>\n",
       "      <td>...</td>\n",
       "      <td>...</td>\n",
       "      <td>...</td>\n",
       "      <td>...</td>\n",
       "      <td>...</td>\n",
       "      <td>...</td>\n",
       "      <td>...</td>\n",
       "      <td>...</td>\n",
       "      <td>...</td>\n",
       "      <td>...</td>\n",
       "      <td>...</td>\n",
       "      <td>...</td>\n",
       "    </tr>\n",
       "    <tr>\n",
       "      <th>40184</th>\n",
       "      <td>-0.383591</td>\n",
       "      <td>-0.050132</td>\n",
       "      <td>0.0</td>\n",
       "      <td>0.0</td>\n",
       "      <td>0.0</td>\n",
       "      <td>0.0</td>\n",
       "      <td>0.0</td>\n",
       "      <td>0.0</td>\n",
       "      <td>0.0</td>\n",
       "      <td>0.0</td>\n",
       "      <td>...</td>\n",
       "      <td>1.0</td>\n",
       "      <td>0.0</td>\n",
       "      <td>0.0</td>\n",
       "      <td>0.0</td>\n",
       "      <td>1.0</td>\n",
       "      <td>0.0</td>\n",
       "      <td>0.0</td>\n",
       "      <td>0.0</td>\n",
       "      <td>0.0</td>\n",
       "      <td>1.0</td>\n",
       "    </tr>\n",
       "    <tr>\n",
       "      <th>40185</th>\n",
       "      <td>0.341020</td>\n",
       "      <td>-0.128724</td>\n",
       "      <td>0.0</td>\n",
       "      <td>0.0</td>\n",
       "      <td>0.0</td>\n",
       "      <td>0.0</td>\n",
       "      <td>0.0</td>\n",
       "      <td>0.0</td>\n",
       "      <td>0.0</td>\n",
       "      <td>0.0</td>\n",
       "      <td>...</td>\n",
       "      <td>1.0</td>\n",
       "      <td>0.0</td>\n",
       "      <td>0.0</td>\n",
       "      <td>0.0</td>\n",
       "      <td>0.0</td>\n",
       "      <td>0.0</td>\n",
       "      <td>1.0</td>\n",
       "      <td>0.0</td>\n",
       "      <td>0.0</td>\n",
       "      <td>0.0</td>\n",
       "    </tr>\n",
       "    <tr>\n",
       "      <th>40186</th>\n",
       "      <td>-0.385668</td>\n",
       "      <td>-0.128724</td>\n",
       "      <td>0.0</td>\n",
       "      <td>0.0</td>\n",
       "      <td>0.0</td>\n",
       "      <td>0.0</td>\n",
       "      <td>0.0</td>\n",
       "      <td>0.0</td>\n",
       "      <td>0.0</td>\n",
       "      <td>0.0</td>\n",
       "      <td>...</td>\n",
       "      <td>1.0</td>\n",
       "      <td>0.0</td>\n",
       "      <td>0.0</td>\n",
       "      <td>0.0</td>\n",
       "      <td>0.0</td>\n",
       "      <td>0.0</td>\n",
       "      <td>1.0</td>\n",
       "      <td>0.0</td>\n",
       "      <td>0.0</td>\n",
       "      <td>0.0</td>\n",
       "    </tr>\n",
       "    <tr>\n",
       "      <th>40187</th>\n",
       "      <td>-0.385668</td>\n",
       "      <td>-0.128724</td>\n",
       "      <td>0.0</td>\n",
       "      <td>0.0</td>\n",
       "      <td>0.0</td>\n",
       "      <td>0.0</td>\n",
       "      <td>0.0</td>\n",
       "      <td>0.0</td>\n",
       "      <td>0.0</td>\n",
       "      <td>0.0</td>\n",
       "      <td>...</td>\n",
       "      <td>0.0</td>\n",
       "      <td>1.0</td>\n",
       "      <td>0.0</td>\n",
       "      <td>0.0</td>\n",
       "      <td>1.0</td>\n",
       "      <td>0.0</td>\n",
       "      <td>0.0</td>\n",
       "      <td>0.0</td>\n",
       "      <td>0.0</td>\n",
       "      <td>0.0</td>\n",
       "    </tr>\n",
       "    <tr>\n",
       "      <th>40188</th>\n",
       "      <td>-0.094993</td>\n",
       "      <td>-0.124794</td>\n",
       "      <td>0.0</td>\n",
       "      <td>0.0</td>\n",
       "      <td>0.0</td>\n",
       "      <td>0.0</td>\n",
       "      <td>0.0</td>\n",
       "      <td>0.0</td>\n",
       "      <td>0.0</td>\n",
       "      <td>0.0</td>\n",
       "      <td>...</td>\n",
       "      <td>0.0</td>\n",
       "      <td>1.0</td>\n",
       "      <td>0.0</td>\n",
       "      <td>0.0</td>\n",
       "      <td>1.0</td>\n",
       "      <td>0.0</td>\n",
       "      <td>0.0</td>\n",
       "      <td>0.0</td>\n",
       "      <td>0.0</td>\n",
       "      <td>1.0</td>\n",
       "    </tr>\n",
       "  </tbody>\n",
       "</table>\n",
       "<p>40189 rows × 3417 columns</p>\n",
       "</div>"
      ],
      "text/plain": [
       "           0         1     2     3     4     5     6     7     8     9     \\\n",
       "0     -0.383591  0.028459   0.0   0.0   0.0   0.0   0.0   0.0   0.0   0.0   \n",
       "1     -0.385668 -0.128724   0.0   0.0   0.0   0.0   0.0   0.0   0.0   0.0   \n",
       "2      0.029582 -0.128724   0.0   0.0   0.0   0.0   0.0   0.0   0.0   0.0   \n",
       "3      0.548645  0.067755   0.0   0.0   0.0   0.0   0.0   0.0   0.0   0.0   \n",
       "4     -0.385668 -0.128724   0.0   0.0   1.0   0.0   0.0   0.0   0.0   0.0   \n",
       "...         ...       ...   ...   ...   ...   ...   ...   ...   ...   ...   \n",
       "40184 -0.383591 -0.050132   0.0   0.0   0.0   0.0   0.0   0.0   0.0   0.0   \n",
       "40185  0.341020 -0.128724   0.0   0.0   0.0   0.0   0.0   0.0   0.0   0.0   \n",
       "40186 -0.385668 -0.128724   0.0   0.0   0.0   0.0   0.0   0.0   0.0   0.0   \n",
       "40187 -0.385668 -0.128724   0.0   0.0   0.0   0.0   0.0   0.0   0.0   0.0   \n",
       "40188 -0.094993 -0.124794   0.0   0.0   0.0   0.0   0.0   0.0   0.0   0.0   \n",
       "\n",
       "       ...  3407  3408  3409  3410  3411  3412  3413  3414  3415  3416  \n",
       "0      ...   0.0   0.0   1.0   0.0   1.0   0.0   0.0   0.0   0.0   0.0  \n",
       "1      ...   1.0   0.0   0.0   0.0   0.0   0.0   0.0   0.0   1.0   1.0  \n",
       "2      ...   0.0   1.0   0.0   0.0   1.0   0.0   0.0   0.0   0.0   1.0  \n",
       "3      ...   1.0   0.0   0.0   0.0   0.0   0.0   1.0   0.0   0.0   1.0  \n",
       "4      ...   1.0   0.0   0.0   0.0   0.0   0.0   1.0   0.0   0.0   0.0  \n",
       "...    ...   ...   ...   ...   ...   ...   ...   ...   ...   ...   ...  \n",
       "40184  ...   1.0   0.0   0.0   0.0   1.0   0.0   0.0   0.0   0.0   1.0  \n",
       "40185  ...   1.0   0.0   0.0   0.0   0.0   0.0   1.0   0.0   0.0   0.0  \n",
       "40186  ...   1.0   0.0   0.0   0.0   0.0   0.0   1.0   0.0   0.0   0.0  \n",
       "40187  ...   0.0   1.0   0.0   0.0   1.0   0.0   0.0   0.0   0.0   0.0  \n",
       "40188  ...   0.0   1.0   0.0   0.0   1.0   0.0   0.0   0.0   0.0   1.0  \n",
       "\n",
       "[40189 rows x 3417 columns]"
      ]
     },
     "execution_count": 146,
     "metadata": {},
     "output_type": "execute_result"
    }
   ],
   "source": [
    "pd.DataFrame(ct_transform) #this shows the one hot encode"
   ]
  },
  {
   "cell_type": "code",
   "execution_count": 148,
   "metadata": {
    "collapsed": true
   },
   "outputs": [
    {
     "ename": "AttributeError",
     "evalue": "Transformer subpipe_numeric (type Pipeline) does not provide get_feature_names.",
     "output_type": "error",
     "traceback": [
      "\u001b[0;31m---------------------------------------------------------------------------\u001b[0m",
      "\u001b[0;31mAttributeError\u001b[0m                            Traceback (most recent call last)",
      "\u001b[0;32m<ipython-input-148-3560dcab9c63>\u001b[0m in \u001b[0;36m<module>\u001b[0;34m\u001b[0m\n\u001b[0;32m----> 1\u001b[0;31m \u001b[0mCT\u001b[0m\u001b[0;34m.\u001b[0m\u001b[0mget_feature_names\u001b[0m\u001b[0;34m(\u001b[0m\u001b[0;34m)\u001b[0m\u001b[0;34m\u001b[0m\u001b[0;34m\u001b[0m\u001b[0m\n\u001b[0m",
      "\u001b[0;32m/opt/anaconda3/envs/learn-env/lib/python3.8/site-packages/sklearn/compose/_column_transformer.py\u001b[0m in \u001b[0;36mget_feature_names\u001b[0;34m(self)\u001b[0m\n\u001b[1;32m    369\u001b[0m                 \u001b[0;32mcontinue\u001b[0m\u001b[0;34m\u001b[0m\u001b[0;34m\u001b[0m\u001b[0m\n\u001b[1;32m    370\u001b[0m             \u001b[0;32mif\u001b[0m \u001b[0;32mnot\u001b[0m \u001b[0mhasattr\u001b[0m\u001b[0;34m(\u001b[0m\u001b[0mtrans\u001b[0m\u001b[0;34m,\u001b[0m \u001b[0;34m'get_feature_names'\u001b[0m\u001b[0;34m)\u001b[0m\u001b[0;34m:\u001b[0m\u001b[0;34m\u001b[0m\u001b[0;34m\u001b[0m\u001b[0m\n\u001b[0;32m--> 371\u001b[0;31m                 raise AttributeError(\"Transformer %s (type %s) does not \"\n\u001b[0m\u001b[1;32m    372\u001b[0m                                      \u001b[0;34m\"provide get_feature_names.\"\u001b[0m\u001b[0;34m\u001b[0m\u001b[0;34m\u001b[0m\u001b[0m\n\u001b[1;32m    373\u001b[0m                                      % (str(name), type(trans).__name__))\n",
      "\u001b[0;31mAttributeError\u001b[0m: Transformer subpipe_numeric (type Pipeline) does not provide get_feature_names."
     ]
    }
   ],
   "source": [
    "CT.get_feature_names()"
   ]
  },
  {
   "cell_type": "code",
   "execution_count": 152,
   "metadata": {
    "scrolled": true
   },
   "outputs": [
    {
     "ename": "AttributeError",
     "evalue": "Transformer subpipe_numeric (type Pipeline) does not provide get_feature_names.",
     "output_type": "error",
     "traceback": [
      "\u001b[0;31m---------------------------------------------------------------------------\u001b[0m",
      "\u001b[0;31mAttributeError\u001b[0m                            Traceback (most recent call last)",
      "\u001b[0;32m<ipython-input-152-3560dcab9c63>\u001b[0m in \u001b[0;36m<module>\u001b[0;34m\u001b[0m\n\u001b[0;32m----> 1\u001b[0;31m \u001b[0mCT\u001b[0m\u001b[0;34m.\u001b[0m\u001b[0mget_feature_names\u001b[0m\u001b[0;34m(\u001b[0m\u001b[0;34m)\u001b[0m\u001b[0;34m\u001b[0m\u001b[0;34m\u001b[0m\u001b[0m\n\u001b[0m",
      "\u001b[0;32m/opt/anaconda3/envs/learn-env/lib/python3.8/site-packages/sklearn/compose/_column_transformer.py\u001b[0m in \u001b[0;36mget_feature_names\u001b[0;34m(self)\u001b[0m\n\u001b[1;32m    369\u001b[0m                 \u001b[0;32mcontinue\u001b[0m\u001b[0;34m\u001b[0m\u001b[0;34m\u001b[0m\u001b[0m\n\u001b[1;32m    370\u001b[0m             \u001b[0;32mif\u001b[0m \u001b[0;32mnot\u001b[0m \u001b[0mhasattr\u001b[0m\u001b[0;34m(\u001b[0m\u001b[0mtrans\u001b[0m\u001b[0;34m,\u001b[0m \u001b[0;34m'get_feature_names'\u001b[0m\u001b[0;34m)\u001b[0m\u001b[0;34m:\u001b[0m\u001b[0;34m\u001b[0m\u001b[0;34m\u001b[0m\u001b[0m\n\u001b[0;32m--> 371\u001b[0;31m                 raise AttributeError(\"Transformer %s (type %s) does not \"\n\u001b[0m\u001b[1;32m    372\u001b[0m                                      \u001b[0;34m\"provide get_feature_names.\"\u001b[0m\u001b[0;34m\u001b[0m\u001b[0;34m\u001b[0m\u001b[0m\n\u001b[1;32m    373\u001b[0m                                      % (str(name), type(trans).__name__))\n",
      "\u001b[0;31mAttributeError\u001b[0m: Transformer subpipe_numeric (type Pipeline) does not provide get_feature_names."
     ]
    }
   ],
   "source": [
    "CT.get_feature_names()"
   ]
  },
  {
   "cell_type": "code",
   "execution_count": 161,
   "metadata": {},
   "outputs": [
    {
     "data": {
      "text/plain": [
       "ColumnTransformer(remainder='passthrough',\n",
       "                  transformers=[('subpipe_numeric',\n",
       "                                 Pipeline(steps=[('ss', StandardScaler())]),\n",
       "                                 ['population', 'amount_tsh']),\n",
       "                                ('subpipe_categorical',\n",
       "                                 Pipeline(steps=[('ohe',\n",
       "                                                  OneHotEncoder(handle_unknown='ignore',\n",
       "                                                                sparse=False))]),\n",
       "                                 ['funder', 'installer', 'region_code',\n",
       "                                  'district_code', 'extraction_type_class',\n",
       "                                  'management', 'quality_group',\n",
       "                                  'quantity_group', 'source_type',\n",
       "                                  'source_class', 'waterpoint_type_group'])])"
      ]
     },
     "execution_count": 161,
     "metadata": {},
     "output_type": "execute_result"
    }
   ],
   "source": [
    "CT"
   ]
  },
  {
   "cell_type": "code",
   "execution_count": 173,
   "metadata": {},
   "outputs": [],
   "source": [
    "feature_names = ['population', 'amount_tsh']"
   ]
  },
  {
   "cell_type": "code",
   "execution_count": 175,
   "metadata": {},
   "outputs": [],
   "source": [
    "ohe_feature_names = CT.named_transformers_['subpipe_categorical']['ohe'].get_feature_names().tolist()"
   ]
  },
  {
   "cell_type": "code",
   "execution_count": 176,
   "metadata": {},
   "outputs": [],
   "source": [
    "feature_names.extend(ohe_feature_names)"
   ]
  },
  {
   "cell_type": "code",
   "execution_count": 187,
   "metadata": {},
   "outputs": [],
   "source": [
    "feature_names.append('permit')"
   ]
  },
  {
   "cell_type": "code",
   "execution_count": 188,
   "metadata": {
    "scrolled": true
   },
   "outputs": [
    {
     "data": {
      "text/plain": [
       "3417"
      ]
     },
     "execution_count": 188,
     "metadata": {},
     "output_type": "execute_result"
    }
   ],
   "source": [
    "len(feature_names)"
   ]
  },
  {
   "cell_type": "code",
   "execution_count": 190,
   "metadata": {},
   "outputs": [],
   "source": [
    "feature_importance = []\n",
    "\n",
    "for feature, fi, in zip(feature_names, rf_model['random_forest'].feature_importances_):\n",
    "    feature_importance.append((feature,fi))"
   ]
  },
  {
   "cell_type": "code",
   "execution_count": 191,
   "metadata": {},
   "outputs": [
    {
     "data": {
      "text/plain": [
       "[('population', 0.1252657681861209),\n",
       " ('amount_tsh', 0.05422392073230461),\n",
       " ('x0_0', 0.0009400373092960017),\n",
       " ('x0_A/co Germany', 6.127171443895833e-05),\n",
       " ('x0_Aar', 8.308821061152564e-05),\n",
       " ('x0_Abas Ka', 9.33571512103183e-06),\n",
       " ('x0_Abasia', 8.952994451582443e-05),\n",
       " ('x0_Abc-ihushi Development Cent', 1.023592628003684e-05),\n",
       " ('x0_Abd', 1.9511088311991502e-05),\n",
       " ('x0_Abdala', 7.298392598648306e-06),\n",
       " ('x0_Abs', 7.70788811761743e-08),\n",
       " ('x0_Aco/germany', 1.7079224882194243e-05),\n",
       " ('x0_Acord', 2.659567701535803e-06),\n",
       " ('x0_Acra', 3.109673478995485e-05),\n",
       " ('x0_Action Aid', 1.4086535365665157e-05),\n",
       " ('x0_Action Contre La Faim', 6.73976527618865e-05),\n",
       " ('x0_Adap', 3.501636762867582e-05),\n",
       " ('x0_Adb', 0.0013824306365008302),\n",
       " ('x0_Adf', 0.00011510629166413998),\n",
       " ('x0_Adp', 0.0001007781144741417),\n",
       " ('x0_Adp Bungu', 1.4764898083163749e-05),\n",
       " ('x0_Adp Mombo', 0.00010158780177372123),\n",
       " ('x0_Adp/w', 1.4707852867608156e-05),\n",
       " ('x0_Adra', 0.0011696614731412922),\n",
       " ('x0_Af', 8.631262213967219e-05),\n",
       " ('x0_Afdp', 3.525037155813238e-06),\n",
       " ('x0_Afric', 1.009111475247323e-05),\n",
       " ('x0_Africa', 7.072432185730231e-06),\n",
       " ('x0_Africa 2000 Network/undp', 9.275925483109614e-06),\n",
       " ('x0_Africa Project Ev Germany', 3.2163716200818426e-06),\n",
       " ('x0_African', 0.0009006753764447847),\n",
       " ('x0_African 2000 Network', 3.581455494357717e-06),\n",
       " ('x0_African Barrick Gold', 2.5410758940021342e-06),\n",
       " ('x0_African Development Bank', 9.385899633144066e-05),\n",
       " ('x0_African Development Foundation', 1.1060435145912847e-05),\n",
       " ('x0_African Muslim Agency', 8.828177750651584e-05),\n",
       " ('x0_African Realief Committe Of Ku', 1.681794807285683e-05),\n",
       " ('x0_African Reflections Foundation', 9.078445471999975e-06),\n",
       " ('x0_African Relie', 6.0987514142073836e-05),\n",
       " ('x0_Africaone Ltd', 3.100763012398148e-05),\n",
       " ('x0_Africare', 1.750393986609296e-05),\n",
       " ('x0_Afriican Reli', 7.152095281005513e-06),\n",
       " ('x0_Afya Department Lindi Rural', 1.2783158873004202e-06),\n",
       " ('x0_Agape Churc', 4.642671241966454e-06),\n",
       " ('x0_Agt Church', 5.493717576025657e-06),\n",
       " ('x0_Ahmadia', 8.08272773157848e-06),\n",
       " ('x0_Ai', 0.00010016655927970366),\n",
       " ('x0_Aic', 2.9453843385659217e-05),\n",
       " ('x0_Aic Church', 7.1400289633653e-07),\n",
       " ('x0_Aict', 0.0002450109912517505),\n",
       " ('x0_Aimgold', 2.2514098119531087e-05),\n",
       " ('x0_Alia', 3.4655403295948266e-07),\n",
       " ('x0_Amref', 0.0010878097328171636),\n",
       " ('x0_Amrefe', 1.1151776134967234e-05),\n",
       " ('x0_Anglican Church', 0.00034530206335513984),\n",
       " ('x0_Angrikana', 5.47438577955697e-05),\n",
       " ('x0_Anjuman E Seifee', 3.3193190724378774e-06),\n",
       " ('x0_Answeer Muslim Grou', 4.32795231094798e-06),\n",
       " ('x0_Apm[africa Precious Metals Lt', 1.4722730969191335e-05),\n",
       " ('x0_Arab Community', 1.3236973412593796e-05),\n",
       " ('x0_Arabi', 7.925177356537648e-09),\n",
       " ('x0_Arabs Community', 6.74535300320394e-06),\n",
       " ('x0_Ardhi Instute', 8.342988405433393e-06),\n",
       " ('x0_Artisan', 9.165497617287302e-06),\n",
       " ('x0_Asb', 9.054172216848965e-05),\n",
       " ('x0_Asdp', 6.422691753265805e-05),\n",
       " ('x0_Asgerali N Bharwan', 1.5630855110183425e-05),\n",
       " ('x0_Auwasa', 1.9293541757646505e-05),\n",
       " ('x0_Awf', 1.0695744272169847e-05),\n",
       " ('x0_B.A.P', 7.773591291042415e-06),\n",
       " ('x0_Ba As', 1.6746876832500313e-05),\n",
       " ('x0_Babtest', 1.0308221333590221e-05),\n",
       " ('x0_Babtist', 4.900870944194917e-05),\n",
       " ('x0_Bahewasa', 2.6084686052321523e-05),\n",
       " ('x0_Bahresa', 1.9463613980960156e-05),\n",
       " ('x0_Ballo', 1.3648187534294266e-06),\n",
       " ('x0_Balo', 1.5605273090225156e-06),\n",
       " ('x0_Balyehe', 4.6224891871956417e-07),\n",
       " ('x0_Banca Reale', 5.496498380880218e-05),\n",
       " ('x0_Bank', 1.4304348591150124e-05),\n",
       " ('x0_Bao', 4.185030882229906e-05),\n",
       " ('x0_Baptist Church', 1.4028990459916917e-05),\n",
       " ('x0_Baric', 4.0343103709026355e-05),\n",
       " ('x0_Bathlomew Vicent', 1.3754710493640393e-05),\n",
       " ('x0_Batist Church', 4.427692819665328e-06),\n",
       " ('x0_Belgian Government', 8.981147910322827e-05),\n",
       " ('x0_Belgij', 2.1131087381952973e-06),\n",
       " ('x0_Bened', 7.95072468769126e-05),\n",
       " ('x0_Benguka', 1.2850021934511067e-05),\n",
       " ('x0_Bffs', 3.5221109183841046e-05),\n",
       " ('x0_Bfwd', 2.460432573032322e-06),\n",
       " ('x0_Bgm', 0.000389854053326407),\n",
       " ('x0_Bgss', 2.845467104433132e-06),\n",
       " ('x0_Bingo Foundation', 1.8722379796210467e-05),\n",
       " ('x0_Bingo Foundation Germany', 5.836903109428436e-07),\n",
       " ('x0_Biore', 4.104433417415493e-05),\n",
       " ('x0_Birage', 6.541197359933371e-06),\n",
       " ('x0_Bkhws', 1.6506076112354996e-05),\n",
       " ('x0_Boazi', 5.97176148687099e-07),\n",
       " ('x0_Boazi /o', 1.3986262641769083e-07),\n",
       " ('x0_Bobby', 8.522061949856346e-06),\n",
       " ('x0_Bokera W', 1.202255720044101e-05),\n",
       " ('x0_Boma Saving', 1.6558538974725998e-05),\n",
       " ('x0_Bonite Bottles Ltd', 1.3758728620001633e-06),\n",
       " ('x0_Br', 2.848167782034568e-05),\n",
       " ('x0_Bra', 4.908133836652154e-06),\n",
       " ('x0_Brad', 2.0100775444420605e-06),\n",
       " ('x0_Brdp', 5.694304992162042e-06),\n",
       " ('x0_Bread For The Wor', 1.2520251273368286e-05),\n",
       " ('x0_Bread Of The Worl', 3.1858701409573153e-06),\n",
       " ('x0_Bridge North', 1.896393920629833e-05),\n",
       " ('x0_British Colonial Government', 2.611542507407168e-05),\n",
       " ('x0_British Tanza', 9.907243114349204e-06),\n",
       " ('x0_Brown', 3.919734660520673e-06),\n",
       " ('x0_Bruder', 6.071299170025256e-06),\n",
       " ('x0_Bs', 0.00012809018338272483),\n",
       " ('x0_Bsf', 0.0004967036980750179),\n",
       " ('x0_Bukumbi', 1.236605836396742e-05),\n",
       " ('x0_Bukwang Church Saint', 2.1840075600365267e-05),\n",
       " ('x0_Bukwang Church Saints', 2.9191240916513412e-05),\n",
       " ('x0_Bulyahunlu Gold Mine', 0.0001004498604694892),\n",
       " ('x0_C', 2.101297089416742e-06),\n",
       " ('x0_Cafod', 7.30052540865742e-05),\n",
       " ('x0_Caltas', 9.732123434494472e-06),\n",
       " ('x0_Caltas Tanzania', 7.234930013221073e-06),\n",
       " ('x0_Caltaz Kahama', 9.478173921457363e-06),\n",
       " ('x0_Caltus', 1.9515061178456224e-05),\n",
       " ('x0_Calvary Connect', 2.4884120042939858e-06),\n",
       " ('x0_Camartec', 3.353264117236383e-05),\n",
       " ('x0_Camavita', 0.00010768625876501561),\n",
       " ('x0_Canada', 5.194556905062655e-05),\n",
       " ('x0_Canada Aid', 1.6362749439049564e-06),\n",
       " ('x0_Care Int', 3.3611261435671758e-06),\n",
       " ('x0_Care International', 4.559532567416391e-05),\n",
       " ('x0_Caritas', 0.0002692908714223116),\n",
       " ('x0_Cartas Tanzania', 1.5566084827489877e-05),\n",
       " ('x0_Cast', 1.3660001245623025e-05),\n",
       " ('x0_Cbhi', 4.894079383942585e-05),\n",
       " ('x0_Cc Motor Day 2010', 9.129849124444133e-06),\n",
       " ('x0_Ccp', 4.09101335131568e-06),\n",
       " ('x0_Ccpk', 1.2597354437948043e-05),\n",
       " ('x0_Ccps', 4.883469261977847e-06),\n",
       " ('x0_Cct', 0.00020119623850527296),\n",
       " ('x0_Cdcg', 0.0001181181892648985),\n",
       " ('x0_Cdft', 4.244267115594467e-06),\n",
       " ('x0_Cdg', 1.616686435133306e-05),\n",
       " ('x0_Cdtf', 0.00020423628419853946),\n",
       " ('x0_Cdtfdistrict Council', 2.313444515650743e-05),\n",
       " ('x0_Cefa', 7.439948871635715e-05),\n",
       " ('x0_Cefa-njombe', 1.0680255870080868e-05),\n",
       " ('x0_Cefa/rcchurch', 2.0394633486393622e-07),\n",
       " ('x0_Ces (gmbh)', 0.00019772131309962716),\n",
       " ('x0_Ces(gmbh)', 0.0005374776697576741),\n",
       " ('x0_Cg', 0.0001279862424564451),\n",
       " ('x0_Cg/rc', 1.85006145607403e-07),\n",
       " ('x0_Cgc', 2.6701141387974476e-05),\n",
       " ('x0_Cgi', 5.655307101063159e-06),\n",
       " ('x0_Chacha Issame', 3.0239971128734683e-06),\n",
       " ('x0_Chama Cha Ushirika', 6.3662923120643885e-06),\n",
       " ('x0_Chamavita', 6.624655705040509e-05),\n",
       " ('x0_Chani', 1.0316162806244064e-05),\n",
       " ('x0_Charlotte Well', 2.3485020020967137e-06),\n",
       " ('x0_Cheni', 1.6420163045238903e-05),\n",
       " ('x0_China Government', 0.00015803515597218094),\n",
       " ('x0_Chmavita', 5.365081283283718e-06),\n",
       " ('x0_Chongolo', 1.5444246537950865e-05),\n",
       " ('x0_Christan Outrich', 5.116114610451923e-06),\n",
       " ('x0_Christian Outrich', 4.5826823769463204e-05),\n",
       " ('x0_Chuo', 1.6086372668410546e-07),\n",
       " ('x0_Churc', 0.00011884984919150923),\n",
       " ('x0_Church', 1.9751184257296752e-05),\n",
       " ('x0_Church Of Disciples', 4.873583907790438e-06),\n",
       " ('x0_Cida', 1.0581626151585875e-06),\n",
       " ('x0_Cip', 6.3468483085753415e-06),\n",
       " ('x0_Cipro', 2.1907672537129277e-06),\n",
       " ('x0_Cipro/care', 1.7756155230936094e-05),\n",
       " ('x0_Cipro/care/tcrs', 2.3230657261839053e-05),\n",
       " ('x0_Cipro/government', 5.406165362828973e-05),\n",
       " ('x0_Clause', 4.226685485387855e-05),\n",
       " ('x0_Cmcr', 8.259497855311352e-05),\n",
       " ('x0_Cmsr', 0.0004095547102390798),\n",
       " ('x0_Co', 0.00030709721276922877),\n",
       " ('x0_Cobashec', 6.086633962980494e-05),\n",
       " ('x0_Cocen', 0.00018111397087847383),\n",
       " ('x0_Cocern', 0.00012827827846049607),\n",
       " ('x0_Cocu', 7.099020814220924e-06),\n",
       " ('x0_Colonial Government', 1.1587437508230006e-06),\n",
       " ('x0_Commu', 0.00018325371575504126),\n",
       " ('x0_Community', 0.000533961419459447),\n",
       " ('x0_Community Bank', 9.112207655569274e-06),\n",
       " ('x0_Compa', 3.678260432995011e-05),\n",
       " ('x0_Company', 6.1273689615745e-06),\n",
       " ('x0_Comune Di Roma', 3.562614299673019e-06),\n",
       " ('x0_Comunedi Roma', 8.60605245622059e-06),\n",
       " ('x0_Comunity Construction Fund', 1.2356193070974962e-05),\n",
       " ('x0_Conce', 0.0002315440234473344),\n",
       " ('x0_Concen', 1.3207056645377344e-05),\n",
       " ('x0_Concern', 0.0003977373151345932),\n",
       " ('x0_Concern /govern', 1.739939026611164e-06),\n",
       " ('x0_Concern World Wide', 0.0005717638381364345),\n",
       " ('x0_Concern/governm', 9.3835063834139e-07),\n",
       " ('x0_Cope', 6.043272226393416e-06),\n",
       " ('x0_Costantine Herman', 3.086219746581568e-06),\n",
       " ('x0_Council', 0.00011686109832667985),\n",
       " ('x0_Cper', 2.5475119730368543e-05),\n",
       " ('x0_Cpps', 7.618937345796664e-06),\n",
       " ('x0_Cpps Mission', 1.4429359539810596e-05),\n",
       " ('x0_Cpro', 3.598195539816973e-05),\n",
       " ('x0_Craelius', 1.207822994062661e-06),\n",
       " ('x0_Cristan Outrich', 2.4011901145708335e-07),\n",
       " ('x0_Csf', 6.974416983576255e-06),\n",
       " ('x0_Cspd', 0.00028823988391978446),\n",
       " ('x0_D', 5.8480851393175974e-05),\n",
       " ('x0_D Ct', 3.694986021456804e-06),\n",
       " ('x0_Da Unoperaio Siciliano', 1.6919574843563055e-05),\n",
       " ('x0_Dadid', 4.783293367234227e-05),\n",
       " ('x0_Dadis', 0.00011946207918538201),\n",
       " ('x0_Dadp', 5.2463760140414935e-06),\n",
       " ('x0_Dads', 0.0002030440997444411),\n",
       " ('x0_Dagida', 4.320558221352479e-06),\n",
       " ('x0_Dak', 4.242440016560856e-05),\n",
       " ('x0_Daldo', 2.825194457671079e-06),\n",
       " ('x0_Danida', 0.0035978565942087807),\n",
       " ('x0_Danida /government', 2.8804666810996723e-05),\n",
       " ('x0_Dar Al Ber', 3.549474774226455e-05),\n",
       " ('x0_Dasiip', 2.165486709626728e-06),\n",
       " ('x0_Dasip', 0.0002282782595039965),\n",
       " ('x0_Dasp', 5.104654739750744e-05),\n",
       " ('x0_Dasp Ltd', 9.00676304439765e-06),\n",
       " ('x0_Dassip', 3.310271217496581e-05),\n",
       " ('x0_Dawasco', 3.582028274301576e-05),\n",
       " ('x0_Dbfpe', 1.1464095269394542e-05),\n",
       " ('x0_Dbsp', 2.7902310756469835e-07),\n",
       " ('x0_Dbspe', 7.639811127511886e-05),\n",
       " ('x0_Dct', 8.43316563995583e-05),\n",
       " ('x0_Ddca', 1.0930429310506255e-05),\n",
       " ('x0_Ddp', 1.7335078451898443e-05),\n",
       " ('x0_De', 2.3165097826368492e-05),\n",
       " ('x0_Ded', 0.0009045814709436572),\n",
       " ('x0_Ded Kilo', 1.946806690461959e-05),\n",
       " ('x0_Ded/rwssp', 1.8676259636731783e-06),\n",
       " ('x0_Ded_rwsp', 6.062595321565524e-06),\n",
       " ('x0_Denat', 2.2018004235579178e-05),\n",
       " ('x0_Denish', 1.3253037723447313e-05),\n",
       " ('x0_Deogratius Kasima', 4.912181955386305e-06),\n",
       " ('x0_Desk And Chair Foundation', 6.919914187625669e-05),\n",
       " ('x0_Devon Aid Korogwe', 0.00019331294636043477),\n",
       " ('x0_Dfid', 0.0001312978123660941),\n",
       " ('x0_Dh', 0.0005467487756328946),\n",
       " ('x0_Dhinu', 2.564603247559623e-05),\n",
       " ('x0_Dhv', 0.0014312031024756148),\n",
       " ('x0_Dhv Moro', 0.00012358370052152122),\n",
       " ('x0_Dhv/gove', 8.51307114465587e-05),\n",
       " ('x0_Dhv\\\\norp', 0.0006591555693592801),\n",
       " ('x0_Dhv\\\\swis', 1.4007441862076547e-05),\n",
       " ('x0_Dimon', 1.6836761055127233e-05),\n",
       " ('x0_Dina', 7.432607841059168e-06),\n",
       " ('x0_Dioce', 3.525116956301268e-06),\n",
       " ('x0_Diocese Of Geita', 3.103495023548503e-05),\n",
       " ('x0_Diocese Of Mount Kilimanjaro', 4.516047960993777e-05),\n",
       " ('x0_District Council', 0.0023850969269453262),\n",
       " ('x0_District Medical', 1.0067853666791917e-05),\n",
       " ('x0_District Rural Project', 4.012011455088978e-06),\n",
       " ('x0_Diwani', 4.330345323570602e-06),\n",
       " ('x0_Dmd', 9.005716044925077e-07),\n",
       " ('x0_Dmdd', 0.0004901738880445595),\n",
       " ('x0_Dmdd/solider', 1.8730657763235508e-06),\n",
       " ('x0_Dmk', 3.129230260461683e-05),\n",
       " ('x0_Dmk Anglican', 6.865243856956586e-06),\n",
       " ('x0_Dmmd', 3.922248875293505e-07),\n",
       " ('x0_Dmo', 3.531264129104642e-05),\n",
       " ('x0_Do', 5.5803027310783234e-05),\n",
       " ('x0_Doctor Mwambi', 1.9108491980560167e-05),\n",
       " ('x0_Doddea', 2.4637441305612223e-05),\n",
       " ('x0_Dokta Mwandulam', 3.493762291093165e-08),\n",
       " ('x0_Dom', 4.027701487574068e-05),\n",
       " ('x0_Domestic Rural Development Pro', 0.00013334250434993323),\n",
       " ('x0_Domestic Water Supply Project', 1.1820162371818407e-05),\n",
       " ('x0_Dominiki Simwen', 1.6419793352019008e-05),\n",
       " ('x0_Doner And Com', 2.911708957943902e-06),\n",
       " ('x0_Doner And Ded', 9.293289870781531e-06),\n",
       " ('x0_Donor', 0.0004679314861047146),\n",
       " ('x0_Drdp', 2.0440758046591086e-05),\n",
       " ('x0_Drdp Ngo', 7.56378186435435e-05),\n",
       " ('x0_Drv Na Idara', 5.865937392290081e-06),\n",
       " ('x0_Drwssp', 2.020395940736711e-06),\n",
       " ('x0_Duka', 2.257186561231526e-05),\n",
       " ('x0_Duwas', 2.15598543842797e-05),\n",
       " ('x0_Dv', 5.51310646129673e-06),\n",
       " ('x0_Dw', 0.00010317884023309967),\n",
       " ('x0_Dwarf', 8.346092973560994e-07),\n",
       " ('x0_Dwe', 0.002160071872123018),\n",
       " ('x0_Dwe And Veo', 1.5707314766673044e-05),\n",
       " ('x0_Dwe/anglican Church', 4.372642258416112e-05),\n",
       " ('x0_Dwe/bamboo Projec', 5.025789983298726e-05),\n",
       " ('x0_Dwe/norad', 0.0003755296656061386),\n",
       " ('x0_Dwe/ubalozi Wa Marekani', 3.151110155676819e-05),\n",
       " ('x0_Dwsdp', 1.4374689314482918e-05),\n",
       " ('x0_Dwsp', 0.0011253784652896285),\n",
       " ('x0_Dwssp', 0.0001778591652204172),\n",
       " ('x0_Dwst', 7.239443961344691e-06),\n",
       " ('x0_Dwt', 2.77150023877868e-05),\n",
       " ('x0_Ea', 2.8842161303045152e-05),\n",
       " ('x0_Eastmeru Medium School', 2.7000653894306137e-06),\n",
       " ('x0_Eater', 1.3269644074870685e-05),\n",
       " ('x0_Ebaha', 7.253926180365957e-05),\n",
       " ('x0_Efg', 0.0001272063846807691),\n",
       " ('x0_Egypt', 1.1114295074082656e-05),\n",
       " ('x0_Egypt Government', 3.0302044163878564e-05),\n",
       " ('x0_El', 4.036231259384242e-05),\n",
       " ('x0_Elct', 3.239651811495908e-05),\n",
       " ('x0_Embasy Of Japan In Tanzania', 8.225587155043425e-06),\n",
       " ('x0_Engin', 5.210964313080212e-06),\n",
       " ('x0_Eno', 1.3749055086748493e-05),\n",
       " ('x0_Enyueti', 5.0118833485362675e-05),\n",
       " ('x0_Ereto', 8.10789167282423e-05),\n",
       " ('x0_Ermua', 7.619183009853998e-06),\n",
       " ('x0_Erre Kappa', 5.672091732487353e-06),\n",
       " ('x0_Esawa', 2.502307395327112e-06),\n",
       " ('x0_Eu', 3.734376319181539e-05),\n",
       " ('x0_Eu/acra', 5.9473806604718725e-06),\n",
       " ('x0_Eung-am Methodist Church', 1.4316101812977912e-05),\n",
       " ('x0_European Union', 0.0001236479097564072),\n",
       " ('x0_F', 9.997875416481592e-06),\n",
       " ('x0_Fabia', 3.5146121953527973e-06),\n",
       " ('x0_Fao', 1.2322980805884794e-05),\n",
       " ('x0_Farm Africa', 7.910921399343357e-05),\n",
       " ('x0_Farm-africa', 1.8004683616302426e-06),\n",
       " ('x0_Fathe', 7.13673804570445e-05),\n",
       " ('x0_Father Bonifasi', 0.0001502790304233244),\n",
       " ('x0_Father W', 1.4626809047726168e-06),\n",
       " ('x0_Fdc', 3.299197692242461e-05),\n",
       " ('x0_Filo', 2.820888009202288e-06),\n",
       " ('x0_Fin Water', 0.0001849662257046911),\n",
       " ('x0_Fini Water', 0.001364933735791265),\n",
       " ('x0_Finida German Tanzania Govt', 0.00021866345863711826),\n",
       " ('x0_Finidagermantanzania Govt', 9.127184952279537e-05),\n",
       " ('x0_Finland', 0.0001439065267250948),\n",
       " ('x0_Finland Government', 0.0001150377483689797),\n",
       " ('x0_Finn Water', 5.6937206105949785e-05),\n",
       " ('x0_Finw', 0.0004913627127209244),\n",
       " ('x0_Finwater', 0.0001511337143059466),\n",
       " ('x0_Folac', 3.711111770242285e-07),\n",
       " ('x0_Foreigne', 2.3413961612263424e-05),\n",
       " ('x0_Fpct', 5.049739852254657e-05),\n",
       " ('x0_Fpct Church', 7.201019150784984e-06),\n",
       " ('x0_Fpct Mulala', 1.174002878439894e-06),\n",
       " ('x0_Fptc - Pent', 2.623620748432983e-05),\n",
       " ('x0_Franc', 1.5645851102528356e-05),\n",
       " ('x0_France', 1.6930776717328525e-05),\n",
       " ('x0_Frankfurt', 1.2236280077066619e-05),\n",
       " ('x0_Free Pentecoste Church Of Tanz', 7.185550972663831e-06),\n",
       " ('x0_Fresh Water Plc England', 1.6173910715624037e-05),\n",
       " ('x0_Friedkin Conservation Fund', 1.3057187657392247e-05),\n",
       " ('x0_Friend From Un', 1.2500033509392947e-06),\n",
       " ('x0_Friends Of Kibara Foundation', 1.3682184679876073e-05),\n",
       " ('x0_Friends Of Ulambo And Mwanhala', 3.0032772838354447e-06),\n",
       " ('x0_Full Gospel Church', 5.204590749862524e-06),\n",
       " ('x0_Fw', 0.0005664517478346511),\n",
       " ('x0_G.D&i.D', 2.4515169166895642e-05),\n",
       " ('x0_Ga', 0.0002011976371360425),\n",
       " ('x0_Gachuma Ginery', 3.925041251203297e-06),\n",
       " ('x0_Gaica', 7.372450043369352e-05),\n",
       " ('x0_Gain', 5.416044708864273e-05),\n",
       " ('x0_Game Division', 7.086340835202753e-06),\n",
       " ('x0_Game Fronti', 3.4551568406556125e-05),\n",
       " ('x0_Gdp', 5.1612160052688145e-06),\n",
       " ('x0_Geita Goldmain', 3.124976742042105e-05),\n",
       " ('x0_Gen', 0.00010758653555413463),\n",
       " ('x0_Geochaina', 2.4057564679198322e-05),\n",
       " ('x0_Gerald Tuseko Gro', 1.9026797836369518e-05),\n",
       " ('x0_German Missionary', 4.922784903825375e-06),\n",
       " ('x0_Germany', 0.0002500911585844538),\n",
       " ('x0_Germany Cristians', 2.3336816877084094e-05),\n",
       " ('x0_Germany Misionary', 8.153798900700894e-05),\n",
       " ('x0_Germany Republi', 0.0003558565228655347),\n",
       " ('x0_Gesawa', 6.732546649702622e-06),\n",
       " ('x0_Getdsc00', 1.6594354564514455e-05),\n",
       " (\"x0_Gil Cafe'church'\", 1.696543664696193e-05),\n",
       " ('x0_Giz', 3.467942370685754e-05),\n",
       " ('x0_Global Fund', 2.8145108615833903e-05),\n",
       " ('x0_Go', 0.0010138185208268572),\n",
       " ('x0_Godii', 1.6832680107116816e-06),\n",
       " ('x0_Goldmain', 2.1662910371095937e-06),\n",
       " ('x0_Goldwill Foundation', 6.446946907664056e-07),\n",
       " ('x0_Government', 7.5003160077315164e-06),\n",
       " ('x0_Government /tassaf', 5.307348862202612e-05),\n",
       " ('x0_Government /world Vision', 3.0024005630682643e-05),\n",
       " ('x0_Government Of Tanzania', 0.014023722265299968),\n",
       " ('x0_Government/ Community', 5.900694243462085e-05),\n",
       " ('x0_Government/ World Bank', 5.346070106351232e-05),\n",
       " ('x0_Government/tassaf', 6.271774329587865e-06),\n",
       " ('x0_Government/tcrs', 2.4304115948975034e-06),\n",
       " ('x0_Gra Na Halmashauri', 1.4404734555636845e-05),\n",
       " ('x0_Grazie Franco Lucchini', 1.114576343858622e-05),\n",
       " ('x0_Greec', 1.1095299435705567e-05),\n",
       " ('x0_Greinaker', 7.375620700438327e-06),\n",
       " ('x0_Greineker', 2.2080641046201262e-05),\n",
       " ('x0_Grumeti', 7.426876385790634e-05),\n",
       " ('x0_Gt', 0.00013582711685728433),\n",
       " ('x0_Gtz', 0.0003762166241041001),\n",
       " ('x0_Gurdians', 6.3073430111295884e-06),\n",
       " ('x0_H', 0.00030053533887545737),\n",
       " ('x0_H/w', 1.3722867581960529e-05),\n",
       " ('x0_H4ccp', 2.5494674688139264e-05),\n",
       " ('x0_Haam', 1.3873668971915204e-06),\n",
       " ('x0_Haidomu Lutheran Church', 1.5819746292054354e-06),\n",
       " ('x0_Halimashau', 6.242071395309719e-06),\n",
       " ('x0_Halmashauli', 1.0141389608496823e-05),\n",
       " ('x0_Halmashaur', 0.00017313152665322736),\n",
       " ('x0_Halmashauri', 0.00012468089684642732),\n",
       " ('x0_Halmashauri Wil', 6.575945960534224e-07),\n",
       " ('x0_Halmashauri Ya Manispa Tabora', 2.8595158673098962e-05),\n",
       " ('x0_Halmashauri Ya Wilaya', 5.47489052420342e-06),\n",
       " ('x0_Halmashauri Ya Wilaya Sikonge', 0.00034874318035408994),\n",
       " ('x0_Ham', 9.092622344220525e-05),\n",
       " ('x0_Hamref', 1.6585007995882836e-06),\n",
       " ('x0_Handeni Trunk Main(', 3.1650919370426865e-05),\n",
       " ('x0_Hans', 9.50070707849448e-06),\n",
       " ('x0_Hapa', 6.991096026080432e-06),\n",
       " ('x0_Hapa Singida', 8.758353536089881e-07),\n",
       " ('x0_Happy Watoto Foundation', 0.00011324831553604472),\n",
       " ('x0_Haruna Mpog', 2.6552962155665204e-06),\n",
       " ('x0_Hashi', 4.5201086532471994e-05),\n",
       " ('x0_Hasnan Murig (mbunge)', 2.1327596864867763e-07),\n",
       " ('x0_Hasnein Muij Mbunge', 1.9710982841330547e-06),\n",
       " ('x0_Hassan Gulam', 6.17532907487558e-06),\n",
       " ('x0_Haydom Lutheran Hospital', 2.2585239726113386e-06),\n",
       " ('x0_Hdv', 5.330397656763061e-06),\n",
       " ('x0_He', 0.0006851907228640802),\n",
       " ('x0_Healt', 3.0878879304743965e-05),\n",
       " ('x0_Health  Ministry', 1.1719713044491386e-06),\n",
       " ('x0_Hearts Helping Hands.Inc.', 4.683501542802735e-06),\n",
       " ('x0_Henure Dema', 6.658995442676583e-06),\n",
       " ('x0_Hery', 3.3778172899516403e-06),\n",
       " ('x0_Hesaw', 7.520669935448346e-05),\n",
       " ('x0_Hesawa', 0.0037690417057304956),\n",
       " ('x0_Hesawwa', 1.1554395175790526e-05),\n",
       " ('x0_Hesawz', 4.1070893927638874e-05),\n",
       " ('x0_Hesawza', 2.1848870609667476e-06),\n",
       " ('x0_Hesswa', 3.4738097535767695e-06),\n",
       " ('x0_Hewasa', 9.808566787271086e-05),\n",
       " ('x0_Hez', 3.6342795777446614e-06),\n",
       " ('x0_Hhesawa', 2.7925677970822028e-05),\n",
       " ('x0_Hiap', 2.8815137820674694e-05),\n",
       " ('x0_Hifab', 0.0005051003765929225),\n",
       " ('x0_Hilfe Fur Brunder', 4.3592104071737475e-06),\n",
       " ('x0_Holand', 6.300930109137894e-07),\n",
       " ('x0_Holla', 1.2825727517002569e-05),\n",
       " ('x0_Holland', 0.00016654737555789803),\n",
       " ('x0_Hongoli', 3.792922092734587e-05),\n",
       " ('x0_Hortanzia', 3.228833073568291e-05),\n",
       " ('x0_Hospital', 3.361373387608499e-05),\n",
       " ('x0_Hotels And Loggs Tz Ltd', 8.72797552742128e-06),\n",
       " ('x0_Hpa', 7.167137658691445e-06),\n",
       " ('x0_Hsw', 0.0004406897976604557),\n",
       " ('x0_Htm', 1.223804357962862e-06),\n",
       " ('x0_Hw/rc', 4.8300071175634934e-05),\n",
       " ('x0_Hydom Luthelani', 1.9819974357849115e-05),\n",
       " ('x0_I Wash', 7.412259843474413e-05),\n",
       " ('x0_I.E.C', 2.5176654833034467e-05),\n",
       " ('x0_Icap', 8.32460633313587e-06),\n",
       " ('x0_Icf', 8.543471530589872e-07),\n",
       " ('x0_Ics', 0.00010605267750391009),\n",
       " ('x0_Idara Ya Maji', 0.0004645038729797484),\n",
       " ('x0_Idc', 0.00018583702597791787),\n",
       " ('x0_Idea', 1.5029282210287648e-05),\n",
       " ('x0_Idydc', 6.476351466854578e-05),\n",
       " ('x0_If', 1.2093240199331158e-05),\n",
       " ('x0_Ifad', 0.0001372009143827768),\n",
       " ('x0_Ifakara', 2.830877469025181e-05),\n",
       " ('x0_Igolola Community', 2.4119598030446264e-05),\n",
       " ('x0_Ikela Wa', 3.626806706181214e-05),\n",
       " ('x0_Ikeuchi Towels Japan', 2.717766871802372e-06),\n",
       " ('x0_Il', 0.0001386250482897467),\n",
       " ('x0_Ilct', 8.211768637841291e-05),\n",
       " ('x0_Ilkeri Village', 6.738022411202905e-05),\n",
       " ('x0_Ilo', 0.0002316718949393377),\n",
       " ('x0_Ilo/undp', 2.4871120748720514e-05),\n",
       " ('x0_Ilwilo Community', 5.037010508739478e-06),\n",
       " ('x0_Imf', 3.367380726660282e-05),\n",
       " ('x0_In', 5.785386077103243e-05),\n",
       " ('x0_In Memoria Di Albeto', 9.751982836965517e-06),\n",
       " ('x0_Incerto', 3.557902383187722e-05),\n",
       " ('x0_Inkinda', 1.6062977299987286e-06),\n",
       " ('x0_Insititutiona', 4.924565385237859e-06),\n",
       " ('x0_Institution', 4.184477224630479e-05),\n",
       " ('x0_Institutional', 8.332520058045908e-05),\n",
       " ('x0_Insututional', 0.0),\n",
       " ('x0_International Aid Services', 1.0110771692766717e-06),\n",
       " ('x0_Investor', 9.36253891693474e-06),\n",
       " ('x0_Iom', 6.246270649271898e-06),\n",
       " ('x0_Ir', 0.0003377746588854219),\n",
       " ('x0_Iran Gover', 9.979015854661622e-06),\n",
       " ('x0_Irc', 1.946054051987309e-06),\n",
       " ('x0_Irevea Sister', 2.579796512620531e-06),\n",
       " ('x0_Irevea Sister Water', 1.1857719759956932e-06),\n",
       " ('x0_Irish Ai', 0.0002538654299848884),\n",
       " ('x0_Irish Government', 8.293888466678065e-06),\n",
       " ('x0_Is', 0.0002867968963148077),\n",
       " ('x0_Isf', 0.0005850230783786326),\n",
       " ('x0_Isf / Tasaff', 9.960686224840308e-06),\n",
       " ('x0_Isf/government', 5.5423710768955866e-05),\n",
       " ('x0_Isf/tacare', 1.7813674684767348e-05),\n",
       " ('x0_Isingiro Ho', 4.265673903454099e-05),\n",
       " ('x0_Islam', 3.8468239926064034e-05),\n",
       " ('x0_Islamic', 8.923255127886475e-05),\n",
       " ('x0_Islamic Agency Tanzania', 2.3176017672679726e-05),\n",
       " ('x0_Islamic Community', 4.462081201523907e-06),\n",
       " ('x0_Islamic Found', 7.636238849404803e-05),\n",
       " ('x0_Islamic Society', 6.8101767555884474e-06),\n",
       " ('x0_Isnashia And', 4.383450436087948e-09),\n",
       " ('x0_Issa Mohamedi Tumwanga', 3.477413051921276e-06),\n",
       " ('x0_Italian', 4.209736533505891e-07),\n",
       " ('x0_Italy', 1.6041810556504018e-05),\n",
       " ('x0_Italy Government', 5.015033957508561e-06),\n",
       " ('x0_Jafary Mbaga', 3.065637505552896e-06),\n",
       " ('x0_Jaica', 0.0007688797300690922),\n",
       " ('x0_Jamal', 1.408314721472357e-05),\n",
       " ('x0_Jamal Abdallah', 1.0128818889364699e-05),\n",
       " ('x0_Japan', 0.0001658103169442368),\n",
       " ('x0_Japan Aid', 1.5727189238175613e-05),\n",
       " ('x0_Japan Embassy', 1.1366140523282749e-05),\n",
       " ('x0_Japan Food', 1.733111092420874e-05),\n",
       " ('x0_Japan Food Aid', 8.057763666511088e-06),\n",
       " ('x0_Japan Government', 1.8205851848910408e-06),\n",
       " ('x0_Jbg', 0.00011378173448068539),\n",
       " ('x0_Jeica', 7.257332982006046e-05),\n",
       " ('x0_Jeshi La Wokovu', 4.229966848089984e-05),\n",
       " ('x0_Jeshi La Wokovu [cida]', 2.0902874798976138e-05),\n",
       " ('x0_Jgb', 5.0002962672163624e-05),\n",
       " ('x0_Jica', 0.0008215134698910109),\n",
       " ('x0_Jika', 4.879847973850347e-05),\n",
       " ('x0_Jimbo Fund', 6.760874823657957e-05),\n",
       " ('x0_Jimmy', 1.1881748793487588e-05),\n",
       " ('x0_Jipa', 3.3724606997244864e-05),\n",
       " ('x0_John Fund', 5.629782108306919e-06),\n",
       " ('x0_Ju', 0.0),\n",
       " ('x0_Judge Mchome', 2.175181908225303e-06),\n",
       " ('x0_Juhibu', 3.132023091989543e-05),\n",
       " ('x0_Jumanne Siabo', 1.8299562745080602e-05),\n",
       " ('x0_Jwtz', 2.9942781686009295e-06),\n",
       " ('x0_K', 6.726454239848168e-08),\n",
       " ('x0_Ka', 0.00022148950317516642),\n",
       " ('x0_Kaaya', 2.749119918210014e-06),\n",
       " ('x0_Kadp', 3.3206592838734104e-05),\n",
       " ('x0_Kadres Ngo', 2.298122334474635e-05),\n",
       " ('x0_Kaemp', 0.0004012275174905087),\n",
       " ('x0_Kagera Mine', 3.2310354414527824e-07),\n",
       " ('x0_Kagunguli Secondary', 1.1630683517023726e-05),\n",
       " ('x0_Kahema', 3.2363180125633823e-06),\n",
       " ('x0_Kajima', 1.7306926086955463e-06),\n",
       " ('x0_Kalebejo Parish', 1.2408584691273722e-06),\n",
       " ('x0_Kalitasi', 4.5757948319154184e-05),\n",
       " ('x0_Kalta', 2.6905135562950108e-05),\n",
       " ('x0_Kamama', 4.5997583343301615e-05),\n",
       " ('x0_Kamata Project', 3.6183289981080646e-06),\n",
       " ('x0_Kambi Migoko', 1.2073310092128202e-05),\n",
       " ('x0_Kando', 1.997182235634973e-06),\n",
       " ('x0_Kanis', 3.938647775342996e-08),\n",
       " ('x0_Kanisa', 3.849905374521796e-05),\n",
       " ('x0_Kanisa Katoliki', 1.2471695625012565e-05),\n",
       " ('x0_Kanisa Katoliki Lolovoni', 0.00023485028806221592),\n",
       " ('x0_Kanisa La Menonite', 0.00018003687119092204),\n",
       " ('x0_Kanisa La Mitume', 4.879564826823763e-06),\n",
       " ('x0_Kanisa La Tag', 3.5170804188844127e-07),\n",
       " ('x0_Kapelo', 2.1845497383029615e-06),\n",
       " ('x0_Karadea Ngo', 5.93784856173589e-05),\n",
       " ('x0_Kashwas', 1.7397320673829626e-05),\n",
       " ('x0_Kassim', 2.764369549115158e-06),\n",
       " ('x0_Kata', 8.682757784322106e-07),\n",
       " ('x0_Kauzeni', 2.330772203649279e-06),\n",
       " ('x0_Kayempu Ltd', 3.934649143600353e-06),\n",
       " ('x0_Kdc', 1.3806406939791241e-05),\n",
       " ('x0_Kdpa', 2.134127108302101e-06),\n",
       " ('x0_Kdrdp Ngo', 2.205134068912333e-06),\n",
       " ('x0_Kegocha', 5.779325776131675e-06),\n",
       " ('x0_Kenyans Company', 1.3503442084733107e-06),\n",
       " ('x0_Kerebuka', 4.9542531855949e-06),\n",
       " ('x0_Kfw', 2.06762757604906e-05),\n",
       " ('x0_Ki', 0.00033512858392530873),\n",
       " ('x0_Kibaha Independent School', 9.233164890875105e-06),\n",
       " ('x0_Kibaha Town Council', 0.00023446399376604544),\n",
       " ('x0_Kibo Brewaries', 2.578774636865062e-05),\n",
       " ('x0_Kidep', 0.00019819808848580109),\n",
       " ('x0_Kidika', 1.8331566897600985e-07),\n",
       " ('x0_Kidp', 0.00020143183792773988),\n",
       " ('x0_Kigoma Municipal', 7.877059751232141e-06),\n",
       " ('x0_Kigoma Municipal Council', 3.724484326572394e-07),\n",
       " ('x0_Kigwa', 2.942069396188115e-05),\n",
       " ('x0_Kijij', 2.796539573605054e-06),\n",
       " ('x0_Kijiji', 3.1062305768917884e-05),\n",
       " ('x0_Kikom', 6.456811877913455e-06),\n",
       " ('x0_Kikundi Cha Akina Mama', 4.897090811070464e-06),\n",
       " ('x0_Kilimarondo Parish', 9.03743127793893e-08),\n",
       " ('x0_Kilimo', 8.500250101439138e-06),\n",
       " ('x0_Kilindi District Co', 0.00035735698513073504),\n",
       " ('x0_Kiliwater', 0.0003489885229734396),\n",
       " ('x0_Killflora', 9.687426343480828e-05),\n",
       " ('x0_Kilol', 4.716699794109786e-06),\n",
       " ('x0_Kilomber', 0.0001159733843068868),\n",
       " ('x0_Kilwater', 8.64057268838891e-05),\n",
       " ('x0_Kimkuma', 7.369897481457321e-06),\n",
       " ('x0_Kinapa', 3.62795875877691e-05),\n",
       " ('x0_Kindoroko Water Project', 1.3504714301714858e-05),\n",
       " ('x0_Kingupira S', 3.3861017905095267e-05),\n",
       " ('x0_Kipo Potry', 3.307051872848623e-06),\n",
       " ('x0_Kirde', 0.0003137008247974634),\n",
       " ('x0_Kirdep', 2.792809527669765e-05),\n",
       " ('x0_Kiuma', 9.9206042878284e-05),\n",
       " ('x0_Kiwanda Cha Ngozi', 1.256622429971031e-05),\n",
       " ('x0_Kiwanda Cha Samaki', 4.32849197497378e-05),\n",
       " ('x0_Kiwanda Cha Tangawizi', 1.0709788697078945e-06),\n",
       " ('x0_Kizego Jumaa', 1.8701765975173788e-05),\n",
       " ('x0_Kizenga', 4.211179126718398e-06),\n",
       " ('x0_Kkkt', 0.0013759735685781483),\n",
       " ('x0_Kkkt Canal', 3.5310748298892787e-06),\n",
       " ('x0_Kkkt Church', 0.00010653005031969715),\n",
       " ('x0_Kkkt Dme', 2.0319740250737212e-07),\n",
       " ('x0_Kkkt Leguruki', 4.533941075499548e-06),\n",
       " ('x0_Kkkt Mareu', 8.401836808981841e-07),\n",
       " ('x0_Kkkt Ndrumangeni', 9.836680316331997e-07),\n",
       " ('x0_Kkkt-dioces Ya Pare', 0.00012643692752369224),\n",
       " ('x0_Kkkt_makwale', 0.00015989945233552526),\n",
       " ('x0_Kmcl', 8.687389958445144e-05),\n",
       " ('x0_Kmt', 1.4424358923127513e-05),\n",
       " ('x0_Koica', 4.8227118884972285e-05),\n",
       " ('x0_Koico', 6.4712206254763855e-06),\n",
       " ('x0_Kolopin', 9.685579232119434e-07),\n",
       " ('x0_Kombe Foundation', 1.6582079838287096e-05),\n",
       " ('x0_Kome Parish', 1.5156186663671179e-05),\n",
       " ('x0_Kondo Primary', 7.345071935340486e-06),\n",
       " ('x0_Konoike', 9.451221666592621e-06),\n",
       " ('x0_Kopwe Khalifa', 3.901368816175656e-06),\n",
       " ('x0_Korea', 6.411493026170365e-06),\n",
       " ('x0_Krp', 2.506760186807679e-05),\n",
       " ('x0_Kuamu', 2.718558154648489e-05),\n",
       " ('x0_Kuji Foundation', 5.692372008852339e-06),\n",
       " ('x0_Kurrp Ki', 1.4972281734498032e-05),\n",
       " ('x0_Kuwait', 0.0003142852706273652),\n",
       " ('x0_Kuwasa', 9.063838945417233e-05),\n",
       " ('x0_Kwa Ditriki Cho', 1.55676528832252e-06),\n",
       " ('x0_Kwa Makala', 1.8169858236952048e-05),\n",
       " ('x0_Kwa Mzee Waziri', 2.2236254161333633e-06),\n",
       " ('x0_Kwamdulu Estate', 4.7291515858965255e-06),\n",
       " ('x0_Kwang-nam Middle-school', 1.6119582224976496e-05),\n",
       " ('x0_Kwik', 1.1629400963545852e-05),\n",
       " ('x0_Kwikwiz', 1.6365866424219642e-05),\n",
       " ('x0_Kyela Council', 2.0479806929309198e-05),\n",
       " ('x0_L', 1.6602960580292193e-05),\n",
       " ('x0_Laizer', 1.2117331302721556e-06),\n",
       " ('x0_Lake Tanganyika', 2.225049160349868e-05),\n",
       " ('x0_Lake Tanganyika Basin', 1.3782552794001757e-06),\n",
       " ('x0_Lake Tanganyika Prodap', 6.907540311766603e-07),\n",
       " ('x0_Lamp', 0.00028379002039891776),\n",
       " ('x0_Laramatak', 1.909576867225768e-06),\n",
       " ('x0_Latfu', 1.96423978365231e-06),\n",
       " ('x0_Lawate Fuka Water Suppl', 5.2914715664717885e-05),\n",
       " ('x0_Lawatefuka Water Supply', 0.00024199143477964636),\n",
       " ('x0_Lc', 2.2844708412642407e-06),\n",
       " ('x0_Lcdg', 4.619369093888492e-05),\n",
       " ('x0_Lcgd', 4.15730133230132e-05),\n",
       " ('x0_Ldcdd', 3.762889742671006e-05),\n",
       " ('x0_Ldcgd', 6.171893964071871e-06),\n",
       " (\"x0_Lee Kang Pyung's Family\", 4.753218983336641e-05),\n",
       " ('x0_Lench', 4.940012504223064e-05),\n",
       " ('x0_Lench Taramai', 2.4203944963990566e-05),\n",
       " ('x0_Leopad Abeid', 1.046214123620932e-06),\n",
       " ('x0_Lg', 2.696742744411066e-05),\n",
       " ('x0_Lga', 0.0010259740330971392),\n",
       " ('x0_Lgcbg', 3.101440771928655e-05),\n",
       " ('x0_Lgcd', 3.60240554669681e-06),\n",
       " ('x0_Lgcdg', 0.00016577028086775408),\n",
       " ('x0_Lgcgd', 1.3603290877529235e-05),\n",
       " ('x0_Lgdbg', 1.5681964532077562e-06),\n",
       " ('x0_Lgdcg', 5.897130919801751e-06),\n",
       " ('x0_Lidep', 3.1840672982742463e-06),\n",
       " ('x0_Lifetime', 6.520524650679604e-05),\n",
       " ('x0_Lion Clu', 7.800591809229113e-06),\n",
       " ('x0_Lions', 1.5254734790497963e-05),\n",
       " ('x0_Lions C', 2.0987654537198968e-05),\n",
       " ('x0_Lions Club', 2.3933988977406346e-05),\n",
       " ('x0_Lions Club Kilimanjaro', 9.188496157803574e-06),\n",
       " ('x0_Lips', 6.076400166962784e-05),\n",
       " ('x0_Lisa', 3.0027144450180976e-05),\n",
       " ('x0_Liuwassa', 7.010184099889704e-06),\n",
       " ('x0_Livin', 4.6660399784712703e-05),\n",
       " ('x0_Living Water International', 2.762242175422593e-05),\n",
       " ('x0_Liz', 1.532736677166471e-06),\n",
       " ('x0_Local', 6.289363657035593e-05),\n",
       " ('x0_Loliondo Parish', 3.312041359075278e-05),\n",
       " ('x0_Loliondo Secondary', 1.0632687546687109e-05),\n",
       " ('x0_Losaa-kia Water Supply', 5.4519886789334914e-05),\n",
       " ('x0_Losakia Water Supply', 1.968960295693026e-06),\n",
       " ('x0_Lotary Club', 1.4644566756647297e-05),\n",
       " ('x0_Lotary International', 7.53230908678024e-06),\n",
       " ('x0_Lottery', 3.881277830924194e-07),\n",
       " ('x0_Lottery Club', 1.2773927149765629e-05),\n",
       " ('x0_Louise Elucas Sala', 2.208787643477243e-05),\n",
       " ('x0_Lowasa', 0.0001155641395275879),\n",
       " ('x0_Luchelegu Primary School', 1.3827915956606743e-05),\n",
       " ('x0_Luka', 4.333482487204746e-07),\n",
       " ('x0_Luke Samaras Ltd', 3.209000930096635e-06),\n",
       " ('x0_Lungwe', 1.6480223361643414e-06),\n",
       " ('x0_Lusajo', 5.798408489050092e-06),\n",
       " ('x0_Luthe', 2.9014897402517308e-05),\n",
       " ('x0_Lutheran', 5.9560223233323305e-05),\n",
       " ('x0_Lutheran Church', 2.2643329646217153e-05),\n",
       " ('x0_Lvemp', 1.7118992812416565e-05),\n",
       " ('x0_Lvia', 0.0002840355460062859),\n",
       " ('x0_Lwf', 6.030734370078342e-06),\n",
       " ('x0_Lwi', 5.190808558345954e-05),\n",
       " ('x0_Lwi & Central Government', 2.0607032489508245e-06),\n",
       " ('x0_Lwiji Italy', 8.705184928659136e-06),\n",
       " ('x0_M', 5.811008842365143e-06),\n",
       " ('x0_Ma', 5.127252698091828e-06),\n",
       " ('x0_Maajabu Pima', 1.6372898942688847e-05),\n",
       " ('x0_Maashumu Mohamed', 3.9863722147359354e-07),\n",
       " ('x0_Mac', 1.8971904613390477e-05),\n",
       " ('x0_Madaraweshi', 1.2815169935808965e-05),\n",
       " ('x0_Madra', 4.481533108496516e-06),\n",
       " ('x0_Mafwimbo', 7.039160848171629e-06),\n",
       " ('x0_Magadini Makiwaru Water', 4.031283880562621e-06),\n",
       " ('x0_Magadini-makiwaru Water', 0.00026464040159939427),\n",
       " ('x0_Magani', 1.4850011942267133e-06),\n",
       " ('x0_Magereza', 5.1170784367837975e-06),\n",
       " ('x0_Magoma Adp', 3.83861531794411e-05),\n",
       " ('x0_Magu Food Security', 1.7562690538567647e-05),\n",
       " ('x0_Magul', 1.3501273550446353e-06),\n",
       " ('x0_Mahemba', 8.830187319642496e-07),\n",
       " ('x0_Mahita', 2.361818708134176e-05),\n",
       " ('x0_Maji Mugumu', 9.271120211003512e-05),\n",
       " ('x0_Maju Mugumu', 1.66499722685535e-06),\n",
       " ('x0_Makanga', 1.8509523623335597e-05),\n",
       " ('x0_Makanya Sisal Estate', 7.562476590155243e-06),\n",
       " ('x0_Makapuchini', 6.85210252447803e-06),\n",
       " ('x0_Makli', 7.203463685926773e-06),\n",
       " ('x0_Makombo', 6.823005895558932e-06),\n",
       " ('x0_Makona', 1.4100254650761165e-05),\n",
       " ('x0_Makondakonde Water Population', 2.074624120288666e-05),\n",
       " ('x0_Makonde', 2.018377337591914e-06),\n",
       " ('x0_Makonde Water Population', 0.00011639136700618203),\n",
       " ('x0_Makonde Water Supply', 5.178298907343056e-05),\n",
       " ('x0_Makonder', 1.2143009170571067e-05),\n",
       " ('x0_Makori', 1.5019553059998304e-06),\n",
       " ('x0_Makoye Masanzu', 4.2224507098069794e-05),\n",
       " ('x0_Makundya', 3.681482649497145e-08),\n",
       " ('x0_Makuru', 2.831708685761459e-06),\n",
       " ('x0_Makusa', 3.579506544121033e-06),\n",
       " ('x0_Malec', 4.6809621484942014e-06),\n",
       " ('x0_Maliasili', 5.746699452971876e-06),\n",
       " ('x0_Malola', 4.771991121650126e-06),\n",
       " ('x0_Mama Ku', 3.3997400108824727e-06),\n",
       " ('x0_Mama Mery Nagu', 8.393796210739752e-07),\n",
       " ('x0_Mamad', 7.048503407242027e-05),\n",
       " ('x0_Mamlaka Ya Maji Ngara', 2.5958293417953337e-05),\n",
       " ('x0_Mamvua Kakungu', 2.23444152526983e-08),\n",
       " ('x0_Mango Tree', 1.20868173993022e-05),\n",
       " ('x0_Manyota Primary School', 2.9829158643180636e-06),\n",
       " ('x0_Manyovu Agriculture Institute', 2.5868735307522394e-06),\n",
       " ('x0_Marafip', 0.0004464352166647941),\n",
       " ('x0_Marke', 1.4985440951537404e-06),\n",
       " ('x0_Maro', 2.724471929867808e-06),\n",
       " ('x0_Maseka Community', 1.8919688835448347e-05),\n",
       " ('x0_Masese', 2.6744242098414885e-06),\n",
       " ('x0_Mashaka', 3.5176876944934086e-05),\n",
       " ('x0_Masista', 3.3006946258533703e-07),\n",
       " ('x0_Maswi Drilling Co. Ltd', 2.1110149642827568e-05),\n",
       " ('x0_Mataro', 3.8442683106409645e-06),\n",
       " ('x0_Matata Selemani', 1.5474551253543485e-05),\n",
       " ('x0_Matimbwa Sec', 1.2790293338866341e-05),\n",
       " ('x0_Matogoro', 1.4569630645520965e-07),\n",
       " ('x0_Mavuno Ngo', 1.842787397194851e-05),\n",
       " ('x0_Maxavella', 2.7901566666209707e-05),\n",
       " ('x0_Mayiro', 5.942458760482953e-06),\n",
       " ('x0_Mazaro Kabula', 2.3148756006308194e-06),\n",
       " ('x0_Mbeje', 4.084703386049832e-06),\n",
       " ('x0_Mbiuwasa', 2.7942698561931036e-05),\n",
       " ('x0_Mboma', 3.7658730810187392e-06),\n",
       " ('x0_Mbozi District Council', 2.68197881328433e-05),\n",
       " ('x0_Mbozi Hospital', 1.9148932119598756e-06),\n",
       " ('x0_Mbozi Secondary School', 3.829894019339769e-06),\n",
       " ('x0_Mbunge', 7.444641117248519e-05),\n",
       " ('x0_Mbwana Omari', 1.2311655995857285e-05),\n",
       " ('x0_Mbwiro', 2.7187002992043135e-06),\n",
       " ('x0_Mchukwi Hos', 3.940086659011004e-06),\n",
       " ('x0_Md', 0.00022280138524931808),\n",
       " ('x0_Mdc', 0.00014524522626273658),\n",
       " ('x0_Mdgwc', 5.25345588776417e-05),\n",
       " ('x0_Mdrdp', 0.00015868237238384863),\n",
       " ('x0_Meco', 1.4357868971239166e-05),\n",
       " ('x0_Medicine', 3.794970812335155e-05),\n",
       " ('x0_Meko Balo', 3.143032103562869e-06),\n",
       " ('x0_Mem', 0.00011151010061793646),\n",
       " ('x0_Member Of Parliament', 3.1853237895107986e-05),\n",
       " ('x0_Member Of Perliament Ahmed Ali', 2.5814531930509424e-06),\n",
       " ('x0_Menon', 2.945555930072432e-05),\n",
       " ('x0_Meru Concrete', 1.8095552677654428e-06),\n",
       " ('x0_Methodist Church', 7.550952003503894e-07),\n",
       " ('x0_Mfuko Wa Jimbo', 8.527030867582507e-05),\n",
       " ('x0_Mfuko Wa Jimbo La Magu', 9.970532642876589e-06),\n",
       " ('x0_Mganga', 5.150615699958684e-06),\n",
       " ('x0_Mgaya', 1.00878745819781e-06),\n",
       " ('x0_Mgaya Masese', 5.3506281798807685e-06),\n",
       " ('x0_Mgm', 4.394760192924659e-05),\n",
       " ('x0_Mh An', 0.00017901107731219934),\n",
       " ('x0_Mh Kapuya', 3.9883526288808165e-05),\n",
       " ('x0_Mh.Chiza', 4.081718435582076e-07),\n",
       " ('x0_Mh.J S Sumari', 5.17119630217986e-06),\n",
       " ('x0_Mheza Distric Counc', 2.413886381551601e-05),\n",
       " ('x0_Mhoranzi', 7.79046378784546e-06),\n",
       " ('x0_Mhuzu', 4.453486886703395e-06),\n",
       " ('x0_Mi', 0.00010375746946421227),\n",
       " ('x0_Miab', 4.977839884645834e-06),\n",
       " ('x0_Mianz', 6.223358377045935e-06),\n",
       " ('x0_Mikumi G', 2.9543156229045832e-05),\n",
       " ('x0_Milenia', 3.3774687729539027e-05),\n",
       " ('x0_Mileniam Project', 0.00019403064012625158),\n",
       " ('x0_Millenium', 3.343920135477272e-05),\n",
       " ('x0_Minis', 1.303376692766321e-05),\n",
       " ('x0_Ministry Of Education', 1.4135413277820446e-05),\n",
       " ('x0_Ministry Of Water', 0.002973825731957365),\n",
       " ('x0_Minjingu', 4.383932877014979e-05),\n",
       " ('x0_Misana George', 1.4772489734087725e-05),\n",
       " ('x0_Misheni', 8.010122230335898e-07),\n",
       " ('x0_Misri Government', 2.2943926793766654e-05),\n",
       " ('x0_Missi', 0.000143638905754511),\n",
       " ('x0_Missio', 2.7055910175362123e-07),\n",
       " ('x0_Mission', 0.0006478394193296537),\n",
       " ('x0_Missionaries', 7.82358964532024e-05),\n",
       " ('x0_Missionary', 2.4125807571778815e-05),\n",
       " ('x0_Miziriol', 2.4522202531709136e-05),\n",
       " ('x0_Mkinga  Distric Cou', 0.0001241838622615778),\n",
       " ('x0_Mkinga Distric Coun', 0.0005215939819754961),\n",
       " ('x0_Mkulima', 2.674623396687076e-06),\n",
       " ('x0_Mkuluku', 1.8449540382251918e-06),\n",
       " ('x0_Mkurugenzi', 2.682422264458962e-05),\n",
       " ('x0_Mkuyu', 3.695885495024749e-05),\n",
       " ('x0_Mmanya Abdallah', 2.5076266284661383e-05),\n",
       " ('x0_Mmem', 1.6406512731173696e-05),\n",
       " ('x0_Mmg Gold Mine', 2.0860587968504762e-05),\n",
       " ('x0_Mnyambe', 1.1814379740610007e-06),\n",
       " ('x0_Mnyamisi Jumaa', 1.0115506519012572e-05),\n",
       " ('x0_Morad', 5.513625290960162e-06),\n",
       " ('x0_Moradi', 7.671309638076301e-06),\n",
       " ('x0_Moravian', 1.8937391463435132e-05),\n",
       " ('x0_Moroil', 1.800830016239256e-05),\n",
       " ('x0_Morovian', 4.026750000834215e-05),\n",
       " ('x0_Morovian Church', 4.495088566963945e-05),\n",
       " ('x0_Moses', 4.488593613530273e-06),\n",
       " ('x0_Moslem Foundation', 9.095625765937237e-06),\n",
       " ('x0_Mosque', 3.963328595665476e-05),\n",
       " ('x0_Mosqure', 2.4269822920924443e-06),\n",
       " ('x0_Motiba Manyanya', 9.877637898579088e-06),\n",
       " ('x0_Motiba Wambura', 4.148280553191618e-06),\n",
       " ('x0_Mow', 5.414628720618522e-06),\n",
       " ('x0_Mp', 6.275463020735137e-05),\n",
       " ('x0_Mp Mloka', 1.3143283697349543e-06),\n",
       " ('x0_Mp Mzeru', 7.03648219946537e-05),\n",
       " ('x0_Mrtc', 2.576457186803152e-06),\n",
       " ('x0_Ms', 0.00017167086619152564),\n",
       " ('x0_Msabi', 8.142554835128854e-05),\n",
       " ('x0_Msf', 6.187695102598991e-05),\n",
       " ('x0_Msf/tacare', 3.484991409107298e-05),\n",
       " ('x0_Msigw', 2.2820981661485806e-06),\n",
       " ('x0_Msigwa', 1.8681324665250663e-07),\n",
       " ('x0_Msiki', 8.866775907964453e-06),\n",
       " ('x0_Msikiti', 2.7050574015368044e-05),\n",
       " ('x0_Msikiti Masji', 1.000166344455818e-06),\n",
       " ('x0_Msikitini', 1.3989669785883372e-07),\n",
       " ('x0_Msudi', 4.2256586494983155e-07),\n",
       " ('x0_Mtambo', 4.407449359732565e-06),\n",
       " ('x0_Mtc', 6.8972925259157755e-06),\n",
       " ('x0_Mtewe', 3.265461349304811e-05),\n",
       " ('x0_Mtibwa S', 3.2389794931037314e-05),\n",
       " ('x0_Mtuwasa', 9.738379917911488e-06),\n",
       " ('x0_Mtuwasa And Community', 2.1557434038664876e-06),\n",
       " ('x0_Muhameid Na', 2.1496263907989817e-05),\n",
       " ('x0_Muhindi', 3.317780586763091e-06),\n",
       " ('x0_Muislam', 5.622983128492124e-06),\n",
       " ('x0_Municipal Council', 4.420824046930139e-06),\n",
       " ('x0_Musilim Agency', 5.029474637051673e-05),\n",
       " ('x0_Muslim Society', 6.550889449964121e-06),\n",
       " ('x0_Muslim World', 1.99672417430493e-06),\n",
       " ('x0_Muslimehefen International', 5.468539068872135e-06),\n",
       " ('x0_Muslims', 1.1288202444402094e-05),\n",
       " ('x0_Muslimu Society(shia)', 2.2117194075355133e-05),\n",
       " ('x0_Muwasa', 1.0582351476096921e-05),\n",
       " ('x0_Muwsa', 5.360168755503447e-05),\n",
       " ('x0_Mwakalinga', 2.6724190719444285e-06),\n",
       " ('x0_Mwalimu  Maneromango Muhenzi', 2.48260785208424e-06),\n",
       " ('x0_Mwamama', 7.080203119867765e-06),\n",
       " ('x0_Mwamvita Rajabu', 1.425430080688589e-06),\n",
       " ('x0_Mwanaisha Mwidadi', 6.625185884108798e-06),\n",
       " ('x0_Mwanamisi Ally', 4.663985319901184e-06),\n",
       " ('x0_Mwanga Town Water Authority', 4.9793819538543075e-06),\n",
       " ('x0_Mwanza', 2.1991707208214153e-05),\n",
       " ('x0_Mwaya Mn', 6.203982990475708e-05),\n",
       " ('x0_Mwelia Estate', 1.912384371196722e-05),\n",
       " ('x0_Mwigicho', 6.938041230845518e-07),\n",
       " ('x0_Mwingereza', 4.7420633938847754e-06),\n",
       " ('x0_Mwinjuma Mzee', 9.84367532296882e-06),\n",
       " ('x0_Mwita Lucas', 1.305929843700594e-06),\n",
       " ('x0_Mwita Machota', 7.774428186526043e-06),\n",
       " ('x0_Mwita Mahiti', 4.595352289638489e-06),\n",
       " ('x0_Mwl. Nyerere Sec. School', 4.710571512341112e-05),\n",
       " ('x0_Mws', 7.210880687197812e-05),\n",
       " ('x0_Mzee Don', 7.295548475129246e-06),\n",
       " ('x0_Mzee Lesilali', 3.4846320252399865e-06),\n",
       " ('x0_Mzee Mabena', 1.277479743298812e-07),\n",
       " ('x0_Mzee Ngwatu', 4.277265779574473e-06),\n",
       " ('x0_Mzee Omari', 2.6507832661600754e-06),\n",
       " ('x0_Mzee Salum Bakari Darus', 2.546576510936126e-06),\n",
       " ('x0_Mzee Shindika', 3.4656786357141426e-06),\n",
       " ('x0_Mzee Waziri Tajari', 6.13031373733211e-07),\n",
       " ('x0_Mzee Yassin Naya', 2.609862324461307e-07),\n",
       " ('x0_Mzinga A', 1.8296870936350565e-05),\n",
       " ('x0_Mzung', 1.2461496259151356e-05),\n",
       " ('x0_Mzungu Paul', 1.7923797361466893e-05),\n",
       " ('x0_Nado', 3.1952065645260473e-06),\n",
       " ('x0_Namungo Miners', 1.300405448110904e-05),\n",
       " ('x0_Nassan', 2.873504341477121e-05),\n",
       " ('x0_Nassor Fehed', 1.5095680177166257e-06),\n",
       " ('x0_Natherland', 9.140635769168193e-06),\n",
       " ('x0_Natio', 5.885876829371349e-06),\n",
       " ('x0_National Park', 4.858685788930395e-07),\n",
       " ('x0_National Rural', 0.0002932719253129011),\n",
       " ('x0_National Rural (wb)', 1.6852507462246272e-06),\n",
       " ('x0_National Rural And Hfa', 3.8940574570747076e-05),\n",
       " ('x0_Nazalet Church', 5.003573250636893e-06),\n",
       " ('x0_Nazaleti', 1.7253460525755843e-06),\n",
       " ('x0_Nazareth Church', 2.8142531424092678e-05),\n",
       " ('x0_Ncaa', 0.0001636015895385971),\n",
       " ('x0_Nchagwa', 2.568883019728093e-06),\n",
       " ('x0_Ncs', 2.716182783902948e-06),\n",
       " ('x0_Nddp', 2.7812571869355687e-05),\n",
       " ('x0_Ndm', 9.72059623892669e-06),\n",
       " ('x0_Ndorobo Tours', 4.955664907990943e-06),\n",
       " ('x0_Ndrdp', 0.00035350479265179753),\n",
       " ('x0_Nduku Village', 2.9914757280036136e-06),\n",
       " ('x0_Neemia Mission', 8.936327349212453e-06),\n",
       " ('x0_Nerthlands', 6.481307152840579e-06),\n",
       " ('x0_Nethalan', 0.0005636401377154706),\n",
       " ('x0_Nethe', 0.00015739421114706285),\n",
       " ('x0_Netherla', 7.192672080809895e-07),\n",
       " ('x0_Netherland', 1.0046730354768273e-05),\n",
       " ('x0_Netherlands', 0.00047634556673572273),\n",
       " ('x0_Ngiresi Village Community', 1.0578002115583173e-05),\n",
       " ('x0_Ngos', 1.7289312614680328e-05),\n",
       " ('x0_Ngumi', 6.708759266655879e-06),\n",
       " ('x0_Nimrodi Mkono[mb]', 8.521351944603257e-06),\n",
       " ('x0_Nirad', 6.751308235947739e-07),\n",
       " ('x0_Nk', 2.1727723150646776e-05),\n",
       " ('x0_No', 0.00025367022618044596),\n",
       " ('x0_Norad', 0.0019430634662670953),\n",
       " ('x0_Norad /government', 0.0001635863216774709),\n",
       " ('x0_Norad/ Kidep', 0.00024217275040620167),\n",
       " ('x0_Norad/ Tassaf', 1.5888453296727476e-05),\n",
       " ('x0_Norad/ Tassaf Ii', 6.364644553209211e-06),\n",
       " ('x0_Norad/government', 1.9310297878316008e-07),\n",
       " ('x0_Norad/rudep', 3.656822218020979e-06),\n",
       " ('x0_Norani', 2.384895038831829e-06),\n",
       " ('x0_Nordic', 9.940669060580487e-06),\n",
       " ('x0_Norway Aid', 1.3042645430394844e-07),\n",
       " ('x0_Noshad', 2.3011637589232106e-05),\n",
       " ('x0_Noshadi', 8.294457368248018e-06),\n",
       " ('x0_Not Known', 0.00027356704874473135),\n",
       " ('x0_Nrwssp', 1.453864759152231e-06),\n",
       " ('x0_Nsc', 7.979095741103989e-05),\n",
       " ('x0_Nwssp', 5.557834943643452e-07),\n",
       " ('x0_Nyabarongo Kegoro', 5.2032990123936035e-06),\n",
       " ('x0_Nyabibuye Islamic Center', 2.5192856752820353e-06),\n",
       " ('x0_Nyahale', 1.6038360669890686e-09),\n",
       " ('x0_Nyamasagi', 1.2027687754446801e-05),\n",
       " ('x0_Nyamingu Subvillage', 1.3939854901798566e-06),\n",
       " ('x0_Nyamongo Gold Mining', 5.987880827397689e-06),\n",
       " ('x0_Nyamuhanga Maro', 1.868560904136853e-06),\n",
       " ('x0_Nyeisa', 9.22369948721775e-06),\n",
       " ('x0_O', 3.3458557287453517e-06),\n",
       " (\"x0_Oak'zion' And Bugango B' Commu\", 1.3204379292211358e-05),\n",
       " ('x0_Obadia', 1.239087615946915e-07),\n",
       " ('x0_Obc', 3.65571007705593e-05),\n",
       " ('x0_Oda', 5.029480833399257e-06),\n",
       " ('x0_Oikos E .Africa/european Union', 7.354655512134609e-07),\n",
       " ('x0_Oikos E.Africa/ European Union', 1.3837715831862851e-06),\n",
       " ('x0_Oikos E.Africa/european Union', 3.262852569161607e-05),\n",
       " ('x0_Oikos E.Afrika', 0.0003802318971994642),\n",
       " ('x0_Ola', 5.584278316108643e-05),\n",
       " ('x0_Old Nyika Company', 4.43933650340659e-06),\n",
       " ('x0_Oldonyolengai', 7.558070304610508e-05),\n",
       " ('x0_Olgilai Village Community', 2.7868254659197465e-05),\n",
       " ('x0_Olumuro', 1.9733699187495165e-05),\n",
       " ('x0_Omar Ally', 3.180899254011956e-07),\n",
       " ('x0_Omar Rafael', 3.7244728525522755e-06),\n",
       " ('x0_Omary Issa', 4.53186685582675e-06),\n",
       " ('x0_One Un', 0.00010687090441330882),\n",
       " ('x0_Opec', 2.774996848411619e-06),\n",
       " ('x0_Others', 6.826423554007618e-07),\n",
       " ('x0_Othod', 2.3828974155137164e-07),\n",
       " ('x0_Overnment', 4.198167376970491e-06),\n",
       " ...]"
      ]
     },
     "execution_count": 191,
     "metadata": {},
     "output_type": "execute_result"
    }
   ],
   "source": [
    "feature_importance"
   ]
  },
  {
   "cell_type": "code",
   "execution_count": 192,
   "metadata": {},
   "outputs": [],
   "source": [
    "feature_importance.sort(key = lambda x: x[1], reverse = True)"
   ]
  },
  {
   "cell_type": "code",
   "execution_count": 196,
   "metadata": {},
   "outputs": [
    {
     "data": {
      "text/plain": [
       "[('population', 0.1252657681861209),\n",
       " ('x7_dry', 0.0834856189224012),\n",
       " ('amount_tsh', 0.05422392073230461),\n",
       " ('x7_enough', 0.04714161692855469),\n",
       " ('x10_other', 0.03296328059141029),\n",
       " ('x4_other', 0.029328269915258394),\n",
       " ('x7_insufficient', 0.023642106925771133),\n",
       " ('x4_handpump', 0.01574898785210494),\n",
       " ('x0_Government Of Tanzania', 0.014023722265299968),\n",
       " ('x4_gravity', 0.013739413159464184)]"
      ]
     },
     "execution_count": 196,
     "metadata": {},
     "output_type": "execute_result"
    }
   ],
   "source": [
    "feature_importance[:10]"
   ]
  },
  {
   "cell_type": "markdown",
   "metadata": {},
   "source": [
    "#type of well - to distinguish between functional and non \n",
    "care about type of well a lot. \n",
    "x7 too - qunatity \n",
    "- amount tsh ... how does this help \n",
    "- predicting if functional. \n",
    "- If"
   ]
  },
  {
   "cell_type": "code",
   "execution_count": 197,
   "metadata": {},
   "outputs": [
    {
     "data": {
      "text/plain": [
       "gravity         24016\n",
       "handpump        15405\n",
       "submersible      5554\n",
       "other            5535\n",
       "motorpump        2628\n",
       "rope pump         346\n",
       "wind-powered      102\n",
       "Name: extraction_type_class, dtype: int64"
      ]
     },
     "execution_count": 197,
     "metadata": {},
     "output_type": "execute_result"
    }
   ],
   "source": [
    "clean_df['extraction_type_class'].value_counts()"
   ]
  },
  {
   "cell_type": "markdown",
   "metadata": {},
   "source": [
    "# Ignore below:"
   ]
  },
  {
   "cell_type": "code",
   "execution_count": 140,
   "metadata": {
    "scrolled": false
   },
   "outputs": [
    {
     "ename": "NameError",
     "evalue": "name 'feature_used' is not defined",
     "output_type": "error",
     "traceback": [
      "\u001b[0;31m---------------------------------------------------------------------------\u001b[0m",
      "\u001b[0;31mNameError\u001b[0m                                 Traceback (most recent call last)",
      "\u001b[0;32m<ipython-input-140-90e152c2663c>\u001b[0m in \u001b[0;36m<module>\u001b[0;34m\u001b[0m\n\u001b[0;32m----> 1\u001b[0;31m \u001b[0;32mfor\u001b[0m \u001b[0mfi\u001b[0m\u001b[0;34m,\u001b[0m \u001b[0mfeature\u001b[0m \u001b[0;32min\u001b[0m \u001b[0mzip\u001b[0m\u001b[0;34m(\u001b[0m\u001b[0mrf_model\u001b[0m\u001b[0;34m[\u001b[0m\u001b[0;34m'random_forest'\u001b[0m\u001b[0;34m]\u001b[0m\u001b[0;34m.\u001b[0m\u001b[0mfeature_importances_\u001b[0m\u001b[0;34m,\u001b[0m \u001b[0mfeature_used\u001b[0m\u001b[0;34m)\u001b[0m\u001b[0;34m:\u001b[0m\u001b[0;34m\u001b[0m\u001b[0;34m\u001b[0m\u001b[0m\n\u001b[0m\u001b[1;32m      2\u001b[0m     \u001b[0mprint\u001b[0m\u001b[0;34m(\u001b[0m\u001b[0mfi\u001b[0m\u001b[0;34m,\u001b[0m \u001b[0mfeature\u001b[0m\u001b[0;34m)\u001b[0m\u001b[0;34m\u001b[0m\u001b[0;34m\u001b[0m\u001b[0m\n",
      "\u001b[0;31mNameError\u001b[0m: name 'feature_used' is not defined"
     ]
    }
   ],
   "source": []
  },
  {
   "cell_type": "code",
   "execution_count": 139,
   "metadata": {},
   "outputs": [
    {
     "ename": "NameError",
     "evalue": "name 'feature_names' is not defined",
     "output_type": "error",
     "traceback": [
      "\u001b[0;31m---------------------------------------------------------------------------\u001b[0m",
      "\u001b[0;31mNameError\u001b[0m                                 Traceback (most recent call last)",
      "\u001b[0;32m<ipython-input-139-78c8b63f24e1>\u001b[0m in \u001b[0;36m<module>\u001b[0;34m\u001b[0m\n\u001b[1;32m      2\u001b[0m \u001b[0;31m#std = np.std([rf_model.feature_importances_ for tree in forest.estimators_], axis=0)\u001b[0m\u001b[0;34m\u001b[0m\u001b[0;34m\u001b[0m\u001b[0;34m\u001b[0m\u001b[0m\n\u001b[1;32m      3\u001b[0m \u001b[0;34m\u001b[0m\u001b[0m\n\u001b[0;32m----> 4\u001b[0;31m \u001b[0mforest_importances\u001b[0m \u001b[0;34m=\u001b[0m \u001b[0mpd\u001b[0m\u001b[0;34m.\u001b[0m\u001b[0mSeries\u001b[0m\u001b[0;34m(\u001b[0m\u001b[0mimportances\u001b[0m\u001b[0;34m,\u001b[0m \u001b[0mindex\u001b[0m\u001b[0;34m=\u001b[0m\u001b[0mfeature_names\u001b[0m\u001b[0;34m)\u001b[0m\u001b[0;34m\u001b[0m\u001b[0;34m\u001b[0m\u001b[0m\n\u001b[0m\u001b[1;32m      5\u001b[0m \u001b[0;34m\u001b[0m\u001b[0m\n\u001b[1;32m      6\u001b[0m \u001b[0mfig\u001b[0m\u001b[0;34m,\u001b[0m \u001b[0max\u001b[0m \u001b[0;34m=\u001b[0m \u001b[0mplt\u001b[0m\u001b[0;34m.\u001b[0m\u001b[0msubplots\u001b[0m\u001b[0;34m(\u001b[0m\u001b[0;34m)\u001b[0m\u001b[0;34m\u001b[0m\u001b[0;34m\u001b[0m\u001b[0m\n",
      "\u001b[0;31mNameError\u001b[0m: name 'feature_names' is not defined"
     ]
    }
   ],
   "source": [
    "\n",
    "importances = rf_model['random_forest'].feature_importances_\n",
    "#std = np.std([rf_model.feature_importances_ for tree in forest.estimators_], axis=0)\n",
    "\n",
    "forest_importances = pd.Series(importances, index=feature_names)\n",
    "\n",
    "fig, ax = plt.subplots()\n",
    "forest_importances.plot.bar(yerr=std, ax=ax)\n",
    "ax.set_title(\" \")\n",
    "ax.set_ylabel(\" \")\n",
    "fig.tight_layout()"
   ]
  },
  {
   "cell_type": "markdown",
   "metadata": {},
   "source": [
    "# Ignore all below"
   ]
  },
  {
   "cell_type": "code",
   "execution_count": null,
   "metadata": {},
   "outputs": [],
   "source": [
    "log_pipe = ModelWithCV(logreg_model_pipe, model_name='log_pipe', X=X_train, y=y_train)"
   ]
  },
  {
   "cell_type": "code",
   "execution_count": null,
   "metadata": {},
   "outputs": [],
   "source": [
    "fig, ax = plt.subplots()\n",
    "\n",
    "log_pipe.plot_cv(ax=ax);"
   ]
  },
  {
   "cell_type": "code",
   "execution_count": null,
   "metadata": {},
   "outputs": [],
   "source": [
    "log_pipe.print_cv_summary()"
   ]
  },
  {
   "cell_type": "code",
   "execution_count": null,
   "metadata": {},
   "outputs": [],
   "source": []
  },
  {
   "cell_type": "code",
   "execution_count": null,
   "metadata": {},
   "outputs": [],
   "source": []
  },
  {
   "cell_type": "code",
   "execution_count": null,
   "metadata": {},
   "outputs": [],
   "source": []
  }
 ],
 "metadata": {
  "kernelspec": {
   "display_name": "Python (learn-env)",
   "language": "python",
   "name": "learn-env"
  },
  "language_info": {
   "codemirror_mode": {
    "name": "ipython",
    "version": 3
   },
   "file_extension": ".py",
   "mimetype": "text/x-python",
   "name": "python",
   "nbconvert_exporter": "python",
   "pygments_lexer": "ipython3",
   "version": "3.8.5"
  }
 },
 "nbformat": 4,
 "nbformat_minor": 4
}
