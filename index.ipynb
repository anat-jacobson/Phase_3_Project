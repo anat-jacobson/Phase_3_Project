{
 "cells": [
  {
   "cell_type": "markdown",
   "metadata": {},
   "source": [
    "# Tanzania Water Wells\n",
    "Predicting the operating condition of water wells in Tanzania based on variaous predictive models.\n",
    "\n",
    "By: Anat Jacobson \n",
    "\n",
    "--- \n",
    "\n",
    "### Overview \n",
    "\n",
    "This project is based on data on the on the makeup and condition of wells within Tanzania. The data is used to create a predictive model and provide valuable insights into whether a well is in operating or not. This can aid the Tanzanian Government in deciding which wells neeed to be visited first in order to repair and aid in the major water crisis the country is facing.\n",
    "\n",
    "### Introduction and Busines Case\n",
    "The problem being faced is that there are thousands of water wells within Tanzania and many of need reparations. This is a major issue within Tanzania since wells are the main water source, so lacking functional wells is a severe threat to livelihood. Water scarcity is also effecting livestock, wild animals, fishing, and other living organisms. Additionally, as you know there has been fast population growth within the country, climate change impacts and expansion of human economic activities put the country under water supply distress. \n",
    "\n",
    "The issue here is that inspecting these wells cost a lot of money and takes loads of time that Tanzania does not have. I have created a model with the goal in mind to predict which wells in Tanzania are no longer functional and therefore are the ones that should be visited first and repaired.  \n",
    "\n",
    "\n",
    "The data for this notebook has been provided by:  Taarifa and Tanzania Ministry of Water through <a href=\"https://www.drivendata.org/competitions/7/pump-it-up-data-mining-the-water-table/page/23/\" >Driven Data</a>.\n",
    "\n",
    "### Business Understandings\n",
    "\n",
    "#### Applications\n",
    "- Tanzanian Goverment can make informed decision when deciding which well to look at to repair next and save money\n",
    "- Well builders may be able to make better decisions when building and repairing wells  wells to build with parts that don't lead to breakage as much.\n",
    "\n",
    "#### Data \n",
    "The dataset that was worked with after cleaning had over 53K wells in it with data that focused on the geographical information of the well as well as information of water source, payments, quality of water and other important features. \n",
    "\n",
    "The predictive measure in this set was whether the well is functional or not, positive being functional. The measure was initially in a seperate dataframe but was merged with the rest of the data to be able to accurately create a model. This cleaning and merging process is explained below. \n",
    "\n",
    "A few key metrics taken into account from this dataset were: \n",
    "\n",
    "- 5 Different quality groups of water\n",
    "- 26 regions\n",
    "- 1.8K funders\n",
    "- 7 Source types\n",
    "\n",
    "Additionally, the predictive measure was initailly a tirtiary measure and I changed it to binary that will be explained below as well. \n",
    "\n",
    "### Methodology\n",
    "Because of the many categorical features that can influence well functionality pricing, this project investigates features and their effects through various types of models in an attempt to best predict the well condition. This is done through the use of logistic regression, decision trees and random forest. Our predictor for this model is whether the well is functioning or not, positive class being functional. Our measure for this project will be based on the highest f1 score since for the purposes of this project, we not only care whether the prediction is positive cases but also whether they are accurately positive and whether negative results are accurately negative. \n",
    "\n",
    "---"
   ]
  },
  {
   "cell_type": "markdown",
   "metadata": {},
   "source": [
    "## Data Exploration and Analysis\n",
    "Importing all packages needed and creating cross validation class. This class has been adapted from class lectures and the Flatiron school. "
   ]
  },
  {
   "cell_type": "code",
   "execution_count": 433,
   "metadata": {
    "vscode": {
     "languageId": "python"
    }
   },
   "outputs": [],
   "source": [
    "#imports\n",
    "import pandas as pd\n",
    "import numpy as np\n",
    "from matplotlib import pyplot as plt\n",
    "import seaborn as sns\n",
    "\n",
    "from sklearn.model_selection import train_test_split, GridSearchCV, cross_val_score\n",
    "from sklearn.dummy import DummyClassifier, DummyRegressor\n",
    "from sklearn.metrics import log_loss\n",
    "from sklearn.pipeline import Pipeline\n",
    "from sklearn.preprocessing import StandardScaler, OneHotEncoder, FunctionTransformer\n",
    "from sklearn.impute import SimpleImputer\n",
    "from sklearn.compose import ColumnTransformer\n",
    "from sklearn.linear_model import LogisticRegression\n",
    "from sklearn.ensemble import RandomForestClassifier, GradientBoostingClassifier\n",
    "from sklearn.metrics import plot_confusion_matrix, recall_score,\\\n",
    "    accuracy_score, precision_score, f1_score\n",
    "from sklearn.tree import DecisionTreeClassifier, plot_tree\n",
    "\n",
    "from imblearn.pipeline import Pipeline as ImPipeline"
   ]
  },
  {
   "cell_type": "code",
   "execution_count": 434,
   "metadata": {
    "vscode": {
     "languageId": "python"
    }
   },
   "outputs": [],
   "source": [
    "class ModelWithCV():\n",
    "    '''Structure to save the model and more easily see its crossvalidation'''\n",
    "    \n",
    "    def __init__(self, model, model_name, X, y, cv_now=True):\n",
    "        self.model = model\n",
    "        self.name = model_name\n",
    "        self.X = X\n",
    "        self.y = y\n",
    "        # For CV results\n",
    "        self.cv_results = None\n",
    "        self.cv_mean = None\n",
    "        self.cv_median = None\n",
    "        self.cv_std = None\n",
    "        #\n",
    "        if cv_now:\n",
    "            self.cross_validate()\n",
    "        \n",
    "    def cross_validate(self, X=None, y=None, kfolds=5):\n",
    "        '''\n",
    "        Perform cross-validation and return results.\n",
    "        \n",
    "        Args: \n",
    "          X:\n",
    "            Optional; Training data to perform CV on. Otherwise use X from object\n",
    "          y:\n",
    "            Optional; Training data to perform CV on. Otherwise use y from object\n",
    "          kfolds:\n",
    "            Optional; Number of folds for CV (default is 10)  \n",
    "        '''\n",
    "        \n",
    "        cv_X = X if X else self.X\n",
    "        cv_y = y if y else self.y\n",
    "\n",
    "        self.cv_results = cross_val_score(self.model, cv_X, cv_y, cv=kfolds, scoring = 'f1')\n",
    "        self.cv_mean = np.mean(self.cv_results)\n",
    "        self.cv_median = np.median(self.cv_results)\n",
    "        self.cv_std = np.std(self.cv_results)\n",
    "\n",
    "        \n",
    "    def print_cv_summary(self):\n",
    "        cv_summary = (\n",
    "        f'''CV Results for `{self.name}` model:\n",
    "            {self.cv_mean:.5f} ± {self.cv_std:.5f} f1 score\n",
    "        ''')\n",
    "        print(cv_summary)\n",
    "\n",
    "        \n",
    "    def plot_cv(self, ax):\n",
    "        '''\n",
    "        Plot the cross-validation values using the array of results and given \n",
    "        Axis for plotting.\n",
    "        '''\n",
    "        ax.set_title(f'CV Results for `{self.name}` Model')\n",
    "        # Thinner violinplot with higher bw\n",
    "        sns.violinplot(y=self.cv_results, ax=ax, bw=.4)\n",
    "        sns.swarmplot(\n",
    "                y=self.cv_results,\n",
    "                color='orange',\n",
    "                size=10,\n",
    "                alpha= 0.8,\n",
    "                ax=ax\n",
    "        )\n",
    "\n",
    "        return ax"
   ]
  },
  {
   "cell_type": "markdown",
   "metadata": {},
   "source": [
    "## Import CSVs, Merge, and Clean all Data Needed\n",
    "2 Datasets imported: \n",
    "- labels: contains all the lables of the dataset (ie the y variable) and ID\n",
    "- df: contains all the features of the well and ID.\n",
    "\n",
    "Will be merging these 2 dataframes to create one full set to test and train on. "
   ]
  },
  {
   "cell_type": "code",
   "execution_count": 435,
   "metadata": {
    "vscode": {
     "languageId": "python"
    }
   },
   "outputs": [],
   "source": [
    "labels = pd.read_csv('Pump_it_Up_Data_Mining_the_Water_Table_-_Training_set_labels.csv')\n",
    "#dataset with the ys of training data\n",
    "df = pd.read_csv('Pump_it_Up_Data_Mining_the_Water_Table_-_Training_set_values.csv')\n",
    "#dataset with training set\n"
   ]
  },
  {
   "cell_type": "code",
   "execution_count": 436,
   "metadata": {
    "scrolled": true,
    "vscode": {
     "languageId": "python"
    }
   },
   "outputs": [
    {
     "name": "stdout",
     "output_type": "stream",
     "text": [
      "df:  (59400, 40)\n",
      "labels:  (59400, 2)\n"
     ]
    }
   ],
   "source": [
    "#checking the shape of both dataframes\n",
    "print('df: ', df.shape)\n",
    "print('labels: ',labels.shape)"
   ]
  },
  {
   "cell_type": "markdown",
   "metadata": {},
   "source": [
    "Based on these 2 shapes you can see that the data is likely the same data and will be ok to merge. Looking at the heads of the data to continue observations! "
   ]
  },
  {
   "cell_type": "code",
   "execution_count": 437,
   "metadata": {
    "vscode": {
     "languageId": "python"
    }
   },
   "outputs": [
    {
     "data": {
      "text/html": [
       "<div>\n",
       "<style scoped>\n",
       "    .dataframe tbody tr th:only-of-type {\n",
       "        vertical-align: middle;\n",
       "    }\n",
       "\n",
       "    .dataframe tbody tr th {\n",
       "        vertical-align: top;\n",
       "    }\n",
       "\n",
       "    .dataframe thead th {\n",
       "        text-align: right;\n",
       "    }\n",
       "</style>\n",
       "<table border=\"1\" class=\"dataframe\">\n",
       "  <thead>\n",
       "    <tr style=\"text-align: right;\">\n",
       "      <th></th>\n",
       "      <th>id</th>\n",
       "      <th>status_group</th>\n",
       "    </tr>\n",
       "  </thead>\n",
       "  <tbody>\n",
       "    <tr>\n",
       "      <th>0</th>\n",
       "      <td>69572</td>\n",
       "      <td>functional</td>\n",
       "    </tr>\n",
       "    <tr>\n",
       "      <th>1</th>\n",
       "      <td>8776</td>\n",
       "      <td>functional</td>\n",
       "    </tr>\n",
       "    <tr>\n",
       "      <th>2</th>\n",
       "      <td>34310</td>\n",
       "      <td>functional</td>\n",
       "    </tr>\n",
       "    <tr>\n",
       "      <th>3</th>\n",
       "      <td>67743</td>\n",
       "      <td>non functional</td>\n",
       "    </tr>\n",
       "    <tr>\n",
       "      <th>4</th>\n",
       "      <td>19728</td>\n",
       "      <td>functional</td>\n",
       "    </tr>\n",
       "  </tbody>\n",
       "</table>\n",
       "</div>"
      ],
      "text/plain": [
       "      id    status_group\n",
       "0  69572      functional\n",
       "1   8776      functional\n",
       "2  34310      functional\n",
       "3  67743  non functional\n",
       "4  19728      functional"
      ]
     },
     "execution_count": 437,
     "metadata": {},
     "output_type": "execute_result"
    }
   ],
   "source": [
    "labels.head()"
   ]
  },
  {
   "cell_type": "code",
   "execution_count": 438,
   "metadata": {
    "vscode": {
     "languageId": "python"
    }
   },
   "outputs": [
    {
     "data": {
      "text/html": [
       "<div>\n",
       "<style scoped>\n",
       "    .dataframe tbody tr th:only-of-type {\n",
       "        vertical-align: middle;\n",
       "    }\n",
       "\n",
       "    .dataframe tbody tr th {\n",
       "        vertical-align: top;\n",
       "    }\n",
       "\n",
       "    .dataframe thead th {\n",
       "        text-align: right;\n",
       "    }\n",
       "</style>\n",
       "<table border=\"1\" class=\"dataframe\">\n",
       "  <thead>\n",
       "    <tr style=\"text-align: right;\">\n",
       "      <th></th>\n",
       "      <th>id</th>\n",
       "      <th>amount_tsh</th>\n",
       "      <th>date_recorded</th>\n",
       "      <th>funder</th>\n",
       "      <th>gps_height</th>\n",
       "      <th>installer</th>\n",
       "      <th>longitude</th>\n",
       "      <th>latitude</th>\n",
       "      <th>wpt_name</th>\n",
       "      <th>num_private</th>\n",
       "      <th>...</th>\n",
       "      <th>payment_type</th>\n",
       "      <th>water_quality</th>\n",
       "      <th>quality_group</th>\n",
       "      <th>quantity</th>\n",
       "      <th>quantity_group</th>\n",
       "      <th>source</th>\n",
       "      <th>source_type</th>\n",
       "      <th>source_class</th>\n",
       "      <th>waterpoint_type</th>\n",
       "      <th>waterpoint_type_group</th>\n",
       "    </tr>\n",
       "  </thead>\n",
       "  <tbody>\n",
       "    <tr>\n",
       "      <th>0</th>\n",
       "      <td>69572</td>\n",
       "      <td>6000.0</td>\n",
       "      <td>2011-03-14</td>\n",
       "      <td>Roman</td>\n",
       "      <td>1390</td>\n",
       "      <td>Roman</td>\n",
       "      <td>34.938093</td>\n",
       "      <td>-9.856322</td>\n",
       "      <td>none</td>\n",
       "      <td>0</td>\n",
       "      <td>...</td>\n",
       "      <td>annually</td>\n",
       "      <td>soft</td>\n",
       "      <td>good</td>\n",
       "      <td>enough</td>\n",
       "      <td>enough</td>\n",
       "      <td>spring</td>\n",
       "      <td>spring</td>\n",
       "      <td>groundwater</td>\n",
       "      <td>communal standpipe</td>\n",
       "      <td>communal standpipe</td>\n",
       "    </tr>\n",
       "    <tr>\n",
       "      <th>1</th>\n",
       "      <td>8776</td>\n",
       "      <td>0.0</td>\n",
       "      <td>2013-03-06</td>\n",
       "      <td>Grumeti</td>\n",
       "      <td>1399</td>\n",
       "      <td>GRUMETI</td>\n",
       "      <td>34.698766</td>\n",
       "      <td>-2.147466</td>\n",
       "      <td>Zahanati</td>\n",
       "      <td>0</td>\n",
       "      <td>...</td>\n",
       "      <td>never pay</td>\n",
       "      <td>soft</td>\n",
       "      <td>good</td>\n",
       "      <td>insufficient</td>\n",
       "      <td>insufficient</td>\n",
       "      <td>rainwater harvesting</td>\n",
       "      <td>rainwater harvesting</td>\n",
       "      <td>surface</td>\n",
       "      <td>communal standpipe</td>\n",
       "      <td>communal standpipe</td>\n",
       "    </tr>\n",
       "    <tr>\n",
       "      <th>2</th>\n",
       "      <td>34310</td>\n",
       "      <td>25.0</td>\n",
       "      <td>2013-02-25</td>\n",
       "      <td>Lottery Club</td>\n",
       "      <td>686</td>\n",
       "      <td>World vision</td>\n",
       "      <td>37.460664</td>\n",
       "      <td>-3.821329</td>\n",
       "      <td>Kwa Mahundi</td>\n",
       "      <td>0</td>\n",
       "      <td>...</td>\n",
       "      <td>per bucket</td>\n",
       "      <td>soft</td>\n",
       "      <td>good</td>\n",
       "      <td>enough</td>\n",
       "      <td>enough</td>\n",
       "      <td>dam</td>\n",
       "      <td>dam</td>\n",
       "      <td>surface</td>\n",
       "      <td>communal standpipe multiple</td>\n",
       "      <td>communal standpipe</td>\n",
       "    </tr>\n",
       "    <tr>\n",
       "      <th>3</th>\n",
       "      <td>67743</td>\n",
       "      <td>0.0</td>\n",
       "      <td>2013-01-28</td>\n",
       "      <td>Unicef</td>\n",
       "      <td>263</td>\n",
       "      <td>UNICEF</td>\n",
       "      <td>38.486161</td>\n",
       "      <td>-11.155298</td>\n",
       "      <td>Zahanati Ya Nanyumbu</td>\n",
       "      <td>0</td>\n",
       "      <td>...</td>\n",
       "      <td>never pay</td>\n",
       "      <td>soft</td>\n",
       "      <td>good</td>\n",
       "      <td>dry</td>\n",
       "      <td>dry</td>\n",
       "      <td>machine dbh</td>\n",
       "      <td>borehole</td>\n",
       "      <td>groundwater</td>\n",
       "      <td>communal standpipe multiple</td>\n",
       "      <td>communal standpipe</td>\n",
       "    </tr>\n",
       "    <tr>\n",
       "      <th>4</th>\n",
       "      <td>19728</td>\n",
       "      <td>0.0</td>\n",
       "      <td>2011-07-13</td>\n",
       "      <td>Action In A</td>\n",
       "      <td>0</td>\n",
       "      <td>Artisan</td>\n",
       "      <td>31.130847</td>\n",
       "      <td>-1.825359</td>\n",
       "      <td>Shuleni</td>\n",
       "      <td>0</td>\n",
       "      <td>...</td>\n",
       "      <td>never pay</td>\n",
       "      <td>soft</td>\n",
       "      <td>good</td>\n",
       "      <td>seasonal</td>\n",
       "      <td>seasonal</td>\n",
       "      <td>rainwater harvesting</td>\n",
       "      <td>rainwater harvesting</td>\n",
       "      <td>surface</td>\n",
       "      <td>communal standpipe</td>\n",
       "      <td>communal standpipe</td>\n",
       "    </tr>\n",
       "  </tbody>\n",
       "</table>\n",
       "<p>5 rows × 40 columns</p>\n",
       "</div>"
      ],
      "text/plain": [
       "      id  amount_tsh date_recorded        funder  gps_height     installer  \\\n",
       "0  69572      6000.0    2011-03-14         Roman        1390         Roman   \n",
       "1   8776         0.0    2013-03-06       Grumeti        1399       GRUMETI   \n",
       "2  34310        25.0    2013-02-25  Lottery Club         686  World vision   \n",
       "3  67743         0.0    2013-01-28        Unicef         263        UNICEF   \n",
       "4  19728         0.0    2011-07-13   Action In A           0       Artisan   \n",
       "\n",
       "   longitude   latitude              wpt_name  num_private  ... payment_type  \\\n",
       "0  34.938093  -9.856322                  none            0  ...     annually   \n",
       "1  34.698766  -2.147466              Zahanati            0  ...    never pay   \n",
       "2  37.460664  -3.821329           Kwa Mahundi            0  ...   per bucket   \n",
       "3  38.486161 -11.155298  Zahanati Ya Nanyumbu            0  ...    never pay   \n",
       "4  31.130847  -1.825359               Shuleni            0  ...    never pay   \n",
       "\n",
       "  water_quality quality_group      quantity  quantity_group  \\\n",
       "0          soft          good        enough          enough   \n",
       "1          soft          good  insufficient    insufficient   \n",
       "2          soft          good        enough          enough   \n",
       "3          soft          good           dry             dry   \n",
       "4          soft          good      seasonal        seasonal   \n",
       "\n",
       "                 source           source_type  source_class  \\\n",
       "0                spring                spring   groundwater   \n",
       "1  rainwater harvesting  rainwater harvesting       surface   \n",
       "2                   dam                   dam       surface   \n",
       "3           machine dbh              borehole   groundwater   \n",
       "4  rainwater harvesting  rainwater harvesting       surface   \n",
       "\n",
       "               waterpoint_type waterpoint_type_group  \n",
       "0           communal standpipe    communal standpipe  \n",
       "1           communal standpipe    communal standpipe  \n",
       "2  communal standpipe multiple    communal standpipe  \n",
       "3  communal standpipe multiple    communal standpipe  \n",
       "4           communal standpipe    communal standpipe  \n",
       "\n",
       "[5 rows x 40 columns]"
      ]
     },
     "execution_count": 438,
     "metadata": {},
     "output_type": "execute_result"
    }
   ],
   "source": [
    "df.head()"
   ]
  },
  {
   "cell_type": "code",
   "execution_count": 439,
   "metadata": {
    "vscode": {
     "languageId": "python"
    }
   },
   "outputs": [
    {
     "data": {
      "text/html": [
       "<div>\n",
       "<style scoped>\n",
       "    .dataframe tbody tr th:only-of-type {\n",
       "        vertical-align: middle;\n",
       "    }\n",
       "\n",
       "    .dataframe tbody tr th {\n",
       "        vertical-align: top;\n",
       "    }\n",
       "\n",
       "    .dataframe thead th {\n",
       "        text-align: right;\n",
       "    }\n",
       "</style>\n",
       "<table border=\"1\" class=\"dataframe\">\n",
       "  <thead>\n",
       "    <tr style=\"text-align: right;\">\n",
       "      <th></th>\n",
       "      <th>id</th>\n",
       "      <th>amount_tsh</th>\n",
       "      <th>date_recorded</th>\n",
       "      <th>funder</th>\n",
       "      <th>gps_height</th>\n",
       "      <th>installer</th>\n",
       "      <th>longitude</th>\n",
       "      <th>latitude</th>\n",
       "      <th>wpt_name</th>\n",
       "      <th>num_private</th>\n",
       "      <th>...</th>\n",
       "      <th>payment_type</th>\n",
       "      <th>water_quality</th>\n",
       "      <th>quality_group</th>\n",
       "      <th>quantity</th>\n",
       "      <th>quantity_group</th>\n",
       "      <th>source</th>\n",
       "      <th>source_type</th>\n",
       "      <th>source_class</th>\n",
       "      <th>waterpoint_type</th>\n",
       "      <th>waterpoint_type_group</th>\n",
       "    </tr>\n",
       "  </thead>\n",
       "  <tbody>\n",
       "  </tbody>\n",
       "</table>\n",
       "<p>0 rows × 40 columns</p>\n",
       "</div>"
      ],
      "text/plain": [
       "Empty DataFrame\n",
       "Columns: [id, amount_tsh, date_recorded, funder, gps_height, installer, longitude, latitude, wpt_name, num_private, basin, subvillage, region, region_code, district_code, lga, ward, population, public_meeting, recorded_by, scheme_management, scheme_name, permit, construction_year, extraction_type, extraction_type_group, extraction_type_class, management, management_group, payment, payment_type, water_quality, quality_group, quantity, quantity_group, source, source_type, source_class, waterpoint_type, waterpoint_type_group]\n",
       "Index: []\n",
       "\n",
       "[0 rows x 40 columns]"
      ]
     },
     "execution_count": 439,
     "metadata": {},
     "output_type": "execute_result"
    }
   ],
   "source": [
    "df.loc[df['id'] != labels['id']] #always equal. Confirming this is a quick merge! "
   ]
  },
  {
   "cell_type": "code",
   "execution_count": 440,
   "metadata": {
    "scrolled": true,
    "vscode": {
     "languageId": "python"
    }
   },
   "outputs": [
    {
     "data": {
      "text/plain": [
       "(59400, 41)"
      ]
     },
     "execution_count": 440,
     "metadata": {},
     "output_type": "execute_result"
    }
   ],
   "source": [
    "#merging the dataframes\n",
    "full_df = df.merge(labels)\n",
    "full_df.shape"
   ]
  },
  {
   "cell_type": "code",
   "execution_count": 441,
   "metadata": {
    "scrolled": false,
    "vscode": {
     "languageId": "python"
    }
   },
   "outputs": [
    {
     "data": {
      "text/html": [
       "<div>\n",
       "<style scoped>\n",
       "    .dataframe tbody tr th:only-of-type {\n",
       "        vertical-align: middle;\n",
       "    }\n",
       "\n",
       "    .dataframe tbody tr th {\n",
       "        vertical-align: top;\n",
       "    }\n",
       "\n",
       "    .dataframe thead th {\n",
       "        text-align: right;\n",
       "    }\n",
       "</style>\n",
       "<table border=\"1\" class=\"dataframe\">\n",
       "  <thead>\n",
       "    <tr style=\"text-align: right;\">\n",
       "      <th></th>\n",
       "      <th>id</th>\n",
       "      <th>amount_tsh</th>\n",
       "      <th>date_recorded</th>\n",
       "      <th>funder</th>\n",
       "      <th>gps_height</th>\n",
       "      <th>installer</th>\n",
       "      <th>longitude</th>\n",
       "      <th>latitude</th>\n",
       "      <th>wpt_name</th>\n",
       "      <th>num_private</th>\n",
       "      <th>...</th>\n",
       "      <th>water_quality</th>\n",
       "      <th>quality_group</th>\n",
       "      <th>quantity</th>\n",
       "      <th>quantity_group</th>\n",
       "      <th>source</th>\n",
       "      <th>source_type</th>\n",
       "      <th>source_class</th>\n",
       "      <th>waterpoint_type</th>\n",
       "      <th>waterpoint_type_group</th>\n",
       "      <th>status_group</th>\n",
       "    </tr>\n",
       "  </thead>\n",
       "  <tbody>\n",
       "    <tr>\n",
       "      <th>0</th>\n",
       "      <td>69572</td>\n",
       "      <td>6000.0</td>\n",
       "      <td>2011-03-14</td>\n",
       "      <td>Roman</td>\n",
       "      <td>1390</td>\n",
       "      <td>Roman</td>\n",
       "      <td>34.938093</td>\n",
       "      <td>-9.856322</td>\n",
       "      <td>none</td>\n",
       "      <td>0</td>\n",
       "      <td>...</td>\n",
       "      <td>soft</td>\n",
       "      <td>good</td>\n",
       "      <td>enough</td>\n",
       "      <td>enough</td>\n",
       "      <td>spring</td>\n",
       "      <td>spring</td>\n",
       "      <td>groundwater</td>\n",
       "      <td>communal standpipe</td>\n",
       "      <td>communal standpipe</td>\n",
       "      <td>functional</td>\n",
       "    </tr>\n",
       "  </tbody>\n",
       "</table>\n",
       "<p>1 rows × 41 columns</p>\n",
       "</div>"
      ],
      "text/plain": [
       "      id  amount_tsh date_recorded funder  gps_height installer  longitude  \\\n",
       "0  69572      6000.0    2011-03-14  Roman        1390     Roman  34.938093   \n",
       "\n",
       "   latitude wpt_name  num_private  ... water_quality quality_group quantity  \\\n",
       "0 -9.856322     none            0  ...          soft          good   enough   \n",
       "\n",
       "   quantity_group  source source_type source_class     waterpoint_type  \\\n",
       "0          enough  spring      spring  groundwater  communal standpipe   \n",
       "\n",
       "  waterpoint_type_group status_group  \n",
       "0    communal standpipe   functional  \n",
       "\n",
       "[1 rows x 41 columns]"
      ]
     },
     "execution_count": 441,
     "metadata": {},
     "output_type": "execute_result"
    }
   ],
   "source": [
    "#checking accurate merge with a few specific ids\n",
    "full_df.loc[full_df['id'] == 69572] "
   ]
  },
  {
   "cell_type": "code",
   "execution_count": 442,
   "metadata": {
    "vscode": {
     "languageId": "python"
    }
   },
   "outputs": [
    {
     "data": {
      "text/plain": [
       "functional                 32259\n",
       "non functional             22824\n",
       "functional needs repair     4317\n",
       "Name: status_group, dtype: int64"
      ]
     },
     "execution_count": 442,
     "metadata": {},
     "output_type": "execute_result"
    }
   ],
   "source": [
    "#looking into the classes of the y\n",
    "full_df['status_group'].value_counts()"
   ]
  },
  {
   "cell_type": "markdown",
   "metadata": {},
   "source": [
    "After exploring the Y class, noting that there are 3 categories: functional, non functional, and functional but needs repair. In the next few lines of codes I will be changing the y classes to be 2 classes instead of three. Grouping now by functional and non functional. Functional but needs repair now going to be considered just functional."
   ]
  },
  {
   "cell_type": "code",
   "execution_count": 443,
   "metadata": {
    "vscode": {
     "languageId": "python"
    }
   },
   "outputs": [
    {
     "data": {
      "text/plain": [
       "functional        36576\n",
       "non functional    22824\n",
       "Name: status, dtype: int64"
      ]
     },
     "execution_count": 443,
     "metadata": {},
     "output_type": "execute_result"
    }
   ],
   "source": [
    "#grouping the values and checking the columns grouped correctly\n",
    "full_df['status'] = np.where(full_df['status_group'] == \"functional needs repair\", \n",
    "                                'functional', full_df['status_group'])\n",
    "full_df['status'].value_counts()"
   ]
  },
  {
   "cell_type": "markdown",
   "metadata": {
    "scrolled": true
   },
   "source": [
    "Note here that there is currently no class imbalence which will be important when begininning models! "
   ]
  },
  {
   "cell_type": "code",
   "execution_count": 444,
   "metadata": {
    "vscode": {
     "languageId": "python"
    }
   },
   "outputs": [
    {
     "data": {
      "text/plain": [
       "1    36576\n",
       "0    22824\n",
       "Name: binary_status, dtype: int64"
      ]
     },
     "execution_count": 444,
     "metadata": {},
     "output_type": "execute_result"
    }
   ],
   "source": [
    "#creating binary grouping\n",
    "full_df['binary_status'] = np.where(full_df['status'] == 'functional', 1, 0)\n",
    "full_df['binary_status'].value_counts()"
   ]
  },
  {
   "cell_type": "markdown",
   "metadata": {},
   "source": [
    "Now that we have binary y variable, we will continue with data cleaning process.\n",
    "- Looking into NAs\n",
    "- Looking into specific columns\n",
    "- Dropping columns deemed unnecessary for purposes of this projects (i.e. repetitive columns, columns missing majority values, columns without explanations as to what they are showing)"
   ]
  },
  {
   "cell_type": "code",
   "execution_count": 445,
   "metadata": {
    "vscode": {
     "languageId": "python"
    }
   },
   "outputs": [
    {
     "data": {
      "text/plain": [
       "id                           0\n",
       "amount_tsh                   0\n",
       "date_recorded                0\n",
       "funder                    3635\n",
       "gps_height                   0\n",
       "installer                 3655\n",
       "longitude                    0\n",
       "latitude                     0\n",
       "wpt_name                     0\n",
       "num_private                  0\n",
       "basin                        0\n",
       "subvillage                 371\n",
       "region                       0\n",
       "region_code                  0\n",
       "district_code                0\n",
       "lga                          0\n",
       "ward                         0\n",
       "population                   0\n",
       "public_meeting            3334\n",
       "recorded_by                  0\n",
       "scheme_management         3877\n",
       "scheme_name              28166\n",
       "permit                    3056\n",
       "construction_year            0\n",
       "extraction_type              0\n",
       "extraction_type_group        0\n",
       "extraction_type_class        0\n",
       "management                   0\n",
       "management_group             0\n",
       "payment                      0\n",
       "payment_type                 0\n",
       "water_quality                0\n",
       "quality_group                0\n",
       "quantity                     0\n",
       "quantity_group               0\n",
       "source                       0\n",
       "source_type                  0\n",
       "source_class                 0\n",
       "waterpoint_type              0\n",
       "waterpoint_type_group        0\n",
       "status_group                 0\n",
       "status                       0\n",
       "binary_status                0\n",
       "dtype: int64"
      ]
     },
     "execution_count": 445,
     "metadata": {},
     "output_type": "execute_result"
    }
   ],
   "source": [
    "full_df.isna().sum() #noting lots of NAs in some of these columns"
   ]
  },
  {
   "cell_type": "code",
   "execution_count": 446,
   "metadata": {
    "vscode": {
     "languageId": "python"
    }
   },
   "outputs": [
    {
     "data": {
      "text/plain": [
       "VWC                 36793\n",
       "WUG                  5206\n",
       "Water authority      3153\n",
       "WUA                  2883\n",
       "Water Board          2748\n",
       "Parastatal           1680\n",
       "Private operator     1063\n",
       "Company              1061\n",
       "Other                 766\n",
       "SWC                    97\n",
       "Trust                  72\n",
       "None                    1\n",
       "Name: scheme_management, dtype: int64"
      ]
     },
     "execution_count": 446,
     "metadata": {},
     "output_type": "execute_result"
    }
   ],
   "source": [
    "full_df['scheme_management'].value_counts() \n",
    "#going to drop this since lots of other groupings and \"company\" or private operater"
   ]
  },
  {
   "cell_type": "code",
   "execution_count": 447,
   "metadata": {
    "vscode": {
     "languageId": "python"
    }
   },
   "outputs": [],
   "source": [
    "#creating new dataframe that is dropping unnesseasary columns and continuing cleaning from here\n",
    "clean_df = full_df.drop(['status', 'status_group', 'waterpoint_type', 'source', 'payment_type', \n",
    "              'date_recorded', 'water_quality', 'quantity', 'num_private', \n",
    "                         'management_group', 'extraction_type_group', \n",
    "                         'extraction_type', 'recorded_by', 'latitude',\n",
    "                        'longitude', 'lga', 'ward', 'scheme_name',\n",
    "                        'region', 'subvillage', 'basin', 'wpt_name', 'public_meeting',\n",
    "                        'gps_height', 'scheme_management'], axis = 1)"
   ]
  },
  {
   "cell_type": "code",
   "execution_count": 448,
   "metadata": {
    "vscode": {
     "languageId": "python"
    }
   },
   "outputs": [
    {
     "data": {
      "text/html": [
       "<div>\n",
       "<style scoped>\n",
       "    .dataframe tbody tr th:only-of-type {\n",
       "        vertical-align: middle;\n",
       "    }\n",
       "\n",
       "    .dataframe tbody tr th {\n",
       "        vertical-align: top;\n",
       "    }\n",
       "\n",
       "    .dataframe thead th {\n",
       "        text-align: right;\n",
       "    }\n",
       "</style>\n",
       "<table border=\"1\" class=\"dataframe\">\n",
       "  <thead>\n",
       "    <tr style=\"text-align: right;\">\n",
       "      <th></th>\n",
       "      <th>id</th>\n",
       "      <th>amount_tsh</th>\n",
       "      <th>funder</th>\n",
       "      <th>installer</th>\n",
       "      <th>region_code</th>\n",
       "      <th>district_code</th>\n",
       "      <th>population</th>\n",
       "      <th>permit</th>\n",
       "      <th>construction_year</th>\n",
       "      <th>extraction_type_class</th>\n",
       "      <th>management</th>\n",
       "      <th>payment</th>\n",
       "      <th>quality_group</th>\n",
       "      <th>quantity_group</th>\n",
       "      <th>source_type</th>\n",
       "      <th>source_class</th>\n",
       "      <th>waterpoint_type_group</th>\n",
       "      <th>binary_status</th>\n",
       "    </tr>\n",
       "  </thead>\n",
       "  <tbody>\n",
       "    <tr>\n",
       "      <th>0</th>\n",
       "      <td>69572</td>\n",
       "      <td>6000.0</td>\n",
       "      <td>Roman</td>\n",
       "      <td>Roman</td>\n",
       "      <td>11</td>\n",
       "      <td>5</td>\n",
       "      <td>109</td>\n",
       "      <td>False</td>\n",
       "      <td>1999</td>\n",
       "      <td>gravity</td>\n",
       "      <td>vwc</td>\n",
       "      <td>pay annually</td>\n",
       "      <td>good</td>\n",
       "      <td>enough</td>\n",
       "      <td>spring</td>\n",
       "      <td>groundwater</td>\n",
       "      <td>communal standpipe</td>\n",
       "      <td>1</td>\n",
       "    </tr>\n",
       "    <tr>\n",
       "      <th>1</th>\n",
       "      <td>8776</td>\n",
       "      <td>0.0</td>\n",
       "      <td>Grumeti</td>\n",
       "      <td>GRUMETI</td>\n",
       "      <td>20</td>\n",
       "      <td>2</td>\n",
       "      <td>280</td>\n",
       "      <td>True</td>\n",
       "      <td>2010</td>\n",
       "      <td>gravity</td>\n",
       "      <td>wug</td>\n",
       "      <td>never pay</td>\n",
       "      <td>good</td>\n",
       "      <td>insufficient</td>\n",
       "      <td>rainwater harvesting</td>\n",
       "      <td>surface</td>\n",
       "      <td>communal standpipe</td>\n",
       "      <td>1</td>\n",
       "    </tr>\n",
       "    <tr>\n",
       "      <th>2</th>\n",
       "      <td>34310</td>\n",
       "      <td>25.0</td>\n",
       "      <td>Lottery Club</td>\n",
       "      <td>World vision</td>\n",
       "      <td>21</td>\n",
       "      <td>4</td>\n",
       "      <td>250</td>\n",
       "      <td>True</td>\n",
       "      <td>2009</td>\n",
       "      <td>gravity</td>\n",
       "      <td>vwc</td>\n",
       "      <td>pay per bucket</td>\n",
       "      <td>good</td>\n",
       "      <td>enough</td>\n",
       "      <td>dam</td>\n",
       "      <td>surface</td>\n",
       "      <td>communal standpipe</td>\n",
       "      <td>1</td>\n",
       "    </tr>\n",
       "    <tr>\n",
       "      <th>3</th>\n",
       "      <td>67743</td>\n",
       "      <td>0.0</td>\n",
       "      <td>Unicef</td>\n",
       "      <td>UNICEF</td>\n",
       "      <td>90</td>\n",
       "      <td>63</td>\n",
       "      <td>58</td>\n",
       "      <td>True</td>\n",
       "      <td>1986</td>\n",
       "      <td>submersible</td>\n",
       "      <td>vwc</td>\n",
       "      <td>never pay</td>\n",
       "      <td>good</td>\n",
       "      <td>dry</td>\n",
       "      <td>borehole</td>\n",
       "      <td>groundwater</td>\n",
       "      <td>communal standpipe</td>\n",
       "      <td>0</td>\n",
       "    </tr>\n",
       "    <tr>\n",
       "      <th>4</th>\n",
       "      <td>19728</td>\n",
       "      <td>0.0</td>\n",
       "      <td>Action In A</td>\n",
       "      <td>Artisan</td>\n",
       "      <td>18</td>\n",
       "      <td>1</td>\n",
       "      <td>0</td>\n",
       "      <td>True</td>\n",
       "      <td>0</td>\n",
       "      <td>gravity</td>\n",
       "      <td>other</td>\n",
       "      <td>never pay</td>\n",
       "      <td>good</td>\n",
       "      <td>seasonal</td>\n",
       "      <td>rainwater harvesting</td>\n",
       "      <td>surface</td>\n",
       "      <td>communal standpipe</td>\n",
       "      <td>1</td>\n",
       "    </tr>\n",
       "    <tr>\n",
       "      <th>5</th>\n",
       "      <td>9944</td>\n",
       "      <td>20.0</td>\n",
       "      <td>Mkinga Distric Coun</td>\n",
       "      <td>DWE</td>\n",
       "      <td>4</td>\n",
       "      <td>8</td>\n",
       "      <td>1</td>\n",
       "      <td>True</td>\n",
       "      <td>2009</td>\n",
       "      <td>submersible</td>\n",
       "      <td>vwc</td>\n",
       "      <td>pay per bucket</td>\n",
       "      <td>salty</td>\n",
       "      <td>enough</td>\n",
       "      <td>other</td>\n",
       "      <td>unknown</td>\n",
       "      <td>communal standpipe</td>\n",
       "      <td>1</td>\n",
       "    </tr>\n",
       "    <tr>\n",
       "      <th>6</th>\n",
       "      <td>19816</td>\n",
       "      <td>0.0</td>\n",
       "      <td>Dwsp</td>\n",
       "      <td>DWSP</td>\n",
       "      <td>17</td>\n",
       "      <td>3</td>\n",
       "      <td>0</td>\n",
       "      <td>True</td>\n",
       "      <td>0</td>\n",
       "      <td>handpump</td>\n",
       "      <td>vwc</td>\n",
       "      <td>never pay</td>\n",
       "      <td>good</td>\n",
       "      <td>enough</td>\n",
       "      <td>borehole</td>\n",
       "      <td>groundwater</td>\n",
       "      <td>hand pump</td>\n",
       "      <td>0</td>\n",
       "    </tr>\n",
       "    <tr>\n",
       "      <th>7</th>\n",
       "      <td>54551</td>\n",
       "      <td>0.0</td>\n",
       "      <td>Rwssp</td>\n",
       "      <td>DWE</td>\n",
       "      <td>17</td>\n",
       "      <td>3</td>\n",
       "      <td>0</td>\n",
       "      <td>True</td>\n",
       "      <td>0</td>\n",
       "      <td>handpump</td>\n",
       "      <td>wug</td>\n",
       "      <td>unknown</td>\n",
       "      <td>milky</td>\n",
       "      <td>enough</td>\n",
       "      <td>shallow well</td>\n",
       "      <td>groundwater</td>\n",
       "      <td>hand pump</td>\n",
       "      <td>0</td>\n",
       "    </tr>\n",
       "    <tr>\n",
       "      <th>8</th>\n",
       "      <td>53934</td>\n",
       "      <td>0.0</td>\n",
       "      <td>Wateraid</td>\n",
       "      <td>Water Aid</td>\n",
       "      <td>14</td>\n",
       "      <td>6</td>\n",
       "      <td>0</td>\n",
       "      <td>True</td>\n",
       "      <td>0</td>\n",
       "      <td>handpump</td>\n",
       "      <td>vwc</td>\n",
       "      <td>never pay</td>\n",
       "      <td>salty</td>\n",
       "      <td>seasonal</td>\n",
       "      <td>borehole</td>\n",
       "      <td>groundwater</td>\n",
       "      <td>hand pump</td>\n",
       "      <td>0</td>\n",
       "    </tr>\n",
       "    <tr>\n",
       "      <th>9</th>\n",
       "      <td>46144</td>\n",
       "      <td>0.0</td>\n",
       "      <td>Isingiro Ho</td>\n",
       "      <td>Artisan</td>\n",
       "      <td>18</td>\n",
       "      <td>1</td>\n",
       "      <td>0</td>\n",
       "      <td>True</td>\n",
       "      <td>0</td>\n",
       "      <td>handpump</td>\n",
       "      <td>vwc</td>\n",
       "      <td>never pay</td>\n",
       "      <td>good</td>\n",
       "      <td>enough</td>\n",
       "      <td>shallow well</td>\n",
       "      <td>groundwater</td>\n",
       "      <td>hand pump</td>\n",
       "      <td>1</td>\n",
       "    </tr>\n",
       "  </tbody>\n",
       "</table>\n",
       "</div>"
      ],
      "text/plain": [
       "      id  amount_tsh               funder     installer  region_code  \\\n",
       "0  69572      6000.0                Roman         Roman           11   \n",
       "1   8776         0.0              Grumeti       GRUMETI           20   \n",
       "2  34310        25.0         Lottery Club  World vision           21   \n",
       "3  67743         0.0               Unicef        UNICEF           90   \n",
       "4  19728         0.0          Action In A       Artisan           18   \n",
       "5   9944        20.0  Mkinga Distric Coun           DWE            4   \n",
       "6  19816         0.0                 Dwsp          DWSP           17   \n",
       "7  54551         0.0                Rwssp           DWE           17   \n",
       "8  53934         0.0             Wateraid     Water Aid           14   \n",
       "9  46144         0.0          Isingiro Ho       Artisan           18   \n",
       "\n",
       "   district_code  population permit  construction_year extraction_type_class  \\\n",
       "0              5         109  False               1999               gravity   \n",
       "1              2         280   True               2010               gravity   \n",
       "2              4         250   True               2009               gravity   \n",
       "3             63          58   True               1986           submersible   \n",
       "4              1           0   True                  0               gravity   \n",
       "5              8           1   True               2009           submersible   \n",
       "6              3           0   True                  0              handpump   \n",
       "7              3           0   True                  0              handpump   \n",
       "8              6           0   True                  0              handpump   \n",
       "9              1           0   True                  0              handpump   \n",
       "\n",
       "  management         payment quality_group quantity_group  \\\n",
       "0        vwc    pay annually          good         enough   \n",
       "1        wug       never pay          good   insufficient   \n",
       "2        vwc  pay per bucket          good         enough   \n",
       "3        vwc       never pay          good            dry   \n",
       "4      other       never pay          good       seasonal   \n",
       "5        vwc  pay per bucket         salty         enough   \n",
       "6        vwc       never pay          good         enough   \n",
       "7        wug         unknown         milky         enough   \n",
       "8        vwc       never pay         salty       seasonal   \n",
       "9        vwc       never pay          good         enough   \n",
       "\n",
       "            source_type source_class waterpoint_type_group  binary_status  \n",
       "0                spring  groundwater    communal standpipe              1  \n",
       "1  rainwater harvesting      surface    communal standpipe              1  \n",
       "2                   dam      surface    communal standpipe              1  \n",
       "3              borehole  groundwater    communal standpipe              0  \n",
       "4  rainwater harvesting      surface    communal standpipe              1  \n",
       "5                 other      unknown    communal standpipe              1  \n",
       "6              borehole  groundwater             hand pump              0  \n",
       "7          shallow well  groundwater             hand pump              0  \n",
       "8              borehole  groundwater             hand pump              0  \n",
       "9          shallow well  groundwater             hand pump              1  "
      ]
     },
     "execution_count": 448,
     "metadata": {},
     "output_type": "execute_result"
    }
   ],
   "source": [
    "clean_df.head(10) #looking at new dataframe"
   ]
  },
  {
   "cell_type": "code",
   "execution_count": 449,
   "metadata": {
    "scrolled": true,
    "vscode": {
     "languageId": "python"
    }
   },
   "outputs": [
    {
     "name": "stdout",
     "output_type": "stream",
     "text": [
      "<class 'pandas.core.frame.DataFrame'>\n",
      "Int64Index: 59400 entries, 0 to 59399\n",
      "Data columns (total 18 columns):\n",
      " #   Column                 Non-Null Count  Dtype  \n",
      "---  ------                 --------------  -----  \n",
      " 0   id                     59400 non-null  int64  \n",
      " 1   amount_tsh             59400 non-null  float64\n",
      " 2   funder                 55765 non-null  object \n",
      " 3   installer              55745 non-null  object \n",
      " 4   region_code            59400 non-null  int64  \n",
      " 5   district_code          59400 non-null  int64  \n",
      " 6   population             59400 non-null  int64  \n",
      " 7   permit                 56344 non-null  object \n",
      " 8   construction_year      59400 non-null  int64  \n",
      " 9   extraction_type_class  59400 non-null  object \n",
      " 10  management             59400 non-null  object \n",
      " 11  payment                59400 non-null  object \n",
      " 12  quality_group          59400 non-null  object \n",
      " 13  quantity_group         59400 non-null  object \n",
      " 14  source_type            59400 non-null  object \n",
      " 15  source_class           59400 non-null  object \n",
      " 16  waterpoint_type_group  59400 non-null  object \n",
      " 17  binary_status          59400 non-null  int64  \n",
      "dtypes: float64(1), int64(6), object(11)\n",
      "memory usage: 8.6+ MB\n"
     ]
    }
   ],
   "source": [
    "clean_df.info() #looking into data types of columns "
   ]
  },
  {
   "cell_type": "markdown",
   "metadata": {},
   "source": [
    "Noting that there are many integer columns that should be string and also creating a boolean column for permit since noting it is True and False based on .head above."
   ]
  },
  {
   "cell_type": "code",
   "execution_count": 450,
   "metadata": {
    "scrolled": true,
    "vscode": {
     "languageId": "python"
    }
   },
   "outputs": [
    {
     "name": "stdout",
     "output_type": "stream",
     "text": [
      "<class 'pandas.core.frame.DataFrame'>\n",
      "Int64Index: 59400 entries, 0 to 59399\n",
      "Data columns (total 18 columns):\n",
      " #   Column                 Non-Null Count  Dtype \n",
      "---  ------                 --------------  ----- \n",
      " 0   id                     59400 non-null  int64 \n",
      " 1   amount_tsh             59400 non-null  int64 \n",
      " 2   funder                 55765 non-null  object\n",
      " 3   installer              55745 non-null  object\n",
      " 4   region_code            59400 non-null  object\n",
      " 5   district_code          59400 non-null  object\n",
      " 6   population             59400 non-null  int64 \n",
      " 7   permit                 56344 non-null  object\n",
      " 8   construction_year      59400 non-null  object\n",
      " 9   extraction_type_class  59400 non-null  object\n",
      " 10  management             59400 non-null  object\n",
      " 11  payment                59400 non-null  object\n",
      " 12  quality_group          59400 non-null  object\n",
      " 13  quantity_group         59400 non-null  object\n",
      " 14  source_type            59400 non-null  object\n",
      " 15  source_class           59400 non-null  object\n",
      " 16  waterpoint_type_group  59400 non-null  object\n",
      " 17  binary_status          59400 non-null  int64 \n",
      "dtypes: int64(4), object(14)\n",
      "memory usage: 8.6+ MB\n"
     ]
    }
   ],
   "source": [
    "#changing types of a few columns\n",
    "clean_df['region_code']= clean_df['region_code'].astype(str)\n",
    "clean_df['district_code'] = clean_df['district_code'].astype(str)\n",
    "clean_df['construction_year'] = clean_df['construction_year'].astype(str)\n",
    "clean_df['amount_tsh'] = clean_df['amount_tsh'].astype(int)\n",
    "clean_df['permit'] = np.where(clean_df['permit'] == True, 1, clean_df['permit'])\n",
    "clean_df['permit'] = np.where(clean_df['permit'] == False, 0, clean_df['permit'])\n",
    "clean_df.info() #checking this worked"
   ]
  },
  {
   "cell_type": "markdown",
   "metadata": {},
   "source": [
    "The 'permit' column has a lot of nulls but still want to use for model since I would assume it would be a valuable predictor of a functional well or not. Below I am dropping the rows where permit is null. "
   ]
  },
  {
   "cell_type": "code",
   "execution_count": 232,
   "metadata": {
    "vscode": {
     "languageId": "python"
    }
   },
   "outputs": [],
   "source": [
    "clean_df.loc[((clean_df['permit'] != 0) &\n",
    "             (clean_df['permit'] != 1))] #code for locating Null permit\n",
    "clean_df.drop(clean_df[(clean_df['permit'] != 0) & \n",
    "                       (clean_df['permit'] != 1)].index, inplace=True)\n",
    "clean_df['permit'] = clean_df['permit'].astype(int)"
   ]
  },
  {
   "cell_type": "markdown",
   "metadata": {},
   "source": [
    "Looking into additional columns:"
   ]
  },
  {
   "cell_type": "code",
   "execution_count": 233,
   "metadata": {
    "scrolled": true,
    "vscode": {
     "languageId": "python"
    }
   },
   "outputs": [
    {
     "data": {
      "text/plain": [
       "Government Of Tanzania           9043\n",
       "Danida                           3112\n",
       "Hesawa                           2027\n",
       "Rwssp                            1372\n",
       "World Bank                       1345\n",
       "                                 ... \n",
       "Bao                                 1\n",
       "Answeer Muslim Grou                 1\n",
       "Nordic                              1\n",
       "Apm[africa Precious Metals Lt       1\n",
       "Sent Tho                            1\n",
       "Name: funder, Length: 1835, dtype: int64"
      ]
     },
     "execution_count": 233,
     "metadata": {},
     "output_type": "execute_result"
    }
   ],
   "source": [
    "clean_df['funder'].value_counts()"
   ]
  },
  {
   "cell_type": "code",
   "execution_count": 234,
   "metadata": {
    "vscode": {
     "languageId": "python"
    }
   },
   "outputs": [
    {
     "data": {
      "text/plain": [
       "DWE                17361\n",
       "Government          1788\n",
       "RWE                 1203\n",
       "Commu               1060\n",
       "DANIDA              1049\n",
       "                   ...  \n",
       "Villege Council        1\n",
       "plan Int               1\n",
       "LOMOLOKI               1\n",
       "Morovian               1\n",
       "Amari                  1\n",
       "Name: installer, Length: 2056, dtype: int64"
      ]
     },
     "execution_count": 234,
     "metadata": {},
     "output_type": "execute_result"
    }
   ],
   "source": [
    "clean_df['installer'].value_counts()"
   ]
  },
  {
   "cell_type": "code",
   "execution_count": 235,
   "metadata": {
    "scrolled": false,
    "vscode": {
     "languageId": "python"
    }
   },
   "outputs": [
    {
     "data": {
      "text/html": [
       "<div>\n",
       "<style scoped>\n",
       "    .dataframe tbody tr th:only-of-type {\n",
       "        vertical-align: middle;\n",
       "    }\n",
       "\n",
       "    .dataframe tbody tr th {\n",
       "        vertical-align: top;\n",
       "    }\n",
       "\n",
       "    .dataframe thead th {\n",
       "        text-align: right;\n",
       "    }\n",
       "</style>\n",
       "<table border=\"1\" class=\"dataframe\">\n",
       "  <thead>\n",
       "    <tr style=\"text-align: right;\">\n",
       "      <th></th>\n",
       "      <th>id</th>\n",
       "      <th>amount_tsh</th>\n",
       "      <th>funder</th>\n",
       "      <th>installer</th>\n",
       "      <th>region_code</th>\n",
       "      <th>district_code</th>\n",
       "      <th>population</th>\n",
       "      <th>permit</th>\n",
       "      <th>construction_year</th>\n",
       "      <th>extraction_type_class</th>\n",
       "      <th>management</th>\n",
       "      <th>payment</th>\n",
       "      <th>quality_group</th>\n",
       "      <th>quantity_group</th>\n",
       "      <th>source_type</th>\n",
       "      <th>source_class</th>\n",
       "      <th>waterpoint_type_group</th>\n",
       "      <th>binary_status</th>\n",
       "    </tr>\n",
       "  </thead>\n",
       "  <tbody>\n",
       "    <tr>\n",
       "      <th>10217</th>\n",
       "      <td>42616</td>\n",
       "      <td>0</td>\n",
       "      <td>Kalebejo Parish</td>\n",
       "      <td>-</td>\n",
       "      <td>19</td>\n",
       "      <td>5</td>\n",
       "      <td>0</td>\n",
       "      <td>1</td>\n",
       "      <td>0</td>\n",
       "      <td>handpump</td>\n",
       "      <td>private operator</td>\n",
       "      <td>never pay</td>\n",
       "      <td>salty</td>\n",
       "      <td>insufficient</td>\n",
       "      <td>shallow well</td>\n",
       "      <td>groundwater</td>\n",
       "      <td>hand pump</td>\n",
       "      <td>1</td>\n",
       "    </tr>\n",
       "    <tr>\n",
       "      <th>20968</th>\n",
       "      <td>10873</td>\n",
       "      <td>0</td>\n",
       "      <td>Government Of Tanzania</td>\n",
       "      <td>-</td>\n",
       "      <td>19</td>\n",
       "      <td>5</td>\n",
       "      <td>0</td>\n",
       "      <td>1</td>\n",
       "      <td>0</td>\n",
       "      <td>other</td>\n",
       "      <td>vwc</td>\n",
       "      <td>pay per bucket</td>\n",
       "      <td>good</td>\n",
       "      <td>enough</td>\n",
       "      <td>river/lake</td>\n",
       "      <td>surface</td>\n",
       "      <td>communal standpipe</td>\n",
       "      <td>0</td>\n",
       "    </tr>\n",
       "    <tr>\n",
       "      <th>25769</th>\n",
       "      <td>21336</td>\n",
       "      <td>0</td>\n",
       "      <td>Government Of Tanzania</td>\n",
       "      <td>-</td>\n",
       "      <td>19</td>\n",
       "      <td>5</td>\n",
       "      <td>0</td>\n",
       "      <td>1</td>\n",
       "      <td>0</td>\n",
       "      <td>other</td>\n",
       "      <td>vwc</td>\n",
       "      <td>pay per bucket</td>\n",
       "      <td>good</td>\n",
       "      <td>enough</td>\n",
       "      <td>river/lake</td>\n",
       "      <td>surface</td>\n",
       "      <td>communal standpipe</td>\n",
       "      <td>1</td>\n",
       "    </tr>\n",
       "  </tbody>\n",
       "</table>\n",
       "</div>"
      ],
      "text/plain": [
       "          id  amount_tsh                  funder installer region_code  \\\n",
       "10217  42616           0         Kalebejo Parish         -          19   \n",
       "20968  10873           0  Government Of Tanzania         -          19   \n",
       "25769  21336           0  Government Of Tanzania         -          19   \n",
       "\n",
       "      district_code  population  permit construction_year  \\\n",
       "10217             5           0       1                 0   \n",
       "20968             5           0       1                 0   \n",
       "25769             5           0       1                 0   \n",
       "\n",
       "      extraction_type_class        management         payment quality_group  \\\n",
       "10217              handpump  private operator       never pay         salty   \n",
       "20968                 other               vwc  pay per bucket          good   \n",
       "25769                 other               vwc  pay per bucket          good   \n",
       "\n",
       "      quantity_group   source_type source_class waterpoint_type_group  \\\n",
       "10217   insufficient  shallow well  groundwater             hand pump   \n",
       "20968         enough    river/lake      surface    communal standpipe   \n",
       "25769         enough    river/lake      surface    communal standpipe   \n",
       "\n",
       "       binary_status  \n",
       "10217              1  \n",
       "20968              0  \n",
       "25769              1  "
      ]
     },
     "execution_count": 235,
     "metadata": {},
     "output_type": "execute_result"
    }
   ],
   "source": [
    "clean_df.loc[clean_df['installer'] == '-'] #noticing construction year 0"
   ]
  },
  {
   "cell_type": "code",
   "execution_count": 236,
   "metadata": {
    "scrolled": true,
    "vscode": {
     "languageId": "python"
    }
   },
   "outputs": [
    {
     "data": {
      "text/plain": [
       "0       19580\n",
       "2008     2576\n",
       "2009     2491\n",
       "2010     2430\n",
       "2000     1566\n",
       "2007     1559\n",
       "2006     1447\n",
       "2003     1276\n",
       "2011     1211\n",
       "2004     1109\n",
       "2002     1065\n",
       "1978     1027\n",
       "2012     1026\n",
       "2005      985\n",
       "1995      979\n",
       "1999      954\n",
       "1985      943\n",
       "1998      924\n",
       "1984      779\n",
       "1996      768\n",
       "1982      741\n",
       "1972      705\n",
       "1994      703\n",
       "1974      676\n",
       "1990      667\n",
       "1980      647\n",
       "1992      632\n",
       "1997      613\n",
       "1993      595\n",
       "2001      533\n",
       "1988      521\n",
       "1983      487\n",
       "1975      437\n",
       "1986      433\n",
       "1976      411\n",
       "1991      323\n",
       "1989      316\n",
       "1970      310\n",
       "1987      301\n",
       "1981      238\n",
       "1977      199\n",
       "1979      192\n",
       "1973      183\n",
       "2013      173\n",
       "1971      145\n",
       "1967       86\n",
       "1963       85\n",
       "1968       68\n",
       "1969       59\n",
       "1960       45\n",
       "1964       40\n",
       "1962       29\n",
       "1961       20\n",
       "1965       19\n",
       "1966       17\n",
       "Name: construction_year, dtype: int64"
      ]
     },
     "execution_count": 236,
     "metadata": {},
     "output_type": "execute_result"
    }
   ],
   "source": [
    "#looking into construction year after seeing 0 above.\n",
    "clean_df['construction_year'].value_counts() \n",
    "#dropping this column since most years are blank! "
   ]
  },
  {
   "cell_type": "code",
   "execution_count": 237,
   "metadata": {
    "vscode": {
     "languageId": "python"
    }
   },
   "outputs": [],
   "source": [
    "clean_df.drop(['construction_year'], axis = 1, inplace = True)"
   ]
  },
  {
   "cell_type": "code",
   "execution_count": 238,
   "metadata": {
    "vscode": {
     "languageId": "python"
    }
   },
   "outputs": [
    {
     "data": {
      "text/plain": [
       "shallow well            16253\n",
       "spring                  15981\n",
       "borehole                11162\n",
       "river/lake              10013\n",
       "rainwater harvesting     2039\n",
       "dam                       630\n",
       "other                     266\n",
       "Name: source_type, dtype: int64"
      ]
     },
     "execution_count": 238,
     "metadata": {},
     "output_type": "execute_result"
    }
   ],
   "source": [
    "clean_df['source_type'].value_counts() #keeping this column. Pretty clean! "
   ]
  },
  {
   "cell_type": "code",
   "execution_count": 239,
   "metadata": {
    "vscode": {
     "languageId": "python"
    }
   },
   "outputs": [
    {
     "data": {
      "text/plain": [
       "gravity         25234\n",
       "handpump        16048\n",
       "other            6050\n",
       "submersible      5854\n",
       "motorpump        2704\n",
       "rope pump         349\n",
       "wind-powered      105\n",
       "Name: extraction_type_class, dtype: int64"
      ]
     },
     "execution_count": 239,
     "metadata": {},
     "output_type": "execute_result"
    }
   ],
   "source": [
    "clean_df['extraction_type_class'].value_counts() #keeping this column. Pretty clean! "
   ]
  },
  {
   "cell_type": "code",
   "execution_count": 240,
   "metadata": {
    "scrolled": false,
    "vscode": {
     "languageId": "python"
    }
   },
   "outputs": [
    {
     "data": {
      "text/plain": [
       "vwc                 38296\n",
       "wug                  6340\n",
       "water board          2830\n",
       "wua                  2468\n",
       "private operator     1893\n",
       "parastatal           1595\n",
       "water authority       825\n",
       "other                 744\n",
       "company               658\n",
       "unknown               519\n",
       "other - school         99\n",
       "trust                  77\n",
       "Name: management, dtype: int64"
      ]
     },
     "execution_count": 240,
     "metadata": {},
     "output_type": "execute_result"
    }
   ],
   "source": [
    "clean_df['management'].value_counts()"
   ]
  },
  {
   "cell_type": "code",
   "execution_count": 241,
   "metadata": {
    "scrolled": true,
    "vscode": {
     "languageId": "python"
    }
   },
   "outputs": [
    {
     "data": {
      "text/plain": [
       "never pay                23776\n",
       "pay per bucket            8700\n",
       "pay monthly               8221\n",
       "unknown                   7290\n",
       "pay when scheme fails     3777\n",
       "pay annually              3585\n",
       "other                      995\n",
       "Name: payment, dtype: int64"
      ]
     },
     "execution_count": 241,
     "metadata": {},
     "output_type": "execute_result"
    }
   ],
   "source": [
    "clean_df['payment'].value_counts()"
   ]
  },
  {
   "cell_type": "markdown",
   "metadata": {},
   "source": [
    "Going to drop payment column since initially believe payment was about the amount of money that the water costs, but seems like it is about how it is paid which is not as valuable for the purposes of this project"
   ]
  },
  {
   "cell_type": "code",
   "execution_count": 242,
   "metadata": {
    "vscode": {
     "languageId": "python"
    }
   },
   "outputs": [],
   "source": [
    "clean_df.drop(['payment'], axis=1, inplace = True) "
   ]
  },
  {
   "cell_type": "code",
   "execution_count": 243,
   "metadata": {
    "vscode": {
     "languageId": "python"
    }
   },
   "outputs": [
    {
     "data": {
      "text/plain": [
       "0         39015\n",
       "500        3075\n",
       "50         2340\n",
       "1000       1445\n",
       "20         1430\n",
       "          ...  \n",
       "138000        1\n",
       "900           1\n",
       "8500          1\n",
       "60000         1\n",
       "9             1\n",
       "Name: amount_tsh, Length: 93, dtype: int64"
      ]
     },
     "execution_count": 243,
     "metadata": {},
     "output_type": "execute_result"
    }
   ],
   "source": [
    "clean_df['amount_tsh'].value_counts()"
   ]
  },
  {
   "cell_type": "code",
   "execution_count": 244,
   "metadata": {
    "scrolled": true,
    "vscode": {
     "languageId": "python"
    }
   },
   "outputs": [
    {
     "data": {
      "text/plain": [
       "good        48416\n",
       "salty        5035\n",
       "unknown      1399\n",
       "milky         801\n",
       "colored       490\n",
       "fluoride      203\n",
       "Name: quality_group, dtype: int64"
      ]
     },
     "execution_count": 244,
     "metadata": {},
     "output_type": "execute_result"
    }
   ],
   "source": [
    "clean_df['quality_group'].value_counts() #what to do with unknown"
   ]
  },
  {
   "cell_type": "code",
   "execution_count": 245,
   "metadata": {
    "scrolled": true,
    "vscode": {
     "languageId": "python"
    }
   },
   "outputs": [
    {
     "data": {
      "text/plain": [
       "enough          31979\n",
       "insufficient    13934\n",
       "dry              5836\n",
       "seasonal         3901\n",
       "unknown           694\n",
       "Name: quantity_group, dtype: int64"
      ]
     },
     "execution_count": 245,
     "metadata": {},
     "output_type": "execute_result"
    }
   ],
   "source": [
    "clean_df['quantity_group'].value_counts()"
   ]
  },
  {
   "cell_type": "markdown",
   "metadata": {},
   "source": [
    "Now going to drop rows with unknown quantity or quality since I believe they would be important indicators in health of well."
   ]
  },
  {
   "cell_type": "code",
   "execution_count": 246,
   "metadata": {
    "vscode": {
     "languageId": "python"
    }
   },
   "outputs": [
    {
     "data": {
      "text/plain": [
       "(54744, 16)"
      ]
     },
     "execution_count": 246,
     "metadata": {},
     "output_type": "execute_result"
    }
   ],
   "source": [
    "#dropping specific wells\n",
    "clean_df.drop(clean_df[(clean_df['quantity_group'] == 'unknown') |\n",
    "             (clean_df['quality_group'] == 'unknown')].index, inplace=True)\n",
    "clean_df.shape\n"
   ]
  },
  {
   "cell_type": "code",
   "execution_count": 247,
   "metadata": {
    "vscode": {
     "languageId": "python"
    }
   },
   "outputs": [
    {
     "data": {
      "text/plain": [
       "enough          31851\n",
       "insufficient    13830\n",
       "dry              5202\n",
       "seasonal         3861\n",
       "Name: quantity_group, dtype: int64"
      ]
     },
     "execution_count": 247,
     "metadata": {},
     "output_type": "execute_result"
    }
   ],
   "source": [
    "clean_df['quantity_group'].value_counts()"
   ]
  },
  {
   "cell_type": "code",
   "execution_count": 248,
   "metadata": {
    "vscode": {
     "languageId": "python"
    }
   },
   "outputs": [
    {
     "data": {
      "text/plain": [
       "good        48246\n",
       "salty        5007\n",
       "milky         799\n",
       "colored       489\n",
       "fluoride      203\n",
       "Name: quality_group, dtype: int64"
      ]
     },
     "execution_count": 248,
     "metadata": {},
     "output_type": "execute_result"
    }
   ],
   "source": [
    "clean_df['quality_group'].value_counts()"
   ]
  },
  {
   "cell_type": "code",
   "execution_count": 249,
   "metadata": {
    "vscode": {
     "languageId": "python"
    }
   },
   "outputs": [],
   "source": [
    "#dropping rows with nulls in funder and installer since there are few but want to keep columns\n",
    "clean_df.drop(clean_df[clean_df['funder'].isna()].index, inplace = True)\n",
    "clean_df.drop(clean_df[clean_df['installer'].isna()].index, inplace = True)           \n"
   ]
  },
  {
   "cell_type": "code",
   "execution_count": 250,
   "metadata": {
    "scrolled": true,
    "vscode": {
     "languageId": "python"
    }
   },
   "outputs": [
    {
     "name": "stdout",
     "output_type": "stream",
     "text": [
      "<class 'pandas.core.frame.DataFrame'>\n",
      "Int64Index: 53586 entries, 0 to 59399\n",
      "Data columns (total 16 columns):\n",
      " #   Column                 Non-Null Count  Dtype \n",
      "---  ------                 --------------  ----- \n",
      " 0   id                     53586 non-null  int64 \n",
      " 1   amount_tsh             53586 non-null  int64 \n",
      " 2   funder                 53586 non-null  object\n",
      " 3   installer              53586 non-null  object\n",
      " 4   region_code            53586 non-null  object\n",
      " 5   district_code          53586 non-null  object\n",
      " 6   population             53586 non-null  int64 \n",
      " 7   permit                 53586 non-null  int64 \n",
      " 8   extraction_type_class  53586 non-null  object\n",
      " 9   management             53586 non-null  object\n",
      " 10  quality_group          53586 non-null  object\n",
      " 11  quantity_group         53586 non-null  object\n",
      " 12  source_type            53586 non-null  object\n",
      " 13  source_class           53586 non-null  object\n",
      " 14  waterpoint_type_group  53586 non-null  object\n",
      " 15  binary_status          53586 non-null  int64 \n",
      "dtypes: int64(5), object(11)\n",
      "memory usage: 7.0+ MB\n"
     ]
    }
   ],
   "source": [
    "clean_df.info() #checking info now"
   ]
  },
  {
   "cell_type": "code",
   "execution_count": 251,
   "metadata": {
    "vscode": {
     "languageId": "python"
    }
   },
   "outputs": [
    {
     "data": {
      "text/plain": [
       "(53586, 16)"
      ]
     },
     "execution_count": 251,
     "metadata": {},
     "output_type": "execute_result"
    }
   ],
   "source": [
    "clean_df.shape #looking at new shape of data"
   ]
  },
  {
   "cell_type": "code",
   "execution_count": 252,
   "metadata": {
    "scrolled": true,
    "vscode": {
     "languageId": "python"
    }
   },
   "outputs": [
    {
     "data": {
      "text/html": [
       "<div>\n",
       "<style scoped>\n",
       "    .dataframe tbody tr th:only-of-type {\n",
       "        vertical-align: middle;\n",
       "    }\n",
       "\n",
       "    .dataframe tbody tr th {\n",
       "        vertical-align: top;\n",
       "    }\n",
       "\n",
       "    .dataframe thead th {\n",
       "        text-align: right;\n",
       "    }\n",
       "</style>\n",
       "<table border=\"1\" class=\"dataframe\">\n",
       "  <thead>\n",
       "    <tr style=\"text-align: right;\">\n",
       "      <th></th>\n",
       "      <th>id</th>\n",
       "      <th>amount_tsh</th>\n",
       "      <th>population</th>\n",
       "      <th>permit</th>\n",
       "      <th>binary_status</th>\n",
       "    </tr>\n",
       "  </thead>\n",
       "  <tbody>\n",
       "    <tr>\n",
       "      <th>count</th>\n",
       "      <td>53586.000000</td>\n",
       "      <td>53586.000000</td>\n",
       "      <td>53586.000000</td>\n",
       "      <td>53586.000000</td>\n",
       "      <td>53586.000000</td>\n",
       "    </tr>\n",
       "    <tr>\n",
       "      <th>mean</th>\n",
       "      <td>37110.555462</td>\n",
       "      <td>332.560202</td>\n",
       "      <td>183.354925</td>\n",
       "      <td>0.695835</td>\n",
       "      <td>0.623502</td>\n",
       "    </tr>\n",
       "    <tr>\n",
       "      <th>std</th>\n",
       "      <td>21447.151503</td>\n",
       "      <td>2705.659488</td>\n",
       "      <td>469.718027</td>\n",
       "      <td>0.460057</td>\n",
       "      <td>0.484512</td>\n",
       "    </tr>\n",
       "    <tr>\n",
       "      <th>min</th>\n",
       "      <td>0.000000</td>\n",
       "      <td>0.000000</td>\n",
       "      <td>0.000000</td>\n",
       "      <td>0.000000</td>\n",
       "      <td>0.000000</td>\n",
       "    </tr>\n",
       "    <tr>\n",
       "      <th>25%</th>\n",
       "      <td>18514.250000</td>\n",
       "      <td>0.000000</td>\n",
       "      <td>0.000000</td>\n",
       "      <td>0.000000</td>\n",
       "      <td>0.000000</td>\n",
       "    </tr>\n",
       "    <tr>\n",
       "      <th>50%</th>\n",
       "      <td>37070.500000</td>\n",
       "      <td>0.000000</td>\n",
       "      <td>40.000000</td>\n",
       "      <td>1.000000</td>\n",
       "      <td>1.000000</td>\n",
       "    </tr>\n",
       "    <tr>\n",
       "      <th>75%</th>\n",
       "      <td>55634.750000</td>\n",
       "      <td>30.000000</td>\n",
       "      <td>230.000000</td>\n",
       "      <td>1.000000</td>\n",
       "      <td>1.000000</td>\n",
       "    </tr>\n",
       "    <tr>\n",
       "      <th>max</th>\n",
       "      <td>74247.000000</td>\n",
       "      <td>250000.000000</td>\n",
       "      <td>30500.000000</td>\n",
       "      <td>1.000000</td>\n",
       "      <td>1.000000</td>\n",
       "    </tr>\n",
       "  </tbody>\n",
       "</table>\n",
       "</div>"
      ],
      "text/plain": [
       "                 id     amount_tsh    population        permit  binary_status\n",
       "count  53586.000000   53586.000000  53586.000000  53586.000000   53586.000000\n",
       "mean   37110.555462     332.560202    183.354925      0.695835       0.623502\n",
       "std    21447.151503    2705.659488    469.718027      0.460057       0.484512\n",
       "min        0.000000       0.000000      0.000000      0.000000       0.000000\n",
       "25%    18514.250000       0.000000      0.000000      0.000000       0.000000\n",
       "50%    37070.500000       0.000000     40.000000      1.000000       1.000000\n",
       "75%    55634.750000      30.000000    230.000000      1.000000       1.000000\n",
       "max    74247.000000  250000.000000  30500.000000      1.000000       1.000000"
      ]
     },
     "execution_count": 252,
     "metadata": {},
     "output_type": "execute_result"
    }
   ],
   "source": [
    "clean_df.describe() #checking for outliers"
   ]
  },
  {
   "cell_type": "code",
   "execution_count": 253,
   "metadata": {
    "scrolled": true,
    "vscode": {
     "languageId": "python"
    }
   },
   "outputs": [
    {
     "data": {
      "text/plain": [
       "<AxesSubplot:>"
      ]
     },
     "execution_count": 253,
     "metadata": {},
     "output_type": "execute_result"
    },
    {
     "data": {
      "image/png": "[encoded data removed]",
      "text/plain": [
       "<Figure size 432x288 with 1 Axes>"
      ]
     },
     "metadata": {
      "needs_background": "light"
     },
     "output_type": "display_data"
    }
   ],
   "source": [
    "clean_df['population'].hist() #needs to be scaled likely, very skewed"
   ]
  },
  {
   "cell_type": "code",
   "execution_count": 254,
   "metadata": {
    "vscode": {
     "languageId": "python"
    }
   },
   "outputs": [
    {
     "data": {
      "text/plain": [
       "<AxesSubplot:>"
      ]
     },
     "execution_count": 254,
     "metadata": {},
     "output_type": "execute_result"
    },
    {
     "data": {
      "image/png": "[encoded data removed]",
      "text/plain": [
       "<Figure size 432x288 with 1 Axes>"
      ]
     },
     "metadata": {
      "needs_background": "light"
     },
     "output_type": "display_data"
    }
   ],
   "source": [
    "clean_df['amount_tsh'].hist() #needs to be scaled likely, very skewed"
   ]
  },
  {
   "cell_type": "code",
   "execution_count": 255,
   "metadata": {
    "scrolled": true,
    "vscode": {
     "languageId": "python"
    }
   },
   "outputs": [
    {
     "data": {
      "text/html": [
       "<div>\n",
       "<style scoped>\n",
       "    .dataframe tbody tr th:only-of-type {\n",
       "        vertical-align: middle;\n",
       "    }\n",
       "\n",
       "    .dataframe tbody tr th {\n",
       "        vertical-align: top;\n",
       "    }\n",
       "\n",
       "    .dataframe thead th {\n",
       "        text-align: right;\n",
       "    }\n",
       "</style>\n",
       "<table border=\"1\" class=\"dataframe\">\n",
       "  <thead>\n",
       "    <tr style=\"text-align: right;\">\n",
       "      <th></th>\n",
       "      <th>id</th>\n",
       "      <th>amount_tsh</th>\n",
       "      <th>population</th>\n",
       "      <th>permit</th>\n",
       "      <th>binary_status</th>\n",
       "    </tr>\n",
       "  </thead>\n",
       "  <tbody>\n",
       "    <tr>\n",
       "      <th>id</th>\n",
       "      <td>1.000000</td>\n",
       "      <td>-0.006130</td>\n",
       "      <td>-0.001574</td>\n",
       "      <td>0.000314</td>\n",
       "      <td>-0.001373</td>\n",
       "    </tr>\n",
       "    <tr>\n",
       "      <th>amount_tsh</th>\n",
       "      <td>-0.006130</td>\n",
       "      <td>1.000000</td>\n",
       "      <td>0.015299</td>\n",
       "      <td>0.030253</td>\n",
       "      <td>0.057345</td>\n",
       "    </tr>\n",
       "    <tr>\n",
       "      <th>population</th>\n",
       "      <td>-0.001574</td>\n",
       "      <td>0.015299</td>\n",
       "      <td>1.000000</td>\n",
       "      <td>-0.038569</td>\n",
       "      <td>0.011763</td>\n",
       "    </tr>\n",
       "    <tr>\n",
       "      <th>permit</th>\n",
       "      <td>0.000314</td>\n",
       "      <td>0.030253</td>\n",
       "      <td>-0.038569</td>\n",
       "      <td>1.000000</td>\n",
       "      <td>0.029007</td>\n",
       "    </tr>\n",
       "    <tr>\n",
       "      <th>binary_status</th>\n",
       "      <td>-0.001373</td>\n",
       "      <td>0.057345</td>\n",
       "      <td>0.011763</td>\n",
       "      <td>0.029007</td>\n",
       "      <td>1.000000</td>\n",
       "    </tr>\n",
       "  </tbody>\n",
       "</table>\n",
       "</div>"
      ],
      "text/plain": [
       "                     id  amount_tsh  population    permit  binary_status\n",
       "id             1.000000   -0.006130   -0.001574  0.000314      -0.001373\n",
       "amount_tsh    -0.006130    1.000000    0.015299  0.030253       0.057345\n",
       "population    -0.001574    0.015299    1.000000 -0.038569       0.011763\n",
       "permit         0.000314    0.030253   -0.038569  1.000000       0.029007\n",
       "binary_status -0.001373    0.057345    0.011763  0.029007       1.000000"
      ]
     },
     "execution_count": 255,
     "metadata": {},
     "output_type": "execute_result"
    }
   ],
   "source": [
    "clean_df.corr() #almost all categorical but looking at correlations anyway "
   ]
  },
  {
   "cell_type": "markdown",
   "metadata": {},
   "source": [
    "# Modeling!\n",
    "Now that we have completed exploring that dataset and cleaning we can begin our modelling process. \n",
    "### Dummy Model\n",
    "- We are going to start by creating a dummy model. This will be the model we will be improving upon.\n",
    "- To start we need to create a test set and a training set for the models. "
   ]
  },
  {
   "cell_type": "code",
   "execution_count": 256,
   "metadata": {
    "vscode": {
     "languageId": "python"
    }
   },
   "outputs": [],
   "source": [
    "X = clean_df.drop(['binary_status', 'id'], axis=1)\n",
    "y = clean_df['binary_status']\n",
    "\n",
    "X_train, X_test, y_train, y_test = train_test_split(X, y, random_state=42)\n",
    "#splitting 75/25 based on the default splits"
   ]
  },
  {
   "cell_type": "code",
   "execution_count": 257,
   "metadata": {
    "vscode": {
     "languageId": "python"
    }
   },
   "outputs": [
    {
     "data": {
      "text/plain": [
       "1    0.62649\n",
       "0    0.37351\n",
       "Name: binary_status, dtype: float64"
      ]
     },
     "execution_count": 257,
     "metadata": {},
     "output_type": "execute_result"
    }
   ],
   "source": [
    "#looking if there is class imbalence in the y\n",
    "y_train.value_counts(normalize=True)\n",
    "#normalize = true to get the percentage breakdown instead of the values"
   ]
  },
  {
   "cell_type": "markdown",
   "metadata": {},
   "source": [
    "There is no glaring class imbalence based on this percentage breakdown so continuing with model. "
   ]
  },
  {
   "cell_type": "code",
   "execution_count": 258,
   "metadata": {
    "scrolled": true,
    "vscode": {
     "languageId": "python"
    }
   },
   "outputs": [],
   "source": [
    "#creating a dummy model\n",
    "dummy_model = DummyClassifier(strategy='most_frequent')\n",
    "dummy_model.fit(X_train, y_train)\n",
    "dum_preds = dummy_model.predict(X_train)"
   ]
  },
  {
   "cell_type": "code",
   "execution_count": 259,
   "metadata": {
    "vscode": {
     "languageId": "python"
    }
   },
   "outputs": [
    {
     "data": {
      "image/png": "[encoded data removed]",
      "text/plain": [
       "<Figure size 432x288 with 2 Axes>"
      ]
     },
     "metadata": {
      "needs_background": "light"
     },
     "output_type": "display_data"
    }
   ],
   "source": [
    "#plotting confusion matrix to show what our model is predicting vs. true\n",
    "plot_confusion_matrix(dummy_model, X_train, y_train);"
   ]
  },
  {
   "cell_type": "markdown",
   "metadata": {},
   "source": [
    "Checking f1 score of the dummy model since this is what we will be trying to improve upon for each model as explained earlier. To reiterate, the reason we care about the f1 score in this case is because it includes both the recall and precision score in it and therefore factors in false negatives as well as false positives which is important for the purposes of this business case. "
   ]
  },
  {
   "cell_type": "code",
   "execution_count": 260,
   "metadata": {
    "vscode": {
     "languageId": "python"
    }
   },
   "outputs": [
    {
     "data": {
      "text/plain": [
       "0.7703581317790322"
      ]
     },
     "execution_count": 260,
     "metadata": {},
     "output_type": "execute_result"
    }
   ],
   "source": [
    "f1_score(y_train, dummy_model.predict(X_train)) \n",
    "#this score is not terrible but definintely needs to be improved upon"
   ]
  },
  {
   "cell_type": "code",
   "execution_count": 360,
   "metadata": {
    "vscode": {
     "languageId": "python"
    }
   },
   "outputs": [
    {
     "name": "stdout",
     "output_type": "stream",
     "text": [
      "CV Results for `dummy model` model:\n",
      "            0.77036 ± 0.00004 f1 score\n",
      "        \n"
     ]
    }
   ],
   "source": [
    "cv_dummy = ModelWithCV(dummy_model, 'dummy model', X_train, y_train)\n",
    "cv_dummy.print_cv_summary() "
   ]
  },
  {
   "cell_type": "markdown",
   "metadata": {},
   "source": [
    "### Dealing with Categorical Variables and Scaling Numerics\n",
    "As noted earlier, we have mostly categorical variables within this data set and will therefore need to deal with them before using them in a model. Additionally, we need to scale our numeric variables if we end up using a logistic regression model.\n",
    "- We will be scaling numerics through StandardScalar\n",
    "- We will be dealing with categorical through using OneHotEncoder ('OHE').\n",
    "\n",
    "These two methods of dealing with variables are going to be implemented through the use of a pipeline for ease of use in each model and to avoid making errors between models. This will help with consistency across all. "
   ]
  },
  {
   "cell_type": "code",
   "execution_count": 261,
   "metadata": {
    "vscode": {
     "languageId": "python"
    }
   },
   "outputs": [
    {
     "data": {
      "text/plain": [
       "amount_tsh                int64\n",
       "funder                   object\n",
       "installer                object\n",
       "region_code              object\n",
       "district_code            object\n",
       "population                int64\n",
       "permit                    int64\n",
       "extraction_type_class    object\n",
       "management               object\n",
       "quality_group            object\n",
       "quantity_group           object\n",
       "source_type              object\n",
       "source_class             object\n",
       "waterpoint_type_group    object\n",
       "dtype: object"
      ]
     },
     "execution_count": 261,
     "metadata": {},
     "output_type": "execute_result"
    }
   ],
   "source": [
    "X.dtypes #looking into data types of X "
   ]
  },
  {
   "cell_type": "markdown",
   "metadata": {},
   "source": [
    "Creating two lists:\n",
    "- scale: includes only the numeric variables\n",
    "- cat: includesonly the categorical variables"
   ]
  },
  {
   "cell_type": "code",
   "execution_count": 262,
   "metadata": {
    "vscode": {
     "languageId": "python"
    }
   },
   "outputs": [],
   "source": [
    "scale = ['population', 'amount_tsh']\n",
    "cat = ['funder', 'installer', 'region_code',\n",
    "           'district_code', 'extraction_type_class', 'management', 'quality_group',\n",
    "           'quantity_group', 'source_type', 'source_class', 'waterpoint_type_group']"
   ]
  },
  {
   "cell_type": "markdown",
   "metadata": {},
   "source": [
    "Creating subpipes to standard scale and one hot encode numeric and categorical columns respectively.\n"
   ]
  },
  {
   "cell_type": "code",
   "execution_count": 263,
   "metadata": {
    "vscode": {
     "languageId": "python"
    }
   },
   "outputs": [],
   "source": [
    "subpipe_numeric = Pipeline(steps=[('ss', StandardScaler())])\n",
    "subpipe_categorical = Pipeline(steps=[('ohe', OneHotEncoder(sparse=False, handle_unknown= 'ignore'))])"
   ]
  },
  {
   "cell_type": "code",
   "execution_count": 264,
   "metadata": {
    "vscode": {
     "languageId": "python"
    }
   },
   "outputs": [],
   "source": [
    "#instantiating a column transformer and assigning it to variable CT\n",
    "CT = ColumnTransformer(transformers=[('subpipe_numeric', subpipe_numeric, scale),\n",
    "                                         ('subpipe_categorical', subpipe_categorical, cat)],\n",
    "                           remainder='passthrough')"
   ]
  },
  {
   "cell_type": "code",
   "execution_count": 265,
   "metadata": {
    "scrolled": true,
    "vscode": {
     "languageId": "python"
    }
   },
   "outputs": [],
   "source": [
    "#fiting the column transformer and assigning it to variable ct_transform\n",
    "ct_transform = CT.fit_transform(X_train)"
   ]
  },
  {
   "cell_type": "markdown",
   "metadata": {},
   "source": [
    "In order to visualize the column transfromer working, printed out below the ct_transform which shows the pipeline creates a dataframe of 3417 since we have now OneHotEncoded all categorical variables. Pretty cool! "
   ]
  },
  {
   "cell_type": "code",
   "execution_count": 266,
   "metadata": {
    "scrolled": true,
    "vscode": {
     "languageId": "python"
    }
   },
   "outputs": [
    {
     "data": {
      "text/html": [
       "<div>\n",
       "<style scoped>\n",
       "    .dataframe tbody tr th:only-of-type {\n",
       "        vertical-align: middle;\n",
       "    }\n",
       "\n",
       "    .dataframe tbody tr th {\n",
       "        vertical-align: top;\n",
       "    }\n",
       "\n",
       "    .dataframe thead th {\n",
       "        text-align: right;\n",
       "    }\n",
       "</style>\n",
       "<table border=\"1\" class=\"dataframe\">\n",
       "  <thead>\n",
       "    <tr style=\"text-align: right;\">\n",
       "      <th></th>\n",
       "      <th>0</th>\n",
       "      <th>1</th>\n",
       "      <th>2</th>\n",
       "      <th>3</th>\n",
       "      <th>4</th>\n",
       "      <th>5</th>\n",
       "      <th>6</th>\n",
       "      <th>7</th>\n",
       "      <th>8</th>\n",
       "      <th>9</th>\n",
       "      <th>...</th>\n",
       "      <th>3407</th>\n",
       "      <th>3408</th>\n",
       "      <th>3409</th>\n",
       "      <th>3410</th>\n",
       "      <th>3411</th>\n",
       "      <th>3412</th>\n",
       "      <th>3413</th>\n",
       "      <th>3414</th>\n",
       "      <th>3415</th>\n",
       "      <th>3416</th>\n",
       "    </tr>\n",
       "  </thead>\n",
       "  <tbody>\n",
       "    <tr>\n",
       "      <th>0</th>\n",
       "      <td>-0.383591</td>\n",
       "      <td>0.028459</td>\n",
       "      <td>0.0</td>\n",
       "      <td>0.0</td>\n",
       "      <td>0.0</td>\n",
       "      <td>0.0</td>\n",
       "      <td>0.0</td>\n",
       "      <td>0.0</td>\n",
       "      <td>0.0</td>\n",
       "      <td>0.0</td>\n",
       "      <td>...</td>\n",
       "      <td>0.0</td>\n",
       "      <td>0.0</td>\n",
       "      <td>1.0</td>\n",
       "      <td>0.0</td>\n",
       "      <td>1.0</td>\n",
       "      <td>0.0</td>\n",
       "      <td>0.0</td>\n",
       "      <td>0.0</td>\n",
       "      <td>0.0</td>\n",
       "      <td>0.0</td>\n",
       "    </tr>\n",
       "    <tr>\n",
       "      <th>1</th>\n",
       "      <td>-0.385668</td>\n",
       "      <td>-0.128724</td>\n",
       "      <td>0.0</td>\n",
       "      <td>0.0</td>\n",
       "      <td>0.0</td>\n",
       "      <td>0.0</td>\n",
       "      <td>0.0</td>\n",
       "      <td>0.0</td>\n",
       "      <td>0.0</td>\n",
       "      <td>0.0</td>\n",
       "      <td>...</td>\n",
       "      <td>1.0</td>\n",
       "      <td>0.0</td>\n",
       "      <td>0.0</td>\n",
       "      <td>0.0</td>\n",
       "      <td>0.0</td>\n",
       "      <td>0.0</td>\n",
       "      <td>0.0</td>\n",
       "      <td>0.0</td>\n",
       "      <td>1.0</td>\n",
       "      <td>1.0</td>\n",
       "    </tr>\n",
       "    <tr>\n",
       "      <th>2</th>\n",
       "      <td>0.029582</td>\n",
       "      <td>-0.128724</td>\n",
       "      <td>0.0</td>\n",
       "      <td>0.0</td>\n",
       "      <td>0.0</td>\n",
       "      <td>0.0</td>\n",
       "      <td>0.0</td>\n",
       "      <td>0.0</td>\n",
       "      <td>0.0</td>\n",
       "      <td>0.0</td>\n",
       "      <td>...</td>\n",
       "      <td>0.0</td>\n",
       "      <td>1.0</td>\n",
       "      <td>0.0</td>\n",
       "      <td>0.0</td>\n",
       "      <td>1.0</td>\n",
       "      <td>0.0</td>\n",
       "      <td>0.0</td>\n",
       "      <td>0.0</td>\n",
       "      <td>0.0</td>\n",
       "      <td>1.0</td>\n",
       "    </tr>\n",
       "    <tr>\n",
       "      <th>3</th>\n",
       "      <td>0.548645</td>\n",
       "      <td>0.067755</td>\n",
       "      <td>0.0</td>\n",
       "      <td>0.0</td>\n",
       "      <td>0.0</td>\n",
       "      <td>0.0</td>\n",
       "      <td>0.0</td>\n",
       "      <td>0.0</td>\n",
       "      <td>0.0</td>\n",
       "      <td>0.0</td>\n",
       "      <td>...</td>\n",
       "      <td>1.0</td>\n",
       "      <td>0.0</td>\n",
       "      <td>0.0</td>\n",
       "      <td>0.0</td>\n",
       "      <td>0.0</td>\n",
       "      <td>0.0</td>\n",
       "      <td>1.0</td>\n",
       "      <td>0.0</td>\n",
       "      <td>0.0</td>\n",
       "      <td>1.0</td>\n",
       "    </tr>\n",
       "    <tr>\n",
       "      <th>4</th>\n",
       "      <td>-0.385668</td>\n",
       "      <td>-0.128724</td>\n",
       "      <td>0.0</td>\n",
       "      <td>0.0</td>\n",
       "      <td>1.0</td>\n",
       "      <td>0.0</td>\n",
       "      <td>0.0</td>\n",
       "      <td>0.0</td>\n",
       "      <td>0.0</td>\n",
       "      <td>0.0</td>\n",
       "      <td>...</td>\n",
       "      <td>1.0</td>\n",
       "      <td>0.0</td>\n",
       "      <td>0.0</td>\n",
       "      <td>0.0</td>\n",
       "      <td>0.0</td>\n",
       "      <td>0.0</td>\n",
       "      <td>1.0</td>\n",
       "      <td>0.0</td>\n",
       "      <td>0.0</td>\n",
       "      <td>0.0</td>\n",
       "    </tr>\n",
       "    <tr>\n",
       "      <th>...</th>\n",
       "      <td>...</td>\n",
       "      <td>...</td>\n",
       "      <td>...</td>\n",
       "      <td>...</td>\n",
       "      <td>...</td>\n",
       "      <td>...</td>\n",
       "      <td>...</td>\n",
       "      <td>...</td>\n",
       "      <td>...</td>\n",
       "      <td>...</td>\n",
       "      <td>...</td>\n",
       "      <td>...</td>\n",
       "      <td>...</td>\n",
       "      <td>...</td>\n",
       "      <td>...</td>\n",
       "      <td>...</td>\n",
       "      <td>...</td>\n",
       "      <td>...</td>\n",
       "      <td>...</td>\n",
       "      <td>...</td>\n",
       "      <td>...</td>\n",
       "    </tr>\n",
       "    <tr>\n",
       "      <th>40184</th>\n",
       "      <td>-0.383591</td>\n",
       "      <td>-0.050132</td>\n",
       "      <td>0.0</td>\n",
       "      <td>0.0</td>\n",
       "      <td>0.0</td>\n",
       "      <td>0.0</td>\n",
       "      <td>0.0</td>\n",
       "      <td>0.0</td>\n",
       "      <td>0.0</td>\n",
       "      <td>0.0</td>\n",
       "      <td>...</td>\n",
       "      <td>1.0</td>\n",
       "      <td>0.0</td>\n",
       "      <td>0.0</td>\n",
       "      <td>0.0</td>\n",
       "      <td>1.0</td>\n",
       "      <td>0.0</td>\n",
       "      <td>0.0</td>\n",
       "      <td>0.0</td>\n",
       "      <td>0.0</td>\n",
       "      <td>1.0</td>\n",
       "    </tr>\n",
       "    <tr>\n",
       "      <th>40185</th>\n",
       "      <td>0.341020</td>\n",
       "      <td>-0.128724</td>\n",
       "      <td>0.0</td>\n",
       "      <td>0.0</td>\n",
       "      <td>0.0</td>\n",
       "      <td>0.0</td>\n",
       "      <td>0.0</td>\n",
       "      <td>0.0</td>\n",
       "      <td>0.0</td>\n",
       "      <td>0.0</td>\n",
       "      <td>...</td>\n",
       "      <td>1.0</td>\n",
       "      <td>0.0</td>\n",
       "      <td>0.0</td>\n",
       "      <td>0.0</td>\n",
       "      <td>0.0</td>\n",
       "      <td>0.0</td>\n",
       "      <td>1.0</td>\n",
       "      <td>0.0</td>\n",
       "      <td>0.0</td>\n",
       "      <td>0.0</td>\n",
       "    </tr>\n",
       "    <tr>\n",
       "      <th>40186</th>\n",
       "      <td>-0.385668</td>\n",
       "      <td>-0.128724</td>\n",
       "      <td>0.0</td>\n",
       "      <td>0.0</td>\n",
       "      <td>0.0</td>\n",
       "      <td>0.0</td>\n",
       "      <td>0.0</td>\n",
       "      <td>0.0</td>\n",
       "      <td>0.0</td>\n",
       "      <td>0.0</td>\n",
       "      <td>...</td>\n",
       "      <td>1.0</td>\n",
       "      <td>0.0</td>\n",
       "      <td>0.0</td>\n",
       "      <td>0.0</td>\n",
       "      <td>0.0</td>\n",
       "      <td>0.0</td>\n",
       "      <td>1.0</td>\n",
       "      <td>0.0</td>\n",
       "      <td>0.0</td>\n",
       "      <td>0.0</td>\n",
       "    </tr>\n",
       "    <tr>\n",
       "      <th>40187</th>\n",
       "      <td>-0.385668</td>\n",
       "      <td>-0.128724</td>\n",
       "      <td>0.0</td>\n",
       "      <td>0.0</td>\n",
       "      <td>0.0</td>\n",
       "      <td>0.0</td>\n",
       "      <td>0.0</td>\n",
       "      <td>0.0</td>\n",
       "      <td>0.0</td>\n",
       "      <td>0.0</td>\n",
       "      <td>...</td>\n",
       "      <td>0.0</td>\n",
       "      <td>1.0</td>\n",
       "      <td>0.0</td>\n",
       "      <td>0.0</td>\n",
       "      <td>1.0</td>\n",
       "      <td>0.0</td>\n",
       "      <td>0.0</td>\n",
       "      <td>0.0</td>\n",
       "      <td>0.0</td>\n",
       "      <td>0.0</td>\n",
       "    </tr>\n",
       "    <tr>\n",
       "      <th>40188</th>\n",
       "      <td>-0.094993</td>\n",
       "      <td>-0.124794</td>\n",
       "      <td>0.0</td>\n",
       "      <td>0.0</td>\n",
       "      <td>0.0</td>\n",
       "      <td>0.0</td>\n",
       "      <td>0.0</td>\n",
       "      <td>0.0</td>\n",
       "      <td>0.0</td>\n",
       "      <td>0.0</td>\n",
       "      <td>...</td>\n",
       "      <td>0.0</td>\n",
       "      <td>1.0</td>\n",
       "      <td>0.0</td>\n",
       "      <td>0.0</td>\n",
       "      <td>1.0</td>\n",
       "      <td>0.0</td>\n",
       "      <td>0.0</td>\n",
       "      <td>0.0</td>\n",
       "      <td>0.0</td>\n",
       "      <td>1.0</td>\n",
       "    </tr>\n",
       "  </tbody>\n",
       "</table>\n",
       "<p>40189 rows × 3417 columns</p>\n",
       "</div>"
      ],
      "text/plain": [
       "           0         1     2     3     4     5     6     7     8     9     \\\n",
       "0     -0.383591  0.028459   0.0   0.0   0.0   0.0   0.0   0.0   0.0   0.0   \n",
       "1     -0.385668 -0.128724   0.0   0.0   0.0   0.0   0.0   0.0   0.0   0.0   \n",
       "2      0.029582 -0.128724   0.0   0.0   0.0   0.0   0.0   0.0   0.0   0.0   \n",
       "3      0.548645  0.067755   0.0   0.0   0.0   0.0   0.0   0.0   0.0   0.0   \n",
       "4     -0.385668 -0.128724   0.0   0.0   1.0   0.0   0.0   0.0   0.0   0.0   \n",
       "...         ...       ...   ...   ...   ...   ...   ...   ...   ...   ...   \n",
       "40184 -0.383591 -0.050132   0.0   0.0   0.0   0.0   0.0   0.0   0.0   0.0   \n",
       "40185  0.341020 -0.128724   0.0   0.0   0.0   0.0   0.0   0.0   0.0   0.0   \n",
       "40186 -0.385668 -0.128724   0.0   0.0   0.0   0.0   0.0   0.0   0.0   0.0   \n",
       "40187 -0.385668 -0.128724   0.0   0.0   0.0   0.0   0.0   0.0   0.0   0.0   \n",
       "40188 -0.094993 -0.124794   0.0   0.0   0.0   0.0   0.0   0.0   0.0   0.0   \n",
       "\n",
       "       ...  3407  3408  3409  3410  3411  3412  3413  3414  3415  3416  \n",
       "0      ...   0.0   0.0   1.0   0.0   1.0   0.0   0.0   0.0   0.0   0.0  \n",
       "1      ...   1.0   0.0   0.0   0.0   0.0   0.0   0.0   0.0   1.0   1.0  \n",
       "2      ...   0.0   1.0   0.0   0.0   1.0   0.0   0.0   0.0   0.0   1.0  \n",
       "3      ...   1.0   0.0   0.0   0.0   0.0   0.0   1.0   0.0   0.0   1.0  \n",
       "4      ...   1.0   0.0   0.0   0.0   0.0   0.0   1.0   0.0   0.0   0.0  \n",
       "...    ...   ...   ...   ...   ...   ...   ...   ...   ...   ...   ...  \n",
       "40184  ...   1.0   0.0   0.0   0.0   1.0   0.0   0.0   0.0   0.0   1.0  \n",
       "40185  ...   1.0   0.0   0.0   0.0   0.0   0.0   1.0   0.0   0.0   0.0  \n",
       "40186  ...   1.0   0.0   0.0   0.0   0.0   0.0   1.0   0.0   0.0   0.0  \n",
       "40187  ...   0.0   1.0   0.0   0.0   1.0   0.0   0.0   0.0   0.0   0.0  \n",
       "40188  ...   0.0   1.0   0.0   0.0   1.0   0.0   0.0   0.0   0.0   1.0  \n",
       "\n",
       "[40189 rows x 3417 columns]"
      ]
     },
     "execution_count": 266,
     "metadata": {},
     "output_type": "execute_result"
    }
   ],
   "source": [
    "pd.DataFrame(ct_transform) #showing one hot encode!! "
   ]
  },
  {
   "cell_type": "markdown",
   "metadata": {},
   "source": [
    "We can now begin working on models that are not our dummy model. To start, I created a logistic regression."
   ]
  },
  {
   "cell_type": "markdown",
   "metadata": {},
   "source": [
    "### Logistic model"
   ]
  },
  {
   "cell_type": "code",
   "execution_count": 267,
   "metadata": {
    "scrolled": true,
    "vscode": {
     "languageId": "python"
    }
   },
   "outputs": [
    {
     "name": "stderr",
     "output_type": "stream",
     "text": [
      "/opt/anaconda3/envs/learn-env/lib/python3.8/site-packages/sklearn/linear_model/_logistic.py:762: ConvergenceWarning: lbfgs failed to converge (status=1):\n",
      "STOP: TOTAL NO. of ITERATIONS REACHED LIMIT.\n",
      "\n",
      "Increase the number of iterations (max_iter) or scale the data as shown in:\n",
      "    https://scikit-learn.org/stable/modules/preprocessing.html\n",
      "Please also refer to the documentation for alternative solver options:\n",
      "    https://scikit-learn.org/stable/modules/linear_model.html#logistic-regression\n",
      "  n_iter_i = _check_optimize_result(\n"
     ]
    },
    {
     "data": {
      "text/plain": [
       "Pipeline(steps=[('ct',\n",
       "                 ColumnTransformer(remainder='passthrough',\n",
       "                                   transformers=[('subpipe_numeric',\n",
       "                                                  Pipeline(steps=[('ss',\n",
       "                                                                   StandardScaler())]),\n",
       "                                                  ['population', 'amount_tsh']),\n",
       "                                                 ('subpipe_categorical',\n",
       "                                                  Pipeline(steps=[('ohe',\n",
       "                                                                   OneHotEncoder(handle_unknown='ignore',\n",
       "                                                                                 sparse=False))]),\n",
       "                                                  ['funder', 'installer',\n",
       "                                                   'region_code',\n",
       "                                                   'district_code',\n",
       "                                                   'extraction_type_class',\n",
       "                                                   'management',\n",
       "                                                   'quality_group',\n",
       "                                                   'quantity_group',\n",
       "                                                   'source_type',\n",
       "                                                   'source_class',\n",
       "                                                   'waterpoint_type_group'])])),\n",
       "                ('logreg', LogisticRegression(random_state=42))])"
      ]
     },
     "execution_count": 267,
     "metadata": {},
     "output_type": "execute_result"
    }
   ],
   "source": [
    "logreg_model= Pipeline(steps=[('ct', CT),\n",
    "                            ('logreg', LogisticRegression(random_state=42))])\n",
    "logreg_model.fit(X_train, y_train)"
   ]
  },
  {
   "cell_type": "code",
   "execution_count": 268,
   "metadata": {
    "vscode": {
     "languageId": "python"
    }
   },
   "outputs": [
    {
     "data": {
      "text/plain": [
       "0.8670668475533831"
      ]
     },
     "execution_count": 268,
     "metadata": {},
     "output_type": "execute_result"
    }
   ],
   "source": [
    "f1_score(y_train, logreg_model.predict(X_train))"
   ]
  },
  {
   "cell_type": "markdown",
   "metadata": {},
   "source": [
    "This f1 score is an improvement on the dummy model but lets look at a confusion matrix to understand more. "
   ]
  },
  {
   "cell_type": "code",
   "execution_count": 269,
   "metadata": {
    "scrolled": true,
    "vscode": {
     "languageId": "python"
    }
   },
   "outputs": [
    {
     "data": {
      "text/plain": [
       "<sklearn.metrics._plot.confusion_matrix.ConfusionMatrixDisplay at 0x7f80d2f63c70>"
      ]
     },
     "execution_count": 269,
     "metadata": {},
     "output_type": "execute_result"
    },
    {
     "data": {
      "image/png": "[encoded data removed]",
      "text/plain": [
       "<Figure size 432x288 with 2 Axes>"
      ]
     },
     "metadata": {
      "needs_background": "light"
     },
     "output_type": "display_data"
    }
   ],
   "source": [
    "plot_confusion_matrix(logreg_model, X_train, y_train)"
   ]
  },
  {
   "cell_type": "code",
   "execution_count": 270,
   "metadata": {
    "vscode": {
     "languageId": "python"
    }
   },
   "outputs": [
    {
     "name": "stderr",
     "output_type": "stream",
     "text": [
      "/opt/anaconda3/envs/learn-env/lib/python3.8/site-packages/sklearn/linear_model/_logistic.py:762: ConvergenceWarning: lbfgs failed to converge (status=1):\n",
      "STOP: TOTAL NO. of ITERATIONS REACHED LIMIT.\n",
      "\n",
      "Increase the number of iterations (max_iter) or scale the data as shown in:\n",
      "    https://scikit-learn.org/stable/modules/preprocessing.html\n",
      "Please also refer to the documentation for alternative solver options:\n",
      "    https://scikit-learn.org/stable/modules/linear_model.html#logistic-regression\n",
      "  n_iter_i = _check_optimize_result(\n",
      "/opt/anaconda3/envs/learn-env/lib/python3.8/site-packages/sklearn/linear_model/_logistic.py:762: ConvergenceWarning: lbfgs failed to converge (status=1):\n",
      "STOP: TOTAL NO. of ITERATIONS REACHED LIMIT.\n",
      "\n",
      "Increase the number of iterations (max_iter) or scale the data as shown in:\n",
      "    https://scikit-learn.org/stable/modules/preprocessing.html\n",
      "Please also refer to the documentation for alternative solver options:\n",
      "    https://scikit-learn.org/stable/modules/linear_model.html#logistic-regression\n",
      "  n_iter_i = _check_optimize_result(\n",
      "/opt/anaconda3/envs/learn-env/lib/python3.8/site-packages/sklearn/linear_model/_logistic.py:762: ConvergenceWarning: lbfgs failed to converge (status=1):\n",
      "STOP: TOTAL NO. of ITERATIONS REACHED LIMIT.\n",
      "\n",
      "Increase the number of iterations (max_iter) or scale the data as shown in:\n",
      "    https://scikit-learn.org/stable/modules/preprocessing.html\n",
      "Please also refer to the documentation for alternative solver options:\n",
      "    https://scikit-learn.org/stable/modules/linear_model.html#logistic-regression\n",
      "  n_iter_i = _check_optimize_result(\n",
      "/opt/anaconda3/envs/learn-env/lib/python3.8/site-packages/sklearn/linear_model/_logistic.py:762: ConvergenceWarning: lbfgs failed to converge (status=1):\n",
      "STOP: TOTAL NO. of ITERATIONS REACHED LIMIT.\n",
      "\n",
      "Increase the number of iterations (max_iter) or scale the data as shown in:\n",
      "    https://scikit-learn.org/stable/modules/preprocessing.html\n",
      "Please also refer to the documentation for alternative solver options:\n",
      "    https://scikit-learn.org/stable/modules/linear_model.html#logistic-regression\n",
      "  n_iter_i = _check_optimize_result(\n"
     ]
    },
    {
     "name": "stdout",
     "output_type": "stream",
     "text": [
      "CV Results for `log_model` model:\n",
      "            0.85955 ± 0.00111 f1 score\n",
      "        \n"
     ]
    },
    {
     "name": "stderr",
     "output_type": "stream",
     "text": [
      "/opt/anaconda3/envs/learn-env/lib/python3.8/site-packages/sklearn/linear_model/_logistic.py:762: ConvergenceWarning: lbfgs failed to converge (status=1):\n",
      "STOP: TOTAL NO. of ITERATIONS REACHED LIMIT.\n",
      "\n",
      "Increase the number of iterations (max_iter) or scale the data as shown in:\n",
      "    https://scikit-learn.org/stable/modules/preprocessing.html\n",
      "Please also refer to the documentation for alternative solver options:\n",
      "    https://scikit-learn.org/stable/modules/linear_model.html#logistic-regression\n",
      "  n_iter_i = _check_optimize_result(\n"
     ]
    }
   ],
   "source": [
    "cv_log = ModelWithCV(logreg_model, 'log_model', X_train, y_train)\n",
    "cv_log.print_cv_summary()"
   ]
  },
  {
   "cell_type": "markdown",
   "metadata": {},
   "source": [
    "This CV result is showing that the model is not incredibly ovefit since it is very close to the f1 score from our training data. However, in thinking more on the problem we are trying to address I decided to pivot to a decision tree to be able to more accurately predict our classes. A decision tree will be much better for the this dataset since the decision tree is a non-parametric method and it can handle high-dimensional data with a higher level of accuracy. "
   ]
  },
  {
   "cell_type": "markdown",
   "metadata": {},
   "source": [
    "### Decision Tree\n",
    "We will be using the same pipeline as above but this time on Decision tree! Starting off with the default parameters."
   ]
  },
  {
   "cell_type": "markdown",
   "metadata": {},
   "source": [
    "Decision Model 1"
   ]
  },
  {
   "cell_type": "code",
   "execution_count": 271,
   "metadata": {
    "vscode": {
     "languageId": "python"
    }
   },
   "outputs": [
    {
     "data": {
      "text/plain": [
       "Pipeline(steps=[('ct',\n",
       "                 ColumnTransformer(remainder='passthrough',\n",
       "                                   transformers=[('subpipe_numeric',\n",
       "                                                  Pipeline(steps=[('ss',\n",
       "                                                                   StandardScaler())]),\n",
       "                                                  ['population', 'amount_tsh']),\n",
       "                                                 ('subpipe_categorical',\n",
       "                                                  Pipeline(steps=[('ohe',\n",
       "                                                                   OneHotEncoder(handle_unknown='ignore',\n",
       "                                                                                 sparse=False))]),\n",
       "                                                  ['funder', 'installer',\n",
       "                                                   'region_code',\n",
       "                                                   'district_code',\n",
       "                                                   'extraction_type_class',\n",
       "                                                   'management',\n",
       "                                                   'quality_group',\n",
       "                                                   'quantity_group',\n",
       "                                                   'source_type',\n",
       "                                                   'source_class',\n",
       "                                                   'waterpoint_type_group'])])),\n",
       "                ('decision_tree', DecisionTreeClassifier(random_state=42))])"
      ]
     },
     "execution_count": 271,
     "metadata": {},
     "output_type": "execute_result"
    }
   ],
   "source": [
    "decision_model = Pipeline(steps=[('ct', CT),\n",
    "                            ('decision_tree', DecisionTreeClassifier(random_state=42))])\n",
    "decision_model.fit(X_train, y_train)"
   ]
  },
  {
   "cell_type": "code",
   "execution_count": 272,
   "metadata": {
    "vscode": {
     "languageId": "python"
    }
   },
   "outputs": [
    {
     "data": {
      "text/plain": [
       "0.9494201728652715"
      ]
     },
     "execution_count": 272,
     "metadata": {},
     "output_type": "execute_result"
    }
   ],
   "source": [
    "f1_score(y_train, decision_model.predict(X_train)) #much closer to 1"
   ]
  },
  {
   "cell_type": "markdown",
   "metadata": {
    "scrolled": true
   },
   "source": [
    "This score is much better than our earlier scores! However, decision trees are very prone to being overfit so we must cross validate to see how this score compares to \"unseen\" data. "
   ]
  },
  {
   "cell_type": "code",
   "execution_count": 273,
   "metadata": {
    "vscode": {
     "languageId": "python"
    }
   },
   "outputs": [
    {
     "name": "stdout",
     "output_type": "stream",
     "text": [
      "CV Results for `decision_model` model:\n",
      "            0.85385 ± 0.00262 f1 score\n",
      "        \n"
     ]
    }
   ],
   "source": [
    "cv_decision = ModelWithCV(decision_model, 'decision_model', X_train, y_train)\n",
    "cv_decision.print_cv_summary()"
   ]
  },
  {
   "cell_type": "markdown",
   "metadata": {},
   "source": [
    "Based on these CV results we can conclude that our model is overfit and therefore are going to try to reduce the overfitness. We do this by first adjusting the max_depth. "
   ]
  },
  {
   "cell_type": "markdown",
   "metadata": {},
   "source": [
    "Decision Model 2: adjusting max depth"
   ]
  },
  {
   "cell_type": "code",
   "execution_count": 274,
   "metadata": {
    "vscode": {
     "languageId": "python"
    }
   },
   "outputs": [
    {
     "data": {
      "text/plain": [
       "Pipeline(steps=[('ct',\n",
       "                 ColumnTransformer(remainder='passthrough',\n",
       "                                   transformers=[('subpipe_numeric',\n",
       "                                                  Pipeline(steps=[('ss',\n",
       "                                                                   StandardScaler())]),\n",
       "                                                  ['population', 'amount_tsh']),\n",
       "                                                 ('subpipe_categorical',\n",
       "                                                  Pipeline(steps=[('ohe',\n",
       "                                                                   OneHotEncoder(handle_unknown='ignore',\n",
       "                                                                                 sparse=False))]),\n",
       "                                                  ['funder', 'installer',\n",
       "                                                   'region_code',\n",
       "                                                   'district_code',\n",
       "                                                   'extraction_type_class',\n",
       "                                                   'management',\n",
       "                                                   'quality_group',\n",
       "                                                   'quantity_group',\n",
       "                                                   'source_type',\n",
       "                                                   'source_class',\n",
       "                                                   'waterpoint_type_group'])])),\n",
       "                ('decision_tree',\n",
       "                 DecisionTreeClassifier(max_depth=5, random_state=42))])"
      ]
     },
     "execution_count": 274,
     "metadata": {},
     "output_type": "execute_result"
    }
   ],
   "source": [
    "decision_model2 = Pipeline(steps=[('ct', CT),\n",
    "                            ('decision_tree', \n",
    "                             DecisionTreeClassifier(random_state=42, max_depth=5 ))])\n",
    "decision_model2.fit(X_train, y_train)"
   ]
  },
  {
   "cell_type": "code",
   "execution_count": 275,
   "metadata": {
    "scrolled": true,
    "vscode": {
     "languageId": "python"
    }
   },
   "outputs": [
    {
     "data": {
      "text/plain": [
       "0.8370890822381594"
      ]
     },
     "execution_count": 275,
     "metadata": {},
     "output_type": "execute_result"
    }
   ],
   "source": [
    "f1_score(y_train, decision_model2.predict(X_train))  "
   ]
  },
  {
   "cell_type": "markdown",
   "metadata": {},
   "source": [
    "This score went down a lot but lets see if it still as overfit! "
   ]
  },
  {
   "cell_type": "code",
   "execution_count": 276,
   "metadata": {
    "scrolled": true,
    "vscode": {
     "languageId": "python"
    }
   },
   "outputs": [
    {
     "name": "stdout",
     "output_type": "stream",
     "text": [
      "CV Results for `decision_model` model:\n",
      "            0.83770 ± 0.00258 f1 score\n",
      "        \n"
     ]
    }
   ],
   "source": [
    "cv_decision = ModelWithCV(decision_model2, 'decision_model', X_train, y_train)\n",
    "cv_decision.print_cv_summary() #much less overfit! but low score"
   ]
  },
  {
   "cell_type": "markdown",
   "metadata": {},
   "source": [
    "This tree isn't overfit!! However, the f1 score is low and could use improvement. We are going to test out some additional parameters to see if we can tune this tree to be less overfit overall and a higher f1 score. "
   ]
  },
  {
   "cell_type": "markdown",
   "metadata": {},
   "source": [
    "Decision Model 3: Adjust min_samples_leaf"
   ]
  },
  {
   "cell_type": "code",
   "execution_count": 277,
   "metadata": {
    "vscode": {
     "languageId": "python"
    }
   },
   "outputs": [
    {
     "data": {
      "text/plain": [
       "0.9016438036762134"
      ]
     },
     "execution_count": 277,
     "metadata": {},
     "output_type": "execute_result"
    }
   ],
   "source": [
    "decision_model3 = Pipeline(steps=[('ct', CT),\n",
    "                            ('decision_tree', \n",
    "                             DecisionTreeClassifier(random_state=42, min_samples_leaf= 5))])\n",
    "decision_model3.fit(X_train, y_train)\n",
    "f1_score(y_train, decision_model3.predict(X_train)) ##went back up"
   ]
  },
  {
   "cell_type": "code",
   "execution_count": 278,
   "metadata": {
    "vscode": {
     "languageId": "python"
    }
   },
   "outputs": [
    {
     "name": "stdout",
     "output_type": "stream",
     "text": [
      "CV Results for `decision_model` model:\n",
      "            0.85719 ± 0.00162 f1 score\n",
      "        \n"
     ]
    }
   ],
   "source": [
    "cv_decision = ModelWithCV(decision_model3, 'decision_model', X_train, y_train)\n",
    "cv_decision.print_cv_summary() #higher cv but still very overfit."
   ]
  },
  {
   "cell_type": "markdown",
   "metadata": {},
   "source": [
    "Decision Model 4: Incorporating min sample leaf + increasing max depth"
   ]
  },
  {
   "cell_type": "code",
   "execution_count": 279,
   "metadata": {
    "vscode": {
     "languageId": "python"
    }
   },
   "outputs": [
    {
     "data": {
      "text/plain": [
       "0.8504317913068405"
      ]
     },
     "execution_count": 279,
     "metadata": {},
     "output_type": "execute_result"
    }
   ],
   "source": [
    "decision_model4 = Pipeline(steps=[('ct', CT),\n",
    "                            ('decision_tree', \n",
    "                             DecisionTreeClassifier(random_state=42, min_samples_leaf= 5, \n",
    "                                                   max_depth = 7))])\n",
    "decision_model4.fit(X_train, y_train)\n",
    "f1_score(y_train, decision_model4.predict(X_train)) ##went back up"
   ]
  },
  {
   "cell_type": "code",
   "execution_count": 280,
   "metadata": {
    "scrolled": true,
    "vscode": {
     "languageId": "python"
    }
   },
   "outputs": [
    {
     "name": "stdout",
     "output_type": "stream",
     "text": [
      "CV Results for `decision_model` model:\n",
      "            0.84578 ± 0.00254 f1 score\n",
      "        \n"
     ]
    }
   ],
   "source": [
    "cv_decision = ModelWithCV(decision_model4, 'decision_model', X_train, y_train)\n",
    "cv_decision.print_cv_summary() #cv went down but not as overfit"
   ]
  },
  {
   "cell_type": "markdown",
   "metadata": {},
   "source": [
    "Going to perform a grid search now to search for optimal hyperperamters!"
   ]
  },
  {
   "cell_type": "markdown",
   "metadata": {},
   "source": [
    "Grid Search\n",
    "Including:\n",
    "- max depth\n",
    "- min samples leaf"
   ]
  },
  {
   "cell_type": "markdown",
   "metadata": {},
   "source": [
    "Looking into parameters to see what they are called for the purposes of the grid search."
   ]
  },
  {
   "cell_type": "code",
   "execution_count": 281,
   "metadata": {
    "scrolled": false,
    "vscode": {
     "languageId": "python"
    }
   },
   "outputs": [
    {
     "data": {
      "text/plain": [
       "dict_keys(['memory', 'steps', 'verbose', 'ct', 'decision_tree', 'ct__n_jobs', 'ct__remainder', 'ct__sparse_threshold', 'ct__transformer_weights', 'ct__transformers', 'ct__verbose', 'ct__subpipe_numeric', 'ct__subpipe_categorical', 'ct__subpipe_numeric__memory', 'ct__subpipe_numeric__steps', 'ct__subpipe_numeric__verbose', 'ct__subpipe_numeric__ss', 'ct__subpipe_numeric__ss__copy', 'ct__subpipe_numeric__ss__with_mean', 'ct__subpipe_numeric__ss__with_std', 'ct__subpipe_categorical__memory', 'ct__subpipe_categorical__steps', 'ct__subpipe_categorical__verbose', 'ct__subpipe_categorical__ohe', 'ct__subpipe_categorical__ohe__categories', 'ct__subpipe_categorical__ohe__drop', 'ct__subpipe_categorical__ohe__dtype', 'ct__subpipe_categorical__ohe__handle_unknown', 'ct__subpipe_categorical__ohe__sparse', 'decision_tree__ccp_alpha', 'decision_tree__class_weight', 'decision_tree__criterion', 'decision_tree__max_depth', 'decision_tree__max_features', 'decision_tree__max_leaf_nodes', 'decision_tree__min_impurity_decrease', 'decision_tree__min_impurity_split', 'decision_tree__min_samples_leaf', 'decision_tree__min_samples_split', 'decision_tree__min_weight_fraction_leaf', 'decision_tree__presort', 'decision_tree__random_state', 'decision_tree__splitter'])"
      ]
     },
     "execution_count": 281,
     "metadata": {},
     "output_type": "execute_result"
    }
   ],
   "source": [
    "decision_model.get_params().keys() #checking out the parameters that can be used"
   ]
  },
  {
   "cell_type": "code",
   "execution_count": 284,
   "metadata": {
    "vscode": {
     "languageId": "python"
    }
   },
   "outputs": [],
   "source": [
    "tree = {'decision_tree__max_depth': range(1, 10),\n",
    "         'decision_tree__min_samples_leaf':range(1,5)}\n",
    "                 \n",
    "gs_dt = GridSearchCV(\n",
    "    estimator = decision_model, \n",
    "    param_grid = tree, cv=5, verbose= 3, scoring = 'f1') \n",
    "\n",
    "#set for no n_jobs but otherwise -3 and see what happens"
   ]
  },
  {
   "cell_type": "code",
   "execution_count": 285,
   "metadata": {
    "vscode": {
     "languageId": "python"
    }
   },
   "outputs": [
    {
     "name": "stdout",
     "output_type": "stream",
     "text": [
      "Fitting 5 folds for each of 36 candidates, totalling 180 fits\n",
      "[CV] decision_tree__max_depth=1, decision_tree__min_samples_leaf=1 ...\n"
     ]
    },
    {
     "name": "stderr",
     "output_type": "stream",
     "text": [
      "[Parallel(n_jobs=1)]: Using backend SequentialBackend with 1 concurrent workers.\n"
     ]
    },
    {
     "name": "stdout",
     "output_type": "stream",
     "text": [
      "[CV]  decision_tree__max_depth=1, decision_tree__min_samples_leaf=1, score=0.815, total=   2.0s\n",
      "[CV] decision_tree__max_depth=1, decision_tree__min_samples_leaf=1 ...\n"
     ]
    },
    {
     "name": "stderr",
     "output_type": "stream",
     "text": [
      "[Parallel(n_jobs=1)]: Done   1 out of   1 | elapsed:    2.0s remaining:    0.0s\n"
     ]
    },
    {
     "name": "stdout",
     "output_type": "stream",
     "text": [
      "[CV]  decision_tree__max_depth=1, decision_tree__min_samples_leaf=1, score=0.816, total=   1.9s\n",
      "[CV] decision_tree__max_depth=1, decision_tree__min_samples_leaf=1 ...\n"
     ]
    },
    {
     "name": "stderr",
     "output_type": "stream",
     "text": [
      "[Parallel(n_jobs=1)]: Done   2 out of   2 | elapsed:    3.9s remaining:    0.0s\n"
     ]
    },
    {
     "name": "stdout",
     "output_type": "stream",
     "text": [
      "[CV]  decision_tree__max_depth=1, decision_tree__min_samples_leaf=1, score=0.815, total=   1.8s\n",
      "[CV] decision_tree__max_depth=1, decision_tree__min_samples_leaf=1 ...\n",
      "[CV]  decision_tree__max_depth=1, decision_tree__min_samples_leaf=1, score=0.815, total=   1.8s\n",
      "[CV] decision_tree__max_depth=1, decision_tree__min_samples_leaf=1 ...\n",
      "[CV]  decision_tree__max_depth=1, decision_tree__min_samples_leaf=1, score=0.816, total=   1.9s\n",
      "[CV] decision_tree__max_depth=1, decision_tree__min_samples_leaf=2 ...\n",
      "[CV]  decision_tree__max_depth=1, decision_tree__min_samples_leaf=2, score=0.815, total=   1.8s\n",
      "[CV] decision_tree__max_depth=1, decision_tree__min_samples_leaf=2 ...\n",
      "[CV]  decision_tree__max_depth=1, decision_tree__min_samples_leaf=2, score=0.816, total=   1.8s\n",
      "[CV] decision_tree__max_depth=1, decision_tree__min_samples_leaf=2 ...\n",
      "[CV]  decision_tree__max_depth=1, decision_tree__min_samples_leaf=2, score=0.815, total=   1.8s\n",
      "[CV] decision_tree__max_depth=1, decision_tree__min_samples_leaf=2 ...\n",
      "[CV]  decision_tree__max_depth=1, decision_tree__min_samples_leaf=2, score=0.815, total=   1.8s\n",
      "[CV] decision_tree__max_depth=1, decision_tree__min_samples_leaf=2 ...\n",
      "[CV]  decision_tree__max_depth=1, decision_tree__min_samples_leaf=2, score=0.816, total=   2.0s\n",
      "[CV] decision_tree__max_depth=1, decision_tree__min_samples_leaf=3 ...\n",
      "[CV]  decision_tree__max_depth=1, decision_tree__min_samples_leaf=3, score=0.815, total=   1.9s\n",
      "[CV] decision_tree__max_depth=1, decision_tree__min_samples_leaf=3 ...\n",
      "[CV]  decision_tree__max_depth=1, decision_tree__min_samples_leaf=3, score=0.816, total=   1.8s\n",
      "[CV] decision_tree__max_depth=1, decision_tree__min_samples_leaf=3 ...\n",
      "[CV]  decision_tree__max_depth=1, decision_tree__min_samples_leaf=3, score=0.815, total=   1.8s\n",
      "[CV] decision_tree__max_depth=1, decision_tree__min_samples_leaf=3 ...\n",
      "[CV]  decision_tree__max_depth=1, decision_tree__min_samples_leaf=3, score=0.815, total=   1.8s\n",
      "[CV] decision_tree__max_depth=1, decision_tree__min_samples_leaf=3 ...\n",
      "[CV]  decision_tree__max_depth=1, decision_tree__min_samples_leaf=3, score=0.816, total=   1.8s\n",
      "[CV] decision_tree__max_depth=1, decision_tree__min_samples_leaf=4 ...\n",
      "[CV]  decision_tree__max_depth=1, decision_tree__min_samples_leaf=4, score=0.815, total=   1.8s\n",
      "[CV] decision_tree__max_depth=1, decision_tree__min_samples_leaf=4 ...\n",
      "[CV]  decision_tree__max_depth=1, decision_tree__min_samples_leaf=4, score=0.816, total=   1.8s\n",
      "[CV] decision_tree__max_depth=1, decision_tree__min_samples_leaf=4 ...\n",
      "[CV]  decision_tree__max_depth=1, decision_tree__min_samples_leaf=4, score=0.815, total=   1.8s\n",
      "[CV] decision_tree__max_depth=1, decision_tree__min_samples_leaf=4 ...\n",
      "[CV]  decision_tree__max_depth=1, decision_tree__min_samples_leaf=4, score=0.815, total=   1.8s\n",
      "[CV] decision_tree__max_depth=1, decision_tree__min_samples_leaf=4 ...\n",
      "[CV]  decision_tree__max_depth=1, decision_tree__min_samples_leaf=4, score=0.816, total=   1.8s\n",
      "[CV] decision_tree__max_depth=2, decision_tree__min_samples_leaf=1 ...\n",
      "[CV]  decision_tree__max_depth=2, decision_tree__min_samples_leaf=1, score=0.836, total=   2.6s\n",
      "[CV] decision_tree__max_depth=2, decision_tree__min_samples_leaf=1 ...\n",
      "[CV]  decision_tree__max_depth=2, decision_tree__min_samples_leaf=1, score=0.837, total=   2.6s\n",
      "[CV] decision_tree__max_depth=2, decision_tree__min_samples_leaf=1 ...\n",
      "[CV]  decision_tree__max_depth=2, decision_tree__min_samples_leaf=1, score=0.836, total=   2.5s\n",
      "[CV] decision_tree__max_depth=2, decision_tree__min_samples_leaf=1 ...\n",
      "[CV]  decision_tree__max_depth=2, decision_tree__min_samples_leaf=1, score=0.834, total=   2.6s\n",
      "[CV] decision_tree__max_depth=2, decision_tree__min_samples_leaf=1 ...\n",
      "[CV]  decision_tree__max_depth=2, decision_tree__min_samples_leaf=1, score=0.839, total=   2.5s\n",
      "[CV] decision_tree__max_depth=2, decision_tree__min_samples_leaf=2 ...\n",
      "[CV]  decision_tree__max_depth=2, decision_tree__min_samples_leaf=2, score=0.836, total=   2.6s\n",
      "[CV] decision_tree__max_depth=2, decision_tree__min_samples_leaf=2 ...\n",
      "[CV]  decision_tree__max_depth=2, decision_tree__min_samples_leaf=2, score=0.837, total=   2.6s\n",
      "[CV] decision_tree__max_depth=2, decision_tree__min_samples_leaf=2 ...\n",
      "[CV]  decision_tree__max_depth=2, decision_tree__min_samples_leaf=2, score=0.836, total=   2.6s\n",
      "[CV] decision_tree__max_depth=2, decision_tree__min_samples_leaf=2 ...\n",
      "[CV]  decision_tree__max_depth=2, decision_tree__min_samples_leaf=2, score=0.834, total=   2.6s\n",
      "[CV] decision_tree__max_depth=2, decision_tree__min_samples_leaf=2 ...\n",
      "[CV]  decision_tree__max_depth=2, decision_tree__min_samples_leaf=2, score=0.839, total=   2.6s\n",
      "[CV] decision_tree__max_depth=2, decision_tree__min_samples_leaf=3 ...\n",
      "[CV]  decision_tree__max_depth=2, decision_tree__min_samples_leaf=3, score=0.836, total=   2.6s\n",
      "[CV] decision_tree__max_depth=2, decision_tree__min_samples_leaf=3 ...\n",
      "[CV]  decision_tree__max_depth=2, decision_tree__min_samples_leaf=3, score=0.837, total=   3.0s\n",
      "[CV] decision_tree__max_depth=2, decision_tree__min_samples_leaf=3 ...\n",
      "[CV]  decision_tree__max_depth=2, decision_tree__min_samples_leaf=3, score=0.836, total=   2.6s\n",
      "[CV] decision_tree__max_depth=2, decision_tree__min_samples_leaf=3 ...\n",
      "[CV]  decision_tree__max_depth=2, decision_tree__min_samples_leaf=3, score=0.834, total=   2.8s\n",
      "[CV] decision_tree__max_depth=2, decision_tree__min_samples_leaf=3 ...\n",
      "[CV]  decision_tree__max_depth=2, decision_tree__min_samples_leaf=3, score=0.839, total=   2.8s\n",
      "[CV] decision_tree__max_depth=2, decision_tree__min_samples_leaf=4 ...\n",
      "[CV]  decision_tree__max_depth=2, decision_tree__min_samples_leaf=4, score=0.836, total=   2.6s\n",
      "[CV] decision_tree__max_depth=2, decision_tree__min_samples_leaf=4 ...\n",
      "[CV]  decision_tree__max_depth=2, decision_tree__min_samples_leaf=4, score=0.837, total=   2.6s\n",
      "[CV] decision_tree__max_depth=2, decision_tree__min_samples_leaf=4 ...\n",
      "[CV]  decision_tree__max_depth=2, decision_tree__min_samples_leaf=4, score=0.836, total=   2.6s\n",
      "[CV] decision_tree__max_depth=2, decision_tree__min_samples_leaf=4 ...\n",
      "[CV]  decision_tree__max_depth=2, decision_tree__min_samples_leaf=4, score=0.834, total=   2.6s\n",
      "[CV] decision_tree__max_depth=2, decision_tree__min_samples_leaf=4 ...\n",
      "[CV]  decision_tree__max_depth=2, decision_tree__min_samples_leaf=4, score=0.839, total=   2.6s\n",
      "[CV] decision_tree__max_depth=3, decision_tree__min_samples_leaf=1 ...\n",
      "[CV]  decision_tree__max_depth=3, decision_tree__min_samples_leaf=1, score=0.838, total=   3.4s\n",
      "[CV] decision_tree__max_depth=3, decision_tree__min_samples_leaf=1 ...\n",
      "[CV]  decision_tree__max_depth=3, decision_tree__min_samples_leaf=1, score=0.839, total=   3.3s\n",
      "[CV] decision_tree__max_depth=3, decision_tree__min_samples_leaf=1 ...\n",
      "[CV]  decision_tree__max_depth=3, decision_tree__min_samples_leaf=1, score=0.836, total=   3.3s\n",
      "[CV] decision_tree__max_depth=3, decision_tree__min_samples_leaf=1 ...\n",
      "[CV]  decision_tree__max_depth=3, decision_tree__min_samples_leaf=1, score=0.836, total=   3.3s\n",
      "[CV] decision_tree__max_depth=3, decision_tree__min_samples_leaf=1 ...\n",
      "[CV]  decision_tree__max_depth=3, decision_tree__min_samples_leaf=1, score=0.839, total=   3.5s\n",
      "[CV] decision_tree__max_depth=3, decision_tree__min_samples_leaf=2 ...\n",
      "[CV]  decision_tree__max_depth=3, decision_tree__min_samples_leaf=2, score=0.838, total=   3.4s\n",
      "[CV] decision_tree__max_depth=3, decision_tree__min_samples_leaf=2 ...\n",
      "[CV]  decision_tree__max_depth=3, decision_tree__min_samples_leaf=2, score=0.839, total=   3.5s\n",
      "[CV] decision_tree__max_depth=3, decision_tree__min_samples_leaf=2 ...\n",
      "[CV]  decision_tree__max_depth=3, decision_tree__min_samples_leaf=2, score=0.836, total=   3.3s\n",
      "[CV] decision_tree__max_depth=3, decision_tree__min_samples_leaf=2 ...\n",
      "[CV]  decision_tree__max_depth=3, decision_tree__min_samples_leaf=2, score=0.836, total=   3.3s\n",
      "[CV] decision_tree__max_depth=3, decision_tree__min_samples_leaf=2 ...\n",
      "[CV]  decision_tree__max_depth=3, decision_tree__min_samples_leaf=2, score=0.839, total=   3.4s\n",
      "[CV] decision_tree__max_depth=3, decision_tree__min_samples_leaf=3 ...\n",
      "[CV]  decision_tree__max_depth=3, decision_tree__min_samples_leaf=3, score=0.838, total=   3.3s\n",
      "[CV] decision_tree__max_depth=3, decision_tree__min_samples_leaf=3 ...\n",
      "[CV]  decision_tree__max_depth=3, decision_tree__min_samples_leaf=3, score=0.839, total=   3.3s\n",
      "[CV] decision_tree__max_depth=3, decision_tree__min_samples_leaf=3 ...\n"
     ]
    },
    {
     "name": "stdout",
     "output_type": "stream",
     "text": [
      "[CV]  decision_tree__max_depth=3, decision_tree__min_samples_leaf=3, score=0.836, total=   3.4s\n",
      "[CV] decision_tree__max_depth=3, decision_tree__min_samples_leaf=3 ...\n",
      "[CV]  decision_tree__max_depth=3, decision_tree__min_samples_leaf=3, score=0.836, total=   3.3s\n",
      "[CV] decision_tree__max_depth=3, decision_tree__min_samples_leaf=3 ...\n",
      "[CV]  decision_tree__max_depth=3, decision_tree__min_samples_leaf=3, score=0.839, total=   3.4s\n",
      "[CV] decision_tree__max_depth=3, decision_tree__min_samples_leaf=4 ...\n",
      "[CV]  decision_tree__max_depth=3, decision_tree__min_samples_leaf=4, score=0.838, total=   3.3s\n",
      "[CV] decision_tree__max_depth=3, decision_tree__min_samples_leaf=4 ...\n",
      "[CV]  decision_tree__max_depth=3, decision_tree__min_samples_leaf=4, score=0.839, total=   3.3s\n",
      "[CV] decision_tree__max_depth=3, decision_tree__min_samples_leaf=4 ...\n",
      "[CV]  decision_tree__max_depth=3, decision_tree__min_samples_leaf=4, score=0.836, total=   3.4s\n",
      "[CV] decision_tree__max_depth=3, decision_tree__min_samples_leaf=4 ...\n",
      "[CV]  decision_tree__max_depth=3, decision_tree__min_samples_leaf=4, score=0.836, total=   3.4s\n",
      "[CV] decision_tree__max_depth=3, decision_tree__min_samples_leaf=4 ...\n",
      "[CV]  decision_tree__max_depth=3, decision_tree__min_samples_leaf=4, score=0.839, total=   3.3s\n",
      "[CV] decision_tree__max_depth=4, decision_tree__min_samples_leaf=1 ...\n",
      "[CV]  decision_tree__max_depth=4, decision_tree__min_samples_leaf=1, score=0.838, total=   4.2s\n",
      "[CV] decision_tree__max_depth=4, decision_tree__min_samples_leaf=1 ...\n",
      "[CV]  decision_tree__max_depth=4, decision_tree__min_samples_leaf=1, score=0.838, total=   3.9s\n",
      "[CV] decision_tree__max_depth=4, decision_tree__min_samples_leaf=1 ...\n",
      "[CV]  decision_tree__max_depth=4, decision_tree__min_samples_leaf=1, score=0.840, total=   4.0s\n",
      "[CV] decision_tree__max_depth=4, decision_tree__min_samples_leaf=1 ...\n",
      "[CV]  decision_tree__max_depth=4, decision_tree__min_samples_leaf=1, score=0.837, total=   4.0s\n",
      "[CV] decision_tree__max_depth=4, decision_tree__min_samples_leaf=1 ...\n",
      "[CV]  decision_tree__max_depth=4, decision_tree__min_samples_leaf=1, score=0.841, total=   4.1s\n",
      "[CV] decision_tree__max_depth=4, decision_tree__min_samples_leaf=2 ...\n",
      "[CV]  decision_tree__max_depth=4, decision_tree__min_samples_leaf=2, score=0.838, total=   4.1s\n",
      "[CV] decision_tree__max_depth=4, decision_tree__min_samples_leaf=2 ...\n",
      "[CV]  decision_tree__max_depth=4, decision_tree__min_samples_leaf=2, score=0.838, total=   4.0s\n",
      "[CV] decision_tree__max_depth=4, decision_tree__min_samples_leaf=2 ...\n",
      "[CV]  decision_tree__max_depth=4, decision_tree__min_samples_leaf=2, score=0.840, total=   4.0s\n",
      "[CV] decision_tree__max_depth=4, decision_tree__min_samples_leaf=2 ...\n",
      "[CV]  decision_tree__max_depth=4, decision_tree__min_samples_leaf=2, score=0.837, total=   4.0s\n",
      "[CV] decision_tree__max_depth=4, decision_tree__min_samples_leaf=2 ...\n",
      "[CV]  decision_tree__max_depth=4, decision_tree__min_samples_leaf=2, score=0.841, total=   4.1s\n",
      "[CV] decision_tree__max_depth=4, decision_tree__min_samples_leaf=3 ...\n",
      "[CV]  decision_tree__max_depth=4, decision_tree__min_samples_leaf=3, score=0.838, total=   4.4s\n",
      "[CV] decision_tree__max_depth=4, decision_tree__min_samples_leaf=3 ...\n",
      "[CV]  decision_tree__max_depth=4, decision_tree__min_samples_leaf=3, score=0.838, total=   4.3s\n",
      "[CV] decision_tree__max_depth=4, decision_tree__min_samples_leaf=3 ...\n",
      "[CV]  decision_tree__max_depth=4, decision_tree__min_samples_leaf=3, score=0.840, total=   4.1s\n",
      "[CV] decision_tree__max_depth=4, decision_tree__min_samples_leaf=3 ...\n",
      "[CV]  decision_tree__max_depth=4, decision_tree__min_samples_leaf=3, score=0.837, total=   4.2s\n",
      "[CV] decision_tree__max_depth=4, decision_tree__min_samples_leaf=3 ...\n",
      "[CV]  decision_tree__max_depth=4, decision_tree__min_samples_leaf=3, score=0.841, total=   4.1s\n",
      "[CV] decision_tree__max_depth=4, decision_tree__min_samples_leaf=4 ...\n",
      "[CV]  decision_tree__max_depth=4, decision_tree__min_samples_leaf=4, score=0.838, total=   4.0s\n",
      "[CV] decision_tree__max_depth=4, decision_tree__min_samples_leaf=4 ...\n",
      "[CV]  decision_tree__max_depth=4, decision_tree__min_samples_leaf=4, score=0.838, total=   4.1s\n",
      "[CV] decision_tree__max_depth=4, decision_tree__min_samples_leaf=4 ...\n",
      "[CV]  decision_tree__max_depth=4, decision_tree__min_samples_leaf=4, score=0.840, total=   4.2s\n",
      "[CV] decision_tree__max_depth=4, decision_tree__min_samples_leaf=4 ...\n",
      "[CV]  decision_tree__max_depth=4, decision_tree__min_samples_leaf=4, score=0.837, total=   4.4s\n",
      "[CV] decision_tree__max_depth=4, decision_tree__min_samples_leaf=4 ...\n",
      "[CV]  decision_tree__max_depth=4, decision_tree__min_samples_leaf=4, score=0.841, total=   4.1s\n",
      "[CV] decision_tree__max_depth=5, decision_tree__min_samples_leaf=1 ...\n",
      "[CV]  decision_tree__max_depth=5, decision_tree__min_samples_leaf=1, score=0.840, total=   4.2s\n",
      "[CV] decision_tree__max_depth=5, decision_tree__min_samples_leaf=1 ...\n",
      "[CV]  decision_tree__max_depth=5, decision_tree__min_samples_leaf=1, score=0.841, total=   4.2s\n",
      "[CV] decision_tree__max_depth=5, decision_tree__min_samples_leaf=1 ...\n",
      "[CV]  decision_tree__max_depth=5, decision_tree__min_samples_leaf=1, score=0.834, total=   4.3s\n",
      "[CV] decision_tree__max_depth=5, decision_tree__min_samples_leaf=1 ...\n",
      "[CV]  decision_tree__max_depth=5, decision_tree__min_samples_leaf=1, score=0.835, total=   4.3s\n",
      "[CV] decision_tree__max_depth=5, decision_tree__min_samples_leaf=1 ...\n",
      "[CV]  decision_tree__max_depth=5, decision_tree__min_samples_leaf=1, score=0.838, total=   4.3s\n",
      "[CV] decision_tree__max_depth=5, decision_tree__min_samples_leaf=2 ...\n",
      "[CV]  decision_tree__max_depth=5, decision_tree__min_samples_leaf=2, score=0.840, total=   4.2s\n",
      "[CV] decision_tree__max_depth=5, decision_tree__min_samples_leaf=2 ...\n",
      "[CV]  decision_tree__max_depth=5, decision_tree__min_samples_leaf=2, score=0.841, total=   4.3s\n",
      "[CV] decision_tree__max_depth=5, decision_tree__min_samples_leaf=2 ...\n",
      "[CV]  decision_tree__max_depth=5, decision_tree__min_samples_leaf=2, score=0.834, total=   4.1s\n",
      "[CV] decision_tree__max_depth=5, decision_tree__min_samples_leaf=2 ...\n",
      "[CV]  decision_tree__max_depth=5, decision_tree__min_samples_leaf=2, score=0.835, total=   4.2s\n",
      "[CV] decision_tree__max_depth=5, decision_tree__min_samples_leaf=2 ...\n",
      "[CV]  decision_tree__max_depth=5, decision_tree__min_samples_leaf=2, score=0.838, total=   4.1s\n",
      "[CV] decision_tree__max_depth=5, decision_tree__min_samples_leaf=3 ...\n",
      "[CV]  decision_tree__max_depth=5, decision_tree__min_samples_leaf=3, score=0.840, total=   4.3s\n",
      "[CV] decision_tree__max_depth=5, decision_tree__min_samples_leaf=3 ...\n",
      "[CV]  decision_tree__max_depth=5, decision_tree__min_samples_leaf=3, score=0.841, total=   4.2s\n",
      "[CV] decision_tree__max_depth=5, decision_tree__min_samples_leaf=3 ...\n",
      "[CV]  decision_tree__max_depth=5, decision_tree__min_samples_leaf=3, score=0.834, total=   4.2s\n",
      "[CV] decision_tree__max_depth=5, decision_tree__min_samples_leaf=3 ...\n",
      "[CV]  decision_tree__max_depth=5, decision_tree__min_samples_leaf=3, score=0.836, total=   4.3s\n",
      "[CV] decision_tree__max_depth=5, decision_tree__min_samples_leaf=3 ...\n",
      "[CV]  decision_tree__max_depth=5, decision_tree__min_samples_leaf=3, score=0.838, total=   4.2s\n",
      "[CV] decision_tree__max_depth=5, decision_tree__min_samples_leaf=4 ...\n",
      "[CV]  decision_tree__max_depth=5, decision_tree__min_samples_leaf=4, score=0.840, total=   4.2s\n",
      "[CV] decision_tree__max_depth=5, decision_tree__min_samples_leaf=4 ...\n",
      "[CV]  decision_tree__max_depth=5, decision_tree__min_samples_leaf=4, score=0.841, total=   4.2s\n",
      "[CV] decision_tree__max_depth=5, decision_tree__min_samples_leaf=4 ...\n",
      "[CV]  decision_tree__max_depth=5, decision_tree__min_samples_leaf=4, score=0.834, total=   4.1s\n",
      "[CV] decision_tree__max_depth=5, decision_tree__min_samples_leaf=4 ...\n",
      "[CV]  decision_tree__max_depth=5, decision_tree__min_samples_leaf=4, score=0.836, total=   4.2s\n",
      "[CV] decision_tree__max_depth=5, decision_tree__min_samples_leaf=4 ...\n",
      "[CV]  decision_tree__max_depth=5, decision_tree__min_samples_leaf=4, score=0.838, total=   4.2s\n",
      "[CV] decision_tree__max_depth=6, decision_tree__min_samples_leaf=1 ...\n",
      "[CV]  decision_tree__max_depth=6, decision_tree__min_samples_leaf=1, score=0.844, total=   4.5s\n",
      "[CV] decision_tree__max_depth=6, decision_tree__min_samples_leaf=1 ...\n",
      "[CV]  decision_tree__max_depth=6, decision_tree__min_samples_leaf=1, score=0.847, total=   4.5s\n",
      "[CV] decision_tree__max_depth=6, decision_tree__min_samples_leaf=1 ...\n"
     ]
    },
    {
     "name": "stdout",
     "output_type": "stream",
     "text": [
      "[CV]  decision_tree__max_depth=6, decision_tree__min_samples_leaf=1, score=0.837, total=   4.4s\n",
      "[CV] decision_tree__max_depth=6, decision_tree__min_samples_leaf=1 ...\n",
      "[CV]  decision_tree__max_depth=6, decision_tree__min_samples_leaf=1, score=0.839, total=   5.2s\n",
      "[CV] decision_tree__max_depth=6, decision_tree__min_samples_leaf=1 ...\n",
      "[CV]  decision_tree__max_depth=6, decision_tree__min_samples_leaf=1, score=0.839, total=   4.8s\n",
      "[CV] decision_tree__max_depth=6, decision_tree__min_samples_leaf=2 ...\n",
      "[CV]  decision_tree__max_depth=6, decision_tree__min_samples_leaf=2, score=0.844, total=   4.6s\n",
      "[CV] decision_tree__max_depth=6, decision_tree__min_samples_leaf=2 ...\n",
      "[CV]  decision_tree__max_depth=6, decision_tree__min_samples_leaf=2, score=0.847, total=   4.8s\n",
      "[CV] decision_tree__max_depth=6, decision_tree__min_samples_leaf=2 ...\n",
      "[CV]  decision_tree__max_depth=6, decision_tree__min_samples_leaf=2, score=0.837, total=   4.5s\n",
      "[CV] decision_tree__max_depth=6, decision_tree__min_samples_leaf=2 ...\n",
      "[CV]  decision_tree__max_depth=6, decision_tree__min_samples_leaf=2, score=0.840, total=   4.5s\n",
      "[CV] decision_tree__max_depth=6, decision_tree__min_samples_leaf=2 ...\n",
      "[CV]  decision_tree__max_depth=6, decision_tree__min_samples_leaf=2, score=0.839, total=   4.8s\n",
      "[CV] decision_tree__max_depth=6, decision_tree__min_samples_leaf=3 ...\n",
      "[CV]  decision_tree__max_depth=6, decision_tree__min_samples_leaf=3, score=0.844, total=   4.9s\n",
      "[CV] decision_tree__max_depth=6, decision_tree__min_samples_leaf=3 ...\n",
      "[CV]  decision_tree__max_depth=6, decision_tree__min_samples_leaf=3, score=0.847, total=   5.1s\n",
      "[CV] decision_tree__max_depth=6, decision_tree__min_samples_leaf=3 ...\n",
      "[CV]  decision_tree__max_depth=6, decision_tree__min_samples_leaf=3, score=0.837, total=   4.6s\n",
      "[CV] decision_tree__max_depth=6, decision_tree__min_samples_leaf=3 ...\n",
      "[CV]  decision_tree__max_depth=6, decision_tree__min_samples_leaf=3, score=0.840, total=   4.7s\n",
      "[CV] decision_tree__max_depth=6, decision_tree__min_samples_leaf=3 ...\n",
      "[CV]  decision_tree__max_depth=6, decision_tree__min_samples_leaf=3, score=0.839, total=   4.6s\n",
      "[CV] decision_tree__max_depth=6, decision_tree__min_samples_leaf=4 ...\n",
      "[CV]  decision_tree__max_depth=6, decision_tree__min_samples_leaf=4, score=0.844, total=   4.5s\n",
      "[CV] decision_tree__max_depth=6, decision_tree__min_samples_leaf=4 ...\n",
      "[CV]  decision_tree__max_depth=6, decision_tree__min_samples_leaf=4, score=0.847, total=   4.5s\n",
      "[CV] decision_tree__max_depth=6, decision_tree__min_samples_leaf=4 ...\n",
      "[CV]  decision_tree__max_depth=6, decision_tree__min_samples_leaf=4, score=0.837, total=   4.5s\n",
      "[CV] decision_tree__max_depth=6, decision_tree__min_samples_leaf=4 ...\n",
      "[CV]  decision_tree__max_depth=6, decision_tree__min_samples_leaf=4, score=0.840, total=   4.5s\n",
      "[CV] decision_tree__max_depth=6, decision_tree__min_samples_leaf=4 ...\n",
      "[CV]  decision_tree__max_depth=6, decision_tree__min_samples_leaf=4, score=0.839, total=   4.6s\n",
      "[CV] decision_tree__max_depth=7, decision_tree__min_samples_leaf=1 ...\n",
      "[CV]  decision_tree__max_depth=7, decision_tree__min_samples_leaf=1, score=0.850, total=   4.8s\n",
      "[CV] decision_tree__max_depth=7, decision_tree__min_samples_leaf=1 ...\n",
      "[CV]  decision_tree__max_depth=7, decision_tree__min_samples_leaf=1, score=0.846, total=   4.7s\n",
      "[CV] decision_tree__max_depth=7, decision_tree__min_samples_leaf=1 ...\n",
      "[CV]  decision_tree__max_depth=7, decision_tree__min_samples_leaf=1, score=0.846, total=   4.7s\n",
      "[CV] decision_tree__max_depth=7, decision_tree__min_samples_leaf=1 ...\n",
      "[CV]  decision_tree__max_depth=7, decision_tree__min_samples_leaf=1, score=0.845, total=   4.7s\n",
      "[CV] decision_tree__max_depth=7, decision_tree__min_samples_leaf=1 ...\n",
      "[CV]  decision_tree__max_depth=7, decision_tree__min_samples_leaf=1, score=0.842, total=   5.1s\n",
      "[CV] decision_tree__max_depth=7, decision_tree__min_samples_leaf=2 ...\n",
      "[CV]  decision_tree__max_depth=7, decision_tree__min_samples_leaf=2, score=0.850, total=   4.8s\n",
      "[CV] decision_tree__max_depth=7, decision_tree__min_samples_leaf=2 ...\n",
      "[CV]  decision_tree__max_depth=7, decision_tree__min_samples_leaf=2, score=0.846, total=   4.7s\n",
      "[CV] decision_tree__max_depth=7, decision_tree__min_samples_leaf=2 ...\n",
      "[CV]  decision_tree__max_depth=7, decision_tree__min_samples_leaf=2, score=0.846, total=   4.7s\n",
      "[CV] decision_tree__max_depth=7, decision_tree__min_samples_leaf=2 ...\n",
      "[CV]  decision_tree__max_depth=7, decision_tree__min_samples_leaf=2, score=0.846, total=   4.8s\n",
      "[CV] decision_tree__max_depth=7, decision_tree__min_samples_leaf=2 ...\n",
      "[CV]  decision_tree__max_depth=7, decision_tree__min_samples_leaf=2, score=0.842, total=   4.6s\n",
      "[CV] decision_tree__max_depth=7, decision_tree__min_samples_leaf=3 ...\n",
      "[CV]  decision_tree__max_depth=7, decision_tree__min_samples_leaf=3, score=0.849, total=   4.7s\n",
      "[CV] decision_tree__max_depth=7, decision_tree__min_samples_leaf=3 ...\n",
      "[CV]  decision_tree__max_depth=7, decision_tree__min_samples_leaf=3, score=0.846, total=   4.8s\n",
      "[CV] decision_tree__max_depth=7, decision_tree__min_samples_leaf=3 ...\n",
      "[CV]  decision_tree__max_depth=7, decision_tree__min_samples_leaf=3, score=0.846, total=   4.6s\n",
      "[CV] decision_tree__max_depth=7, decision_tree__min_samples_leaf=3 ...\n",
      "[CV]  decision_tree__max_depth=7, decision_tree__min_samples_leaf=3, score=0.846, total=   4.7s\n",
      "[CV] decision_tree__max_depth=7, decision_tree__min_samples_leaf=3 ...\n",
      "[CV]  decision_tree__max_depth=7, decision_tree__min_samples_leaf=3, score=0.842, total=   4.6s\n",
      "[CV] decision_tree__max_depth=7, decision_tree__min_samples_leaf=4 ...\n",
      "[CV]  decision_tree__max_depth=7, decision_tree__min_samples_leaf=4, score=0.850, total=   4.8s\n",
      "[CV] decision_tree__max_depth=7, decision_tree__min_samples_leaf=4 ...\n",
      "[CV]  decision_tree__max_depth=7, decision_tree__min_samples_leaf=4, score=0.846, total=   4.7s\n",
      "[CV] decision_tree__max_depth=7, decision_tree__min_samples_leaf=4 ...\n",
      "[CV]  decision_tree__max_depth=7, decision_tree__min_samples_leaf=4, score=0.846, total=   4.8s\n",
      "[CV] decision_tree__max_depth=7, decision_tree__min_samples_leaf=4 ...\n",
      "[CV]  decision_tree__max_depth=7, decision_tree__min_samples_leaf=4, score=0.846, total=   4.8s\n",
      "[CV] decision_tree__max_depth=7, decision_tree__min_samples_leaf=4 ...\n",
      "[CV]  decision_tree__max_depth=7, decision_tree__min_samples_leaf=4, score=0.842, total=   4.6s\n",
      "[CV] decision_tree__max_depth=8, decision_tree__min_samples_leaf=1 ...\n",
      "[CV]  decision_tree__max_depth=8, decision_tree__min_samples_leaf=1, score=0.854, total=   4.9s\n",
      "[CV] decision_tree__max_depth=8, decision_tree__min_samples_leaf=1 ...\n",
      "[CV]  decision_tree__max_depth=8, decision_tree__min_samples_leaf=1, score=0.852, total=   4.9s\n",
      "[CV] decision_tree__max_depth=8, decision_tree__min_samples_leaf=1 ...\n",
      "[CV]  decision_tree__max_depth=8, decision_tree__min_samples_leaf=1, score=0.848, total=   4.9s\n",
      "[CV] decision_tree__max_depth=8, decision_tree__min_samples_leaf=1 ...\n",
      "[CV]  decision_tree__max_depth=8, decision_tree__min_samples_leaf=1, score=0.850, total=   4.9s\n",
      "[CV] decision_tree__max_depth=8, decision_tree__min_samples_leaf=1 ...\n",
      "[CV]  decision_tree__max_depth=8, decision_tree__min_samples_leaf=1, score=0.854, total=   5.0s\n",
      "[CV] decision_tree__max_depth=8, decision_tree__min_samples_leaf=2 ...\n",
      "[CV]  decision_tree__max_depth=8, decision_tree__min_samples_leaf=2, score=0.854, total=   5.0s\n",
      "[CV] decision_tree__max_depth=8, decision_tree__min_samples_leaf=2 ...\n",
      "[CV]  decision_tree__max_depth=8, decision_tree__min_samples_leaf=2, score=0.852, total=   4.8s\n",
      "[CV] decision_tree__max_depth=8, decision_tree__min_samples_leaf=2 ...\n",
      "[CV]  decision_tree__max_depth=8, decision_tree__min_samples_leaf=2, score=0.848, total=   4.9s\n",
      "[CV] decision_tree__max_depth=8, decision_tree__min_samples_leaf=2 ...\n",
      "[CV]  decision_tree__max_depth=8, decision_tree__min_samples_leaf=2, score=0.850, total=   5.0s\n",
      "[CV] decision_tree__max_depth=8, decision_tree__min_samples_leaf=2 ...\n",
      "[CV]  decision_tree__max_depth=8, decision_tree__min_samples_leaf=2, score=0.854, total=   4.8s\n",
      "[CV] decision_tree__max_depth=8, decision_tree__min_samples_leaf=3 ...\n",
      "[CV]  decision_tree__max_depth=8, decision_tree__min_samples_leaf=3, score=0.854, total=   4.9s\n",
      "[CV] decision_tree__max_depth=8, decision_tree__min_samples_leaf=3 ...\n",
      "[CV]  decision_tree__max_depth=8, decision_tree__min_samples_leaf=3, score=0.852, total=   4.9s\n",
      "[CV] decision_tree__max_depth=8, decision_tree__min_samples_leaf=3 ...\n"
     ]
    },
    {
     "name": "stdout",
     "output_type": "stream",
     "text": [
      "[CV]  decision_tree__max_depth=8, decision_tree__min_samples_leaf=3, score=0.848, total=   5.2s\n",
      "[CV] decision_tree__max_depth=8, decision_tree__min_samples_leaf=3 ...\n",
      "[CV]  decision_tree__max_depth=8, decision_tree__min_samples_leaf=3, score=0.850, total=   7.9s\n",
      "[CV] decision_tree__max_depth=8, decision_tree__min_samples_leaf=3 ...\n",
      "[CV]  decision_tree__max_depth=8, decision_tree__min_samples_leaf=3, score=0.854, total= 9.0min\n",
      "[CV] decision_tree__max_depth=8, decision_tree__min_samples_leaf=4 ...\n",
      "[CV]  decision_tree__max_depth=8, decision_tree__min_samples_leaf=4, score=0.854, total=   5.0s\n",
      "[CV] decision_tree__max_depth=8, decision_tree__min_samples_leaf=4 ...\n",
      "[CV]  decision_tree__max_depth=8, decision_tree__min_samples_leaf=4, score=0.851, total=   5.0s\n",
      "[CV] decision_tree__max_depth=8, decision_tree__min_samples_leaf=4 ...\n",
      "[CV]  decision_tree__max_depth=8, decision_tree__min_samples_leaf=4, score=0.847, total=   4.9s\n",
      "[CV] decision_tree__max_depth=8, decision_tree__min_samples_leaf=4 ...\n",
      "[CV]  decision_tree__max_depth=8, decision_tree__min_samples_leaf=4, score=0.850, total= 1.6min\n",
      "[CV] decision_tree__max_depth=8, decision_tree__min_samples_leaf=4 ...\n",
      "[CV]  decision_tree__max_depth=8, decision_tree__min_samples_leaf=4, score=0.854, total=   9.4s\n",
      "[CV] decision_tree__max_depth=9, decision_tree__min_samples_leaf=1 ...\n",
      "[CV]  decision_tree__max_depth=9, decision_tree__min_samples_leaf=1, score=0.858, total=  22.4s\n",
      "[CV] decision_tree__max_depth=9, decision_tree__min_samples_leaf=1 ...\n",
      "[CV]  decision_tree__max_depth=9, decision_tree__min_samples_leaf=1, score=0.852, total=   5.1s\n",
      "[CV] decision_tree__max_depth=9, decision_tree__min_samples_leaf=1 ...\n",
      "[CV]  decision_tree__max_depth=9, decision_tree__min_samples_leaf=1, score=0.859, total= 3.5min\n",
      "[CV] decision_tree__max_depth=9, decision_tree__min_samples_leaf=1 ...\n",
      "[CV]  decision_tree__max_depth=9, decision_tree__min_samples_leaf=1, score=0.854, total=  50.1s\n",
      "[CV] decision_tree__max_depth=9, decision_tree__min_samples_leaf=1 ...\n",
      "[CV]  decision_tree__max_depth=9, decision_tree__min_samples_leaf=1, score=0.857, total=  33.3s\n",
      "[CV] decision_tree__max_depth=9, decision_tree__min_samples_leaf=2 ...\n",
      "[CV]  decision_tree__max_depth=9, decision_tree__min_samples_leaf=2, score=0.857, total=   5.1s\n",
      "[CV] decision_tree__max_depth=9, decision_tree__min_samples_leaf=2 ...\n",
      "[CV]  decision_tree__max_depth=9, decision_tree__min_samples_leaf=2, score=0.852, total=   9.1s\n",
      "[CV] decision_tree__max_depth=9, decision_tree__min_samples_leaf=2 ...\n",
      "[CV]  decision_tree__max_depth=9, decision_tree__min_samples_leaf=2, score=0.859, total=   5.9s\n",
      "[CV] decision_tree__max_depth=9, decision_tree__min_samples_leaf=2 ...\n",
      "[CV]  decision_tree__max_depth=9, decision_tree__min_samples_leaf=2, score=0.854, total=   5.5s\n",
      "[CV] decision_tree__max_depth=9, decision_tree__min_samples_leaf=2 ...\n",
      "[CV]  decision_tree__max_depth=9, decision_tree__min_samples_leaf=2, score=0.857, total=   5.2s\n",
      "[CV] decision_tree__max_depth=9, decision_tree__min_samples_leaf=3 ...\n",
      "[CV]  decision_tree__max_depth=9, decision_tree__min_samples_leaf=3, score=0.857, total=   5.2s\n",
      "[CV] decision_tree__max_depth=9, decision_tree__min_samples_leaf=3 ...\n",
      "[CV]  decision_tree__max_depth=9, decision_tree__min_samples_leaf=3, score=0.852, total=   5.3s\n",
      "[CV] decision_tree__max_depth=9, decision_tree__min_samples_leaf=3 ...\n",
      "[CV]  decision_tree__max_depth=9, decision_tree__min_samples_leaf=3, score=0.859, total=   5.1s\n",
      "[CV] decision_tree__max_depth=9, decision_tree__min_samples_leaf=3 ...\n",
      "[CV]  decision_tree__max_depth=9, decision_tree__min_samples_leaf=3, score=0.855, total=   5.0s\n",
      "[CV] decision_tree__max_depth=9, decision_tree__min_samples_leaf=3 ...\n",
      "[CV]  decision_tree__max_depth=9, decision_tree__min_samples_leaf=3, score=0.857, total=   4.9s\n",
      "[CV] decision_tree__max_depth=9, decision_tree__min_samples_leaf=4 ...\n",
      "[CV]  decision_tree__max_depth=9, decision_tree__min_samples_leaf=4, score=0.858, total=   5.0s\n",
      "[CV] decision_tree__max_depth=9, decision_tree__min_samples_leaf=4 ...\n",
      "[CV]  decision_tree__max_depth=9, decision_tree__min_samples_leaf=4, score=0.852, total=   5.1s\n",
      "[CV] decision_tree__max_depth=9, decision_tree__min_samples_leaf=4 ...\n",
      "[CV]  decision_tree__max_depth=9, decision_tree__min_samples_leaf=4, score=0.859, total=   5.1s\n",
      "[CV] decision_tree__max_depth=9, decision_tree__min_samples_leaf=4 ...\n",
      "[CV]  decision_tree__max_depth=9, decision_tree__min_samples_leaf=4, score=0.855, total=   5.4s\n",
      "[CV] decision_tree__max_depth=9, decision_tree__min_samples_leaf=4 ...\n",
      "[CV]  decision_tree__max_depth=9, decision_tree__min_samples_leaf=4, score=0.857, total=   5.2s\n"
     ]
    },
    {
     "name": "stderr",
     "output_type": "stream",
     "text": [
      "[Parallel(n_jobs=1)]: Done 180 out of 180 | elapsed: 27.5min finished\n"
     ]
    },
    {
     "data": {
      "text/plain": [
       "GridSearchCV(cv=5,\n",
       "             estimator=Pipeline(steps=[('ct',\n",
       "                                        ColumnTransformer(remainder='passthrough',\n",
       "                                                          transformers=[('subpipe_numeric',\n",
       "                                                                         Pipeline(steps=[('ss',\n",
       "                                                                                          StandardScaler())]),\n",
       "                                                                         ['population',\n",
       "                                                                          'amount_tsh']),\n",
       "                                                                        ('subpipe_categorical',\n",
       "                                                                         Pipeline(steps=[('ohe',\n",
       "                                                                                          OneHotEncoder(handle_unknown='ignore',\n",
       "                                                                                                        sparse=False))]),\n",
       "                                                                         ['funder',\n",
       "                                                                          'installer',\n",
       "                                                                          'region_code',\n",
       "                                                                          'district_code',\n",
       "                                                                          'extraction_type_class',\n",
       "                                                                          'management',\n",
       "                                                                          'quality_group',\n",
       "                                                                          'quantity_group',\n",
       "                                                                          'source_type',\n",
       "                                                                          'source_class',\n",
       "                                                                          'waterpoint_type_group'])])),\n",
       "                                       ('decision_tree',\n",
       "                                        DecisionTreeClassifier(random_state=42))]),\n",
       "             param_grid={'decision_tree__max_depth': range(1, 10),\n",
       "                         'decision_tree__min_samples_leaf': range(1, 5)},\n",
       "             scoring='f1', verbose=3)"
      ]
     },
     "execution_count": 285,
     "metadata": {},
     "output_type": "execute_result"
    }
   ],
   "source": [
    "gs_dt.fit(X_train, y_train)"
   ]
  },
  {
   "cell_type": "code",
   "execution_count": 286,
   "metadata": {
    "vscode": {
     "languageId": "python"
    }
   },
   "outputs": [
    {
     "data": {
      "text/plain": [
       "{'decision_tree__max_depth': 9, 'decision_tree__min_samples_leaf': 4}"
      ]
     },
     "execution_count": 286,
     "metadata": {},
     "output_type": "execute_result"
    }
   ],
   "source": [
    "gs_dt.best_params_"
   ]
  },
  {
   "cell_type": "markdown",
   "metadata": {},
   "source": [
    "Decision model 5: using grid search parameters"
   ]
  },
  {
   "cell_type": "code",
   "execution_count": 287,
   "metadata": {
    "vscode": {
     "languageId": "python"
    }
   },
   "outputs": [
    {
     "data": {
      "text/plain": [
       "0.861718140766399"
      ]
     },
     "execution_count": 287,
     "metadata": {},
     "output_type": "execute_result"
    }
   ],
   "source": [
    "decision_model5 = Pipeline(steps=[('ct', CT),\n",
    "                            ('decision_tree', \n",
    "                             DecisionTreeClassifier(random_state=42, min_samples_split= 4,\n",
    "                                                   max_depth = 9))])\n",
    "decision_model5.fit(X_train, y_train)\n",
    "f1_score(y_train, decision_model5.predict(X_train)) ##went back up"
   ]
  },
  {
   "cell_type": "code",
   "execution_count": 288,
   "metadata": {
    "vscode": {
     "languageId": "python"
    }
   },
   "outputs": [
    {
     "name": "stdout",
     "output_type": "stream",
     "text": [
      "CV Results for `decision_model` model:\n",
      "            0.85591 ± 0.00259 f1 score\n",
      "        \n"
     ]
    }
   ],
   "source": [
    "cv_decision = ModelWithCV(decision_model5, 'decision_model', X_train, y_train)\n",
    "cv_decision.print_cv_summary()"
   ]
  },
  {
   "cell_type": "markdown",
   "metadata": {},
   "source": [
    "After digging into decision tree, I decided to run a random forest since it looks at the data with more complexity and could lead to a higher score. "
   ]
  },
  {
   "cell_type": "markdown",
   "metadata": {},
   "source": [
    "### Random Forest"
   ]
  },
  {
   "cell_type": "markdown",
   "metadata": {},
   "source": [
    "Random forest model 1: Default values (the untuned tree)"
   ]
  },
  {
   "cell_type": "code",
   "execution_count": 289,
   "metadata": {
    "vscode": {
     "languageId": "python"
    }
   },
   "outputs": [
    {
     "data": {
      "text/plain": [
       "0.949935715120583"
      ]
     },
     "execution_count": 289,
     "metadata": {},
     "output_type": "execute_result"
    }
   ],
   "source": [
    "rf_model = Pipeline(steps=[('ct', CT),\n",
    "                            ('random_forest', RandomForestClassifier(\n",
    "                            random_state=1))])\n",
    "rf_model.fit(X_train, y_train)\n",
    "f1_score(y_train, rf_model.predict(X_train))"
   ]
  },
  {
   "cell_type": "code",
   "execution_count": 290,
   "metadata": {
    "scrolled": true,
    "vscode": {
     "languageId": "python"
    }
   },
   "outputs": [
    {
     "name": "stdout",
     "output_type": "stream",
     "text": [
      "CV Results for `random_forest` model:\n",
      "            0.87254 ± 0.00138 f1 score\n",
      "        \n"
     ]
    }
   ],
   "source": [
    "cv_rf = ModelWithCV(rf_model, 'random_forest', X_train, y_train)\n",
    "cv_rf.print_cv_summary()"
   ]
  },
  {
   "cell_type": "markdown",
   "metadata": {},
   "source": [
    "This model has a high f1 score but is very overfit based on the CV results. Attempting to change this through adjusting hyper parameters below and seeing how they effect the f1 score and cross validation f1 score i.e. how the model would look on unseen data."
   ]
  },
  {
   "cell_type": "markdown",
   "metadata": {},
   "source": [
    "Random forest model 2: Trying out a tree with max samples .3 to reduce overfit"
   ]
  },
  {
   "cell_type": "code",
   "execution_count": 291,
   "metadata": {
    "vscode": {
     "languageId": "python"
    }
   },
   "outputs": [
    {
     "data": {
      "text/plain": [
       "0.9229916685775433"
      ]
     },
     "execution_count": 291,
     "metadata": {},
     "output_type": "execute_result"
    }
   ],
   "source": [
    "rf_model2 = Pipeline(steps=[('ct', CT),\n",
    "                            ('random_forest', RandomForestClassifier(max_features='sqrt',\n",
    "                            max_samples=0.3,\n",
    "                            random_state=1))])\n",
    "rf_model2.fit(X_train, y_train)\n",
    "f1_score(y_train, rf_model2.predict(X_train))"
   ]
  },
  {
   "cell_type": "code",
   "execution_count": 292,
   "metadata": {
    "scrolled": true,
    "vscode": {
     "languageId": "python"
    }
   },
   "outputs": [
    {
     "name": "stdout",
     "output_type": "stream",
     "text": [
      "CV Results for `random_forest` model:\n",
      "            0.87949 ± 0.00111 f1 score\n",
      "        \n"
     ]
    }
   ],
   "source": [
    "cv_rf = ModelWithCV(rf_model2, 'random_forest', X_train, y_train)\n",
    "cv_rf.print_cv_summary() #better score!!!"
   ]
  },
  {
   "cell_type": "markdown",
   "metadata": {},
   "source": [
    "This model is less overfit but believe I can do better. Attempting to adjust the max_depth parameter instead. "
   ]
  },
  {
   "cell_type": "markdown",
   "metadata": {},
   "source": [
    "Random forest model 3: adjusting max depth"
   ]
  },
  {
   "cell_type": "code",
   "execution_count": 293,
   "metadata": {
    "vscode": {
     "languageId": "python"
    }
   },
   "outputs": [
    {
     "data": {
      "text/plain": [
       "0.7849668615984405"
      ]
     },
     "execution_count": 293,
     "metadata": {},
     "output_type": "execute_result"
    }
   ],
   "source": [
    "rf_model3 = Pipeline(steps=[('ct', CT),\n",
    "                            ('random_forest', RandomForestClassifier(random_state=1,\n",
    "                                                                     max_depth = 5))])\n",
    "rf_model3.fit(X_train, y_train)\n",
    "f1_score(y_train, rf_model3.predict(X_train))"
   ]
  },
  {
   "cell_type": "code",
   "execution_count": 294,
   "metadata": {
    "vscode": {
     "languageId": "python"
    }
   },
   "outputs": [
    {
     "name": "stdout",
     "output_type": "stream",
     "text": [
      "CV Results for `random_forest` model:\n",
      "            0.78174 ± 0.00515 f1 score\n",
      "        \n"
     ]
    }
   ],
   "source": [
    "cv_rf = ModelWithCV(rf_model3, 'random_forest', X_train, y_train)\n",
    "cv_rf.print_cv_summary()"
   ]
  },
  {
   "cell_type": "markdown",
   "metadata": {},
   "source": [
    "Uh oh! Model seems underfit drastically here. Predicting almost as badly as thhe dummy model. Will have to keep iterating."
   ]
  },
  {
   "cell_type": "markdown",
   "metadata": {},
   "source": [
    "Random Forest Model 4: increasing max samples and seeing the effect"
   ]
  },
  {
   "cell_type": "code",
   "execution_count": 295,
   "metadata": {
    "vscode": {
     "languageId": "python"
    }
   },
   "outputs": [
    {
     "data": {
      "text/plain": [
       "0.9371829736349785"
      ]
     },
     "execution_count": 295,
     "metadata": {},
     "output_type": "execute_result"
    }
   ],
   "source": [
    "rf_model4 = Pipeline(steps=[('ct', CT),\n",
    "                            ('random_forest', RandomForestClassifier(max_features='sqrt',\n",
    "                            max_samples=0.5,\n",
    "                            random_state=1))])\n",
    "rf_model4.fit(X_train, y_train)\n",
    "f1_score(y_train, rf_model4.predict(X_train))"
   ]
  },
  {
   "cell_type": "code",
   "execution_count": 296,
   "metadata": {
    "scrolled": true,
    "vscode": {
     "languageId": "python"
    }
   },
   "outputs": [
    {
     "name": "stdout",
     "output_type": "stream",
     "text": [
      "CV Results for `random_forest` model:\n",
      "            0.87826 ± 0.00261 f1 score\n",
      "        \n"
     ]
    }
   ],
   "source": [
    "cv_decision = ModelWithCV(rf_model4, 'random_forest', X_train, y_train)\n",
    "cv_decision.print_cv_summary()"
   ]
  },
  {
   "cell_type": "markdown",
   "metadata": {},
   "source": [
    "This model resulted in a better f1 score than model 2 however worse score when crossvalidating implying still very overfit so going back to dealing with max depth but increasing the depth by much more than 5 "
   ]
  },
  {
   "cell_type": "markdown",
   "metadata": {},
   "source": [
    "Random Forest Model 5: Increasing max_depth and seeing how this effects"
   ]
  },
  {
   "cell_type": "code",
   "execution_count": 321,
   "metadata": {
    "vscode": {
     "languageId": "python"
    }
   },
   "outputs": [
    {
     "data": {
      "text/plain": [
       "0.90219852457819"
      ]
     },
     "execution_count": 321,
     "metadata": {},
     "output_type": "execute_result"
    }
   ],
   "source": [
    " rf_model5 = Pipeline(steps=[('ct', CT),\n",
    "                            ('random_forest', RandomForestClassifier(max_features='sqrt',\n",
    "                            max_depth = 30,\n",
    "                            random_state=1))])\n",
    "rf_model5.fit(X_train, y_train)\n",
    "f1_score(y_train, rf_model5.predict(X_train))"
   ]
  },
  {
   "cell_type": "code",
   "execution_count": 322,
   "metadata": {
    "scrolled": true,
    "vscode": {
     "languageId": "python"
    }
   },
   "outputs": [
    {
     "name": "stdout",
     "output_type": "stream",
     "text": [
      "CV Results for `random_forest` model:\n",
      "            0.87730 ± 0.00180 f1 score\n",
      "        \n"
     ]
    }
   ],
   "source": [
    "cv_rf = ModelWithCV(rf_model5, 'random_forest', X_train, y_train)\n",
    "cv_rf.print_cv_summary()"
   ]
  },
  {
   "cell_type": "markdown",
   "metadata": {},
   "source": [
    "This model definitely did a lot better than our other depth focused model but going to now do a grid search to hopefully ifnd the optimal parameters! "
   ]
  },
  {
   "cell_type": "markdown",
   "metadata": {},
   "source": [
    "Grid Search on Random Forest"
   ]
  },
  {
   "cell_type": "code",
   "execution_count": 107,
   "metadata": {
    "vscode": {
     "languageId": "python"
    }
   },
   "outputs": [
    {
     "data": {
      "text/plain": [
       "dict_keys(['memory', 'steps', 'verbose', 'ct', 'random_forest', 'ct__n_jobs', 'ct__remainder', 'ct__sparse_threshold', 'ct__transformer_weights', 'ct__transformers', 'ct__verbose', 'ct__subpipe_numeric', 'ct__subpipe_categorical', 'ct__subpipe_numeric__memory', 'ct__subpipe_numeric__steps', 'ct__subpipe_numeric__verbose', 'ct__subpipe_numeric__ss', 'ct__subpipe_numeric__ss__copy', 'ct__subpipe_numeric__ss__with_mean', 'ct__subpipe_numeric__ss__with_std', 'ct__subpipe_categorical__memory', 'ct__subpipe_categorical__steps', 'ct__subpipe_categorical__verbose', 'ct__subpipe_categorical__ohe', 'ct__subpipe_categorical__ohe__categories', 'ct__subpipe_categorical__ohe__drop', 'ct__subpipe_categorical__ohe__dtype', 'ct__subpipe_categorical__ohe__handle_unknown', 'ct__subpipe_categorical__ohe__sparse', 'random_forest__bootstrap', 'random_forest__ccp_alpha', 'random_forest__class_weight', 'random_forest__criterion', 'random_forest__max_depth', 'random_forest__max_features', 'random_forest__max_leaf_nodes', 'random_forest__max_samples', 'random_forest__min_impurity_decrease', 'random_forest__min_impurity_split', 'random_forest__min_samples_leaf', 'random_forest__min_samples_split', 'random_forest__min_weight_fraction_leaf', 'random_forest__n_estimators', 'random_forest__n_jobs', 'random_forest__oob_score', 'random_forest__random_state', 'random_forest__verbose', 'random_forest__warm_start'])"
      ]
     },
     "execution_count": 107,
     "metadata": {},
     "output_type": "execute_result"
    }
   ],
   "source": [
    "rf_model.get_params().keys()"
   ]
  },
  {
   "cell_type": "code",
   "execution_count": 306,
   "metadata": {
    "vscode": {
     "languageId": "python"
    }
   },
   "outputs": [],
   "source": [
    "tree = {'random_forest__min_samples_leaf':range(1,5),\n",
    "       'random_forest__max_samples': (.3),\n",
    "       'random_forest__max_depth':range(1,10)}\n",
    "                                              \n",
    "gs_rf = GridSearchCV(\n",
    "    estimator = rf_model, \n",
    "    param_grid = tree, cv=5, verbose=3, scoring = 'f1', n_jobs = -3)"
   ]
  },
  {
   "cell_type": "code",
   "execution_count": 117,
   "metadata": {
    "scrolled": true,
    "vscode": {
     "languageId": "python"
    }
   },
   "outputs": [
    {
     "name": "stdout",
     "output_type": "stream",
     "text": [
      "Fitting 5 folds for each of 36 candidates, totalling 180 fits\n"
     ]
    },
    {
     "name": "stderr",
     "output_type": "stream",
     "text": [
      "[Parallel(n_jobs=-3)]: Using backend LokyBackend with 6 concurrent workers.\n",
      "[Parallel(n_jobs=-3)]: Done  20 tasks      | elapsed:  1.3min\n",
      "[Parallel(n_jobs=-3)]: Done 116 tasks      | elapsed:  7.0min\n",
      "[Parallel(n_jobs=-3)]: Done 180 out of 180 | elapsed: 10.9min finished\n"
     ]
    },
    {
     "data": {
      "text/plain": [
       "GridSearchCV(cv=5,\n",
       "             estimator=Pipeline(steps=[('ct',\n",
       "                                        ColumnTransformer(remainder='passthrough',\n",
       "                                                          transformers=[('subpipe_numeric',\n",
       "                                                                         Pipeline(steps=[('ss',\n",
       "                                                                                          StandardScaler())]),\n",
       "                                                                         ['population',\n",
       "                                                                          'amount_tsh']),\n",
       "                                                                        ('subpipe_categorical',\n",
       "                                                                         Pipeline(steps=[('ohe',\n",
       "                                                                                          OneHotEncoder(handle_unknown='ignore',\n",
       "                                                                                                        sparse=False))]),\n",
       "                                                                         ['funder',\n",
       "                                                                          'installer',\n",
       "                                                                          'region_code',\n",
       "                                                                          'district_code',\n",
       "                                                                          '...\n",
       "                                                                          'quality_group',\n",
       "                                                                          'quantity_group',\n",
       "                                                                          'source_type',\n",
       "                                                                          'source_class',\n",
       "                                                                          'waterpoint_type_group'])])),\n",
       "                                       ('random_forest',\n",
       "                                        RandomForestClassifier(max_features='sqrt',\n",
       "                                                               max_samples=0.3,\n",
       "                                                               random_state=1))]),\n",
       "             n_jobs=-3,\n",
       "             param_grid={'random_forest__max_depth': range(1, 10),\n",
       "                         'random_forest__max_samples': [0.3],\n",
       "                         'random_forest__min_samples_leaf': range(1, 5)},\n",
       "             scoring='f1', verbose=3)"
      ]
     },
     "execution_count": 117,
     "metadata": {},
     "output_type": "execute_result"
    }
   ],
   "source": [
    "gs_rf.fit(X_train, y_train)"
   ]
  },
  {
   "cell_type": "code",
   "execution_count": 118,
   "metadata": {
    "scrolled": true,
    "vscode": {
     "languageId": "python"
    }
   },
   "outputs": [
    {
     "data": {
      "text/plain": [
       "{'random_forest__max_depth': 9,\n",
       " 'random_forest__max_samples': 0.3,\n",
       " 'random_forest__min_samples_leaf': 1}"
      ]
     },
     "execution_count": 118,
     "metadata": {},
     "output_type": "execute_result"
    }
   ],
   "source": [
    "gs_rf.best_params_"
   ]
  },
  {
   "cell_type": "code",
   "execution_count": 119,
   "metadata": {
    "vscode": {
     "languageId": "python"
    }
   },
   "outputs": [
    {
     "data": {
      "text/plain": [
       "0.8166800636493381"
      ]
     },
     "execution_count": 119,
     "metadata": {},
     "output_type": "execute_result"
    }
   ],
   "source": [
    "rf_model6 = Pipeline(steps=[('ct', CT),\n",
    "                            ('random_forest', RandomForestClassifier(max_features='sqrt',\n",
    "                            max_samples=0.3, max_depth = 9, min_samples_leaf = 1,\n",
    "                            random_state=1))])\n",
    "rf_model6.fit(X_train, y_train)\n",
    "f1_score(y_train, rf_model6.predict(X_train))"
   ]
  },
  {
   "cell_type": "code",
   "execution_count": 120,
   "metadata": {
    "vscode": {
     "languageId": "python"
    }
   },
   "outputs": [
    {
     "name": "stdout",
     "output_type": "stream",
     "text": [
      "CV Results for `random_forest` model:\n",
      "            0.81966 ± 0.00488 f1 score\n",
      "        \n"
     ]
    }
   ],
   "source": [
    "cv_decision = ModelWithCV(rf_model6, 'random_forest', X_train, y_train)\n",
    "cv_decision.print_cv_summary()"
   ]
  },
  {
   "cell_type": "markdown",
   "metadata": {},
   "source": [
    "After doing this grid search, noted that it was pulling out the max range for each hyperparameter which likely means I need to increase my parameter ranges. Will now run an additional grid search to see if this helps. "
   ]
  },
  {
   "cell_type": "markdown",
   "metadata": {},
   "source": [
    "2nd Grid Search on Random Forest "
   ]
  },
  {
   "cell_type": "code",
   "execution_count": 349,
   "metadata": {
    "vscode": {
     "languageId": "python"
    }
   },
   "outputs": [],
   "source": [
    "tree = {'random_forest__max_samples':[.4,.5,.6],\n",
    "       'random_forest__max_depth':range(30,40)}\n",
    "                                              \n",
    "gs_rf2 = GridSearchCV(\n",
    "    estimator = rf_model, \n",
    "    param_grid = tree, cv=5, verbose=3, scoring = 'f1', n_jobs = -3)"
   ]
  },
  {
   "cell_type": "code",
   "execution_count": 350,
   "metadata": {
    "scrolled": true,
    "vscode": {
     "languageId": "python"
    }
   },
   "outputs": [
    {
     "name": "stdout",
     "output_type": "stream",
     "text": [
      "Fitting 5 folds for each of 30 candidates, totalling 150 fits\n"
     ]
    },
    {
     "name": "stderr",
     "output_type": "stream",
     "text": [
      "[Parallel(n_jobs=-3)]: Using backend LokyBackend with 6 concurrent workers.\n",
      "[Parallel(n_jobs=-3)]: Done  20 tasks      | elapsed:  5.1min\n",
      "[Parallel(n_jobs=-3)]: Done 116 tasks      | elapsed: 34.5min\n",
      "[Parallel(n_jobs=-3)]: Done 150 out of 150 | elapsed: 42.0min finished\n"
     ]
    },
    {
     "data": {
      "text/plain": [
       "GridSearchCV(cv=5,\n",
       "             estimator=Pipeline(steps=[('ct',\n",
       "                                        ColumnTransformer(remainder='passthrough',\n",
       "                                                          transformers=[('subpipe_numeric',\n",
       "                                                                         Pipeline(steps=[('ss',\n",
       "                                                                                          StandardScaler())]),\n",
       "                                                                         ['population',\n",
       "                                                                          'amount_tsh']),\n",
       "                                                                        ('subpipe_categorical',\n",
       "                                                                         Pipeline(steps=[('ohe',\n",
       "                                                                                          OneHotEncoder(handle_unknown='ignore',\n",
       "                                                                                                        sparse=False))]),\n",
       "                                                                         ['funder',\n",
       "                                                                          'installer',\n",
       "                                                                          'region_code',\n",
       "                                                                          'district_code',\n",
       "                                                                          'extraction_type_class',\n",
       "                                                                          'management',\n",
       "                                                                          'quality_group',\n",
       "                                                                          'quantity_group',\n",
       "                                                                          'source_type',\n",
       "                                                                          'source_class',\n",
       "                                                                          'waterpoint_type_group'])])),\n",
       "                                       ('random_forest',\n",
       "                                        RandomForestClassifier(random_state=1))]),\n",
       "             n_jobs=-3,\n",
       "             param_grid={'random_forest__max_depth': range(30, 40),\n",
       "                         'random_forest__max_samples': [0.4, 0.5, 0.6]},\n",
       "             scoring='f1', verbose=3)"
      ]
     },
     "execution_count": 350,
     "metadata": {},
     "output_type": "execute_result"
    }
   ],
   "source": [
    "gs_rf2.fit(X_train, y_train)"
   ]
  },
  {
   "cell_type": "code",
   "execution_count": 351,
   "metadata": {
    "scrolled": true,
    "vscode": {
     "languageId": "python"
    }
   },
   "outputs": [
    {
     "data": {
      "text/plain": [
       "{'random_forest__max_depth': 39, 'random_forest__max_samples': 0.5}"
      ]
     },
     "execution_count": 351,
     "metadata": {},
     "output_type": "execute_result"
    }
   ],
   "source": [
    "gs_rf2.best_params_"
   ]
  },
  {
   "cell_type": "code",
   "execution_count": 352,
   "metadata": {
    "vscode": {
     "languageId": "python"
    }
   },
   "outputs": [
    {
     "data": {
      "text/plain": [
       "0.9130072107809517"
      ]
     },
     "execution_count": 352,
     "metadata": {},
     "output_type": "execute_result"
    }
   ],
   "source": [
    "rf_model7 = Pipeline(steps=[('ct', CT),\n",
    "                            ('random_forest', RandomForestClassifier\n",
    "                             (max_depth = 39 , max_samples=.5, random_state=1))])\n",
    "rf_model7.fit(X_train, y_train)\n",
    "f1_score(y_train, rf_model7.predict(X_train))"
   ]
  },
  {
   "cell_type": "code",
   "execution_count": 353,
   "metadata": {
    "scrolled": true,
    "vscode": {
     "languageId": "python"
    }
   },
   "outputs": [
    {
     "name": "stdout",
     "output_type": "stream",
     "text": [
      "CV Results for `random_forest_final` model:\n",
      "            0.88144 ± 0.00150 f1 score\n",
      "        \n"
     ]
    }
   ],
   "source": [
    "cv_rf2 = ModelWithCV(rf_model7, 'random_forest_final', X_train, y_train)\n",
    "cv_rf2.print_cv_summary()"
   ]
  },
  {
   "cell_type": "markdown",
   "metadata": {},
   "source": [
    "Would like to create a grid search with higher level of depth but going to stop here for now. This is going to be used as our final model since is has the highest f1 score! Will now use this model to create predictions and glean insights! "
   ]
  },
  {
   "cell_type": "markdown",
   "metadata": {},
   "source": [
    "## Final Model Predictions:\n",
    "- Using the rf_model7 since it had the highest cross validation score\n",
    "- Will now be using the unseen testing and testing for real how my model does! "
   ]
  },
  {
   "cell_type": "code",
   "execution_count": 354,
   "metadata": {
    "vscode": {
     "languageId": "python"
    }
   },
   "outputs": [],
   "source": [
    "final_model = rf_model7"
   ]
  },
  {
   "cell_type": "code",
   "execution_count": 355,
   "metadata": {
    "scrolled": true,
    "vscode": {
     "languageId": "python"
    }
   },
   "outputs": [
    {
     "name": "stdout",
     "output_type": "stream",
     "text": [
      "Training: 0.9130072107809517\n",
      "Testing: 0.8748043818466353\n"
     ]
    }
   ],
   "source": [
    "print('Training:',f1_score(y_train, final_model.predict(X_train)))\n",
    "print('Testing:', f1_score(y_test, final_model.predict(X_test)))"
   ]
  },
  {
   "cell_type": "markdown",
   "metadata": {},
   "source": [
    "Showing confusion model on testing data. "
   ]
  },
  {
   "cell_type": "code",
   "execution_count": 356,
   "metadata": {
    "scrolled": true,
    "vscode": {
     "languageId": "python"
    }
   },
   "outputs": [
    {
     "data": {
      "image/png": "[encoded data removed]",
      "text/plain": [
       "<Figure size 432x288 with 2 Axes>"
      ]
     },
     "metadata": {
      "needs_background": "light"
     },
     "output_type": "display_data"
    }
   ],
   "source": [
    "plot_confusion_matrix(final_model, X_test, y_test);"
   ]
  },
  {
   "cell_type": "markdown",
   "metadata": {},
   "source": [
    "This was a great improvement from the dummy model since the dummy predicted all wells as functional."
   ]
  },
  {
   "cell_type": "markdown",
   "metadata": {},
   "source": [
    "Graphing F1 Score Baseline vs Final Model"
   ]
  },
  {
   "cell_type": "code",
   "execution_count": 426,
   "metadata": {
    "scrolled": true,
    "vscode": {
     "languageId": "python"
    }
   },
   "outputs": [
    {
     "data": {
      "image/png": "[encoded data removed]",
      "text/plain": [
       "<Figure size 1800x720 with 1 Axes>"
      ]
     },
     "metadata": {
      "needs_background": "light"
     },
     "output_type": "display_data"
    }
   ],
   "source": [
    "x = ['Dummy Model', 'Final Model']\n",
    "y = [.77, .87]\n",
    "\n",
    "fig, ax = plt.subplots(figsize=(25,10))\n",
    "plt.bar(x,y, color = 'blue')\n",
    "\n",
    "ax.set_title(\"F1 Score Comparison: Dummy v Final\",fontsize= 30 )\n",
    "\n",
    "plt.xlabel('Models', fontsize=30)\n",
    "ax.set_ylabel(\"F1 CV Score\", fontsize=30)\n",
    "plt.xticks(fontsize=25)\n",
    "plt.yticks(fontsize=25 );"
   ]
  },
  {
   "cell_type": "markdown",
   "metadata": {},
   "source": [
    "Although it does not look like the final model improved that much a 10% is actually a major shift when understanding what the dummy model was predicting. We went from not predicting any well as non-functional to accurately predicting 3.3k as non functional. This will be hugely valuable for saving time and money for Tanzania! "
   ]
  },
  {
   "cell_type": "markdown",
   "metadata": {},
   "source": [
    "# Feature Importance\n",
    "Digging a bit more into which feature are important below and where to focus for next steps and the actual well reperations. The features below highlight which ones have the most impact of the predction modeling. "
   ]
  },
  {
   "cell_type": "code",
   "execution_count": 451,
   "metadata": {
    "scrolled": true,
    "vscode": {
     "languageId": "python"
    }
   },
   "outputs": [
    {
     "data": {
      "text/plain": [
       "3417"
      ]
     },
     "execution_count": 451,
     "metadata": {},
     "output_type": "execute_result"
    }
   ],
   "source": [
    "#looking at the length of the final model\n",
    "len(final_model['random_forest'].feature_importances_)"
   ]
  },
  {
   "cell_type": "code",
   "execution_count": 452,
   "metadata": {
    "vscode": {
     "languageId": "python"
    }
   },
   "outputs": [
    {
     "data": {
      "text/plain": [
       "3417"
      ]
     },
     "execution_count": 452,
     "metadata": {},
     "output_type": "execute_result"
    }
   ],
   "source": [
    "feature_names = ['population', 'amount_tsh']\n",
    "ohe_feature_names = CT.named_transformers_['subpipe_categorical']['ohe'].get_feature_names().tolist()\n",
    "feature_names.extend(ohe_feature_names)\n",
    "feature_names.append('permit')\n",
    "len(feature_names) #checking to make sure this incorporates all the columns"
   ]
  },
  {
   "cell_type": "code",
   "execution_count": 453,
   "metadata": {
    "vscode": {
     "languageId": "python"
    }
   },
   "outputs": [
    {
     "data": {
      "text/plain": [
       "[('population', 0.09722602356322717),\n",
       " ('amount_tsh', 0.054109669757040034),\n",
       " ('x0_0', 0.0009679811656009965),\n",
       " ('x0_A/co Germany', 7.070287462270299e-05),\n",
       " ('x0_Aar', 6.230531749891627e-05),\n",
       " ('x0_Abas Ka', 6.62844086335201e-06),\n",
       " ('x0_Abasia', 5.4883759220698194e-05),\n",
       " ('x0_Abc-ihushi Development Cent', 1.8464583387810914e-05),\n",
       " ('x0_Abd', 2.0065008503711087e-05),\n",
       " ('x0_Abdala', 8.080177953390494e-07),\n",
       " ('x0_Abs', 2.9812651402869213e-06),\n",
       " ('x0_Aco/germany', 1.067485485503291e-05),\n",
       " ('x0_Acord', 6.0195602349096e-06),\n",
       " ('x0_Acra', 7.011360822770976e-05),\n",
       " ('x0_Action Aid', 1.2168970486365257e-05),\n",
       " ('x0_Action Contre La Faim', 3.0367758953782025e-05),\n",
       " ('x0_Adap', 3.173906890284656e-05),\n",
       " ('x0_Adb', 0.001099401223473289),\n",
       " ('x0_Adf', 6.309133092242248e-05),\n",
       " ('x0_Adp', 6.841726644732295e-05),\n",
       " ('x0_Adp Bungu', 1.7137775023275906e-06),\n",
       " ('x0_Adp Mombo', 4.5630891968711194e-05),\n",
       " ('x0_Adp/w', 1.7104447819630127e-05),\n",
       " ('x0_Adra', 0.0010132849380802636),\n",
       " ('x0_Af', 4.142922174058516e-05),\n",
       " ('x0_Afdp', 2.3508475237489534e-06),\n",
       " ('x0_Afric', 9.373573533560701e-06),\n",
       " ('x0_Africa', 5.089780470962525e-07),\n",
       " ('x0_Africa 2000 Network/undp', 1.3237244062798267e-05),\n",
       " ('x0_Africa Project Ev Germany', 2.8064839426059595e-06),\n",
       " ('x0_African', 0.0005943757509653827),\n",
       " ('x0_African 2000 Network', 7.833060890108137e-06),\n",
       " ('x0_African Barrick Gold', 1.1641626251061744e-06),\n",
       " ('x0_African Development Bank', 6.639002007221276e-05),\n",
       " ('x0_African Development Foundation', 1.2220708138324268e-05),\n",
       " ('x0_African Muslim Agency', 5.388004004674569e-05),\n",
       " ('x0_African Realief Committe Of Ku', 0.0),\n",
       " ('x0_African Reflections Foundation', 1.4837543933391543e-05),\n",
       " ('x0_African Relie', 3.3763137328185846e-05),\n",
       " ('x0_Africaone Ltd', 2.0400378218104935e-05),\n",
       " ('x0_Africare', 5.731951883763241e-06),\n",
       " ('x0_Afriican Reli', 9.334166100587258e-06),\n",
       " ('x0_Afya Department Lindi Rural', 1.0809367745418934e-05),\n",
       " ('x0_Agape Churc', 2.1499725261714245e-06),\n",
       " ('x0_Agt Church', 1.4595108849755597e-06),\n",
       " ('x0_Ahmadia', 1.292799849290861e-05),\n",
       " ('x0_Ai', 9.686341344139364e-05),\n",
       " ('x0_Aic', 4.41584751242445e-05),\n",
       " ('x0_Aic Church', 3.918856787815734e-06),\n",
       " ('x0_Aict', 0.00023650387934009216),\n",
       " ('x0_Aimgold', 6.7095123629609865e-06),\n",
       " ('x0_Alia', 1.2056321668439635e-06),\n",
       " ('x0_Amref', 0.0010149571061116305),\n",
       " ('x0_Amrefe', 3.919750133545981e-06),\n",
       " ('x0_Anglican Church', 0.00021416396148053878),\n",
       " ('x0_Angrikana', 4.1899322501305615e-05),\n",
       " ('x0_Anjuman E Seifee', 1.3855760186255543e-06),\n",
       " ('x0_Answeer Muslim Grou', 6.2446495469471415e-06),\n",
       " ('x0_Apm[africa Precious Metals Lt', 6.970714685516737e-06),\n",
       " ('x0_Arab Community', 9.116661617359598e-06),\n",
       " ('x0_Arabi', 8.450922879957381e-07),\n",
       " ('x0_Arabs Community', 5.355215750278193e-06),\n",
       " ('x0_Ardhi Instute', 2.8815238472899594e-05),\n",
       " ('x0_Artisan', 1.1223692463220212e-05),\n",
       " ('x0_Asb', 6.390049083912565e-05),\n",
       " ('x0_Asdp', 5.737922762574388e-05),\n",
       " ('x0_Asgerali N Bharwan', 9.09828313376427e-06),\n",
       " ('x0_Auwasa', 2.099861235431574e-05),\n",
       " ('x0_Awf', 8.542665542552512e-06),\n",
       " ('x0_B.A.P', 8.952290033530762e-07),\n",
       " ('x0_Ba As', 1.1467964089147566e-05),\n",
       " ('x0_Babtest', 6.241278434531658e-06),\n",
       " ('x0_Babtist', 1.0093171768827943e-05),\n",
       " ('x0_Bahewasa', 2.2442731934751092e-05),\n",
       " ('x0_Bahresa', 1.1727923887864424e-05),\n",
       " ('x0_Ballo', 7.142230929136659e-06),\n",
       " ('x0_Balo', 2.2722063984474085e-06),\n",
       " ('x0_Balyehe', 4.643012051948942e-06),\n",
       " ('x0_Banca Reale', 2.7341258860270507e-05),\n",
       " ('x0_Bank', 8.650176621765152e-06),\n",
       " ('x0_Bao', 5.039124389179109e-05),\n",
       " ('x0_Baptist Church', 1.0035277900813665e-05),\n",
       " ('x0_Baric', 1.5998253607433937e-05),\n",
       " ('x0_Bathlomew Vicent', 1.9317215266331844e-05),\n",
       " ('x0_Batist Church', 4.592233705714437e-06),\n",
       " ('x0_Belgian Government', 9.018794135259033e-05),\n",
       " ('x0_Belgij', 2.315844110736768e-06),\n",
       " ('x0_Bened', 7.160952823556527e-05),\n",
       " ('x0_Benguka', 2.3824365793241537e-05),\n",
       " ('x0_Bffs', 1.7713834646314764e-05),\n",
       " ('x0_Bfwd', 1.4098613176218238e-06),\n",
       " ('x0_Bgm', 0.00036460128242578847),\n",
       " ('x0_Bgss', 2.148060691899386e-06),\n",
       " ('x0_Bingo Foundation', 2.364273994703816e-05),\n",
       " ('x0_Bingo Foundation Germany', 0.0),\n",
       " ('x0_Biore', 4.4146587876947576e-05),\n",
       " ('x0_Birage', 1.6714408364836305e-06),\n",
       " ('x0_Bkhws', 1.2987048247986672e-05),\n",
       " ('x0_Boazi', 1.0907890729694986e-06),\n",
       " ('x0_Boazi /o', 6.6781046824169455e-06),\n",
       " ('x0_Bobby', 8.205371371798912e-06),\n",
       " ('x0_Bokera W', 2.3594896203293167e-06),\n",
       " ('x0_Boma Saving', 1.2246483219186515e-05),\n",
       " ('x0_Bonite Bottles Ltd', 3.2048671089454206e-06),\n",
       " ('x0_Br', 1.9683532589505132e-05),\n",
       " ('x0_Bra', 3.696188036482123e-06),\n",
       " ('x0_Brad', 1.6785861023229973e-06),\n",
       " ('x0_Brdp', 4.518188462552634e-06),\n",
       " ('x0_Bread For The Wor', 1.0959150078204541e-05),\n",
       " ('x0_Bread Of The Worl', 6.243694020284689e-07),\n",
       " ('x0_Bridge North', 4.852019625686949e-06),\n",
       " ('x0_British Colonial Government', 2.9669851019954746e-05),\n",
       " ('x0_British Tanza', 7.582416707692292e-06),\n",
       " ('x0_Brown', 1.2221381889006922e-06),\n",
       " ('x0_Bruder', 1.2870923103272077e-05),\n",
       " ('x0_Bs', 6.503134559987314e-05),\n",
       " ('x0_Bsf', 0.0002827486417497725),\n",
       " ('x0_Bukumbi', 1.204355336079526e-05),\n",
       " ('x0_Bukwang Church Saint', 1.496613773369397e-05),\n",
       " ('x0_Bukwang Church Saints', 2.1666973702916194e-05),\n",
       " ('x0_Bulyahunlu Gold Mine', 9.322926701987846e-05),\n",
       " ('x0_C', 9.179834465478212e-07),\n",
       " ('x0_Cafod', 5.842704534541523e-05),\n",
       " ('x0_Caltas', 8.398889756827913e-06),\n",
       " ('x0_Caltas Tanzania', 4.055832017375182e-06),\n",
       " ('x0_Caltaz Kahama', 3.7471677367683493e-06),\n",
       " ('x0_Caltus', 2.1610283916874045e-05),\n",
       " ('x0_Calvary Connect', 2.934252476677706e-06),\n",
       " ('x0_Camartec', 2.78983545788744e-05),\n",
       " ('x0_Camavita', 2.8538492444786724e-05),\n",
       " ('x0_Canada', 1.4640437973056277e-05),\n",
       " ('x0_Canada Aid', 2.2013734819587105e-06),\n",
       " ('x0_Care Int', 2.0338779544604187e-06),\n",
       " ('x0_Care International', 4.844414778292331e-05),\n",
       " ('x0_Caritas', 0.0002534772223847061),\n",
       " ('x0_Cartas Tanzania', 6.687558152678129e-06),\n",
       " ('x0_Cast', 3.468584251684143e-06),\n",
       " ('x0_Cbhi', 2.121792427273509e-05),\n",
       " ('x0_Cc Motor Day 2010', 4.425221234929294e-06),\n",
       " ('x0_Ccp', 2.77220837554206e-06),\n",
       " ('x0_Ccpk', 9.822880639530549e-06),\n",
       " ('x0_Ccps', 2.7850910464436426e-06),\n",
       " ('x0_Cct', 0.00023806077833119573),\n",
       " ('x0_Cdcg', 5.833495594198432e-05),\n",
       " ('x0_Cdft', 1.39756536704403e-06),\n",
       " ('x0_Cdg', 6.416826781556029e-06),\n",
       " ('x0_Cdtf', 0.0001497403528854191),\n",
       " ('x0_Cdtfdistrict Council', 2.525143458466899e-05),\n",
       " ('x0_Cefa', 9.057567570138305e-05),\n",
       " ('x0_Cefa-njombe', 2.8393210809440004e-05),\n",
       " ('x0_Cefa/rcchurch', 2.0816697880435918e-07),\n",
       " ('x0_Ces (gmbh)', 0.0002566561130919106),\n",
       " ('x0_Ces(gmbh)', 0.0005087097709683061),\n",
       " ('x0_Cg', 7.480232443068188e-05),\n",
       " ('x0_Cg/rc', 8.142811974966234e-08),\n",
       " ('x0_Cgc', 2.103164474628741e-05),\n",
       " ('x0_Cgi', 1.5840151468271216e-06),\n",
       " ('x0_Chacha Issame', 5.694294089826621e-07),\n",
       " ('x0_Chama Cha Ushirika', 2.447355535792842e-07),\n",
       " ('x0_Chamavita', 9.89768332714236e-06),\n",
       " ('x0_Chani', 1.147723421674955e-05),\n",
       " ('x0_Charlotte Well', 1.8936900537363895e-06),\n",
       " ('x0_Cheni', 1.8700045079116435e-05),\n",
       " ('x0_China Government', 9.004454006769856e-05),\n",
       " ('x0_Chmavita', 5.455475425216626e-07),\n",
       " ('x0_Chongolo', 1.010145389990197e-05),\n",
       " ('x0_Christan Outrich', 9.524038941708858e-07),\n",
       " ('x0_Christian Outrich', 2.579386558680327e-05),\n",
       " ('x0_Chuo', 6.849255755935117e-08),\n",
       " ('x0_Churc', 0.00013634728942338152),\n",
       " ('x0_Church', 2.5234524314346205e-05),\n",
       " ('x0_Church Of Disciples', 6.98335681567817e-06),\n",
       " ('x0_Cida', 3.604154788539334e-06),\n",
       " ('x0_Cip', 1.0747263325545575e-05),\n",
       " ('x0_Cipro', 5.110900003029462e-06),\n",
       " ('x0_Cipro/care', 1.5165455734803168e-05),\n",
       " ('x0_Cipro/care/tcrs', 1.2213805470235006e-05),\n",
       " ('x0_Cipro/government', 5.6373849346773526e-05),\n",
       " ('x0_Clause', 1.2261954513478816e-05),\n",
       " ('x0_Cmcr', 8.463759083213568e-05),\n",
       " ('x0_Cmsr', 0.00022587703748296804),\n",
       " ('x0_Co', 0.00025383913049963265),\n",
       " ('x0_Cobashec', 2.3315960886270914e-05),\n",
       " ('x0_Cocen', 8.622700235750244e-05),\n",
       " ('x0_Cocern', 7.438687138328067e-05),\n",
       " ('x0_Cocu', 2.141850532778256e-06),\n",
       " ('x0_Colonial Government', 2.811031254459875e-06),\n",
       " ('x0_Commu', 0.00017650960960250111),\n",
       " ('x0_Community', 0.000302964757552742),\n",
       " ('x0_Community Bank', 7.276037818604795e-06),\n",
       " ('x0_Compa', 4.227972745504862e-05),\n",
       " ('x0_Company', 5.618791987333633e-06),\n",
       " ('x0_Comune Di Roma', 9.026723854904484e-06),\n",
       " ('x0_Comunedi Roma', 4.965340592324961e-06),\n",
       " ('x0_Comunity Construction Fund', 3.4196626636500544e-06),\n",
       " ('x0_Conce', 0.00016860913142094868),\n",
       " ('x0_Concen', 9.045841245759892e-06),\n",
       " ('x0_Concern', 0.000289828929117168),\n",
       " ('x0_Concern /govern', 2.726505537298003e-06),\n",
       " ('x0_Concern World Wide', 0.00040470946543875585),\n",
       " ('x0_Concern/governm', 1.0057085249789888e-06),\n",
       " ('x0_Cope', 3.5288251112193385e-06),\n",
       " ('x0_Costantine Herman', 1.329716145413267e-06),\n",
       " ('x0_Council', 6.190037659533101e-05),\n",
       " ('x0_Cper', 2.036060691735721e-05),\n",
       " ('x0_Cpps', 1.576021959347163e-05),\n",
       " ('x0_Cpps Mission', 8.2765852185346e-06),\n",
       " ('x0_Cpro', 1.2027892812465089e-05),\n",
       " ('x0_Craelius', 2.0514184180287183e-06),\n",
       " ('x0_Cristan Outrich', 3.6842769279268754e-06),\n",
       " ('x0_Csf', 2.5670044228329158e-06),\n",
       " ('x0_Cspd', 0.00019527153442624513),\n",
       " ('x0_D', 2.8407553462093827e-05),\n",
       " ('x0_D Ct', 4.716054837844374e-06),\n",
       " ('x0_Da Unoperaio Siciliano', 1.5311325176150427e-05),\n",
       " ('x0_Dadid', 3.340155394085603e-05),\n",
       " ('x0_Dadis', 7.500596243504376e-05),\n",
       " ('x0_Dadp', 2.370076436655315e-06),\n",
       " ('x0_Dads', 0.00014337305839713188),\n",
       " ('x0_Dagida', 5.3179970169274815e-06),\n",
       " ('x0_Dak', 2.774378602450385e-05),\n",
       " ('x0_Daldo', 5.382131074094485e-07),\n",
       " ('x0_Danida', 0.0029612904963537893),\n",
       " ('x0_Danida /government', 1.9278808750004135e-05),\n",
       " ('x0_Dar Al Ber', 4.092853948919981e-05),\n",
       " ('x0_Dasiip', 1.401171428262029e-06),\n",
       " ('x0_Dasip', 9.864036303529186e-05),\n",
       " ('x0_Dasp', 3.363685589628572e-05),\n",
       " ('x0_Dasp Ltd', 8.974516081552743e-06),\n",
       " ('x0_Dassip', 2.7900691712698547e-05),\n",
       " ('x0_Dawasco', 2.3846219803815775e-05),\n",
       " ('x0_Dbfpe', 7.854197145745864e-06),\n",
       " ('x0_Dbsp', 1.8015474221492712e-07),\n",
       " ('x0_Dbspe', 6.0407065110674e-05),\n",
       " ('x0_Dct', 5.9254696252817e-05),\n",
       " ('x0_Ddca', 1.1415044314955978e-05),\n",
       " ('x0_Ddp', 3.4653528024821934e-05),\n",
       " ('x0_De', 1.7488124905313552e-05),\n",
       " ('x0_Ded', 0.0005598290101744184),\n",
       " ('x0_Ded Kilo', 6.700663760043458e-06),\n",
       " ('x0_Ded/rwssp', 4.947261625844106e-06),\n",
       " ('x0_Ded_rwsp', 5.417707536720928e-07),\n",
       " ('x0_Denat', 2.5231670663740966e-05),\n",
       " ('x0_Denish', 3.9789519004088534e-06),\n",
       " ('x0_Deogratius Kasima', 6.52376756195549e-06),\n",
       " ('x0_Desk And Chair Foundation', 2.6466286173591098e-05),\n",
       " ('x0_Devon Aid Korogwe', 0.00013664196136286882),\n",
       " ('x0_Dfid', 0.00016199357502908265),\n",
       " ('x0_Dh', 0.0003566201202752579),\n",
       " ('x0_Dhinu', 5.898892796661504e-06),\n",
       " ('x0_Dhv', 0.0009370684382224953),\n",
       " ('x0_Dhv Moro', 5.370393255530272e-05),\n",
       " ('x0_Dhv/gove', 3.857396302017133e-05),\n",
       " ('x0_Dhv\\\\norp', 0.0007312417017712993),\n",
       " ('x0_Dhv\\\\swis', 5.3976796520548025e-06),\n",
       " ('x0_Dimon', 1.8639442953717805e-05),\n",
       " ('x0_Dina', 1.1977779381490316e-06),\n",
       " ('x0_Dioce', 7.470732855633341e-06),\n",
       " ('x0_Diocese Of Geita', 5.0981178587872143e-05),\n",
       " ('x0_Diocese Of Mount Kilimanjaro', 9.375879624406961e-06),\n",
       " ('x0_District Council', 0.002056925167148293),\n",
       " ('x0_District Medical', 1.2710821595898135e-05),\n",
       " ('x0_District Rural Project', 8.658916437937792e-06),\n",
       " ('x0_Diwani', 7.473214969367049e-06),\n",
       " ('x0_Dmd', 4.0304553599919575e-07),\n",
       " ('x0_Dmdd', 0.000418613391344633),\n",
       " ('x0_Dmdd/solider', 2.7608586888737053e-06),\n",
       " ('x0_Dmk', 2.1558516231876812e-05),\n",
       " ('x0_Dmk Anglican', 1.1971937868926561e-06),\n",
       " ('x0_Dmmd', 1.5929528700636522e-06),\n",
       " ('x0_Dmo', 1.7420999656669247e-05),\n",
       " ('x0_Do', 4.8102611710572984e-05),\n",
       " ('x0_Doctor Mwambi', 9.534220659892446e-06),\n",
       " ('x0_Doddea', 1.6054344472626736e-05),\n",
       " ('x0_Dokta Mwandulam', 2.946497207917382e-07),\n",
       " ('x0_Dom', 4.267662261571424e-05),\n",
       " ('x0_Domestic Rural Development Pro', 0.0001299086499924324),\n",
       " ('x0_Domestic Water Supply Project', 1.2999276857217443e-05),\n",
       " ('x0_Dominiki Simwen', 6.41165386621154e-06),\n",
       " ('x0_Doner And Com', 2.7077473399777337e-06),\n",
       " ('x0_Doner And Ded', 4.298993681158745e-06),\n",
       " ('x0_Donor', 0.00033398551694486064),\n",
       " ('x0_Drdp', 1.4543672334296587e-05),\n",
       " ('x0_Drdp Ngo', 4.8634779767427564e-05),\n",
       " ('x0_Drv Na Idara', 4.175099971812694e-06),\n",
       " ('x0_Drwssp', 7.154631974106378e-07),\n",
       " ('x0_Duka', 1.0720900547385919e-05),\n",
       " ('x0_Duwas', 1.811232886374641e-05),\n",
       " ('x0_Dv', 8.018050010693383e-06),\n",
       " ('x0_Dw', 6.173942383562407e-05),\n",
       " ('x0_Dwarf', 6.467681938630806e-07),\n",
       " ('x0_Dwe', 0.0016615193239124097),\n",
       " ('x0_Dwe And Veo', 9.543373858046537e-06),\n",
       " ('x0_Dwe/anglican Church', 1.3866796229603191e-05),\n",
       " ('x0_Dwe/bamboo Projec', 4.2761934733992166e-05),\n",
       " ('x0_Dwe/norad', 0.000193188534624597),\n",
       " ('x0_Dwe/ubalozi Wa Marekani', 3.17215774370447e-06),\n",
       " ('x0_Dwsdp', 1.7625330956632205e-05),\n",
       " ('x0_Dwsp', 0.0012275555405408954),\n",
       " ('x0_Dwssp', 0.0001473088901183631),\n",
       " ('x0_Dwst', 1.1895731887431831e-05),\n",
       " ('x0_Dwt', 1.7197968171540045e-05),\n",
       " ('x0_Ea', 1.6283335786425652e-05),\n",
       " ('x0_Eastmeru Medium School', 5.6534333173772045e-06),\n",
       " ('x0_Eater', 5.748289721531734e-06),\n",
       " ('x0_Ebaha', 0.00012620426513777966),\n",
       " ('x0_Efg', 0.0001290812174875221),\n",
       " ('x0_Egypt', 9.195028702303822e-06),\n",
       " ('x0_Egypt Government', 8.078722956949881e-06),\n",
       " ('x0_El', 4.355977585446883e-06),\n",
       " ('x0_Elct', 2.4778976563119862e-05),\n",
       " ('x0_Embasy Of Japan In Tanzania', 4.978721178447434e-06),\n",
       " ('x0_Engin', 5.7540894800665874e-06),\n",
       " ('x0_Eno', 2.3148423717087884e-05),\n",
       " ('x0_Enyueti', 4.141800918187857e-05),\n",
       " ('x0_Ereto', 4.404455633142373e-05),\n",
       " ('x0_Ermua', 8.925312566997706e-06),\n",
       " ('x0_Erre Kappa', 3.5033329425477722e-06),\n",
       " ('x0_Esawa', 4.442802689467179e-06),\n",
       " ('x0_Eu', 3.5056088919881086e-05),\n",
       " ('x0_Eu/acra', 1.7523545143956458e-06),\n",
       " ('x0_Eung-am Methodist Church', 1.2477366335197233e-05),\n",
       " ('x0_European Union', 6.182271557874118e-05),\n",
       " ('x0_F', 6.157304799025716e-06),\n",
       " ('x0_Fabia', 1.280122041144214e-06),\n",
       " ('x0_Fao', 2.4928950225725073e-06),\n",
       " ('x0_Farm Africa', 3.809122578334056e-05),\n",
       " ('x0_Farm-africa', 5.34790008223494e-06),\n",
       " ('x0_Fathe', 9.117185351357262e-05),\n",
       " ('x0_Father Bonifasi', 0.00014798738992377489),\n",
       " ('x0_Father W', 1.5237738552560672e-06),\n",
       " ('x0_Fdc', 4.5296469147334555e-05),\n",
       " ('x0_Filo', 1.2274910296695157e-06),\n",
       " ('x0_Fin Water', 0.00013970127816915142),\n",
       " ('x0_Fini Water', 0.0015471864955394563),\n",
       " ('x0_Finida German Tanzania Govt', 0.0001910145374992377),\n",
       " ('x0_Finidagermantanzania Govt', 0.00011811679052857243),\n",
       " ('x0_Finland', 0.00020053714347201975),\n",
       " ('x0_Finland Government', 0.00012825702629511005),\n",
       " ('x0_Finn Water', 0.00011850718843136095),\n",
       " ('x0_Finw', 0.0005899485586146952),\n",
       " ('x0_Finwater', 0.00010289498392643093),\n",
       " ('x0_Folac', 1.585400237643434e-06),\n",
       " ('x0_Foreigne', 1.554323364942482e-05),\n",
       " ('x0_Fpct', 7.00211582277806e-05),\n",
       " ('x0_Fpct Church', 8.228382166109698e-06),\n",
       " ('x0_Fpct Mulala', 4.09693241974162e-06),\n",
       " ('x0_Fptc - Pent', 4.53266252623541e-05),\n",
       " ('x0_Franc', 6.8366571537825195e-06),\n",
       " ('x0_France', 1.379276832510362e-05),\n",
       " ('x0_Frankfurt', 7.797500810602105e-06),\n",
       " ('x0_Free Pentecoste Church Of Tanz', 1.3698641871533431e-05),\n",
       " ('x0_Fresh Water Plc England', 7.499582900982323e-06),\n",
       " ('x0_Friedkin Conservation Fund', 7.610085468309027e-06),\n",
       " ('x0_Friend From Un', 8.11387132994034e-07),\n",
       " ('x0_Friends Of Kibara Foundation', 1.2404064802873859e-05),\n",
       " ('x0_Friends Of Ulambo And Mwanhala', 2.7663059088942804e-06),\n",
       " ('x0_Full Gospel Church', 0.0),\n",
       " ('x0_Fw', 0.0009421182381834941),\n",
       " ('x0_G.D&i.D', 1.0612310056163793e-05),\n",
       " ('x0_Ga', 5.5769819342920355e-05),\n",
       " ('x0_Gachuma Ginery', 7.476618765204922e-06),\n",
       " ('x0_Gaica', 8.30388582518693e-05),\n",
       " ('x0_Gain', 3.2295638135788164e-05),\n",
       " ('x0_Game Division', 4.4367563533953696e-06),\n",
       " ('x0_Game Fronti', 1.74537349593447e-05),\n",
       " ('x0_Gdp', 4.703184591014198e-06),\n",
       " ('x0_Geita Goldmain', 1.485004393908617e-05),\n",
       " ('x0_Gen', 6.787491307394484e-05),\n",
       " ('x0_Geochaina', 2.595539123353753e-05),\n",
       " ('x0_Gerald Tuseko Gro', 9.769332333899858e-06),\n",
       " ('x0_German Missionary', 1.7065216190201702e-06),\n",
       " ('x0_Germany', 0.00012980512511408306),\n",
       " ('x0_Germany Cristians', 1.0832923582958095e-05),\n",
       " ('x0_Germany Misionary', 6.920777285583263e-05),\n",
       " ('x0_Germany Republi', 0.0006482645191745711),\n",
       " ('x0_Gesawa', 9.199412364060282e-06),\n",
       " ('x0_Getdsc00', 7.183249110238356e-06),\n",
       " (\"x0_Gil Cafe'church'\", 1.5203466636568214e-05),\n",
       " ('x0_Giz', 4.589761505263618e-05),\n",
       " ('x0_Global Fund', 5.543888067376177e-06),\n",
       " ('x0_Go', 0.0007412903934342463),\n",
       " ('x0_Godii', 2.350004073905457e-06),\n",
       " ('x0_Goldmain', 3.97752630716351e-06),\n",
       " ('x0_Goldwill Foundation', 2.5254416166399327e-06),\n",
       " ('x0_Government', 6.870245095255803e-06),\n",
       " ('x0_Government /tassaf', 1.4069755257686915e-05),\n",
       " ('x0_Government /world Vision', 1.8009972914211797e-05),\n",
       " ('x0_Government Of Tanzania', 0.012834118745904195),\n",
       " ('x0_Government/ Community', 3.614147864687149e-05),\n",
       " ('x0_Government/ World Bank', 2.6385534673367865e-05),\n",
       " ('x0_Government/tassaf', 1.100290324253067e-06),\n",
       " ('x0_Government/tcrs', 1.1804179854109229e-06),\n",
       " ('x0_Gra Na Halmashauri', 1.147371278274595e-05),\n",
       " ('x0_Grazie Franco Lucchini', 4.358528816252621e-06),\n",
       " ('x0_Greec', 9.72935562459224e-06),\n",
       " ('x0_Greinaker', 2.544173114177168e-06),\n",
       " ('x0_Greineker', 1.820403836264445e-05),\n",
       " ('x0_Grumeti', 0.00012614018361312726),\n",
       " ('x0_Gt', 9.370502023557465e-05),\n",
       " ('x0_Gtz', 0.0004982479458882389),\n",
       " ('x0_Gurdians', 8.526617169405733e-06),\n",
       " ('x0_H', 0.00015944376413997756),\n",
       " ('x0_H/w', 1.5016113787043988e-05),\n",
       " ('x0_H4ccp', 2.128235603232723e-05),\n",
       " ('x0_Haam', 1.6270186757047043e-07),\n",
       " ('x0_Haidomu Lutheran Church', 2.589003971628626e-07),\n",
       " ('x0_Halimashau', 1.0178012196677395e-06),\n",
       " ('x0_Halmashauli', 2.72967645160181e-06),\n",
       " ('x0_Halmashaur', 0.00013778717837645873),\n",
       " ('x0_Halmashauri', 9.58760761301694e-05),\n",
       " ('x0_Halmashauri Wil', 9.44407641515108e-06),\n",
       " ('x0_Halmashauri Ya Manispa Tabora', 1.5230797932276937e-05),\n",
       " ('x0_Halmashauri Ya Wilaya', 2.015867024686018e-05),\n",
       " ('x0_Halmashauri Ya Wilaya Sikonge', 0.00034048580125953216),\n",
       " ('x0_Ham', 7.610788896466433e-05),\n",
       " ('x0_Hamref', 0.0),\n",
       " ('x0_Handeni Trunk Main(', 1.0489914924723986e-05),\n",
       " ('x0_Hans', 2.240054635032214e-06),\n",
       " ('x0_Hapa', 3.168541311683789e-06),\n",
       " ('x0_Hapa Singida', 1.729841269459289e-07),\n",
       " ('x0_Happy Watoto Foundation', 0.00010053636626781577),\n",
       " ('x0_Haruna Mpog', 3.0724347053801132e-06),\n",
       " ('x0_Hashi', 3.4358533050326534e-05),\n",
       " ('x0_Hasnan Murig (mbunge)', 4.986501786386352e-09),\n",
       " ('x0_Hasnein Muij Mbunge', 3.3398937267708615e-07),\n",
       " ('x0_Hassan Gulam', 3.4658386277935267e-06),\n",
       " ('x0_Haydom Lutheran Hospital', 5.204545086566876e-06),\n",
       " ('x0_Hdv', 8.585841937301288e-07),\n",
       " ('x0_He', 0.00042767390600536963),\n",
       " ('x0_Healt', 3.0271944410936263e-05),\n",
       " ('x0_Health  Ministry', 1.4083323161839726e-06),\n",
       " ('x0_Hearts Helping Hands.Inc.', 9.905857536517266e-07),\n",
       " ('x0_Henure Dema', 8.637510463714244e-06),\n",
       " ('x0_Hery', 4.711880094755155e-06),\n",
       " ('x0_Hesaw', 3.174991326907292e-05),\n",
       " ('x0_Hesawa', 0.0026371974785438647),\n",
       " ('x0_Hesawwa', 7.886889524496195e-06),\n",
       " ('x0_Hesawz', 4.581271412993613e-05),\n",
       " ('x0_Hesawza', 6.675270229969348e-08),\n",
       " ('x0_Hesswa', 7.001634558860345e-07),\n",
       " ('x0_Hewasa', 7.894747128319635e-05),\n",
       " ('x0_Hez', 2.275867016306423e-07),\n",
       " ('x0_Hhesawa', 2.202770196807235e-05),\n",
       " ('x0_Hiap', 9.837667907360327e-06),\n",
       " ('x0_Hifab', 0.0005649770533770013),\n",
       " ('x0_Hilfe Fur Brunder', 1.0557284325681045e-07),\n",
       " ('x0_Holand', 1.8403532825579035e-06),\n",
       " ('x0_Holla', 1.0326020421280329e-05),\n",
       " ('x0_Holland', 0.0001261790997437087),\n",
       " ('x0_Hongoli', 3.393178017314829e-05),\n",
       " ('x0_Hortanzia', 1.4540543496804355e-05),\n",
       " ('x0_Hospital', 2.5232748515060787e-05),\n",
       " ('x0_Hotels And Loggs Tz Ltd', 1.3301046151594914e-05),\n",
       " ('x0_Hpa', 7.394079085045472e-06),\n",
       " ('x0_Hsw', 0.0005108864737783843),\n",
       " ('x0_Htm', 1.2919104423391078e-06),\n",
       " ('x0_Hw/rc', 3.0234696446757573e-05),\n",
       " ('x0_Hydom Luthelani', 1.1598748444837442e-05),\n",
       " ('x0_I Wash', 5.877359321262164e-05),\n",
       " ('x0_I.E.C', 3.670452952435819e-05),\n",
       " ('x0_Icap', 4.86042178758664e-06),\n",
       " ('x0_Icf', 4.7054114837587745e-08),\n",
       " ('x0_Ics', 0.00012490277403808076),\n",
       " ('x0_Idara Ya Maji', 0.0003339961924984592),\n",
       " ('x0_Idc', 0.00012327872824921752),\n",
       " ('x0_Idea', 1.2600811810294331e-05),\n",
       " ('x0_Idydc', 2.9496663787435886e-05),\n",
       " ('x0_If', 1.7831899242019308e-06),\n",
       " ('x0_Ifad', 9.178660336454949e-05),\n",
       " ('x0_Ifakara', 2.7073024540170375e-05),\n",
       " ('x0_Igolola Community', 2.2432766420004895e-05),\n",
       " ('x0_Ikela Wa', 2.014462900291094e-05),\n",
       " ('x0_Ikeuchi Towels Japan', 3.887067323628221e-07),\n",
       " ('x0_Il', 0.000108968029513489),\n",
       " ('x0_Ilct', 5.429569946055835e-05),\n",
       " ('x0_Ilkeri Village', 3.174043597337948e-05),\n",
       " ('x0_Ilo', 0.00010987168546672665),\n",
       " ('x0_Ilo/undp', 1.985552757102708e-05),\n",
       " ('x0_Ilwilo Community', 9.284451267436878e-07),\n",
       " ('x0_Imf', 4.710410942444034e-05),\n",
       " ('x0_In', 5.325568778205221e-05),\n",
       " ('x0_In Memoria Di Albeto', 3.7827165731445234e-06),\n",
       " ('x0_Incerto', 2.370361676608742e-05),\n",
       " ('x0_Inkinda', 5.375880947062705e-06),\n",
       " ('x0_Insititutiona', 1.9550891698921693e-06),\n",
       " ('x0_Institution', 3.5782259602313845e-05),\n",
       " ('x0_Institutional', 6.715710370542474e-05),\n",
       " ('x0_Insututional', 2.123461101565994e-06),\n",
       " ('x0_International Aid Services', 5.14514573485069e-07),\n",
       " ('x0_Investor', 1.412028823307239e-05),\n",
       " ('x0_Iom', 1.4876330680778593e-05),\n",
       " ('x0_Ir', 0.000289473871154809),\n",
       " ('x0_Iran Gover', 9.686561979288089e-06),\n",
       " ('x0_Irc', 0.0),\n",
       " ('x0_Irevea Sister', 3.80892164347403e-08),\n",
       " ('x0_Irevea Sister Water', 1.9048408079128943e-06),\n",
       " ('x0_Irish Ai', 0.00010470689335274017),\n",
       " ('x0_Irish Government', 1.023982313028608e-05),\n",
       " ('x0_Is', 0.00019969529876290643),\n",
       " ('x0_Isf', 0.00047037694218648155),\n",
       " ('x0_Isf / Tasaff', 4.893479533895336e-06),\n",
       " ('x0_Isf/government', 4.309172483488191e-05),\n",
       " ('x0_Isf/tacare', 2.213241576705354e-05),\n",
       " ('x0_Isingiro Ho', 1.2705294471761189e-05),\n",
       " ('x0_Islam', 1.926344043865388e-05),\n",
       " ('x0_Islamic', 9.478272214667025e-05),\n",
       " ('x0_Islamic Agency Tanzania', 4.030696052490287e-06),\n",
       " ('x0_Islamic Community', 8.100951386267492e-06),\n",
       " ('x0_Islamic Found', 7.156628318795404e-05),\n",
       " ('x0_Islamic Society', 1.1461004493333246e-05),\n",
       " ('x0_Isnashia And', 1.5879650360726598e-08),\n",
       " ('x0_Issa Mohamedi Tumwanga', 4.036425698593816e-06),\n",
       " ('x0_Italian', 1.3371309509724092e-07),\n",
       " ('x0_Italy', 2.105002883407977e-05),\n",
       " ('x0_Italy Government', 1.2767093013788596e-05),\n",
       " ('x0_Jafary Mbaga', 7.879679449977052e-07),\n",
       " ('x0_Jaica', 0.00057795154967348),\n",
       " ('x0_Jamal', 4.164836039757013e-06),\n",
       " ('x0_Jamal Abdallah', 5.820192059406177e-06),\n",
       " ('x0_Japan', 0.00014077757335362708),\n",
       " ('x0_Japan Aid', 5.175396906573417e-06),\n",
       " ('x0_Japan Embassy', 7.033571176034512e-06),\n",
       " ('x0_Japan Food', 2.9791627553639378e-06),\n",
       " ('x0_Japan Food Aid', 0.0),\n",
       " ('x0_Japan Government', 2.82220249917045e-06),\n",
       " ('x0_Jbg', 5.35167512965068e-05),\n",
       " ('x0_Jeica', 5.9497100678675225e-05),\n",
       " ('x0_Jeshi La Wokovu', 5.752846018193148e-05),\n",
       " ('x0_Jeshi La Wokovu [cida]', 1.2883857054590128e-05),\n",
       " ('x0_Jgb', 1.6883272623177313e-05),\n",
       " ('x0_Jica', 0.0005529367255206337),\n",
       " ('x0_Jika', 4.350206533338049e-05),\n",
       " ('x0_Jimbo Fund', 3.4008474198783956e-05),\n",
       " ('x0_Jimmy', 1.4630309672315303e-06),\n",
       " ('x0_Jipa', 2.4547948010809805e-05),\n",
       " ('x0_John Fund', 8.865212083956944e-07),\n",
       " ('x0_Ju', 2.367287263280832e-07),\n",
       " ('x0_Judge Mchome', 4.6143580870401733e-07),\n",
       " ('x0_Juhibu', 2.191364072835542e-05),\n",
       " ('x0_Jumanne Siabo', 2.07595737919535e-05),\n",
       " ('x0_Jwtz', 1.0742384079736346e-06),\n",
       " ('x0_K', 3.5496773594568284e-06),\n",
       " ('x0_Ka', 0.00013487977471347967),\n",
       " ('x0_Kaaya', 5.878069716492952e-06),\n",
       " ('x0_Kadp', 1.7131620752596514e-05),\n",
       " ('x0_Kadres Ngo', 3.5197989280184534e-05),\n",
       " ('x0_Kaemp', 0.0002210471696863743),\n",
       " ('x0_Kagera Mine', 3.280378961329047e-06),\n",
       " ('x0_Kagunguli Secondary', 8.924381927558427e-06),\n",
       " ('x0_Kahema', 1.7143115903457126e-06),\n",
       " ('x0_Kajima', 1.1717966193633694e-06),\n",
       " ('x0_Kalebejo Parish', 1.7430227911555712e-06),\n",
       " ('x0_Kalitasi', 2.5706348402942036e-05),\n",
       " ('x0_Kalta', 9.311097866440622e-06),\n",
       " ('x0_Kamama', 3.130037290014837e-05),\n",
       " ('x0_Kamata Project', 5.122371092249499e-06),\n",
       " ('x0_Kambi Migoko', 8.207913112348685e-06),\n",
       " ('x0_Kando', 0.0),\n",
       " ('x0_Kanis', 7.743548676489611e-07),\n",
       " ('x0_Kanisa', 3.1532177549593106e-05),\n",
       " ('x0_Kanisa Katoliki', 4.715036747490836e-06),\n",
       " ('x0_Kanisa Katoliki Lolovoni', 0.00016483344407140083),\n",
       " ('x0_Kanisa La Menonite', 0.00036998902730238543),\n",
       " ('x0_Kanisa La Mitume', 3.028303736715084e-06),\n",
       " ('x0_Kanisa La Tag', 3.925940491428164e-06),\n",
       " ('x0_Kapelo', 9.701274110438619e-08),\n",
       " ('x0_Karadea Ngo', 3.0631221151086354e-05),\n",
       " ('x0_Kashwas', 2.155972362409466e-05),\n",
       " ('x0_Kassim', 0.0),\n",
       " ('x0_Kata', 3.799815740986511e-06),\n",
       " ('x0_Kauzeni', 1.0918294247080258e-06),\n",
       " ('x0_Kayempu Ltd', 3.908417058324199e-07),\n",
       " ('x0_Kdc', 7.350537011307092e-06),\n",
       " ('x0_Kdpa', 1.242276423536856e-06),\n",
       " ('x0_Kdrdp Ngo', 3.6160448821605718e-06),\n",
       " ('x0_Kegocha', 3.480423653455054e-06),\n",
       " ('x0_Kenyans Company', 2.919089424923045e-06),\n",
       " ('x0_Kerebuka', 1.3360600621607358e-05),\n",
       " ('x0_Kfw', 2.3316398900046124e-05),\n",
       " ('x0_Ki', 0.000194886434117293),\n",
       " ('x0_Kibaha Independent School', 1.3351589556390292e-05),\n",
       " ('x0_Kibaha Town Council', 0.0002553439125676827),\n",
       " ('x0_Kibo Brewaries', 3.731026195235254e-05),\n",
       " ('x0_Kidep', 0.00015485709794675528),\n",
       " ('x0_Kidika', 0.0),\n",
       " ('x0_Kidp', 0.0001536301205433726),\n",
       " ('x0_Kigoma Municipal', 1.738361201522664e-06),\n",
       " ('x0_Kigoma Municipal Council', 2.7131072171987043e-06),\n",
       " ('x0_Kigwa', 1.420174646230753e-05),\n",
       " ('x0_Kijij', 3.2952688050636705e-06),\n",
       " ('x0_Kijiji', 1.8037403821675765e-05),\n",
       " ('x0_Kikom', 1.724784999068322e-05),\n",
       " ('x0_Kikundi Cha Akina Mama', 1.1917907042968356e-05),\n",
       " ('x0_Kilimarondo Parish', 4.613361808207164e-06),\n",
       " ('x0_Kilimo', 1.842968818969762e-06),\n",
       " ('x0_Kilindi District Co', 0.000291921418138747),\n",
       " ('x0_Kiliwater', 0.000312571100986384),\n",
       " ('x0_Killflora', 9.88519312574041e-05),\n",
       " ('x0_Kilol', 3.4061460714475377e-06),\n",
       " ('x0_Kilomber', 8.425939978655558e-05),\n",
       " ('x0_Kilwater', 9.751217723835012e-05),\n",
       " ('x0_Kimkuma', 9.522098398602996e-06),\n",
       " ('x0_Kinapa', 4.72331131061125e-05),\n",
       " ('x0_Kindoroko Water Project', 2.7692424819052347e-05),\n",
       " ('x0_Kingupira S', 5.162135735044979e-05),\n",
       " ('x0_Kipo Potry', 1.106263202025827e-06),\n",
       " ('x0_Kirde', 0.00013256074623150174),\n",
       " ('x0_Kirdep', 2.8352920900338952e-05),\n",
       " ('x0_Kiuma', 0.0001195475722363132),\n",
       " ('x0_Kiwanda Cha Ngozi', 4.570678169098744e-06),\n",
       " ('x0_Kiwanda Cha Samaki', 1.840198794503835e-05),\n",
       " ('x0_Kiwanda Cha Tangawizi', 2.443991184209557e-06),\n",
       " ('x0_Kizego Jumaa', 6.051933999781119e-06),\n",
       " ('x0_Kizenga', 4.327861950388731e-07),\n",
       " ('x0_Kkkt', 0.0012507367839174558),\n",
       " ('x0_Kkkt Canal', 1.8087033309919793e-06),\n",
       " ('x0_Kkkt Church', 3.820168547498562e-05),\n",
       " ('x0_Kkkt Dme', 7.756843848680606e-07),\n",
       " ('x0_Kkkt Leguruki', 2.5312775271684267e-06),\n",
       " ('x0_Kkkt Mareu', 1.1974134721678395e-07),\n",
       " ('x0_Kkkt Ndrumangeni', 1.910759935927641e-06),\n",
       " ('x0_Kkkt-dioces Ya Pare', 0.00013259052570647364),\n",
       " ('x0_Kkkt_makwale', 0.00017811788152486533),\n",
       " ('x0_Kmcl', 0.00010647709500147174),\n",
       " ('x0_Kmt', 1.1915041252401877e-05),\n",
       " ('x0_Koica', 3.056729971458115e-05),\n",
       " ('x0_Koico', 1.491105594499645e-06),\n",
       " ('x0_Kolopin', 1.4161202101034478e-06),\n",
       " ('x0_Kombe Foundation', 2.4440926260682236e-05),\n",
       " ('x0_Kome Parish', 2.5297049750977587e-05),\n",
       " ('x0_Kondo Primary', 2.544241286008663e-06),\n",
       " ('x0_Konoike', 4.915115952645148e-07),\n",
       " ('x0_Kopwe Khalifa', 1.1459696510286912e-05),\n",
       " ('x0_Korea', 1.5293729727566877e-05),\n",
       " ('x0_Krp', 7.416370996190221e-06),\n",
       " ('x0_Kuamu', 2.2568889739512957e-05),\n",
       " ('x0_Kuji Foundation', 3.2840638698187587e-06),\n",
       " ('x0_Kurrp Ki', 1.7463093650042473e-06),\n",
       " ('x0_Kuwait', 0.0003900851409833532),\n",
       " ('x0_Kuwasa', 0.00018209328238262226),\n",
       " ('x0_Kwa Ditriki Cho', 5.29252202324703e-06),\n",
       " ('x0_Kwa Makala', 2.4705244207138792e-05),\n",
       " ('x0_Kwa Mzee Waziri', 5.535174852396397e-06),\n",
       " ('x0_Kwamdulu Estate', 1.3365608045891574e-05),\n",
       " ('x0_Kwang-nam Middle-school', 3.4840817048390216e-06),\n",
       " ('x0_Kwik', 3.3847329198653234e-06),\n",
       " ('x0_Kwikwiz', 7.057707991020113e-06),\n",
       " ('x0_Kyela Council', 9.420557892794912e-06),\n",
       " ('x0_L', 1.2743321141912003e-05),\n",
       " ('x0_Laizer', 4.825940082528456e-07),\n",
       " ('x0_Lake Tanganyika', 6.401900038189192e-06),\n",
       " ('x0_Lake Tanganyika Basin', 5.782147209983614e-07),\n",
       " ('x0_Lake Tanganyika Prodap', 1.0742889799003396e-07),\n",
       " ('x0_Lamp', 0.00019445341322640736),\n",
       " ('x0_Laramatak', 3.903705568907123e-06),\n",
       " ('x0_Latfu', 1.5672712994954086e-06),\n",
       " ('x0_Lawate Fuka Water Suppl', 5.140374641480406e-05),\n",
       " ('x0_Lawatefuka Water Supply', 0.0002343779485698271),\n",
       " ('x0_Lc', 2.340271624055108e-06),\n",
       " ('x0_Lcdg', 2.6991987881856646e-05),\n",
       " ('x0_Lcgd', 4.3192822043482414e-05),\n",
       " ('x0_Ldcdd', 3.712978703759502e-05),\n",
       " ('x0_Ldcgd', 1.3996215110790792e-05),\n",
       " (\"x0_Lee Kang Pyung's Family\", 2.949906621612496e-05),\n",
       " ('x0_Lench', 2.2910312213333528e-05),\n",
       " ('x0_Lench Taramai', 1.665834329419372e-05),\n",
       " ('x0_Leopad Abeid', 8.686155102750299e-07),\n",
       " ('x0_Lg', 1.5154430384791871e-05),\n",
       " ('x0_Lga', 0.000828169956772751),\n",
       " ('x0_Lgcbg', 2.223839829762964e-06),\n",
       " ('x0_Lgcd', 3.4268938175979054e-06),\n",
       " ('x0_Lgcdg', 0.0001401330508300766),\n",
       " ('x0_Lgcgd', 1.2819166034411474e-05),\n",
       " ('x0_Lgdbg', 4.1534099523275573e-07),\n",
       " ('x0_Lgdcg', 8.600445237867744e-06),\n",
       " ('x0_Lidep', 1.3580423202883196e-06),\n",
       " ('x0_Lifetime', 3.252643626163844e-05),\n",
       " ('x0_Lion Clu', 1.5426758650559108e-06),\n",
       " ('x0_Lions', 6.310034410535283e-06),\n",
       " ('x0_Lions C', 1.2915851607605126e-05),\n",
       " ('x0_Lions Club', 1.766411850500439e-05),\n",
       " ('x0_Lions Club Kilimanjaro', 1.4992339982476769e-05),\n",
       " ('x0_Lips', 5.7173075808528776e-05),\n",
       " ('x0_Lisa', 6.957880817092627e-06),\n",
       " ('x0_Liuwassa', 6.310137367150884e-06),\n",
       " ('x0_Livin', 3.420706874997724e-05),\n",
       " ('x0_Living Water International', 5.0141994264662775e-05),\n",
       " ('x0_Liz', 2.1131660324982472e-08),\n",
       " ('x0_Local', 3.1744998133329386e-05),\n",
       " ('x0_Loliondo Parish', 9.998966979203715e-06),\n",
       " ('x0_Loliondo Secondary', 5.926321528555015e-06),\n",
       " ('x0_Losaa-kia Water Supply', 9.913621248482935e-05),\n",
       " ('x0_Losakia Water Supply', 1.9698138107613086e-06),\n",
       " ('x0_Lotary Club', 1.6023371256272014e-05),\n",
       " ('x0_Lotary International', 1.6698481577868005e-05),\n",
       " ('x0_Lottery', 5.516885711352854e-07),\n",
       " ('x0_Lottery Club', 1.452226597938871e-05),\n",
       " ('x0_Louise Elucas Sala', 1.4678393161125778e-05),\n",
       " ('x0_Lowasa', 8.076683998563651e-05),\n",
       " ('x0_Luchelegu Primary School', 2.4840019748348657e-05),\n",
       " ('x0_Luka', 8.253546007387695e-06),\n",
       " ('x0_Luke Samaras Ltd', 2.261928948749002e-06),\n",
       " ('x0_Lungwe', 2.595717726530115e-06),\n",
       " ('x0_Lusajo', 3.333269115815015e-06),\n",
       " ('x0_Luthe', 2.5074069212682407e-05),\n",
       " ('x0_Lutheran', 3.4257871991457306e-05),\n",
       " ('x0_Lutheran Church', 2.885177314240154e-05),\n",
       " ('x0_Lvemp', 1.5836301626984578e-05),\n",
       " ('x0_Lvia', 0.00030562948398311213),\n",
       " ('x0_Lwf', 1.0601456210266908e-05),\n",
       " ('x0_Lwi', 9.396840983515064e-05),\n",
       " ('x0_Lwi & Central Government', 6.642212530978586e-07),\n",
       " ('x0_Lwiji Italy', 2.0764891256946905e-06),\n",
       " ('x0_M', 1.115013886387812e-06),\n",
       " ('x0_Ma', 1.0765592357769055e-05),\n",
       " ('x0_Maajabu Pima', 2.3480896807819814e-05),\n",
       " ('x0_Maashumu Mohamed', 5.758788008802003e-06),\n",
       " ('x0_Mac', 1.3616769275792901e-05),\n",
       " ('x0_Madaraweshi', 4.127293673001977e-06),\n",
       " ('x0_Madra', 4.201219162011533e-06),\n",
       " ('x0_Mafwimbo', 1.9679549564369475e-05),\n",
       " ('x0_Magadini Makiwaru Water', 3.4570710660887997e-06),\n",
       " ('x0_Magadini-makiwaru Water', 0.00039232314775959767),\n",
       " ('x0_Magani', 7.229192088482523e-07),\n",
       " ('x0_Magereza', 1.3022389126190783e-05),\n",
       " ('x0_Magoma Adp', 1.2117620977897729e-05),\n",
       " ('x0_Magu Food Security', 2.9513897320768245e-06),\n",
       " ('x0_Magul', 5.796116138635543e-07),\n",
       " ('x0_Mahemba', 4.849324749391568e-06),\n",
       " ('x0_Mahita', 1.914822797250028e-05),\n",
       " ('x0_Maji Mugumu', 6.992712881383602e-05),\n",
       " ('x0_Maju Mugumu', 3.834433390574003e-06),\n",
       " ('x0_Makanga', 1.4249732959108509e-06),\n",
       " ('x0_Makanya Sisal Estate', 2.1050639130625515e-06),\n",
       " ('x0_Makapuchini', 2.086753342587285e-06),\n",
       " ('x0_Makli', 6.622158035138381e-06),\n",
       " ('x0_Makombo', 2.2062293440835212e-05),\n",
       " ('x0_Makona', 5.747049073508235e-06),\n",
       " ('x0_Makondakonde Water Population', 7.316296215156646e-06),\n",
       " ('x0_Makonde', 3.956905609113603e-06),\n",
       " ('x0_Makonde Water Population', 0.0001212546209717761),\n",
       " ('x0_Makonde Water Supply', 2.749778519453305e-05),\n",
       " ('x0_Makonder', 6.710900017350989e-06),\n",
       " ('x0_Makori', 7.557471049763893e-06),\n",
       " ('x0_Makoye Masanzu', 4.332589622591642e-05),\n",
       " ('x0_Makundya', 1.3646804404937542e-06),\n",
       " ('x0_Makuru', 4.735406500885861e-06),\n",
       " ('x0_Makusa', 3.4518132464940465e-06),\n",
       " ('x0_Malec', 5.832423501485591e-07),\n",
       " ('x0_Maliasili', 5.069318379220103e-06),\n",
       " ('x0_Malola', 2.032875502847717e-06),\n",
       " ('x0_Mama Ku', 1.2852312804093619e-06),\n",
       " ('x0_Mama Mery Nagu', 6.976347799325767e-07),\n",
       " ('x0_Mamad', 3.37497480313094e-05),\n",
       " ('x0_Mamlaka Ya Maji Ngara', 2.7189397328738867e-05),\n",
       " ('x0_Mamvua Kakungu', 4.75557112805832e-06),\n",
       " ('x0_Mango Tree', 1.151772460082562e-05),\n",
       " ('x0_Manyota Primary School', 2.4969479471034055e-07),\n",
       " ('x0_Manyovu Agriculture Institute', 0.0),\n",
       " ('x0_Marafip', 0.0005019726151550293),\n",
       " ('x0_Marke', 7.222063020167494e-06),\n",
       " ('x0_Maro', 1.4624959620585142e-06),\n",
       " ('x0_Maseka Community', 1.8313227617920584e-05),\n",
       " ('x0_Masese', 3.333042703206666e-06),\n",
       " ('x0_Mashaka', 1.909069637655499e-05),\n",
       " ('x0_Masista', 2.9544395484701803e-06),\n",
       " ('x0_Maswi Drilling Co. Ltd', 5.811475678551008e-06),\n",
       " ('x0_Mataro', 2.515559704391553e-06),\n",
       " ('x0_Matata Selemani', 1.1675005983113125e-05),\n",
       " ('x0_Matimbwa Sec', 1.9265313920313693e-05),\n",
       " ('x0_Matogoro', 4.571200761501248e-06),\n",
       " ('x0_Mavuno Ngo', 2.761296662929636e-05),\n",
       " ('x0_Maxavella', 9.68872381294521e-06),\n",
       " ('x0_Mayiro', 2.1552887619446223e-06),\n",
       " ('x0_Mazaro Kabula', 1.0271366991203178e-06),\n",
       " ('x0_Mbeje', 3.1788945307659033e-06),\n",
       " ('x0_Mbiuwasa', 2.2580802562962652e-05),\n",
       " ('x0_Mboma', 7.923933718918166e-06),\n",
       " ('x0_Mbozi District Council', 3.351301679450855e-05),\n",
       " ('x0_Mbozi Hospital', 3.036619895590328e-06),\n",
       " ('x0_Mbozi Secondary School', 5.41242984002125e-06),\n",
       " ('x0_Mbunge', 3.7829740240395564e-05),\n",
       " ('x0_Mbwana Omari', 2.2452870842726826e-05),\n",
       " ('x0_Mbwiro', 4.5460887618765397e-07),\n",
       " ('x0_Mchukwi Hos', 1.9941978617583787e-05),\n",
       " ('x0_Md', 0.0001514050948431511),\n",
       " ('x0_Mdc', 9.460820973225362e-05),\n",
       " ('x0_Mdgwc', 3.59816699503392e-05),\n",
       " ('x0_Mdrdp', 5.610899375351827e-05),\n",
       " ('x0_Meco', 5.817060653085495e-06),\n",
       " ('x0_Medicine', 3.542160710335044e-05),\n",
       " ('x0_Meko Balo', 6.278862075153739e-07),\n",
       " ('x0_Mem', 7.556555853119854e-05),\n",
       " ('x0_Member Of Parliament', 1.4260063406152625e-05),\n",
       " ('x0_Member Of Perliament Ahmed Ali', 7.730492827823543e-08),\n",
       " ('x0_Menon', 2.751557152497897e-05),\n",
       " ('x0_Meru Concrete', 1.6511416835061438e-06),\n",
       " ('x0_Methodist Church', 3.5885946698427107e-07),\n",
       " ('x0_Mfuko Wa Jimbo', 6.64501713514208e-05),\n",
       " ('x0_Mfuko Wa Jimbo La Magu', 1.2883201117386994e-06),\n",
       " ('x0_Mganga', 3.1130065466589644e-06),\n",
       " ('x0_Mgaya', 1.2361017373939895e-06),\n",
       " ('x0_Mgaya Masese', 6.188140588405824e-07),\n",
       " ('x0_Mgm', 2.0834408852137127e-05),\n",
       " ('x0_Mh An', 0.000210976440880426),\n",
       " ('x0_Mh Kapuya', 1.535832203874018e-05),\n",
       " ('x0_Mh.Chiza', 8.751680222822306e-07),\n",
       " ('x0_Mh.J S Sumari', 4.092819979136575e-06),\n",
       " ('x0_Mheza Distric Counc', 1.7854202957243516e-05),\n",
       " ('x0_Mhoranzi', 1.8667522432843641e-06),\n",
       " ('x0_Mhuzu', 7.456321441591751e-06),\n",
       " ('x0_Mi', 6.236913422156442e-05),\n",
       " ('x0_Miab', 2.2086019968407145e-06),\n",
       " ('x0_Mianz', 3.4659700648231845e-06),\n",
       " ('x0_Mikumi G', 1.9929130481990618e-05),\n",
       " ('x0_Milenia', 1.2079345674150834e-05),\n",
       " ('x0_Mileniam Project', 0.00019999290770416231),\n",
       " ('x0_Millenium', 3.191237554141168e-05),\n",
       " ('x0_Minis', 1.528851143895111e-05),\n",
       " ('x0_Ministry Of Education', 7.090906134554217e-06),\n",
       " ('x0_Ministry Of Water', 0.0031388900106696597),\n",
       " ('x0_Minjingu', 5.2076400246932054e-05),\n",
       " ('x0_Misana George', 1.7608942231600385e-05),\n",
       " ('x0_Misheni', 3.7947909647458874e-06),\n",
       " ('x0_Misri Government', 2.4083020059251975e-05),\n",
       " ('x0_Missi', 8.115883445087547e-05),\n",
       " ('x0_Missio', 1.021827076897757e-08),\n",
       " ('x0_Mission', 0.0005903196014374247),\n",
       " ('x0_Missionaries', 3.8734253799973326e-05),\n",
       " ('x0_Missionary', 1.54026572918534e-05),\n",
       " ('x0_Miziriol', 5.339101087698306e-05),\n",
       " ('x0_Mkinga  Distric Cou', 0.0001023202732344646),\n",
       " ('x0_Mkinga Distric Coun', 0.0006109617311025593),\n",
       " ('x0_Mkulima', 1.8738037452609307e-06),\n",
       " ('x0_Mkuluku', 2.6002634173215084e-06),\n",
       " ('x0_Mkurugenzi', 8.4696565666516e-06),\n",
       " ('x0_Mkuyu', 6.985562485400778e-06),\n",
       " ('x0_Mmanya Abdallah', 1.6570298137908694e-05),\n",
       " ('x0_Mmem', 1.9533513842334256e-05),\n",
       " ('x0_Mmg Gold Mine', 1.9618096972184254e-05),\n",
       " ('x0_Mnyambe', 2.4037693865833613e-07),\n",
       " ('x0_Mnyamisi Jumaa', 4.660172536559605e-06),\n",
       " ('x0_Morad', 1.0086507817708354e-06),\n",
       " ('x0_Moradi', 8.169829048668835e-06),\n",
       " ('x0_Moravian', 2.1958187906687174e-05),\n",
       " ('x0_Moroil', 1.0081997557949613e-05),\n",
       " ('x0_Morovian', 2.2797476810886105e-05),\n",
       " ('x0_Morovian Church', 4.528273635031714e-05),\n",
       " ('x0_Moses', 3.2313046465453164e-06),\n",
       " ('x0_Moslem Foundation', 5.425591312907271e-06),\n",
       " ('x0_Mosque', 3.505585073682111e-05),\n",
       " ('x0_Mosqure', 3.267563349875124e-06),\n",
       " ('x0_Motiba Manyanya', 1.97021268116469e-06),\n",
       " ('x0_Motiba Wambura', 7.674423488890971e-06),\n",
       " ('x0_Mow', 1.059546241304615e-05),\n",
       " ('x0_Mp', 2.4224733936696916e-05),\n",
       " ('x0_Mp Mloka', 0.0),\n",
       " ('x0_Mp Mzeru', 1.5439906000337716e-05),\n",
       " ('x0_Mrtc', 2.361812215325921e-08),\n",
       " ('x0_Ms', 0.0001641019592494933),\n",
       " ('x0_Msabi', 5.730692658869784e-05),\n",
       " ('x0_Msf', 4.199364996659399e-05),\n",
       " ('x0_Msf/tacare', 1.65821478643328e-05),\n",
       " ('x0_Msigw', 4.7172209984325895e-06),\n",
       " ('x0_Msigwa', 0.0),\n",
       " ('x0_Msiki', 1.780100026932718e-06),\n",
       " ('x0_Msikiti', 4.339391829384762e-05),\n",
       " ('x0_Msikiti Masji', 1.523742313888194e-06),\n",
       " ('x0_Msikitini', 2.359784821752814e-06),\n",
       " ('x0_Msudi', 5.421137627460118e-06),\n",
       " ('x0_Mtambo', 2.1820617924166535e-06),\n",
       " ('x0_Mtc', 3.900131942147973e-06),\n",
       " ('x0_Mtewe', 1.562344598786385e-05),\n",
       " ('x0_Mtibwa S', 2.224443573634286e-05),\n",
       " ('x0_Mtuwasa', 1.008778321167544e-05),\n",
       " ('x0_Mtuwasa And Community', 3.014400910886082e-07),\n",
       " ('x0_Muhameid Na', 2.6814465782324888e-05),\n",
       " ('x0_Muhindi', 9.460786579991626e-06),\n",
       " ('x0_Muislam', 1.0918863397378679e-05),\n",
       " ('x0_Municipal Council', 4.913145948563183e-07),\n",
       " ('x0_Musilim Agency', 1.9174227953554863e-05),\n",
       " ('x0_Muslim Society', 1.7349931483846368e-05),\n",
       " ('x0_Muslim World', 9.662799124138065e-08),\n",
       " ('x0_Muslimehefen International', 4.399209260662473e-06),\n",
       " ('x0_Muslims', 2.162551938830201e-05),\n",
       " ('x0_Muslimu Society(shia)', 1.6168985559339304e-05),\n",
       " ('x0_Muwasa', 6.5624650077641746e-06),\n",
       " ('x0_Muwsa', 7.238230453988089e-05),\n",
       " ('x0_Mwakalinga', 1.8540885781914661e-06),\n",
       " ('x0_Mwalimu  Maneromango Muhenzi', 6.912948307785073e-06),\n",
       " ('x0_Mwamama', 1.068794963513948e-05),\n",
       " ('x0_Mwamvita Rajabu', 4.423021705063912e-07),\n",
       " ('x0_Mwanaisha Mwidadi', 1.0196495304884479e-05),\n",
       " ('x0_Mwanamisi Ally', 3.459369733416257e-06),\n",
       " ('x0_Mwanga Town Water Authority', 9.288910548954967e-07),\n",
       " ('x0_Mwanza', 8.649988852328567e-06),\n",
       " ('x0_Mwaya Mn', 2.9462571583343407e-05),\n",
       " ('x0_Mwelia Estate', 1.4427584780793372e-05),\n",
       " ('x0_Mwigicho', 8.475406978704304e-06),\n",
       " ('x0_Mwingereza', 5.575956125442066e-06),\n",
       " ('x0_Mwinjuma Mzee', 1.426019109781904e-05),\n",
       " ('x0_Mwita Lucas', 3.970544656120638e-06),\n",
       " ('x0_Mwita Machota', 1.2567618051931212e-06),\n",
       " ('x0_Mwita Mahiti', 5.284459540579785e-06),\n",
       " ('x0_Mwl. Nyerere Sec. School', 2.7711985575083432e-05),\n",
       " ('x0_Mws', 7.103545626499906e-05),\n",
       " ('x0_Mzee Don', 4.6398102876601877e-07),\n",
       " ('x0_Mzee Lesilali', 4.488612003226046e-07),\n",
       " ('x0_Mzee Mabena', 5.01664067136454e-06),\n",
       " ('x0_Mzee Ngwatu', 2.4502903049118734e-06),\n",
       " ('x0_Mzee Omari', 8.971931453324897e-06),\n",
       " ('x0_Mzee Salum Bakari Darus', 1.5647394270176797e-05),\n",
       " ('x0_Mzee Shindika', 1.1491329411461906e-05),\n",
       " ('x0_Mzee Waziri Tajari', 2.0303593415985447e-06),\n",
       " ('x0_Mzee Yassin Naya', 4.685487542889443e-07),\n",
       " ('x0_Mzinga A', 2.6656216230621524e-06),\n",
       " ('x0_Mzung', 1.4159649528667352e-05),\n",
       " ('x0_Mzungu Paul', 2.7892817139623713e-05),\n",
       " ('x0_Nado', 8.085317870456366e-06),\n",
       " ('x0_Namungo Miners', 1.667309417570755e-05),\n",
       " ('x0_Nassan', 1.6631914870477922e-05),\n",
       " ('x0_Nassor Fehed', 6.275455287651402e-06),\n",
       " ('x0_Natherland', 4.5208400518061235e-06),\n",
       " ('x0_Natio', 2.294662802391581e-06),\n",
       " ('x0_National Park', 3.01114972138935e-07),\n",
       " ('x0_National Rural', 0.00019209033912593278),\n",
       " ('x0_National Rural (wb)', 6.278499242958703e-07),\n",
       " ('x0_National Rural And Hfa', 1.531735180833611e-05),\n",
       " ('x0_Nazalet Church', 7.767859253129502e-07),\n",
       " ('x0_Nazaleti', 3.49566308120402e-06),\n",
       " ('x0_Nazareth Church', 2.315189741464958e-05),\n",
       " ('x0_Ncaa', 8.504625122262706e-05),\n",
       " ('x0_Nchagwa', 3.912256502164332e-06),\n",
       " ('x0_Ncs', 1.2511661559662464e-06),\n",
       " ('x0_Nddp', 1.7196879889877883e-05),\n",
       " ('x0_Ndm', 8.11285140963786e-06),\n",
       " ('x0_Ndorobo Tours', 5.528537989754915e-06),\n",
       " ('x0_Ndrdp', 0.0002267531701516736),\n",
       " ('x0_Nduku Village', 9.885651030181154e-07),\n",
       " ('x0_Neemia Mission', 1.1860711344841112e-05),\n",
       " ('x0_Nerthlands', 4.118765047722534e-06),\n",
       " ('x0_Nethalan', 0.0003028373809893052),\n",
       " ('x0_Nethe', 9.384094585893653e-05),\n",
       " ('x0_Netherla', 1.2961698002486776e-06),\n",
       " ('x0_Netherland', 3.893784877934877e-06),\n",
       " ('x0_Netherlands', 0.00046967300589051425),\n",
       " ('x0_Ngiresi Village Community', 4.2698418744268735e-06),\n",
       " ('x0_Ngos', 7.360036726313531e-06),\n",
       " ('x0_Ngumi', 6.99482915961337e-06),\n",
       " ('x0_Nimrodi Mkono[mb]', 1.4030719353233137e-05),\n",
       " ('x0_Nirad', 3.2219599648582913e-07),\n",
       " ('x0_Nk', 1.4717902784414311e-05),\n",
       " ('x0_No', 0.00017325658895971931),\n",
       " ('x0_Norad', 0.0012969629654475106),\n",
       " ('x0_Norad /government', 7.652799976810642e-05),\n",
       " ('x0_Norad/ Kidep', 9.414025454551612e-05),\n",
       " ('x0_Norad/ Tassaf', 2.1257003936632734e-05),\n",
       " ('x0_Norad/ Tassaf Ii', 1.2544316324338494e-05),\n",
       " ('x0_Norad/government', 4.639370166184839e-06),\n",
       " ('x0_Norad/rudep', 1.2992420301822351e-05),\n",
       " ('x0_Norani', 3.371437865207996e-07),\n",
       " ('x0_Nordic', 1.1508504624499377e-05),\n",
       " ('x0_Norway Aid', 1.1538575727799586e-06),\n",
       " ('x0_Noshad', 2.49185500435783e-05),\n",
       " ('x0_Noshadi', 1.933198457947314e-06),\n",
       " ('x0_Not Known', 0.00018586184108077745),\n",
       " ('x0_Nrwssp', 6.886814168514143e-07),\n",
       " ('x0_Nsc', 4.606317041307526e-05),\n",
       " ('x0_Nwssp', 2.8764594637964114e-07),\n",
       " ('x0_Nyabarongo Kegoro', 3.249221123346858e-07),\n",
       " ('x0_Nyabibuye Islamic Center', 3.41663321254611e-07),\n",
       " ('x0_Nyahale', 4.7186914870718075e-07),\n",
       " ('x0_Nyamasagi', 5.51408703275387e-06),\n",
       " ('x0_Nyamingu Subvillage', 9.52302374041492e-07),\n",
       " ('x0_Nyamongo Gold Mining', 4.455758068291176e-06),\n",
       " ('x0_Nyamuhanga Maro', 1.4236919360002617e-06),\n",
       " ('x0_Nyeisa', 5.5318484538369164e-06),\n",
       " ('x0_O', 0.0),\n",
       " (\"x0_Oak'zion' And Bugango B' Commu\", 3.6958631380334887e-06),\n",
       " ('x0_Obadia', 1.102110467525044e-07),\n",
       " ('x0_Obc', 1.9151407048023505e-05),\n",
       " ('x0_Oda', 2.305611942155783e-07),\n",
       " ('x0_Oikos E .Africa/european Union', 2.83801829857241e-07),\n",
       " ('x0_Oikos E.Africa/ European Union', 9.74315034749464e-08),\n",
       " ('x0_Oikos E.Africa/european Union', 1.4752371093232204e-05),\n",
       " ('x0_Oikos E.Afrika', 0.00039565858809831637),\n",
       " ('x0_Ola', 2.8311290864204874e-05),\n",
       " ('x0_Old Nyika Company', 1.99587474490006e-06),\n",
       " ('x0_Oldonyolengai', 4.2202815895274174e-05),\n",
       " ('x0_Olgilai Village Community', 2.9804504542846902e-05),\n",
       " ('x0_Olumuro', 9.288745144662854e-06),\n",
       " ('x0_Omar Ally', 3.6510084177243057e-06),\n",
       " ('x0_Omar Rafael', 2.3773861783755214e-06),\n",
       " ('x0_Omary Issa', 9.367409117765047e-07),\n",
       " ('x0_One Un', 7.941730238372016e-05),\n",
       " ('x0_Opec', 1.8208234633092683e-06),\n",
       " ('x0_Others', 1.8943645463522147e-06),\n",
       " ('x0_Othod', 1.8961114969963593e-07),\n",
       " ('x0_Overnment', 1.3530060725133036e-05),\n",
       " ...]"
      ]
     },
     "execution_count": 453,
     "metadata": {},
     "output_type": "execute_result"
    }
   ],
   "source": [
    "#creating a list of the feature importances\n",
    "feature_importance = []\n",
    "\n",
    "for feature, fi, in zip(feature_names, final_model['random_forest'].feature_importances_):\n",
    "    feature_importance.append((feature,fi))\n",
    "    \n",
    "feature_importance  "
   ]
  },
  {
   "cell_type": "code",
   "execution_count": 455,
   "metadata": {
    "vscode": {
     "languageId": "python"
    }
   },
   "outputs": [],
   "source": [
    "feature_importance.sort(key = lambda x: x[1], reverse = True)"
   ]
  },
  {
   "cell_type": "code",
   "execution_count": 456,
   "metadata": {
    "vscode": {
     "languageId": "python"
    }
   },
   "outputs": [
    {
     "data": {
      "text/plain": [
       "[('x7_dry', 0.11358672852523698),\n",
       " ('population', 0.09722602356322717),\n",
       " ('x7_enough', 0.05499708710523547),\n",
       " ('amount_tsh', 0.054109669757040034),\n",
       " ('x10_other', 0.045758044277973024),\n",
       " ('x4_other', 0.042201917758333506),\n",
       " ('x7_insufficient', 0.02268333031692741),\n",
       " ('x4_handpump', 0.018261415715245883),\n",
       " ('x10_hand pump', 0.016288380808936954),\n",
       " ('x4_gravity', 0.015432760767001891)]"
      ]
     },
     "execution_count": 456,
     "metadata": {},
     "output_type": "execute_result"
    }
   ],
   "source": [
    "feature_importance[:10] #looking at the top 10 feature importances"
   ]
  },
  {
   "cell_type": "code",
   "execution_count": 457,
   "metadata": {
    "scrolled": false,
    "vscode": {
     "languageId": "python"
    }
   },
   "outputs": [
    {
     "data": {
      "text/html": [
       "<div>\n",
       "<style scoped>\n",
       "    .dataframe tbody tr th:only-of-type {\n",
       "        vertical-align: middle;\n",
       "    }\n",
       "\n",
       "    .dataframe tbody tr th {\n",
       "        vertical-align: top;\n",
       "    }\n",
       "\n",
       "    .dataframe thead th {\n",
       "        text-align: right;\n",
       "    }\n",
       "</style>\n",
       "<table border=\"1\" class=\"dataframe\">\n",
       "  <thead>\n",
       "    <tr style=\"text-align: right;\">\n",
       "      <th></th>\n",
       "      <th>Features</th>\n",
       "      <th>Importances</th>\n",
       "    </tr>\n",
       "  </thead>\n",
       "  <tbody>\n",
       "    <tr>\n",
       "      <th>0</th>\n",
       "      <td>x7_dry</td>\n",
       "      <td>0.113587</td>\n",
       "    </tr>\n",
       "    <tr>\n",
       "      <th>1</th>\n",
       "      <td>population</td>\n",
       "      <td>0.097226</td>\n",
       "    </tr>\n",
       "    <tr>\n",
       "      <th>2</th>\n",
       "      <td>x7_enough</td>\n",
       "      <td>0.054997</td>\n",
       "    </tr>\n",
       "    <tr>\n",
       "      <th>3</th>\n",
       "      <td>amount_tsh</td>\n",
       "      <td>0.054110</td>\n",
       "    </tr>\n",
       "    <tr>\n",
       "      <th>4</th>\n",
       "      <td>x10_other</td>\n",
       "      <td>0.045758</td>\n",
       "    </tr>\n",
       "    <tr>\n",
       "      <th>5</th>\n",
       "      <td>x4_other</td>\n",
       "      <td>0.042202</td>\n",
       "    </tr>\n",
       "    <tr>\n",
       "      <th>6</th>\n",
       "      <td>x7_insufficient</td>\n",
       "      <td>0.022683</td>\n",
       "    </tr>\n",
       "    <tr>\n",
       "      <th>7</th>\n",
       "      <td>x4_handpump</td>\n",
       "      <td>0.018261</td>\n",
       "    </tr>\n",
       "    <tr>\n",
       "      <th>8</th>\n",
       "      <td>x10_hand pump</td>\n",
       "      <td>0.016288</td>\n",
       "    </tr>\n",
       "    <tr>\n",
       "      <th>9</th>\n",
       "      <td>x4_gravity</td>\n",
       "      <td>0.015433</td>\n",
       "    </tr>\n",
       "  </tbody>\n",
       "</table>\n",
       "</div>"
      ],
      "text/plain": [
       "          Features  Importances\n",
       "0           x7_dry     0.113587\n",
       "1       population     0.097226\n",
       "2        x7_enough     0.054997\n",
       "3       amount_tsh     0.054110\n",
       "4        x10_other     0.045758\n",
       "5         x4_other     0.042202\n",
       "6  x7_insufficient     0.022683\n",
       "7      x4_handpump     0.018261\n",
       "8    x10_hand pump     0.016288\n",
       "9       x4_gravity     0.015433"
      ]
     },
     "execution_count": 457,
     "metadata": {},
     "output_type": "execute_result"
    }
   ],
   "source": [
    "#creating a dataframe for the top 10 features\n",
    "features_df = pd.DataFrame(feature_importance[:10])   \n",
    "features_df.columns = ['Features', 'Importances']\n",
    "features_df"
   ]
  },
  {
   "cell_type": "code",
   "execution_count": 394,
   "metadata": {
    "collapsed": true,
    "vscode": {
     "languageId": "python"
    }
   },
   "outputs": [
    {
     "name": "stderr",
     "output_type": "stream",
     "text": [
      "<ipython-input-394-b68a4139f72b>:1: SettingWithCopyWarning: \n",
      "A value is trying to be set on a copy of a slice from a DataFrame\n",
      "\n",
      "See the caveats in the documentation: https://pandas.pydata.org/pandas-docs/stable/user_guide/indexing.html#returning-a-view-versus-a-copy\n",
      "  features_df['Features'][0] = 'Quantity: Dry'\n",
      "<ipython-input-394-b68a4139f72b>:2: SettingWithCopyWarning: \n",
      "A value is trying to be set on a copy of a slice from a DataFrame\n",
      "\n",
      "See the caveats in the documentation: https://pandas.pydata.org/pandas-docs/stable/user_guide/indexing.html#returning-a-view-versus-a-copy\n",
      "  features_df['Features'][1] = 'Population'\n",
      "<ipython-input-394-b68a4139f72b>:3: SettingWithCopyWarning: \n",
      "A value is trying to be set on a copy of a slice from a DataFrame\n",
      "\n",
      "See the caveats in the documentation: https://pandas.pydata.org/pandas-docs/stable/user_guide/indexing.html#returning-a-view-versus-a-copy\n",
      "  features_df['Features'][2] = 'Quantity: Enough'\n",
      "<ipython-input-394-b68a4139f72b>:4: SettingWithCopyWarning: \n",
      "A value is trying to be set on a copy of a slice from a DataFrame\n",
      "\n",
      "See the caveats in the documentation: https://pandas.pydata.org/pandas-docs/stable/user_guide/indexing.html#returning-a-view-versus-a-copy\n",
      "  features_df['Features'][3] = 'Amount of Water'\n",
      "<ipython-input-394-b68a4139f72b>:5: SettingWithCopyWarning: \n",
      "A value is trying to be set on a copy of a slice from a DataFrame\n",
      "\n",
      "See the caveats in the documentation: https://pandas.pydata.org/pandas-docs/stable/user_guide/indexing.html#returning-a-view-versus-a-copy\n",
      "  features_df['Features'][4] = 'Waterpoint Type: Other'\n",
      "<ipython-input-394-b68a4139f72b>:6: SettingWithCopyWarning: \n",
      "A value is trying to be set on a copy of a slice from a DataFrame\n",
      "\n",
      "See the caveats in the documentation: https://pandas.pydata.org/pandas-docs/stable/user_guide/indexing.html#returning-a-view-versus-a-copy\n",
      "  features_df['Features'][5] = 'Extraction Type: Other'\n",
      "<ipython-input-394-b68a4139f72b>:7: SettingWithCopyWarning: \n",
      "A value is trying to be set on a copy of a slice from a DataFrame\n",
      "\n",
      "See the caveats in the documentation: https://pandas.pydata.org/pandas-docs/stable/user_guide/indexing.html#returning-a-view-versus-a-copy\n",
      "  features_df['Features'][6] = 'Quantity: Insufficient'\n",
      "<ipython-input-394-b68a4139f72b>:8: SettingWithCopyWarning: \n",
      "A value is trying to be set on a copy of a slice from a DataFrame\n",
      "\n",
      "See the caveats in the documentation: https://pandas.pydata.org/pandas-docs/stable/user_guide/indexing.html#returning-a-view-versus-a-copy\n",
      "  features_df['Features'][7] = 'Extraction Type: Handpump'\n",
      "<ipython-input-394-b68a4139f72b>:9: SettingWithCopyWarning: \n",
      "A value is trying to be set on a copy of a slice from a DataFrame\n",
      "\n",
      "See the caveats in the documentation: https://pandas.pydata.org/pandas-docs/stable/user_guide/indexing.html#returning-a-view-versus-a-copy\n",
      "  features_df['Features'][8] = 'Waterpoint Type: Hand Pump'\n",
      "<ipython-input-394-b68a4139f72b>:10: SettingWithCopyWarning: \n",
      "A value is trying to be set on a copy of a slice from a DataFrame\n",
      "\n",
      "See the caveats in the documentation: https://pandas.pydata.org/pandas-docs/stable/user_guide/indexing.html#returning-a-view-versus-a-copy\n",
      "  features_df['Features'][9] = 'Extraction Type: Gravity'\n"
     ]
    }
   ],
   "source": [
    "#renaming all the features to graph\n",
    "features_df['Features'][0] = 'Quantity: Dry'\n",
    "features_df['Features'][1] = 'Population'\n",
    "features_df['Features'][2] = 'Quantity: Enough'\n",
    "features_df['Features'][3] = 'Amount of Water'\n",
    "features_df['Features'][4] = 'Waterpoint Type: Other'\n",
    "features_df['Features'][5] = 'Extraction Type: Other'\n",
    "features_df['Features'][6] = 'Quantity: Insufficient'\n",
    "features_df['Features'][7] = 'Extraction Type: Handpump'\n",
    "features_df['Features'][8] = 'Waterpoint Type: Hand Pump'\n",
    "features_df['Features'][9] = 'Extraction Type: Gravity'\n",
    "\n"
   ]
  },
  {
   "cell_type": "code",
   "execution_count": 431,
   "metadata": {
    "scrolled": true,
    "vscode": {
     "languageId": "python"
    }
   },
   "outputs": [
    {
     "data": {
      "image/png": "[encoded data removed]",
      "text/plain": [
       "<Figure size 2520x720 with 1 Axes>"
      ]
     },
     "metadata": {
      "needs_background": "light"
     },
     "output_type": "display_data"
    }
   ],
   "source": [
    "#Graphing the feature importances \n",
    "x = features_df['Features'][:10]\n",
    "y = features_df['Importances'][:10]\n",
    "\n",
    "fig, ax = plt.subplots(figsize=(35,10))\n",
    "plt.bar(x,y, color=['blue', 'blue', 'blue', 'blue', 'blue', \n",
    "                   'green', 'blue', 'green', 'blue', 'green'], \n",
    "       align = 'edge')\n",
    "\n",
    "ax.set_title(\"Feature Importances of Wells Features\",fontsize=40 )\n",
    "plt.xlabel('Features', fontsize=20)\n",
    "ax.set_ylabel(\"Feature Importances\", fontsize=20)\n",
    "plt.xticks(fontsize=25, rotation = 40)\n",
    "plt.yticks(fontsize=25);\n"
   ]
  },
  {
   "cell_type": "markdown",
   "metadata": {},
   "source": [
    "As you can see on the bar chart displayed here the top features having the largest impact on the predictability of whether a well is functional or not is:\n",
    "- population, which makes sense \n",
    "- water quality\n",
    "- the amount of water in the well\n",
    "- extraction type \n",
    "\n",
    "These are important to know about since it could give inference into when fixing well or building new wells. The extraction type in specific could be very benefitcial when looking into fixing the wells for example if the extraction device should be converted to something else like a hand pump instead of relying on gravity which would be another type.  "
   ]
  },
  {
   "cell_type": "markdown",
   "metadata": {},
   "source": [
    "---\n",
    "\n",
    "# Conclusion and Next Steps\n",
    "\n",
    "With this model the government in Tanzania should be able to spend much less money and time looking into individual wells to find out if functional or not and should also be able to glean insights as to maybe how to build and where to place future wells. \n",
    "\n",
    "As part of the next steps I would do a deeper dive into a few of these features, particularly the extraction feature. I would do some further tuning of my model as well to increase the f1 score.  Additionally, I would maybe look into other locations in Africa that are facing similar issues and gather data and insights there as well. \n",
    "\n",
    "Thank you!"
   ]
  }
 ],
 "metadata": {
  "kernelspec": {
   "display_name": "Python (learn-env)",
   "language": "python",
   "name": "learn-env"
  },
  "language_info": {
   "codemirror_mode": {
    "name": "ipython",
    "version": 3
   },
   "file_extension": ".py",
   "mimetype": "text/x-python",
   "name": "python",
   "nbconvert_exporter": "python",
   "pygments_lexer": "ipython3",
   "version": "3.8.5"
  }
 },
 "nbformat": 4,
 "nbformat_minor": 4
}
